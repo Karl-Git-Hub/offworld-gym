{
 "cells": [
  {
   "cell_type": "markdown",
   "id": "6ed168c9",
   "metadata": {},
   "source": [
    " # **Soft Actor-Critic**\n",
    "Implemented in TensorFlow 2.6 with TF-Agents.\n",
    "**Soft Actor-Critic** algorithm learns not only rewards, but also tries to maximize the entropy of its actions. In other words, it tries to be as unpredicatable as possible while still getting as many rewards as possible. This encourages the agent to explore the environment, which speeds up training, and makes it less likely to repeatedly execute same action when DQN produces imperfect estimates. This should lead to amazing sample efficiency.\n",
    "\n",
    "[Soft Actor-Critic Algorithms and Applications](https://arxiv.org/abs/1812.05905)"
   ]
  },
  {
   "cell_type": "markdown",
   "id": "c08ece10",
   "metadata": {},
   "source": [
    "# Imports"
   ]
  },
  {
   "cell_type": "code",
   "execution_count": 1,
   "id": "59843d01",
   "metadata": {},
   "outputs": [],
   "source": [
    "import gym\n",
    "from offworld_gym.envs.common.channels import Channels\n",
    "from offworld_gym.envs.common.enums import AlgorithmMode, LearningType\n",
    "\n",
    "import silence_tensorflow.auto\n",
    "import os\n",
    "import logging\n",
    "import tempfile\n",
    "import numpy as np\n",
    "import datetime\n",
    "import certifi\n",
    "import urllib3\n",
    "import shutil\n",
    "\n",
    "import tensorflow as tf\n",
    "from tf_agents.agents.ddpg import critic_network\n",
    "from tf_agents.agents.sac import sac_agent \n",
    "from tf_agents.agents.sac import tanh_normal_projection_network\n",
    "from tf_agents.drivers import dynamic_episode_driver\n",
    "from tf_agents.drivers import dynamic_step_driver\n",
    "from tf_agents.environments import suite_gym\n",
    "from tf_agents.environments import tf_py_environment\n",
    "from tf_agents.environments import wrappers\n",
    "from tf_agents.metrics import tf_metrics\n",
    "from tf_agents.networks import actor_distribution_network\n",
    "from tf_agents.policies import py_tf_eager_policy\n",
    "from tf_agents.policies import random_tf_policy\n",
    "from tf_agents.policies import greedy_policy\n",
    "from tf_agents.replay_buffers import tf_uniform_replay_buffer\n",
    "from tf_agents.specs import tensor_spec\n",
    "from tf_agents.train import actor\n",
    "from tf_agents.train import learner\n",
    "from tf_agents.train.utils import spec_utils\n",
    "from tf_agents.train.utils import strategy_utils\n",
    "from tf_agents.train.utils import train_utils\n",
    "from tf_agents.utils import common"
   ]
  },
  {
   "cell_type": "markdown",
   "id": "247c51bc",
   "metadata": {},
   "source": [
    "# Hyperparameters\n",
    "\n",
    "### Offworld-Gym env parameters"
   ]
  },
  {
   "cell_type": "code",
   "execution_count": 2,
   "id": "2aae33e3",
   "metadata": {},
   "outputs": [],
   "source": [
    "real = True                              # True = Real environment | False = Simulated docker environment\n",
    "experiment_name = 'Buf_2_clean'            # For https://gym.offworld.ai/myexperiments experiment name\n",
    "resume_experiment = True                 # Resume training? For real env\n",
    "delete_checkpoints = False               # Delete model checkpoints for 'experiment_name' experiment\n",
    "\n",
    "learning_type = LearningType.END_TO_END  # Description of training method\n",
    "algorithm_mode = AlgorithmMode.TRAIN     # .TEST or .TRAIN  (TEST needed for Offworld leaderboard)\n",
    "channel_type = Channels.DEPTH_ONLY       # Which sensors to use: .RGB_ONLY or .DEPTH_ONLY or .RGBD\n",
    "\n",
    "# Access token for Real environment from https://gym.offworld.ai/account\n",
    "import my_Gym_token # I have this in separate file, but it can be added as string\n",
    "os.environ['OFFWORLD_GYM_ACCESS_TOKEN'] = my_Gym_token.is_secret # 'insert_as_a_string'\n",
    "\n",
    "# Project root folder. If path unknown, run in terminal: pwm\n",
    "os.environ['OFFWORLD_GYM_ROOT'] = '/home/karlaru/PycharmProjects/offworld-gym'\n",
    "\n",
    "# Python environment used for this project (eg miniconda env). If path unknown, run in terminal: which python\n",
    "os.environ['PYTHONPATH'] = '/home/karlaru/miniconda3/envs/offworld-karl/bin/python'\n",
    "\n",
    "# Load right environment\n",
    "if real:\n",
    "    env_name = 'OffWorldMonolithContinuousReal-v0'  \n",
    "else:\n",
    "    env_name = 'OffWorldDockerMonolithContinuousSim-v0'"
   ]
  },
  {
   "cell_type": "markdown",
   "id": "cc287dca",
   "metadata": {},
   "source": [
    "### Logging"
   ]
  },
  {
   "cell_type": "code",
   "execution_count": 3,
   "id": "42e3f6a5",
   "metadata": {},
   "outputs": [],
   "source": [
    "# Show only INFO messages\n",
    "logging.basicConfig(format='%(levelname)s:%(message)s', level=logging.INFO)\n",
    "\n",
    "# Disable connection warnings\n",
    "urllib3.disable_warnings(urllib3.exceptions.InsecureRequestWarning)    "
   ]
  },
  {
   "cell_type": "markdown",
   "id": "361e6197",
   "metadata": {},
   "source": [
    "### Model checkpoints"
   ]
  },
  {
   "cell_type": "code",
   "execution_count": 4,
   "id": "276b72ed",
   "metadata": {},
   "outputs": [],
   "source": [
    "# Tempdir for model checkpoints\n",
    "tempdir = 'models/' + experiment_name + '/'\n",
    "\n",
    "# Clean checkpoints when clean start needed\n",
    "if delete_checkpoints == True:\n",
    "    try:\n",
    "        shutil.rmtree(tempdir)\n",
    "        logging.info(f'Successfully deleted checkpoints in {tempdir}')\n",
    "    except:\n",
    "        logging.info(f'{tempdir} already empty')"
   ]
  },
  {
   "cell_type": "markdown",
   "id": "eb9e05de",
   "metadata": {},
   "source": [
    "### Replay buffer"
   ]
  },
  {
   "cell_type": "code",
   "execution_count": 5,
   "id": "f3c6629f",
   "metadata": {},
   "outputs": [
    {
     "name": "stderr",
     "output_type": "stream",
     "text": [
      "INFO:Buffer tempdir: data/real_buffer/\n"
     ]
    }
   ],
   "source": [
    "# Steps to train with random policy to fill buffer (when 0 then skipped)\n",
    "steps_random_training = 0\n",
    "\n",
    "# How often to save random policy training to file (<=steps_random_training)\n",
    "steps_save_random = 10\n",
    "\n",
    "# Max number of steps to keep in replay buffer\n",
    "replay_max_length = 50000 # == 14.3GB file\n",
    "\n",
    "# Patch size to get from buffer for one network training interation\n",
    "sample_batch_size = 64\n",
    "\n",
    "# Update replay buffer file with new data while training model?\n",
    "save_replay_buffer = True\n",
    "\n",
    "# Number of patches to run before saving buffer state\n",
    "buffer_save_interval = 1 \n",
    "\n",
    "# Random replay buffer is saved in project folder, so it doesn't get deleted and can be reused\n",
    "if real:\n",
    "    rb_tempdir = 'data/real_buffer/'\n",
    "else:\n",
    "    rb_tempdir = 'data/sim_buffer/'\n",
    "     \n",
    "logging.info(f'Buffer tempdir: {rb_tempdir}')"
   ]
  },
  {
   "cell_type": "markdown",
   "id": "0b587fbd",
   "metadata": {},
   "source": [
    "### Training"
   ]
  },
  {
   "cell_type": "code",
   "execution_count": 6,
   "id": "010f1ea0",
   "metadata": {},
   "outputs": [],
   "source": [
    "# Episodes to collect before retraining network (and basis for calculating Tensorboard stats)\n",
    "episodes_in_patch = 10\n",
    "\n",
    "# Total patches to run\n",
    "patches_to_run = 400000\n",
    "\n",
    "# Run first 'start_collecting' patches without data collection from env (learning from buffer)\n",
    "start_collecting = 0\n",
    "\n",
    "# Training iterations per patch (how many times to take 'sample_batch_size' samples and train network per patch)\n",
    "training_iterations = 500"
   ]
  },
  {
   "cell_type": "markdown",
   "id": "5020843e",
   "metadata": {},
   "source": [
    "# Computation distribution strategy\n",
    "\n",
    "Enables running computations on one or more devices in a way that model definition code can remain unchanged when running on different hardware."
   ]
  },
  {
   "cell_type": "code",
   "execution_count": 7,
   "id": "b6bb7196",
   "metadata": {},
   "outputs": [
    {
     "name": "stderr",
     "output_type": "stream",
     "text": [
      "INFO:Using 1 GPU\n"
     ]
    }
   ],
   "source": [
    "# Number of GPU-s available in current machine\n",
    "num_GPUs = len(tf.config.list_physical_devices('GPU'))\n",
    "\n",
    "# If no GPU-s available, use CPU\n",
    "if num_GPUs == 0:\n",
    "    strategy = tf.distribute.OneDeviceStrategy(device=\"/cpu:0\")\n",
    "    logging.info('No GPUs available. Using only CPU.')\n",
    "\n",
    "# If one GPU available\n",
    "elif num_GPUs == 1:\n",
    "    strategy = tf.distribute.OneDeviceStrategy(device=\"/gpu:0\")\n",
    "    logging.info('Using 1 GPU')\n",
    "\n",
    "# If more than one GPU available, mirror data for compute in parallel\n",
    "else:\n",
    "    strategy = tf.distribute.MirroredStrategy()\n",
    "    logging.info('Using multible GPUs' + str(num_GPUs))"
   ]
  },
  {
   "cell_type": "markdown",
   "id": "c80a26fb",
   "metadata": {},
   "source": [
    "# Environment\n",
    "\n",
    "In Reinforcement Learning (RL), an environment represents the task or problem to be solved. TF-Agents has suites for loading environments such as the OpenAI Gym. OpenAI Gym is written in pure Python. This is converted to TensorFlow using the TFPyEnvironment wrapper. The original environment's API uses Numpy arrays. The TFPyEnvironment converts these to Tensors to make it compatible with Tensorflow agents and policies."
   ]
  },
  {
   "cell_type": "code",
   "execution_count": 8,
   "id": "c3f3cf1b",
   "metadata": {},
   "outputs": [
    {
     "name": "stderr",
     "output_type": "stream",
     "text": [
      "2021-12-01 13:46:24,390 - offworld_gym - INFO - Environment has been initiated.\n",
      "INFO:Environment has been initiated.\n",
      "2021-12-01 13:46:24,391 - offworld_gym - INFO - Environment has been started.\n",
      "INFO:Environment has been started.\n",
      "/home/karlaru/.local/lib/python3.6/site-packages/gym/spaces/box.py:74: UserWarning: \u001b[33mWARN: Box bound precision lowered by casting to float32\u001b[0m\n",
      "  \"Box bound precision lowered by casting to {}\".format(self.dtype)\n",
      "2021-12-01 13:46:24,392 - offworld_gym - INFO - Waiting to connect to the environment server.\n",
      "INFO:Waiting to connect to the environment server.\n",
      "2021-12-01 13:46:27,691 - offworld_gym - INFO - Experiment has been resumed.\n",
      "INFO:Experiment has been resumed.\n",
      "2021-12-01 13:46:27,692 - offworld_gym - INFO - The environment server is running.\n",
      "INFO:The environment server is running.\n"
     ]
    }
   ],
   "source": [
    "if real == False:\n",
    "    env = suite_gym.wrap_env(gym_env=gym.make(env_name, channel_type=channel_type))\n",
    "\n",
    "else:\n",
    "    env = suite_gym.wrap_env(gym_env=gym.make(env_name, \n",
    "                                              experiment_name=experiment_name,\n",
    "                                              resume_experiment=resume_experiment,\n",
    "                                              channel_type=channel_type, \n",
    "                                              learning_type=learning_type,\n",
    "                                              algorithm_mode=algorithm_mode\n",
    "                                              )) \n",
    "# Wrap Gym env into TF env\n",
    "tf_env = tf_py_environment.TFPyEnvironment(env)"
   ]
  },
  {
   "cell_type": "code",
   "execution_count": 17,
   "id": "10b20931",
   "metadata": {},
   "outputs": [],
   "source": [
    "# Get tensor specs\n",
    "observation_spec, action_spec, time_step_spec = spec_utils.get_tensor_specs(tf_env)"
   ]
  },
  {
   "cell_type": "markdown",
   "id": "8186d1a3",
   "metadata": {},
   "source": [
    "### Observation space\n",
    "\n",
    "One observation is one frame from depth camera senor. Sensor resolution is 240x320 pix. Values for each pix range from 0 to 255."
   ]
  },
  {
   "cell_type": "code",
   "execution_count": 18,
   "id": "fc606fe9",
   "metadata": {},
   "outputs": [
    {
     "data": {
      "text/plain": [
       "BoundedTensorSpec(shape=(1, 240, 320, 1), dtype=tf.float32, name='observation', minimum=array(0., dtype=float32), maximum=array(255., dtype=float32))"
      ]
     },
     "execution_count": 18,
     "metadata": {},
     "output_type": "execute_result"
    }
   ],
   "source": [
    "observation_spec"
   ]
  },
  {
   "cell_type": "markdown",
   "id": "db3dc926",
   "metadata": {},
   "source": [
    "### Action space\n",
    "\n",
    "Robot movement command is defined by 2 element vector and has continuous values"
   ]
  },
  {
   "cell_type": "code",
   "execution_count": 19,
   "id": "000f82f4",
   "metadata": {},
   "outputs": [
    {
     "data": {
      "text/plain": [
       "BoundedTensorSpec(shape=(2,), dtype=tf.float32, name='action', minimum=array([-0.7, -2.5], dtype=float32), maximum=array([0.7, 2.5], dtype=float32))"
      ]
     },
     "execution_count": 19,
     "metadata": {},
     "output_type": "execute_result"
    }
   ],
   "source": [
    "action_spec"
   ]
  },
  {
   "cell_type": "markdown",
   "id": "c5d89bf1",
   "metadata": {},
   "source": [
    "### Time step\n",
    "\n",
    "A TimeStep contains the data emitted by an environment at each step of interaction. A TimeStep holds a step_type, an observation (typically a NumPy array or a dict or list of arrays), and an associated reward and discount."
   ]
  },
  {
   "cell_type": "code",
   "execution_count": 20,
   "id": "8d2f423e",
   "metadata": {},
   "outputs": [
    {
     "name": "stdout",
     "output_type": "stream",
     "text": [
      "BoundedTensorSpec(shape=(), dtype=tf.float32, name='discount', minimum=array(0., dtype=float32), maximum=array(1., dtype=float32))\n",
      "BoundedTensorSpec(shape=(1, 240, 320, 1), dtype=tf.float32, name='observation', minimum=array(0., dtype=float32), maximum=array(255., dtype=float32))\n",
      "TensorSpec(shape=(), dtype=tf.float32, name='reward')\n",
      "TensorSpec(shape=(), dtype=tf.int32, name='step_type')\n"
     ]
    }
   ],
   "source": [
    "print(time_step_spec.discount)\n",
    "print(time_step_spec.observation)\n",
    "print(time_step_spec.reward)\n",
    "print(time_step_spec.step_type)"
   ]
  },
  {
   "cell_type": "markdown",
   "id": "bbcd0af4",
   "metadata": {},
   "source": [
    "# Agent"
   ]
  },
  {
   "cell_type": "markdown",
   "id": "d9b6332b",
   "metadata": {},
   "source": [
    "### Critic\n",
    "Gives value estimates for Q(s,a)"
   ]
  },
  {
   "cell_type": "code",
   "execution_count": 21,
   "id": "0c890d54",
   "metadata": {},
   "outputs": [],
   "source": [
    "with strategy.scope():\n",
    "  critic_net = critic_network.CriticNetwork(\n",
    "        (observation_spec, action_spec),\n",
    "        observation_conv_layer_params=((6,7,2), (5,5,2), (3,3,1), (1,3,1)),\n",
    "        observation_fc_layer_params=(32, 16, 16, 8), \n",
    "        observation_dropout_layer_params=None,\n",
    "        action_fc_layer_params=(32, 16, 16, 8), \n",
    "        action_dropout_layer_params=None,\n",
    "        joint_fc_layer_params=(32, 16, 16, 8),\n",
    "        joint_dropout_layer_params=None,\n",
    "        activation_fn=tf.nn.relu, \n",
    "        output_activation_fn=tf.keras.activations.relu, \n",
    "        name='CriticNetwork')"
   ]
  },
  {
   "cell_type": "markdown",
   "id": "d0c660a2",
   "metadata": {},
   "source": [
    "### Actor\n",
    "Generates actions for given observation"
   ]
  },
  {
   "cell_type": "code",
   "execution_count": 22,
   "id": "198ebff7",
   "metadata": {},
   "outputs": [],
   "source": [
    "with strategy.scope():\n",
    "  actor_net = actor_distribution_network.ActorDistributionNetwork(\n",
    "        observation_spec,\n",
    "        action_spec,\n",
    "        preprocessing_layers = None,\n",
    "        preprocessing_combiner=None, \n",
    "        conv_layer_params=((6,7,2), (5,5,2), (3,3,1), (1,3,1)),\n",
    "        fc_layer_params=(32, 16, 16, 8),\n",
    "        dropout_layer_params=None,\n",
    "        kernel_initializer=None,\n",
    "        activation_fn=tf.keras.activations.relu,\n",
    "        continuous_projection_net=tanh_normal_projection_network.TanhNormalProjectionNetwork,\n",
    "        name='ActorDistributionNetwork')"
   ]
  },
  {
   "cell_type": "markdown",
   "id": "5e01114f",
   "metadata": {},
   "source": [
    "### Agent\n"
   ]
  },
  {
   "cell_type": "code",
   "execution_count": 23,
   "id": "ffe9960e",
   "metadata": {},
   "outputs": [],
   "source": [
    "with strategy.scope():\n",
    "  train_step = train_utils.create_train_step()\n",
    "  tf_agent = sac_agent.SacAgent(\n",
    "        time_step_spec,\n",
    "        action_spec,\n",
    "        critic_network=critic_net,\n",
    "        critic_optimizer=tf.compat.v1.train.AdamOptimizer(learning_rate=0.001),\n",
    "        actor_network=actor_net,\n",
    "        actor_optimizer=tf.compat.v1.train.AdamOptimizer(learning_rate=0.001),\n",
    "        alpha_optimizer=tf.compat.v1.train.AdamOptimizer(learning_rate=0.001),\n",
    "        actor_loss_weight = 1.0,\n",
    "        critic_loss_weight = 0.5,\n",
    "        alpha_loss_weight = 1.0,\n",
    "        target_update_tau=0.01,\n",
    "        target_update_period=1,\n",
    "        td_errors_loss_fn=tf.math.squared_difference,\n",
    "        gamma=0.99,\n",
    "        reward_scale_factor=1.0,\n",
    "        initial_log_alpha = 0.1,\n",
    "        use_log_alpha_in_alpha_loss = False,\n",
    "        target_entropy = -0.2,\n",
    "        gradient_clipping = None,\n",
    "        debug_summaries = False,\n",
    "        summarize_grads_and_vars = False,\n",
    "        train_step_counter=train_step,\n",
    "        name='Agent')\n",
    "\n",
    "tf_agent.initialize()"
   ]
  },
  {
   "cell_type": "markdown",
   "id": "45856d11",
   "metadata": {},
   "source": [
    "### Critic net"
   ]
  },
  {
   "cell_type": "code",
   "execution_count": 24,
   "id": "7fbb658f",
   "metadata": {},
   "outputs": [
    {
     "name": "stdout",
     "output_type": "stream",
     "text": [
      "Model: \"CriticNetwork\"\n",
      "_________________________________________________________________\n",
      "Layer (type)                 Output Shape              Param #   \n",
      "=================================================================\n",
      "observation_encoding/conv2d  multiple                  300       \n",
      "_________________________________________________________________\n",
      "observation_encoding/conv2d  multiple                  755       \n",
      "_________________________________________________________________\n",
      "observation_encoding/conv2d  multiple                  138       \n",
      "_________________________________________________________________\n",
      "observation_encoding/conv2d  multiple                  28        \n",
      "_________________________________________________________________\n",
      "flatten (Flatten)            multiple                  0         \n",
      "_________________________________________________________________\n",
      "observation_encoding/dense ( multiple                  123840    \n",
      "_________________________________________________________________\n",
      "observation_encoding/dense ( multiple                  528       \n",
      "_________________________________________________________________\n",
      "observation_encoding/dense ( multiple                  272       \n",
      "_________________________________________________________________\n",
      "observation_encoding/dense ( multiple                  136       \n",
      "_________________________________________________________________\n",
      "flatten_1 (Flatten)          multiple                  0         \n",
      "_________________________________________________________________\n",
      "action_encoding/dense (Dense multiple                  96        \n",
      "_________________________________________________________________\n",
      "action_encoding/dense (Dense multiple                  528       \n",
      "_________________________________________________________________\n",
      "action_encoding/dense (Dense multiple                  272       \n",
      "_________________________________________________________________\n",
      "action_encoding/dense (Dense multiple                  136       \n",
      "_________________________________________________________________\n",
      "flatten_2 (Flatten)          multiple                  0         \n",
      "_________________________________________________________________\n",
      "joint_mlp/dense (Dense)      multiple                  544       \n",
      "_________________________________________________________________\n",
      "joint_mlp/dense (Dense)      multiple                  528       \n",
      "_________________________________________________________________\n",
      "joint_mlp/dense (Dense)      multiple                  272       \n",
      "_________________________________________________________________\n",
      "joint_mlp/dense (Dense)      multiple                  136       \n",
      "_________________________________________________________________\n",
      "value (Dense)                multiple                  9         \n",
      "=================================================================\n",
      "Total params: 128,518\n",
      "Trainable params: 128,518\n",
      "Non-trainable params: 0\n",
      "_________________________________________________________________\n"
     ]
    }
   ],
   "source": [
    "critic_net.summary()"
   ]
  },
  {
   "cell_type": "markdown",
   "id": "e288035c",
   "metadata": {},
   "source": [
    "### Actor net"
   ]
  },
  {
   "cell_type": "code",
   "execution_count": 25,
   "id": "11852a26",
   "metadata": {},
   "outputs": [
    {
     "name": "stdout",
     "output_type": "stream",
     "text": [
      "Model: \"ActorDistributionNetwork\"\n",
      "_________________________________________________________________\n",
      "Layer (type)                 Output Shape              Param #   \n",
      "=================================================================\n",
      "EncodingNetwork (EncodingNet multiple                  125997    \n",
      "_________________________________________________________________\n",
      "TanhNormalProjectionNetwork  multiple                  36        \n",
      "=================================================================\n",
      "Total params: 126,033\n",
      "Trainable params: 126,033\n",
      "Non-trainable params: 0\n",
      "_________________________________________________________________\n"
     ]
    }
   ],
   "source": [
    "actor_net.summary()"
   ]
  },
  {
   "cell_type": "markdown",
   "id": "cd4b8e83",
   "metadata": {},
   "source": [
    "### Tensorboard settings for random"
   ]
  },
  {
   "cell_type": "code",
   "execution_count": 26,
   "id": "0ea69036",
   "metadata": {},
   "outputs": [],
   "source": [
    "# Folder for random policy logs\n",
    "log_dir = 'logs/RANDOM'\n",
    "\n",
    "# Real and Sim in different subfolders\n",
    "if real:\n",
    "    log_dir += '/REAL/'\n",
    "else:\n",
    "    log_dir += '/SIM/'"
   ]
  },
  {
   "cell_type": "markdown",
   "id": "438e7bd6",
   "metadata": {},
   "source": [
    "# Observer"
   ]
  },
  {
   "cell_type": "code",
   "execution_count": 27,
   "id": "433d2dfa",
   "metadata": {},
   "outputs": [],
   "source": [
    "# Tensorflow Agents metrics as Observer assistant\n",
    "train_metrics = [\n",
    "    tf_metrics.NumberOfEpisodes(),\n",
    "    tf_metrics.EnvironmentSteps(),\n",
    "    tf_metrics.AverageReturnMetric(buffer_size=episodes_in_patch),\n",
    "    tf_metrics.AverageEpisodeLengthMetric(buffer_size=episodes_in_patch)]\n",
    "\n",
    "# Custom observer for Tensorboard logging\n",
    "class Observer:\n",
    "    def __init__(self):\n",
    "        \n",
    "        # Save episode count between kernel restarts to keep Tensorboard graphs from resetting step count\n",
    "        self.episode_file = log_dir+'TB_episodes.txt'\n",
    "        \n",
    "        # Initialize writer with class to avoid empty log files\n",
    "        self.summary_writer = tf.summary.create_file_writer(log_dir)\n",
    "        \n",
    "        try:\n",
    "            # Read episode count (in previous training) from temp file\n",
    "            self.episodes = int(open(self.episode_file, 'r').read())\n",
    "        \n",
    "        except:\n",
    "            # If file not found\n",
    "            self.episodes = 0\n",
    "            \n",
    "            \n",
    "    def __call__(self, trajectory):\n",
    "        \n",
    "        # Values from Tensorflow train_metrics\n",
    "        current_episode = train_metrics[0].result().numpy()\n",
    "        current_steps = train_metrics[1].result().numpy()\n",
    "        avg_return = train_metrics[2].result().numpy()\n",
    "        avg_steps = train_metrics[3].result().numpy()\n",
    "        \n",
    "        with self.summary_writer.as_default(step = (self.episodes + current_episode)):             \n",
    "            \n",
    "            # Store summaries after each patch\n",
    "            if current_episode % episodes_in_patch == 0:\n",
    "                \n",
    "                # Last episode count written to Tensorboard is stored in file\n",
    "                open(self.episode_file, 'w+').write(str(self.episodes + current_episode))\n",
    "                \n",
    "                # Write to Tensorboard log folder\n",
    "                tf.summary.scalar(f'Avg Reward per episode', avg_return)\n",
    "                tf.summary.scalar(f'Avg Steps per episode', avg_steps)\n",
    "            \n",
    "            # Show live step and episode count after each step\n",
    "            print(f\"\\rTotal steps: {current_steps} in {current_episode} episodes\", end=\"\")"
   ]
  },
  {
   "cell_type": "markdown",
   "id": "47a2b8b4",
   "metadata": {},
   "source": [
    "# Replay buffer\n",
    "\n",
    "Store data about previous training experiences"
   ]
  },
  {
   "cell_type": "code",
   "execution_count": 28,
   "id": "65e1bd2b",
   "metadata": {},
   "outputs": [],
   "source": [
    "# Create replay buffer (step database)\n",
    "replay_buffer = tf_uniform_replay_buffer.TFUniformReplayBuffer(\n",
    "    data_spec = tf_agent.collect_data_spec,\n",
    "    batch_size = 1,                 # Replays are stored one at the time\n",
    "    max_length = replay_max_length, # Total buffer size\n",
    "    device='cpu:0',                 # Use CPU for data storage and compute (GPU needed for network training)\n",
    "    dataset_drop_remainder=True,    \n",
    "    dataset_window_shift=None, \n",
    "    stateful_dataset=False)"
   ]
  },
  {
   "cell_type": "code",
   "execution_count": 29,
   "id": "2a740b21",
   "metadata": {},
   "outputs": [
    {
     "name": "stderr",
     "output_type": "stream",
     "text": [
      "INFO:Loaded 3711 steps from data/real_buffer/\n"
     ]
    }
   ],
   "source": [
    "# Try loading replay buffer from a file\n",
    "try:\n",
    "    tf.train.Checkpoint(replay_buffer=replay_buffer).restore(rb_tempdir+ '-1')\n",
    "    logging.info(f\"Loaded {replay_buffer.gather_all().action[0].shape[0]} steps into buffer from {rb_tempdir}\")\n",
    "except:\n",
    "    logging.info(f\"No random policy replay buffer steps found in {rb_tempdir}\")"
   ]
  },
  {
   "cell_type": "markdown",
   "id": "8c866293",
   "metadata": {},
   "source": [
    "#### Reading data from buffer"
   ]
  },
  {
   "cell_type": "code",
   "execution_count": 30,
   "id": "685b322f",
   "metadata": {},
   "outputs": [],
   "source": [
    "# Create dataset from replay buffer\n",
    "dataset = replay_buffer.as_dataset(\n",
    "    sample_batch_size=sample_batch_size,\n",
    "    num_parallel_calls = 1,\n",
    "    num_steps=2).prefetch(25)\n",
    "\n",
    "experience_dataset_fn = lambda: dataset"
   ]
  },
  {
   "cell_type": "markdown",
   "id": "06404998",
   "metadata": {},
   "source": [
    "# Tensorboard"
   ]
  },
  {
   "cell_type": "code",
   "execution_count": 31,
   "id": "99593153",
   "metadata": {
    "scrolled": false
   },
   "outputs": [
    {
     "data": {
      "text/html": [
       "\n",
       "      <iframe id=\"tensorboard-frame-9ec27b9b9faba55b\" width=\"100%\" height=\"800\" frameborder=\"0\">\n",
       "      </iframe>\n",
       "      <script>\n",
       "        (function() {\n",
       "          const frame = document.getElementById(\"tensorboard-frame-9ec27b9b9faba55b\");\n",
       "          const url = new URL(\"/\", window.location);\n",
       "          const port = 6006;\n",
       "          if (port) {\n",
       "            url.port = port;\n",
       "          }\n",
       "          frame.src = url;\n",
       "        })();\n",
       "      </script>\n",
       "    "
      ],
      "text/plain": [
       "<IPython.core.display.HTML object>"
      ]
     },
     "metadata": {},
     "output_type": "display_data"
    }
   ],
   "source": [
    "%load_ext tensorboard\n",
    "%tensorboard --logdir logs"
   ]
  },
  {
   "cell_type": "markdown",
   "id": "d8df58d1",
   "metadata": {},
   "source": [
    "# Random training\n",
    "\n",
    "Random training helps to converge faster. It is filling replay buffer (database) with sample data."
   ]
  },
  {
   "cell_type": "code",
   "execution_count": 32,
   "id": "dcbbe3e0",
   "metadata": {
    "scrolled": true
   },
   "outputs": [
    {
     "name": "stderr",
     "output_type": "stream",
     "text": [
      "INFO:Using replay from file. No new random steps\n"
     ]
    }
   ],
   "source": [
    "if steps_random_training > 0:\n",
    "    # Use random policy\n",
    "    initial_collect_policy = random_tf_policy.RandomTFPolicy(action_spec = tf_env.action_spec(),\n",
    "                                                          time_step_spec = tf_env.time_step_spec())\n",
    "    # Use step driver\n",
    "    inital_driver = dynamic_episode_driver.DynamicEpisodeDriver(\n",
    "        tf_env, \n",
    "        initial_collect_policy, \n",
    "        observers = [replay_buffer.add_batch, Observer()] + train_metrics, \n",
    "        num_episodes = steps_save_random)\n",
    "    \n",
    "    for _ in range(int(steps_random_training/steps_save_random)):\n",
    "        \n",
    "        # Do 'steps_save_random' steps\n",
    "        inital_driver.run()\n",
    "        \n",
    "        # Save replay buffer\n",
    "        tf.train.Checkpoint(replay_buffer=replay_buffer).save(rb_tempdir)\n",
    "        logging.info(f\"Saved replay buffer at {replay_buffer.gather_all().action[0].shape[0]} steps\")\n",
    "else:\n",
    "    logging.info(f\"Using replay from file. No new random steps\")"
   ]
  },
  {
   "cell_type": "markdown",
   "id": "ce4a4ada",
   "metadata": {},
   "source": [
    "### Tensorboard settings for training"
   ]
  },
  {
   "cell_type": "code",
   "execution_count": 33,
   "id": "9104fb3c",
   "metadata": {},
   "outputs": [],
   "source": [
    "# Reset TF metrics after random buffer filling\n",
    "for i in range(4):\n",
    "    train_metrics[i].reset()\n",
    "    \n",
    "# Folder for training logs\n",
    "log_dir = 'logs/' + experiment_name\n",
    "\n",
    "# Place sim logs in sim subfolder\n",
    "if real:\n",
    "    log_dir += '/REAL/'\n",
    "else:\n",
    "    log_dir += '/SIM/'"
   ]
  },
  {
   "cell_type": "markdown",
   "id": "35d1b799",
   "metadata": {},
   "source": [
    "# Collect driver\n",
    "\n",
    "Driver for running a policy in an environment. Does steps until num_episodes episodes is done."
   ]
  },
  {
   "cell_type": "code",
   "execution_count": 34,
   "id": "63ccfc15",
   "metadata": {},
   "outputs": [],
   "source": [
    "# Use episode driver (nr of steps per episode is limited by Gym env)\n",
    "collect_actor = dynamic_episode_driver.DynamicEpisodeDriver(\n",
    "    tf_env, \n",
    "    py_tf_eager_policy.PyTFEagerPolicy(tf_agent.collect_policy, use_tf_function=True),\n",
    "    observers = [replay_buffer.add_batch, Observer()] + train_metrics,\n",
    "    num_episodes = episodes_in_patch)"
   ]
  },
  {
   "cell_type": "markdown",
   "id": "39db5603",
   "metadata": {},
   "source": [
    "# Learner\n",
    "\n",
    "Learner loads checkpoint from tempdir if available, so learning can be resumed from saved point."
   ]
  },
  {
   "cell_type": "code",
   "execution_count": 35,
   "id": "af62f915",
   "metadata": {},
   "outputs": [
    {
     "name": "stderr",
     "output_type": "stream",
     "text": [
      "INFO:Checkpoint available: models/Buf_2_clean/train/checkpoints/ckpt-5500\n"
     ]
    }
   ],
   "source": [
    "agent_learner = learner.Learner(\n",
    "    tempdir,                               \n",
    "    train_step, \n",
    "    tf_agent,                               \n",
    "    experience_dataset_fn,                  \n",
    "    checkpoint_interval=training_iterations,\n",
    "    summary_interval=training_iterations, \n",
    "    max_checkpoints_to_keep=2,\n",
    "    strategy=strategy,\n",
    "    run_optimizer_variable_init=True)\n",
    "\n",
    "# DEBUG: ckpt-xxxx <-shows how many training iterations has been done previously for current experiment"
   ]
  },
  {
   "cell_type": "markdown",
   "id": "6fe00c8a",
   "metadata": {},
   "source": [
    "# Training"
   ]
  },
  {
   "cell_type": "code",
   "execution_count": null,
   "id": "02296a27",
   "metadata": {
    "scrolled": true
   },
   "outputs": [
    {
     "name": "stderr",
     "output_type": "stream",
     "text": [
      "2021-12-01 13:50:20,839 - offworld_gym - INFO - Resetting the episode and moving to a random initial position...\n",
      "INFO:Resetting the episode and moving to a random initial position...\n",
      "2021-12-01 13:50:30,341 - offworld_gym - INFO - Environment reset complete\n",
      "INFO:Environment reset complete\n",
      "2021-12-01 13:50:30,562 - offworld_gym - INFO - Step count: 1\n",
      "INFO:Step count: 1\n",
      "2021-12-01 13:50:38,424 - offworld_gym - INFO - Environment step is complete.\n",
      "INFO:Environment step is complete.\n"
     ]
    },
    {
     "name": "stdout",
     "output_type": "stream",
     "text": [
      "\r",
      "Total steps: 0 in 0 episodes"
     ]
    },
    {
     "name": "stderr",
     "output_type": "stream",
     "text": [
      "2021-12-01 13:50:39,188 - offworld_gym - INFO - Step count: 2\n",
      "INFO:Step count: 2\n",
      "2021-12-01 13:50:46,395 - offworld_gym - INFO - Environment step is complete.\n",
      "INFO:Environment step is complete.\n",
      "2021-12-01 13:50:46,405 - offworld_gym - INFO - Step count: 3\n",
      "INFO:Step count: 3\n"
     ]
    },
    {
     "name": "stdout",
     "output_type": "stream",
     "text": [
      "\r",
      "Total steps: 1 in 0 episodes"
     ]
    },
    {
     "name": "stderr",
     "output_type": "stream",
     "text": [
      "2021-12-01 13:50:53,118 - offworld_gym - INFO - Environment step is complete.\n",
      "INFO:Environment step is complete.\n",
      "2021-12-01 13:50:53,129 - offworld_gym - INFO - Step count: 4\n",
      "INFO:Step count: 4\n"
     ]
    },
    {
     "name": "stdout",
     "output_type": "stream",
     "text": [
      "\r",
      "Total steps: 2 in 0 episodes"
     ]
    },
    {
     "name": "stderr",
     "output_type": "stream",
     "text": [
      "2021-12-01 13:51:00,407 - offworld_gym - INFO - Environment step is complete.\n",
      "INFO:Environment step is complete.\n",
      "2021-12-01 13:51:00,419 - offworld_gym - INFO - Step count: 5\n",
      "INFO:Step count: 5\n"
     ]
    },
    {
     "name": "stdout",
     "output_type": "stream",
     "text": [
      "\r",
      "Total steps: 3 in 0 episodes"
     ]
    },
    {
     "name": "stderr",
     "output_type": "stream",
     "text": [
      "2021-12-01 13:51:08,917 - offworld_gym - INFO - Environment step is complete.\n",
      "INFO:Environment step is complete.\n",
      "2021-12-01 13:51:08,918 - offworld_gym - INFO - Environment episode is complete: 5 steps, reward = 1\n",
      "INFO:Environment episode is complete: 5 steps, reward = 1\n",
      "2021-12-01 13:51:08,932 - offworld_gym - INFO - Resetting the episode and moving to a random initial position...\n",
      "INFO:Resetting the episode and moving to a random initial position...\n"
     ]
    },
    {
     "name": "stdout",
     "output_type": "stream",
     "text": [
      "\r",
      "Total steps: 4 in 0 episodes"
     ]
    },
    {
     "name": "stderr",
     "output_type": "stream",
     "text": [
      "2021-12-01 13:51:29,059 - offworld_gym - INFO - Environment reset complete\n",
      "INFO:Environment reset complete\n",
      "2021-12-01 13:51:29,078 - offworld_gym - INFO - Step count: 1\n",
      "INFO:Step count: 1\n"
     ]
    },
    {
     "name": "stdout",
     "output_type": "stream",
     "text": [
      "\r",
      "Total steps: 5 in 1 episodes"
     ]
    },
    {
     "name": "stderr",
     "output_type": "stream",
     "text": [
      "2021-12-01 13:51:35,407 - offworld_gym - INFO - Environment step is complete.\n",
      "INFO:Environment step is complete.\n",
      "2021-12-01 13:51:35,415 - offworld_gym - INFO - Step count: 2\n",
      "INFO:Step count: 2\n"
     ]
    },
    {
     "name": "stdout",
     "output_type": "stream",
     "text": [
      "\r",
      "Total steps: 5 in 1 episodes"
     ]
    },
    {
     "name": "stderr",
     "output_type": "stream",
     "text": [
      "2021-12-01 13:51:44,323 - offworld_gym - INFO - Environment step is complete.\n",
      "INFO:Environment step is complete.\n",
      "2021-12-01 13:51:44,324 - offworld_gym - INFO - Environment episode is complete: 2 steps, reward = 0\n",
      "INFO:Environment episode is complete: 2 steps, reward = 0\n",
      "2021-12-01 13:51:44,332 - offworld_gym - INFO - Resetting the episode and moving to a random initial position...\n",
      "INFO:Resetting the episode and moving to a random initial position...\n"
     ]
    },
    {
     "name": "stdout",
     "output_type": "stream",
     "text": [
      "\r",
      "Total steps: 6 in 1 episodes"
     ]
    },
    {
     "name": "stderr",
     "output_type": "stream",
     "text": [
      "2021-12-01 13:52:00,453 - offworld_gym - INFO - Environment reset complete\n",
      "INFO:Environment reset complete\n",
      "2021-12-01 13:52:00,467 - offworld_gym - INFO - Step count: 1\n",
      "INFO:Step count: 1\n"
     ]
    },
    {
     "name": "stdout",
     "output_type": "stream",
     "text": [
      "\r",
      "Total steps: 7 in 2 episodes"
     ]
    },
    {
     "name": "stderr",
     "output_type": "stream",
     "text": [
      "2021-12-01 13:52:07,235 - offworld_gym - INFO - Environment step is complete.\n",
      "INFO:Environment step is complete.\n",
      "2021-12-01 13:52:07,246 - offworld_gym - INFO - Step count: 2\n",
      "INFO:Step count: 2\n"
     ]
    },
    {
     "name": "stdout",
     "output_type": "stream",
     "text": [
      "\r",
      "Total steps: 7 in 2 episodes"
     ]
    },
    {
     "name": "stderr",
     "output_type": "stream",
     "text": [
      "2021-12-01 13:52:13,818 - offworld_gym - INFO - Environment step is complete.\n",
      "INFO:Environment step is complete.\n",
      "2021-12-01 13:52:13,828 - offworld_gym - INFO - Step count: 3\n",
      "INFO:Step count: 3\n"
     ]
    },
    {
     "name": "stdout",
     "output_type": "stream",
     "text": [
      "\r",
      "Total steps: 8 in 2 episodes"
     ]
    },
    {
     "name": "stderr",
     "output_type": "stream",
     "text": [
      "2021-12-01 13:52:19,987 - offworld_gym - INFO - Environment step is complete.\n",
      "INFO:Environment step is complete.\n",
      "2021-12-01 13:52:19,994 - offworld_gym - INFO - Step count: 4\n",
      "INFO:Step count: 4\n"
     ]
    },
    {
     "name": "stdout",
     "output_type": "stream",
     "text": [
      "\r",
      "Total steps: 9 in 2 episodes"
     ]
    },
    {
     "name": "stderr",
     "output_type": "stream",
     "text": [
      "2021-12-01 13:52:28,819 - offworld_gym - INFO - Environment step is complete.\n",
      "INFO:Environment step is complete.\n",
      "2021-12-01 13:52:28,820 - offworld_gym - INFO - Environment episode is complete: 4 steps, reward = 0\n",
      "INFO:Environment episode is complete: 4 steps, reward = 0\n",
      "2021-12-01 13:52:28,828 - offworld_gym - INFO - Resetting the episode and moving to a random initial position...\n",
      "INFO:Resetting the episode and moving to a random initial position...\n"
     ]
    },
    {
     "name": "stdout",
     "output_type": "stream",
     "text": [
      "\r",
      "Total steps: 10 in 2 episodes"
     ]
    },
    {
     "name": "stderr",
     "output_type": "stream",
     "text": [
      "2021-12-01 13:52:43,103 - offworld_gym - INFO - Environment reset complete\n",
      "INFO:Environment reset complete\n",
      "2021-12-01 13:52:43,113 - offworld_gym - INFO - Step count: 1\n",
      "INFO:Step count: 1\n"
     ]
    },
    {
     "name": "stdout",
     "output_type": "stream",
     "text": [
      "\r",
      "Total steps: 11 in 3 episodes"
     ]
    },
    {
     "name": "stderr",
     "output_type": "stream",
     "text": [
      "2021-12-01 13:52:49,462 - offworld_gym - INFO - Environment step is complete.\n",
      "INFO:Environment step is complete.\n",
      "2021-12-01 13:52:49,470 - offworld_gym - INFO - Step count: 2\n",
      "INFO:Step count: 2\n"
     ]
    },
    {
     "name": "stdout",
     "output_type": "stream",
     "text": [
      "\r",
      "Total steps: 11 in 3 episodes"
     ]
    },
    {
     "name": "stderr",
     "output_type": "stream",
     "text": [
      "2021-12-01 13:52:56,458 - offworld_gym - INFO - Environment step is complete.\n",
      "INFO:Environment step is complete.\n",
      "2021-12-01 13:52:56,467 - offworld_gym - INFO - Step count: 3\n",
      "INFO:Step count: 3\n"
     ]
    },
    {
     "name": "stdout",
     "output_type": "stream",
     "text": [
      "\r",
      "Total steps: 12 in 3 episodes"
     ]
    },
    {
     "name": "stderr",
     "output_type": "stream",
     "text": [
      "2021-12-01 13:53:03,910 - offworld_gym - INFO - Environment step is complete.\n",
      "INFO:Environment step is complete.\n",
      "2021-12-01 13:53:03,920 - offworld_gym - INFO - Step count: 4\n",
      "INFO:Step count: 4\n"
     ]
    },
    {
     "name": "stdout",
     "output_type": "stream",
     "text": [
      "\r",
      "Total steps: 13 in 3 episodes"
     ]
    },
    {
     "name": "stderr",
     "output_type": "stream",
     "text": [
      "2021-12-01 13:53:09,901 - offworld_gym - INFO - Environment step is complete.\n",
      "INFO:Environment step is complete.\n",
      "2021-12-01 13:53:09,911 - offworld_gym - INFO - Step count: 5\n",
      "INFO:Step count: 5\n"
     ]
    },
    {
     "name": "stdout",
     "output_type": "stream",
     "text": [
      "\r",
      "Total steps: 14 in 3 episodes"
     ]
    },
    {
     "name": "stderr",
     "output_type": "stream",
     "text": [
      "2021-12-01 13:53:16,598 - offworld_gym - INFO - Environment step is complete.\n",
      "INFO:Environment step is complete.\n",
      "2021-12-01 13:53:16,607 - offworld_gym - INFO - Step count: 6\n",
      "INFO:Step count: 6\n"
     ]
    },
    {
     "name": "stdout",
     "output_type": "stream",
     "text": [
      "\r",
      "Total steps: 15 in 3 episodes"
     ]
    },
    {
     "name": "stderr",
     "output_type": "stream",
     "text": [
      "2021-12-01 13:53:23,561 - offworld_gym - INFO - Environment step is complete.\n",
      "INFO:Environment step is complete.\n",
      "2021-12-01 13:53:23,570 - offworld_gym - INFO - Step count: 7\n",
      "INFO:Step count: 7\n"
     ]
    },
    {
     "name": "stdout",
     "output_type": "stream",
     "text": [
      "\r",
      "Total steps: 16 in 3 episodes"
     ]
    },
    {
     "name": "stderr",
     "output_type": "stream",
     "text": [
      "2021-12-01 13:53:31,076 - offworld_gym - INFO - Environment step is complete.\n",
      "INFO:Environment step is complete.\n",
      "2021-12-01 13:53:31,085 - offworld_gym - INFO - Step count: 8\n",
      "INFO:Step count: 8\n"
     ]
    },
    {
     "name": "stdout",
     "output_type": "stream",
     "text": [
      "\r",
      "Total steps: 17 in 3 episodes"
     ]
    },
    {
     "name": "stderr",
     "output_type": "stream",
     "text": [
      "2021-12-01 13:53:39,720 - offworld_gym - INFO - Environment step is complete.\n",
      "INFO:Environment step is complete.\n",
      "2021-12-01 13:53:39,730 - offworld_gym - INFO - Step count: 9\n",
      "INFO:Step count: 9\n"
     ]
    },
    {
     "name": "stdout",
     "output_type": "stream",
     "text": [
      "\r",
      "Total steps: 18 in 3 episodes"
     ]
    },
    {
     "name": "stderr",
     "output_type": "stream",
     "text": [
      "2021-12-01 13:53:47,183 - offworld_gym - INFO - Environment step is complete.\n",
      "INFO:Environment step is complete.\n",
      "2021-12-01 13:53:47,190 - offworld_gym - INFO - Step count: 10\n",
      "INFO:Step count: 10\n"
     ]
    },
    {
     "name": "stdout",
     "output_type": "stream",
     "text": [
      "\r",
      "Total steps: 19 in 3 episodes"
     ]
    },
    {
     "name": "stderr",
     "output_type": "stream",
     "text": [
      "2021-12-01 13:53:54,183 - offworld_gym - INFO - Environment step is complete.\n",
      "INFO:Environment step is complete.\n",
      "2021-12-01 13:53:54,191 - offworld_gym - INFO - Step count: 11\n",
      "INFO:Step count: 11\n"
     ]
    },
    {
     "name": "stdout",
     "output_type": "stream",
     "text": [
      "\r",
      "Total steps: 20 in 3 episodes"
     ]
    },
    {
     "name": "stderr",
     "output_type": "stream",
     "text": [
      "2021-12-01 13:54:01,104 - offworld_gym - INFO - Environment step is complete.\n",
      "INFO:Environment step is complete.\n",
      "2021-12-01 13:54:01,112 - offworld_gym - INFO - Step count: 12\n",
      "INFO:Step count: 12\n"
     ]
    },
    {
     "name": "stdout",
     "output_type": "stream",
     "text": [
      "\r",
      "Total steps: 21 in 3 episodes"
     ]
    },
    {
     "name": "stderr",
     "output_type": "stream",
     "text": [
      "2021-12-01 13:54:08,606 - offworld_gym - INFO - Environment step is complete.\n",
      "INFO:Environment step is complete.\n",
      "2021-12-01 13:54:08,615 - offworld_gym - INFO - Step count: 13\n",
      "INFO:Step count: 13\n"
     ]
    },
    {
     "name": "stdout",
     "output_type": "stream",
     "text": [
      "\r",
      "Total steps: 22 in 3 episodes"
     ]
    },
    {
     "name": "stderr",
     "output_type": "stream",
     "text": [
      "2021-12-01 13:54:15,300 - offworld_gym - INFO - Environment step is complete.\n",
      "INFO:Environment step is complete.\n",
      "2021-12-01 13:54:15,308 - offworld_gym - INFO - Step count: 14\n",
      "INFO:Step count: 14\n"
     ]
    },
    {
     "name": "stdout",
     "output_type": "stream",
     "text": [
      "\r",
      "Total steps: 23 in 3 episodes"
     ]
    },
    {
     "name": "stderr",
     "output_type": "stream",
     "text": [
      "2021-12-01 13:54:24,129 - offworld_gym - INFO - Environment step is complete.\n",
      "INFO:Environment step is complete.\n",
      "2021-12-01 13:54:24,130 - offworld_gym - INFO - Environment episode is complete: 14 steps, reward = 0\n",
      "INFO:Environment episode is complete: 14 steps, reward = 0\n",
      "2021-12-01 13:54:24,138 - offworld_gym - INFO - Resetting the episode and moving to a random initial position...\n",
      "INFO:Resetting the episode and moving to a random initial position...\n"
     ]
    },
    {
     "name": "stdout",
     "output_type": "stream",
     "text": [
      "\r",
      "Total steps: 24 in 3 episodes"
     ]
    },
    {
     "name": "stderr",
     "output_type": "stream",
     "text": [
      "2021-12-01 13:54:39,426 - offworld_gym - INFO - Environment reset complete\n",
      "INFO:Environment reset complete\n",
      "2021-12-01 13:54:39,436 - offworld_gym - INFO - Step count: 1\n",
      "INFO:Step count: 1\n"
     ]
    },
    {
     "name": "stdout",
     "output_type": "stream",
     "text": [
      "\r",
      "Total steps: 25 in 4 episodes"
     ]
    },
    {
     "name": "stderr",
     "output_type": "stream",
     "text": [
      "2021-12-01 13:54:45,980 - offworld_gym - INFO - Environment step is complete.\n",
      "INFO:Environment step is complete.\n",
      "2021-12-01 13:54:45,989 - offworld_gym - INFO - Step count: 2\n",
      "INFO:Step count: 2\n"
     ]
    },
    {
     "name": "stdout",
     "output_type": "stream",
     "text": [
      "\r",
      "Total steps: 25 in 4 episodes"
     ]
    },
    {
     "name": "stderr",
     "output_type": "stream",
     "text": [
      "2021-12-01 13:54:52,274 - offworld_gym - INFO - Environment step is complete.\n",
      "INFO:Environment step is complete.\n",
      "2021-12-01 13:54:52,282 - offworld_gym - INFO - Step count: 3\n",
      "INFO:Step count: 3\n"
     ]
    },
    {
     "name": "stdout",
     "output_type": "stream",
     "text": [
      "\r",
      "Total steps: 26 in 4 episodes"
     ]
    },
    {
     "name": "stderr",
     "output_type": "stream",
     "text": [
      "2021-12-01 13:54:59,160 - offworld_gym - INFO - Environment step is complete.\n",
      "INFO:Environment step is complete.\n",
      "2021-12-01 13:54:59,170 - offworld_gym - INFO - Step count: 4\n",
      "INFO:Step count: 4\n"
     ]
    },
    {
     "name": "stdout",
     "output_type": "stream",
     "text": [
      "\r",
      "Total steps: 27 in 4 episodes"
     ]
    },
    {
     "name": "stderr",
     "output_type": "stream",
     "text": [
      "2021-12-01 13:55:06,852 - offworld_gym - INFO - Environment step is complete.\n",
      "INFO:Environment step is complete.\n",
      "2021-12-01 13:55:06,861 - offworld_gym - INFO - Step count: 5\n",
      "INFO:Step count: 5\n"
     ]
    },
    {
     "name": "stdout",
     "output_type": "stream",
     "text": [
      "\r",
      "Total steps: 28 in 4 episodes"
     ]
    },
    {
     "name": "stderr",
     "output_type": "stream",
     "text": [
      "2021-12-01 13:55:14,225 - offworld_gym - INFO - Environment step is complete.\n",
      "INFO:Environment step is complete.\n",
      "2021-12-01 13:55:14,234 - offworld_gym - INFO - Step count: 6\n",
      "INFO:Step count: 6\n"
     ]
    },
    {
     "name": "stdout",
     "output_type": "stream",
     "text": [
      "\r",
      "Total steps: 29 in 4 episodes"
     ]
    },
    {
     "name": "stderr",
     "output_type": "stream",
     "text": [
      "2021-12-01 13:55:21,944 - offworld_gym - INFO - Environment step is complete.\n",
      "INFO:Environment step is complete.\n",
      "2021-12-01 13:55:21,952 - offworld_gym - INFO - Step count: 7\n",
      "INFO:Step count: 7\n"
     ]
    },
    {
     "name": "stdout",
     "output_type": "stream",
     "text": [
      "\r",
      "Total steps: 30 in 4 episodes"
     ]
    },
    {
     "name": "stderr",
     "output_type": "stream",
     "text": [
      "2021-12-01 13:55:30,441 - offworld_gym - INFO - Environment step is complete.\n",
      "INFO:Environment step is complete.\n",
      "2021-12-01 13:55:30,450 - offworld_gym - INFO - Step count: 8\n",
      "INFO:Step count: 8\n"
     ]
    },
    {
     "name": "stdout",
     "output_type": "stream",
     "text": [
      "\r",
      "Total steps: 31 in 4 episodes"
     ]
    },
    {
     "name": "stderr",
     "output_type": "stream",
     "text": [
      "2021-12-01 13:55:38,117 - offworld_gym - INFO - Environment step is complete.\n",
      "INFO:Environment step is complete.\n",
      "2021-12-01 13:55:38,127 - offworld_gym - INFO - Step count: 9\n",
      "INFO:Step count: 9\n"
     ]
    },
    {
     "name": "stdout",
     "output_type": "stream",
     "text": [
      "\r",
      "Total steps: 32 in 4 episodes"
     ]
    },
    {
     "name": "stderr",
     "output_type": "stream",
     "text": [
      "2021-12-01 13:55:46,396 - offworld_gym - INFO - Environment step is complete.\n",
      "INFO:Environment step is complete.\n",
      "2021-12-01 13:55:46,404 - offworld_gym - INFO - Step count: 10\n",
      "INFO:Step count: 10\n"
     ]
    },
    {
     "name": "stdout",
     "output_type": "stream",
     "text": [
      "\r",
      "Total steps: 33 in 4 episodes"
     ]
    },
    {
     "name": "stderr",
     "output_type": "stream",
     "text": [
      "2021-12-01 13:55:54,126 - offworld_gym - INFO - Environment step is complete.\n",
      "INFO:Environment step is complete.\n",
      "2021-12-01 13:55:54,134 - offworld_gym - INFO - Step count: 11\n",
      "INFO:Step count: 11\n"
     ]
    },
    {
     "name": "stdout",
     "output_type": "stream",
     "text": [
      "\r",
      "Total steps: 34 in 4 episodes"
     ]
    },
    {
     "name": "stderr",
     "output_type": "stream",
     "text": [
      "2021-12-01 13:56:01,785 - offworld_gym - INFO - Environment step is complete.\n",
      "INFO:Environment step is complete.\n",
      "2021-12-01 13:56:01,794 - offworld_gym - INFO - Step count: 12\n",
      "INFO:Step count: 12\n"
     ]
    },
    {
     "name": "stdout",
     "output_type": "stream",
     "text": [
      "\r",
      "Total steps: 35 in 4 episodes"
     ]
    },
    {
     "name": "stderr",
     "output_type": "stream",
     "text": [
      "2021-12-01 13:56:08,450 - offworld_gym - INFO - Environment step is complete.\n",
      "INFO:Environment step is complete.\n",
      "2021-12-01 13:56:08,458 - offworld_gym - INFO - Step count: 13\n",
      "INFO:Step count: 13\n"
     ]
    },
    {
     "name": "stdout",
     "output_type": "stream",
     "text": [
      "\r",
      "Total steps: 36 in 4 episodes"
     ]
    },
    {
     "name": "stderr",
     "output_type": "stream",
     "text": [
      "2021-12-01 13:56:15,911 - offworld_gym - INFO - Environment step is complete.\n",
      "INFO:Environment step is complete.\n",
      "2021-12-01 13:56:15,919 - offworld_gym - INFO - Step count: 14\n",
      "INFO:Step count: 14\n"
     ]
    },
    {
     "name": "stdout",
     "output_type": "stream",
     "text": [
      "\r",
      "Total steps: 37 in 4 episodes"
     ]
    },
    {
     "name": "stderr",
     "output_type": "stream",
     "text": [
      "2021-12-01 13:56:22,436 - offworld_gym - INFO - Environment step is complete.\n",
      "INFO:Environment step is complete.\n",
      "2021-12-01 13:56:22,444 - offworld_gym - INFO - Step count: 15\n",
      "INFO:Step count: 15\n"
     ]
    },
    {
     "name": "stdout",
     "output_type": "stream",
     "text": [
      "\r",
      "Total steps: 38 in 4 episodes"
     ]
    },
    {
     "name": "stderr",
     "output_type": "stream",
     "text": [
      "2021-12-01 13:56:29,365 - offworld_gym - INFO - Environment step is complete.\n",
      "INFO:Environment step is complete.\n",
      "2021-12-01 13:56:29,374 - offworld_gym - INFO - Step count: 16\n",
      "INFO:Step count: 16\n"
     ]
    },
    {
     "name": "stdout",
     "output_type": "stream",
     "text": [
      "\r",
      "Total steps: 39 in 4 episodes"
     ]
    },
    {
     "name": "stderr",
     "output_type": "stream",
     "text": [
      "2021-12-01 13:56:36,401 - offworld_gym - INFO - Environment step is complete.\n",
      "INFO:Environment step is complete.\n",
      "2021-12-01 13:56:36,409 - offworld_gym - INFO - Step count: 17\n",
      "INFO:Step count: 17\n"
     ]
    },
    {
     "name": "stdout",
     "output_type": "stream",
     "text": [
      "\r",
      "Total steps: 40 in 4 episodes"
     ]
    },
    {
     "name": "stderr",
     "output_type": "stream",
     "text": [
      "2021-12-01 13:56:43,267 - offworld_gym - INFO - Environment step is complete.\n",
      "INFO:Environment step is complete.\n",
      "2021-12-01 13:56:43,275 - offworld_gym - INFO - Step count: 18\n",
      "INFO:Step count: 18\n"
     ]
    },
    {
     "name": "stdout",
     "output_type": "stream",
     "text": [
      "\r",
      "Total steps: 41 in 4 episodes"
     ]
    },
    {
     "name": "stderr",
     "output_type": "stream",
     "text": [
      "2021-12-01 13:56:50,817 - offworld_gym - INFO - Environment step is complete.\n",
      "INFO:Environment step is complete.\n",
      "2021-12-01 13:56:50,826 - offworld_gym - INFO - Step count: 19\n",
      "INFO:Step count: 19\n"
     ]
    },
    {
     "name": "stdout",
     "output_type": "stream",
     "text": [
      "\r",
      "Total steps: 42 in 4 episodes"
     ]
    },
    {
     "name": "stderr",
     "output_type": "stream",
     "text": [
      "2021-12-01 13:56:57,427 - offworld_gym - INFO - Environment step is complete.\n",
      "INFO:Environment step is complete.\n",
      "2021-12-01 13:56:57,436 - offworld_gym - INFO - Step count: 20\n",
      "INFO:Step count: 20\n"
     ]
    },
    {
     "name": "stdout",
     "output_type": "stream",
     "text": [
      "\r",
      "Total steps: 43 in 4 episodes"
     ]
    },
    {
     "name": "stderr",
     "output_type": "stream",
     "text": [
      "2021-12-01 13:57:04,086 - offworld_gym - INFO - Environment step is complete.\n",
      "INFO:Environment step is complete.\n",
      "2021-12-01 13:57:04,094 - offworld_gym - INFO - Step count: 21\n",
      "INFO:Step count: 21\n"
     ]
    },
    {
     "name": "stdout",
     "output_type": "stream",
     "text": [
      "\r",
      "Total steps: 44 in 4 episodes"
     ]
    },
    {
     "name": "stderr",
     "output_type": "stream",
     "text": [
      "2021-12-01 13:57:11,962 - offworld_gym - INFO - Environment step is complete.\n",
      "INFO:Environment step is complete.\n",
      "2021-12-01 13:57:11,971 - offworld_gym - INFO - Step count: 22\n",
      "INFO:Step count: 22\n"
     ]
    },
    {
     "name": "stdout",
     "output_type": "stream",
     "text": [
      "\r",
      "Total steps: 45 in 4 episodes"
     ]
    },
    {
     "name": "stderr",
     "output_type": "stream",
     "text": [
      "2021-12-01 13:57:19,084 - offworld_gym - INFO - Environment step is complete.\n",
      "INFO:Environment step is complete.\n",
      "2021-12-01 13:57:19,092 - offworld_gym - INFO - Step count: 23\n",
      "INFO:Step count: 23\n"
     ]
    },
    {
     "name": "stdout",
     "output_type": "stream",
     "text": [
      "\r",
      "Total steps: 46 in 4 episodes"
     ]
    },
    {
     "name": "stderr",
     "output_type": "stream",
     "text": [
      "2021-12-01 13:57:27,746 - offworld_gym - INFO - Environment step is complete.\n",
      "INFO:Environment step is complete.\n",
      "2021-12-01 13:57:27,746 - offworld_gym - INFO - Environment episode is complete: 23 steps, reward = 0\n",
      "INFO:Environment episode is complete: 23 steps, reward = 0\n",
      "2021-12-01 13:57:27,754 - offworld_gym - INFO - Resetting the episode and moving to a random initial position...\n",
      "INFO:Resetting the episode and moving to a random initial position...\n"
     ]
    },
    {
     "name": "stdout",
     "output_type": "stream",
     "text": [
      "\r",
      "Total steps: 47 in 4 episodes"
     ]
    },
    {
     "name": "stderr",
     "output_type": "stream",
     "text": [
      "2021-12-01 13:57:53,239 - offworld_gym - INFO - Environment reset complete\n",
      "INFO:Environment reset complete\n",
      "2021-12-01 13:57:53,266 - offworld_gym - INFO - Step count: 1\n",
      "INFO:Step count: 1\n"
     ]
    },
    {
     "name": "stdout",
     "output_type": "stream",
     "text": [
      "\r",
      "Total steps: 48 in 5 episodes"
     ]
    },
    {
     "name": "stderr",
     "output_type": "stream",
     "text": [
      "2021-12-01 13:58:01,150 - offworld_gym - INFO - Environment step is complete.\n",
      "INFO:Environment step is complete.\n",
      "2021-12-01 13:58:01,158 - offworld_gym - INFO - Step count: 2\n",
      "INFO:Step count: 2\n"
     ]
    },
    {
     "name": "stdout",
     "output_type": "stream",
     "text": [
      "\r",
      "Total steps: 48 in 5 episodes"
     ]
    },
    {
     "name": "stderr",
     "output_type": "stream",
     "text": [
      "2021-12-01 13:58:08,773 - offworld_gym - INFO - Environment step is complete.\n",
      "INFO:Environment step is complete.\n",
      "2021-12-01 13:58:08,782 - offworld_gym - INFO - Step count: 3\n",
      "INFO:Step count: 3\n"
     ]
    },
    {
     "name": "stdout",
     "output_type": "stream",
     "text": [
      "\r",
      "Total steps: 49 in 5 episodes"
     ]
    },
    {
     "name": "stderr",
     "output_type": "stream",
     "text": [
      "2021-12-01 13:58:16,033 - offworld_gym - INFO - Environment step is complete.\n",
      "INFO:Environment step is complete.\n",
      "2021-12-01 13:58:16,041 - offworld_gym - INFO - Step count: 4\n",
      "INFO:Step count: 4\n"
     ]
    },
    {
     "name": "stdout",
     "output_type": "stream",
     "text": [
      "\r",
      "Total steps: 50 in 5 episodes"
     ]
    },
    {
     "name": "stderr",
     "output_type": "stream",
     "text": [
      "2021-12-01 13:58:23,275 - offworld_gym - INFO - Environment step is complete.\n",
      "INFO:Environment step is complete.\n",
      "2021-12-01 13:58:23,283 - offworld_gym - INFO - Step count: 5\n",
      "INFO:Step count: 5\n"
     ]
    },
    {
     "name": "stdout",
     "output_type": "stream",
     "text": [
      "\r",
      "Total steps: 51 in 5 episodes"
     ]
    },
    {
     "name": "stderr",
     "output_type": "stream",
     "text": [
      "2021-12-01 13:58:30,456 - offworld_gym - INFO - Environment step is complete.\n",
      "INFO:Environment step is complete.\n",
      "2021-12-01 13:58:30,465 - offworld_gym - INFO - Step count: 6\n",
      "INFO:Step count: 6\n"
     ]
    },
    {
     "name": "stdout",
     "output_type": "stream",
     "text": [
      "\r",
      "Total steps: 52 in 5 episodes"
     ]
    },
    {
     "name": "stderr",
     "output_type": "stream",
     "text": [
      "2021-12-01 13:58:36,977 - offworld_gym - INFO - Environment step is complete.\n",
      "INFO:Environment step is complete.\n",
      "2021-12-01 13:58:36,986 - offworld_gym - INFO - Step count: 7\n",
      "INFO:Step count: 7\n"
     ]
    },
    {
     "name": "stdout",
     "output_type": "stream",
     "text": [
      "\r",
      "Total steps: 53 in 5 episodes"
     ]
    },
    {
     "name": "stderr",
     "output_type": "stream",
     "text": [
      "2021-12-01 13:58:44,206 - offworld_gym - INFO - Environment step is complete.\n",
      "INFO:Environment step is complete.\n",
      "2021-12-01 13:58:44,214 - offworld_gym - INFO - Step count: 8\n",
      "INFO:Step count: 8\n"
     ]
    },
    {
     "name": "stdout",
     "output_type": "stream",
     "text": [
      "\r",
      "Total steps: 54 in 5 episodes"
     ]
    },
    {
     "name": "stderr",
     "output_type": "stream",
     "text": [
      "2021-12-01 13:58:51,097 - offworld_gym - INFO - Environment step is complete.\n",
      "INFO:Environment step is complete.\n",
      "2021-12-01 13:58:51,105 - offworld_gym - INFO - Step count: 9\n",
      "INFO:Step count: 9\n"
     ]
    },
    {
     "name": "stdout",
     "output_type": "stream",
     "text": [
      "\r",
      "Total steps: 55 in 5 episodes"
     ]
    },
    {
     "name": "stderr",
     "output_type": "stream",
     "text": [
      "2021-12-01 13:58:57,910 - offworld_gym - INFO - Environment step is complete.\n",
      "INFO:Environment step is complete.\n",
      "2021-12-01 13:58:57,918 - offworld_gym - INFO - Step count: 10\n",
      "INFO:Step count: 10\n"
     ]
    },
    {
     "name": "stdout",
     "output_type": "stream",
     "text": [
      "\r",
      "Total steps: 56 in 5 episodes"
     ]
    },
    {
     "name": "stderr",
     "output_type": "stream",
     "text": [
      "2021-12-01 13:59:05,823 - offworld_gym - INFO - Environment step is complete.\n",
      "INFO:Environment step is complete.\n",
      "2021-12-01 13:59:05,833 - offworld_gym - INFO - Step count: 11\n",
      "INFO:Step count: 11\n"
     ]
    },
    {
     "name": "stdout",
     "output_type": "stream",
     "text": [
      "\r",
      "Total steps: 57 in 5 episodes"
     ]
    },
    {
     "name": "stderr",
     "output_type": "stream",
     "text": [
      "2021-12-01 13:59:12,539 - offworld_gym - INFO - Environment step is complete.\n",
      "INFO:Environment step is complete.\n",
      "2021-12-01 13:59:12,547 - offworld_gym - INFO - Step count: 12\n",
      "INFO:Step count: 12\n"
     ]
    },
    {
     "name": "stdout",
     "output_type": "stream",
     "text": [
      "\r",
      "Total steps: 58 in 5 episodes"
     ]
    },
    {
     "name": "stderr",
     "output_type": "stream",
     "text": [
      "2021-12-01 13:59:19,023 - offworld_gym - INFO - Environment step is complete.\n",
      "INFO:Environment step is complete.\n",
      "2021-12-01 13:59:19,033 - offworld_gym - INFO - Step count: 13\n",
      "INFO:Step count: 13\n"
     ]
    },
    {
     "name": "stdout",
     "output_type": "stream",
     "text": [
      "\r",
      "Total steps: 59 in 5 episodes"
     ]
    },
    {
     "name": "stderr",
     "output_type": "stream",
     "text": [
      "2021-12-01 13:59:26,171 - offworld_gym - INFO - Environment step is complete.\n",
      "INFO:Environment step is complete.\n",
      "2021-12-01 13:59:26,181 - offworld_gym - INFO - Step count: 14\n",
      "INFO:Step count: 14\n"
     ]
    },
    {
     "name": "stdout",
     "output_type": "stream",
     "text": [
      "\r",
      "Total steps: 60 in 5 episodes"
     ]
    },
    {
     "name": "stderr",
     "output_type": "stream",
     "text": [
      "2021-12-01 13:59:33,272 - offworld_gym - INFO - Environment step is complete.\n",
      "INFO:Environment step is complete.\n",
      "2021-12-01 13:59:33,281 - offworld_gym - INFO - Step count: 15\n",
      "INFO:Step count: 15\n"
     ]
    },
    {
     "name": "stdout",
     "output_type": "stream",
     "text": [
      "\r",
      "Total steps: 61 in 5 episodes"
     ]
    },
    {
     "name": "stderr",
     "output_type": "stream",
     "text": [
      "2021-12-01 13:59:40,237 - offworld_gym - INFO - Environment step is complete.\n",
      "INFO:Environment step is complete.\n",
      "2021-12-01 13:59:40,246 - offworld_gym - INFO - Step count: 16\n",
      "INFO:Step count: 16\n"
     ]
    },
    {
     "name": "stdout",
     "output_type": "stream",
     "text": [
      "\r",
      "Total steps: 62 in 5 episodes"
     ]
    },
    {
     "name": "stderr",
     "output_type": "stream",
     "text": [
      "2021-12-01 13:59:47,536 - offworld_gym - INFO - Environment step is complete.\n",
      "INFO:Environment step is complete.\n",
      "2021-12-01 13:59:47,545 - offworld_gym - INFO - Step count: 17\n",
      "INFO:Step count: 17\n"
     ]
    },
    {
     "name": "stdout",
     "output_type": "stream",
     "text": [
      "\r",
      "Total steps: 63 in 5 episodes"
     ]
    },
    {
     "name": "stderr",
     "output_type": "stream",
     "text": [
      "2021-12-01 13:59:55,669 - offworld_gym - INFO - Environment step is complete.\n",
      "INFO:Environment step is complete.\n",
      "2021-12-01 13:59:55,677 - offworld_gym - INFO - Step count: 18\n",
      "INFO:Step count: 18\n"
     ]
    },
    {
     "name": "stdout",
     "output_type": "stream",
     "text": [
      "\r",
      "Total steps: 64 in 5 episodes"
     ]
    },
    {
     "name": "stderr",
     "output_type": "stream",
     "text": [
      "2021-12-01 14:00:03,338 - offworld_gym - INFO - Environment step is complete.\n",
      "INFO:Environment step is complete.\n",
      "2021-12-01 14:00:03,346 - offworld_gym - INFO - Step count: 19\n",
      "INFO:Step count: 19\n"
     ]
    },
    {
     "name": "stdout",
     "output_type": "stream",
     "text": [
      "\r",
      "Total steps: 65 in 5 episodes"
     ]
    },
    {
     "name": "stderr",
     "output_type": "stream",
     "text": [
      "2021-12-01 14:00:10,531 - offworld_gym - INFO - Environment step is complete.\n",
      "INFO:Environment step is complete.\n",
      "2021-12-01 14:00:10,539 - offworld_gym - INFO - Step count: 20\n",
      "INFO:Step count: 20\n"
     ]
    },
    {
     "name": "stdout",
     "output_type": "stream",
     "text": [
      "\r",
      "Total steps: 66 in 5 episodes"
     ]
    },
    {
     "name": "stderr",
     "output_type": "stream",
     "text": [
      "2021-12-01 14:00:17,499 - offworld_gym - INFO - Environment step is complete.\n",
      "INFO:Environment step is complete.\n",
      "2021-12-01 14:00:17,509 - offworld_gym - INFO - Step count: 21\n",
      "INFO:Step count: 21\n"
     ]
    },
    {
     "name": "stdout",
     "output_type": "stream",
     "text": [
      "\r",
      "Total steps: 67 in 5 episodes"
     ]
    },
    {
     "name": "stderr",
     "output_type": "stream",
     "text": [
      "2021-12-01 14:00:24,523 - offworld_gym - INFO - Environment step is complete.\n",
      "INFO:Environment step is complete.\n",
      "2021-12-01 14:00:24,533 - offworld_gym - INFO - Step count: 22\n",
      "INFO:Step count: 22\n"
     ]
    },
    {
     "name": "stdout",
     "output_type": "stream",
     "text": [
      "\r",
      "Total steps: 68 in 5 episodes"
     ]
    },
    {
     "name": "stderr",
     "output_type": "stream",
     "text": [
      "2021-12-01 14:00:31,276 - offworld_gym - INFO - Environment step is complete.\n",
      "INFO:Environment step is complete.\n",
      "2021-12-01 14:00:31,285 - offworld_gym - INFO - Step count: 23\n",
      "INFO:Step count: 23\n"
     ]
    },
    {
     "name": "stdout",
     "output_type": "stream",
     "text": [
      "\r",
      "Total steps: 69 in 5 episodes"
     ]
    },
    {
     "name": "stderr",
     "output_type": "stream",
     "text": [
      "2021-12-01 14:00:39,713 - offworld_gym - INFO - Environment step is complete.\n",
      "INFO:Environment step is complete.\n",
      "2021-12-01 14:00:39,714 - offworld_gym - INFO - Environment episode is complete: 23 steps, reward = 0\n",
      "INFO:Environment episode is complete: 23 steps, reward = 0\n",
      "2021-12-01 14:00:39,722 - offworld_gym - INFO - Resetting the episode and moving to a random initial position...\n",
      "INFO:Resetting the episode and moving to a random initial position...\n"
     ]
    },
    {
     "name": "stdout",
     "output_type": "stream",
     "text": [
      "\r",
      "Total steps: 70 in 5 episodes"
     ]
    },
    {
     "name": "stderr",
     "output_type": "stream",
     "text": [
      "2021-12-01 14:01:06,803 - offworld_gym - INFO - Environment reset complete\n",
      "INFO:Environment reset complete\n",
      "2021-12-01 14:01:06,826 - offworld_gym - INFO - Step count: 1\n",
      "INFO:Step count: 1\n"
     ]
    },
    {
     "name": "stdout",
     "output_type": "stream",
     "text": [
      "\r",
      "Total steps: 71 in 6 episodes"
     ]
    },
    {
     "name": "stderr",
     "output_type": "stream",
     "text": [
      "2021-12-01 14:01:14,492 - offworld_gym - INFO - Environment step is complete.\n",
      "INFO:Environment step is complete.\n",
      "2021-12-01 14:01:14,492 - offworld_gym - INFO - Environment episode is complete: 1 steps, reward = 1\n",
      "INFO:Environment episode is complete: 1 steps, reward = 1\n",
      "2021-12-01 14:01:14,500 - offworld_gym - INFO - Resetting the episode and moving to a random initial position...\n",
      "INFO:Resetting the episode and moving to a random initial position...\n"
     ]
    },
    {
     "name": "stdout",
     "output_type": "stream",
     "text": [
      "\r",
      "Total steps: 71 in 6 episodes"
     ]
    },
    {
     "name": "stderr",
     "output_type": "stream",
     "text": [
      "2021-12-01 14:01:33,875 - offworld_gym - INFO - Environment reset complete\n",
      "INFO:Environment reset complete\n",
      "2021-12-01 14:01:33,892 - offworld_gym - INFO - Step count: 1\n",
      "INFO:Step count: 1\n"
     ]
    },
    {
     "name": "stdout",
     "output_type": "stream",
     "text": [
      "\r",
      "Total steps: 72 in 7 episodes"
     ]
    },
    {
     "name": "stderr",
     "output_type": "stream",
     "text": [
      "2021-12-01 14:01:41,218 - offworld_gym - INFO - Environment step is complete.\n",
      "INFO:Environment step is complete.\n",
      "2021-12-01 14:01:41,226 - offworld_gym - INFO - Step count: 2\n",
      "INFO:Step count: 2\n"
     ]
    },
    {
     "name": "stdout",
     "output_type": "stream",
     "text": [
      "\r",
      "Total steps: 72 in 7 episodes"
     ]
    },
    {
     "name": "stderr",
     "output_type": "stream",
     "text": [
      "2021-12-01 14:01:51,314 - offworld_gym - INFO - Environment step is complete.\n",
      "INFO:Environment step is complete.\n",
      "2021-12-01 14:01:51,315 - offworld_gym - INFO - Environment episode is complete: 2 steps, reward = 0\n",
      "INFO:Environment episode is complete: 2 steps, reward = 0\n",
      "2021-12-01 14:01:51,324 - offworld_gym - INFO - Resetting the episode and moving to a random initial position...\n",
      "INFO:Resetting the episode and moving to a random initial position...\n"
     ]
    },
    {
     "name": "stdout",
     "output_type": "stream",
     "text": [
      "\r",
      "Total steps: 73 in 7 episodes"
     ]
    },
    {
     "name": "stderr",
     "output_type": "stream",
     "text": [
      "2021-12-01 14:02:09,437 - offworld_gym - INFO - Environment reset complete\n",
      "INFO:Environment reset complete\n",
      "2021-12-01 14:02:09,459 - offworld_gym - INFO - Step count: 1\n",
      "INFO:Step count: 1\n"
     ]
    },
    {
     "name": "stdout",
     "output_type": "stream",
     "text": [
      "\r",
      "Total steps: 74 in 8 episodes"
     ]
    },
    {
     "name": "stderr",
     "output_type": "stream",
     "text": [
      "2021-12-01 14:02:17,169 - offworld_gym - INFO - Environment step is complete.\n",
      "INFO:Environment step is complete.\n",
      "2021-12-01 14:02:17,178 - offworld_gym - INFO - Step count: 2\n",
      "INFO:Step count: 2\n"
     ]
    },
    {
     "name": "stdout",
     "output_type": "stream",
     "text": [
      "\r",
      "Total steps: 74 in 8 episodes"
     ]
    },
    {
     "name": "stderr",
     "output_type": "stream",
     "text": [
      "2021-12-01 14:02:25,385 - offworld_gym - INFO - Environment step is complete.\n",
      "INFO:Environment step is complete.\n",
      "2021-12-01 14:02:25,394 - offworld_gym - INFO - Step count: 3\n",
      "INFO:Step count: 3\n"
     ]
    },
    {
     "name": "stdout",
     "output_type": "stream",
     "text": [
      "\r",
      "Total steps: 75 in 8 episodes"
     ]
    },
    {
     "name": "stderr",
     "output_type": "stream",
     "text": [
      "2021-12-01 14:02:32,866 - offworld_gym - INFO - Environment step is complete.\n",
      "INFO:Environment step is complete.\n",
      "2021-12-01 14:02:32,875 - offworld_gym - INFO - Step count: 4\n",
      "INFO:Step count: 4\n"
     ]
    },
    {
     "name": "stdout",
     "output_type": "stream",
     "text": [
      "\r",
      "Total steps: 76 in 8 episodes"
     ]
    },
    {
     "name": "stderr",
     "output_type": "stream",
     "text": [
      "2021-12-01 14:02:42,422 - offworld_gym - INFO - Environment step is complete.\n",
      "INFO:Environment step is complete.\n",
      "2021-12-01 14:02:42,430 - offworld_gym - INFO - Step count: 5\n",
      "INFO:Step count: 5\n"
     ]
    },
    {
     "name": "stdout",
     "output_type": "stream",
     "text": [
      "\r",
      "Total steps: 77 in 8 episodes"
     ]
    },
    {
     "name": "stderr",
     "output_type": "stream",
     "text": [
      "2021-12-01 14:02:49,811 - offworld_gym - INFO - Environment step is complete.\n",
      "INFO:Environment step is complete.\n",
      "2021-12-01 14:02:49,819 - offworld_gym - INFO - Step count: 6\n",
      "INFO:Step count: 6\n"
     ]
    },
    {
     "name": "stdout",
     "output_type": "stream",
     "text": [
      "\r",
      "Total steps: 78 in 8 episodes"
     ]
    },
    {
     "name": "stderr",
     "output_type": "stream",
     "text": [
      "2021-12-01 14:02:58,646 - offworld_gym - INFO - Environment step is complete.\n",
      "INFO:Environment step is complete.\n",
      "2021-12-01 14:02:58,655 - offworld_gym - INFO - Step count: 7\n",
      "INFO:Step count: 7\n"
     ]
    },
    {
     "name": "stdout",
     "output_type": "stream",
     "text": [
      "\r",
      "Total steps: 79 in 8 episodes"
     ]
    },
    {
     "name": "stderr",
     "output_type": "stream",
     "text": [
      "2021-12-01 14:03:07,003 - offworld_gym - INFO - Environment step is complete.\n",
      "INFO:Environment step is complete.\n",
      "2021-12-01 14:03:07,011 - offworld_gym - INFO - Step count: 8\n",
      "INFO:Step count: 8\n"
     ]
    },
    {
     "name": "stdout",
     "output_type": "stream",
     "text": [
      "\r",
      "Total steps: 80 in 8 episodes"
     ]
    },
    {
     "name": "stderr",
     "output_type": "stream",
     "text": [
      "2021-12-01 14:03:16,518 - offworld_gym - INFO - Environment step is complete.\n",
      "INFO:Environment step is complete.\n",
      "2021-12-01 14:03:16,519 - offworld_gym - INFO - Environment episode is complete: 8 steps, reward = 1\n",
      "INFO:Environment episode is complete: 8 steps, reward = 1\n",
      "2021-12-01 14:03:16,527 - offworld_gym - INFO - Resetting the episode and moving to a random initial position...\n",
      "INFO:Resetting the episode and moving to a random initial position...\n"
     ]
    },
    {
     "name": "stdout",
     "output_type": "stream",
     "text": [
      "\r",
      "Total steps: 81 in 8 episodes"
     ]
    },
    {
     "name": "stderr",
     "output_type": "stream",
     "text": [
      "2021-12-01 14:03:41,425 - offworld_gym - INFO - Environment reset complete\n",
      "INFO:Environment reset complete\n",
      "2021-12-01 14:03:41,445 - offworld_gym - INFO - Step count: 1\n",
      "INFO:Step count: 1\n"
     ]
    },
    {
     "name": "stdout",
     "output_type": "stream",
     "text": [
      "\r",
      "Total steps: 82 in 9 episodes"
     ]
    },
    {
     "name": "stderr",
     "output_type": "stream",
     "text": [
      "2021-12-01 14:03:48,429 - offworld_gym - INFO - Environment step is complete.\n",
      "INFO:Environment step is complete.\n",
      "2021-12-01 14:03:48,437 - offworld_gym - INFO - Step count: 2\n",
      "INFO:Step count: 2\n"
     ]
    },
    {
     "name": "stdout",
     "output_type": "stream",
     "text": [
      "\r",
      "Total steps: 82 in 9 episodes"
     ]
    },
    {
     "name": "stderr",
     "output_type": "stream",
     "text": [
      "2021-12-01 14:03:55,681 - offworld_gym - INFO - Environment step is complete.\n",
      "INFO:Environment step is complete.\n",
      "2021-12-01 14:03:55,690 - offworld_gym - INFO - Step count: 3\n",
      "INFO:Step count: 3\n"
     ]
    },
    {
     "name": "stdout",
     "output_type": "stream",
     "text": [
      "\r",
      "Total steps: 83 in 9 episodes"
     ]
    },
    {
     "name": "stderr",
     "output_type": "stream",
     "text": [
      "2021-12-01 14:04:03,110 - offworld_gym - INFO - Environment step is complete.\n",
      "INFO:Environment step is complete.\n",
      "2021-12-01 14:04:03,119 - offworld_gym - INFO - Step count: 4\n",
      "INFO:Step count: 4\n"
     ]
    },
    {
     "name": "stdout",
     "output_type": "stream",
     "text": [
      "\r",
      "Total steps: 84 in 9 episodes"
     ]
    },
    {
     "name": "stderr",
     "output_type": "stream",
     "text": [
      "2021-12-01 14:04:10,924 - offworld_gym - INFO - Environment step is complete.\n",
      "INFO:Environment step is complete.\n",
      "2021-12-01 14:04:10,933 - offworld_gym - INFO - Step count: 5\n",
      "INFO:Step count: 5\n"
     ]
    },
    {
     "name": "stdout",
     "output_type": "stream",
     "text": [
      "\r",
      "Total steps: 85 in 9 episodes"
     ]
    },
    {
     "name": "stderr",
     "output_type": "stream",
     "text": [
      "2021-12-01 14:04:17,419 - offworld_gym - INFO - Environment step is complete.\n",
      "INFO:Environment step is complete.\n",
      "2021-12-01 14:04:17,428 - offworld_gym - INFO - Step count: 6\n",
      "INFO:Step count: 6\n"
     ]
    },
    {
     "name": "stdout",
     "output_type": "stream",
     "text": [
      "\r",
      "Total steps: 86 in 9 episodes"
     ]
    },
    {
     "name": "stderr",
     "output_type": "stream",
     "text": [
      "2021-12-01 14:04:24,712 - offworld_gym - INFO - Environment step is complete.\n",
      "INFO:Environment step is complete.\n",
      "2021-12-01 14:04:24,720 - offworld_gym - INFO - Step count: 7\n",
      "INFO:Step count: 7\n"
     ]
    },
    {
     "name": "stdout",
     "output_type": "stream",
     "text": [
      "\r",
      "Total steps: 87 in 9 episodes"
     ]
    },
    {
     "name": "stderr",
     "output_type": "stream",
     "text": [
      "2021-12-01 14:04:34,137 - offworld_gym - INFO - Environment step is complete.\n",
      "INFO:Environment step is complete.\n",
      "2021-12-01 14:04:34,138 - offworld_gym - INFO - Environment episode is complete: 7 steps, reward = 1\n",
      "INFO:Environment episode is complete: 7 steps, reward = 1\n",
      "2021-12-01 14:04:34,147 - offworld_gym - INFO - Resetting the episode and moving to a random initial position...\n",
      "INFO:Resetting the episode and moving to a random initial position...\n"
     ]
    },
    {
     "name": "stdout",
     "output_type": "stream",
     "text": [
      "\r",
      "Total steps: 88 in 9 episodes"
     ]
    },
    {
     "name": "stderr",
     "output_type": "stream",
     "text": [
      "2021-12-01 14:04:53,607 - offworld_gym - INFO - Environment reset complete\n",
      "INFO:Environment reset complete\n"
     ]
    },
    {
     "name": "stdout",
     "output_type": "stream",
     "text": [
      "\r",
      "Total steps: 89 in 10 episodes"
     ]
    },
    {
     "name": "stderr",
     "output_type": "stream",
     "text": [
      "INFO:Saved replay buffer at 3810 steps\n",
      "INFO:Saved checkpoint: models/Buf_2_clean/train/checkpoints/ckpt-6000\n",
      "2021-12-01 14:05:52,267 - offworld_gym - INFO - Resetting the episode and moving to a random initial position...\n",
      "INFO:Resetting the episode and moving to a random initial position...\n",
      "2021-12-01 14:06:19,507 - offworld_gym - INFO - Environment reset complete\n",
      "INFO:Environment reset complete\n",
      "2021-12-01 14:06:19,527 - offworld_gym - INFO - Step count: 1\n",
      "INFO:Step count: 1\n",
      "2021-12-01 14:06:26,718 - offworld_gym - INFO - Environment step is complete.\n",
      "INFO:Environment step is complete.\n",
      "2021-12-01 14:06:26,734 - offworld_gym - INFO - Step count: 2\n",
      "INFO:Step count: 2\n"
     ]
    },
    {
     "name": "stdout",
     "output_type": "stream",
     "text": [
      "\r",
      "Total steps: 89 in 10 episodes"
     ]
    },
    {
     "name": "stderr",
     "output_type": "stream",
     "text": [
      "2021-12-01 14:06:33,726 - offworld_gym - INFO - Environment step is complete.\n",
      "INFO:Environment step is complete.\n",
      "2021-12-01 14:06:33,737 - offworld_gym - INFO - Step count: 3\n",
      "INFO:Step count: 3\n"
     ]
    },
    {
     "name": "stdout",
     "output_type": "stream",
     "text": [
      "\r",
      "Total steps: 90 in 10 episodes"
     ]
    },
    {
     "name": "stderr",
     "output_type": "stream",
     "text": [
      "2021-12-01 14:06:42,490 - offworld_gym - INFO - Environment step is complete.\n",
      "INFO:Environment step is complete.\n",
      "2021-12-01 14:06:42,491 - offworld_gym - INFO - Environment episode is complete: 3 steps, reward = 0\n",
      "INFO:Environment episode is complete: 3 steps, reward = 0\n",
      "2021-12-01 14:06:42,505 - offworld_gym - INFO - Resetting the episode and moving to a random initial position...\n",
      "INFO:Resetting the episode and moving to a random initial position...\n"
     ]
    },
    {
     "name": "stdout",
     "output_type": "stream",
     "text": [
      "\r",
      "Total steps: 91 in 10 episodes"
     ]
    },
    {
     "name": "stderr",
     "output_type": "stream",
     "text": [
      "2021-12-01 14:07:00,821 - offworld_gym - INFO - Environment reset complete\n",
      "INFO:Environment reset complete\n",
      "2021-12-01 14:07:00,837 - offworld_gym - INFO - Step count: 1\n",
      "INFO:Step count: 1\n"
     ]
    },
    {
     "name": "stdout",
     "output_type": "stream",
     "text": [
      "\r",
      "Total steps: 92 in 11 episodes"
     ]
    },
    {
     "name": "stderr",
     "output_type": "stream",
     "text": [
      "2021-12-01 14:07:09,434 - offworld_gym - INFO - Environment step is complete.\n",
      "INFO:Environment step is complete.\n",
      "2021-12-01 14:07:09,435 - offworld_gym - INFO - Environment episode is complete: 1 steps, reward = 0\n",
      "INFO:Environment episode is complete: 1 steps, reward = 0\n",
      "2021-12-01 14:07:09,443 - offworld_gym - INFO - Resetting the episode and moving to a random initial position...\n",
      "INFO:Resetting the episode and moving to a random initial position...\n"
     ]
    },
    {
     "name": "stdout",
     "output_type": "stream",
     "text": [
      "\r",
      "Total steps: 92 in 11 episodes"
     ]
    },
    {
     "name": "stderr",
     "output_type": "stream",
     "text": [
      "2021-12-01 14:07:17,912 - offworld_gym - INFO - Environment reset complete\n",
      "INFO:Environment reset complete\n",
      "2021-12-01 14:07:17,923 - offworld_gym - INFO - Step count: 1\n",
      "INFO:Step count: 1\n"
     ]
    },
    {
     "name": "stdout",
     "output_type": "stream",
     "text": [
      "\r",
      "Total steps: 93 in 12 episodes"
     ]
    },
    {
     "name": "stderr",
     "output_type": "stream",
     "text": [
      "2021-12-01 14:07:25,230 - offworld_gym - INFO - Environment step is complete.\n",
      "INFO:Environment step is complete.\n",
      "2021-12-01 14:07:25,240 - offworld_gym - INFO - Step count: 2\n",
      "INFO:Step count: 2\n"
     ]
    },
    {
     "name": "stdout",
     "output_type": "stream",
     "text": [
      "\r",
      "Total steps: 93 in 12 episodes"
     ]
    },
    {
     "name": "stderr",
     "output_type": "stream",
     "text": [
      "2021-12-01 14:07:32,877 - offworld_gym - INFO - Environment step is complete.\n",
      "INFO:Environment step is complete.\n",
      "2021-12-01 14:07:32,885 - offworld_gym - INFO - Step count: 3\n",
      "INFO:Step count: 3\n"
     ]
    },
    {
     "name": "stdout",
     "output_type": "stream",
     "text": [
      "\r",
      "Total steps: 94 in 12 episodes"
     ]
    },
    {
     "name": "stderr",
     "output_type": "stream",
     "text": [
      "2021-12-01 14:07:41,989 - offworld_gym - INFO - Environment step is complete.\n",
      "INFO:Environment step is complete.\n",
      "2021-12-01 14:07:41,990 - offworld_gym - INFO - Environment episode is complete: 3 steps, reward = 0\n",
      "INFO:Environment episode is complete: 3 steps, reward = 0\n",
      "2021-12-01 14:07:41,998 - offworld_gym - INFO - Resetting the episode and moving to a random initial position...\n",
      "INFO:Resetting the episode and moving to a random initial position...\n"
     ]
    },
    {
     "name": "stdout",
     "output_type": "stream",
     "text": [
      "\r",
      "Total steps: 95 in 12 episodes"
     ]
    },
    {
     "name": "stderr",
     "output_type": "stream",
     "text": [
      "2021-12-01 14:08:13,711 - offworld_gym - INFO - Environment reset complete\n",
      "INFO:Environment reset complete\n",
      "2021-12-01 14:08:13,730 - offworld_gym - INFO - Step count: 1\n",
      "INFO:Step count: 1\n"
     ]
    },
    {
     "name": "stdout",
     "output_type": "stream",
     "text": [
      "\r",
      "Total steps: 96 in 13 episodes"
     ]
    },
    {
     "name": "stderr",
     "output_type": "stream",
     "text": [
      "2021-12-01 14:08:22,410 - offworld_gym - INFO - Environment step is complete.\n",
      "INFO:Environment step is complete.\n",
      "2021-12-01 14:08:22,411 - offworld_gym - INFO - Environment episode is complete: 1 steps, reward = 0\n",
      "INFO:Environment episode is complete: 1 steps, reward = 0\n",
      "2021-12-01 14:08:22,421 - offworld_gym - INFO - Resetting the episode and moving to a random initial position...\n",
      "INFO:Resetting the episode and moving to a random initial position...\n"
     ]
    },
    {
     "name": "stdout",
     "output_type": "stream",
     "text": [
      "\r",
      "Total steps: 96 in 13 episodes"
     ]
    },
    {
     "name": "stderr",
     "output_type": "stream",
     "text": [
      "2021-12-01 14:08:29,687 - offworld_gym - INFO - Environment reset complete\n",
      "INFO:Environment reset complete\n",
      "2021-12-01 14:08:29,697 - offworld_gym - INFO - Step count: 1\n",
      "INFO:Step count: 1\n"
     ]
    },
    {
     "name": "stdout",
     "output_type": "stream",
     "text": [
      "\r",
      "Total steps: 97 in 14 episodes"
     ]
    },
    {
     "name": "stderr",
     "output_type": "stream",
     "text": [
      "2021-12-01 14:08:38,973 - offworld_gym - INFO - Environment step is complete.\n",
      "INFO:Environment step is complete.\n",
      "2021-12-01 14:08:38,974 - offworld_gym - INFO - Environment episode is complete: 1 steps, reward = 0\n",
      "INFO:Environment episode is complete: 1 steps, reward = 0\n",
      "2021-12-01 14:08:38,983 - offworld_gym - INFO - Resetting the episode and moving to a random initial position...\n",
      "INFO:Resetting the episode and moving to a random initial position...\n"
     ]
    },
    {
     "name": "stdout",
     "output_type": "stream",
     "text": [
      "\r",
      "Total steps: 97 in 14 episodes"
     ]
    },
    {
     "name": "stderr",
     "output_type": "stream",
     "text": [
      "2021-12-01 14:08:52,035 - offworld_gym - INFO - Environment reset complete\n",
      "INFO:Environment reset complete\n",
      "2021-12-01 14:08:52,043 - offworld_gym - INFO - Step count: 1\n",
      "INFO:Step count: 1\n"
     ]
    },
    {
     "name": "stdout",
     "output_type": "stream",
     "text": [
      "\r",
      "Total steps: 98 in 15 episodes"
     ]
    },
    {
     "name": "stderr",
     "output_type": "stream",
     "text": [
      "2021-12-01 14:09:00,706 - offworld_gym - INFO - Environment step is complete.\n",
      "INFO:Environment step is complete.\n",
      "2021-12-01 14:09:00,715 - offworld_gym - INFO - Step count: 2\n",
      "INFO:Step count: 2\n"
     ]
    },
    {
     "name": "stdout",
     "output_type": "stream",
     "text": [
      "\r",
      "Total steps: 98 in 15 episodes"
     ]
    },
    {
     "name": "stderr",
     "output_type": "stream",
     "text": [
      "2021-12-01 14:09:07,815 - offworld_gym - INFO - Environment step is complete.\n",
      "INFO:Environment step is complete.\n",
      "2021-12-01 14:09:07,823 - offworld_gym - INFO - Step count: 3\n",
      "INFO:Step count: 3\n"
     ]
    },
    {
     "name": "stdout",
     "output_type": "stream",
     "text": [
      "\r",
      "Total steps: 99 in 15 episodes"
     ]
    },
    {
     "name": "stderr",
     "output_type": "stream",
     "text": [
      "2021-12-01 14:09:16,538 - offworld_gym - INFO - Environment step is complete.\n",
      "INFO:Environment step is complete.\n",
      "2021-12-01 14:09:16,547 - offworld_gym - INFO - Step count: 4\n",
      "INFO:Step count: 4\n"
     ]
    },
    {
     "name": "stdout",
     "output_type": "stream",
     "text": [
      "\r",
      "Total steps: 100 in 15 episodes"
     ]
    },
    {
     "name": "stderr",
     "output_type": "stream",
     "text": [
      "2021-12-01 14:09:23,982 - offworld_gym - INFO - Environment step is complete.\n",
      "INFO:Environment step is complete.\n",
      "2021-12-01 14:09:23,990 - offworld_gym - INFO - Step count: 5\n",
      "INFO:Step count: 5\n"
     ]
    },
    {
     "name": "stdout",
     "output_type": "stream",
     "text": [
      "\r",
      "Total steps: 101 in 15 episodes"
     ]
    },
    {
     "name": "stderr",
     "output_type": "stream",
     "text": [
      "2021-12-01 14:09:31,419 - offworld_gym - INFO - Environment step is complete.\n",
      "INFO:Environment step is complete.\n",
      "2021-12-01 14:09:31,427 - offworld_gym - INFO - Step count: 6\n",
      "INFO:Step count: 6\n"
     ]
    },
    {
     "name": "stdout",
     "output_type": "stream",
     "text": [
      "\r",
      "Total steps: 102 in 15 episodes"
     ]
    },
    {
     "name": "stderr",
     "output_type": "stream",
     "text": [
      "2021-12-01 14:09:38,976 - offworld_gym - INFO - Environment step is complete.\n",
      "INFO:Environment step is complete.\n",
      "2021-12-01 14:09:38,986 - offworld_gym - INFO - Step count: 7\n",
      "INFO:Step count: 7\n"
     ]
    },
    {
     "name": "stdout",
     "output_type": "stream",
     "text": [
      "\r",
      "Total steps: 103 in 15 episodes"
     ]
    },
    {
     "name": "stderr",
     "output_type": "stream",
     "text": [
      "2021-12-01 14:09:46,621 - offworld_gym - INFO - Environment step is complete.\n",
      "INFO:Environment step is complete.\n",
      "2021-12-01 14:09:46,630 - offworld_gym - INFO - Step count: 8\n",
      "INFO:Step count: 8\n"
     ]
    },
    {
     "name": "stdout",
     "output_type": "stream",
     "text": [
      "\r",
      "Total steps: 104 in 15 episodes"
     ]
    },
    {
     "name": "stderr",
     "output_type": "stream",
     "text": [
      "2021-12-01 14:09:54,548 - offworld_gym - INFO - Environment step is complete.\n",
      "INFO:Environment step is complete.\n",
      "2021-12-01 14:09:54,557 - offworld_gym - INFO - Step count: 9\n",
      "INFO:Step count: 9\n"
     ]
    },
    {
     "name": "stdout",
     "output_type": "stream",
     "text": [
      "\r",
      "Total steps: 105 in 15 episodes"
     ]
    },
    {
     "name": "stderr",
     "output_type": "stream",
     "text": [
      "2021-12-01 14:10:01,357 - offworld_gym - INFO - Environment step is complete.\n",
      "INFO:Environment step is complete.\n",
      "2021-12-01 14:10:01,365 - offworld_gym - INFO - Step count: 10\n",
      "INFO:Step count: 10\n"
     ]
    },
    {
     "name": "stdout",
     "output_type": "stream",
     "text": [
      "\r",
      "Total steps: 106 in 15 episodes"
     ]
    },
    {
     "name": "stderr",
     "output_type": "stream",
     "text": [
      "2021-12-01 14:10:09,651 - offworld_gym - INFO - Environment step is complete.\n",
      "INFO:Environment step is complete.\n",
      "2021-12-01 14:10:09,659 - offworld_gym - INFO - Step count: 11\n",
      "INFO:Step count: 11\n"
     ]
    },
    {
     "name": "stdout",
     "output_type": "stream",
     "text": [
      "\r",
      "Total steps: 107 in 15 episodes"
     ]
    },
    {
     "name": "stderr",
     "output_type": "stream",
     "text": [
      "2021-12-01 14:10:17,217 - offworld_gym - INFO - Environment step is complete.\n",
      "INFO:Environment step is complete.\n",
      "2021-12-01 14:10:17,226 - offworld_gym - INFO - Step count: 12\n",
      "INFO:Step count: 12\n"
     ]
    },
    {
     "name": "stdout",
     "output_type": "stream",
     "text": [
      "\r",
      "Total steps: 108 in 15 episodes"
     ]
    },
    {
     "name": "stderr",
     "output_type": "stream",
     "text": [
      "2021-12-01 14:10:26,331 - offworld_gym - INFO - Environment step is complete.\n",
      "INFO:Environment step is complete.\n",
      "2021-12-01 14:10:26,341 - offworld_gym - INFO - Step count: 13\n",
      "INFO:Step count: 13\n"
     ]
    },
    {
     "name": "stdout",
     "output_type": "stream",
     "text": [
      "\r",
      "Total steps: 109 in 15 episodes"
     ]
    },
    {
     "name": "stderr",
     "output_type": "stream",
     "text": [
      "2021-12-01 14:10:35,250 - offworld_gym - INFO - Environment step is complete.\n",
      "INFO:Environment step is complete.\n",
      "2021-12-01 14:10:35,258 - offworld_gym - INFO - Step count: 14\n",
      "INFO:Step count: 14\n"
     ]
    },
    {
     "name": "stdout",
     "output_type": "stream",
     "text": [
      "\r",
      "Total steps: 110 in 15 episodes"
     ]
    },
    {
     "name": "stderr",
     "output_type": "stream",
     "text": [
      "2021-12-01 14:10:43,762 - offworld_gym - INFO - Environment step is complete.\n",
      "INFO:Environment step is complete.\n",
      "2021-12-01 14:10:43,772 - offworld_gym - INFO - Step count: 15\n",
      "INFO:Step count: 15\n"
     ]
    },
    {
     "name": "stdout",
     "output_type": "stream",
     "text": [
      "\r",
      "Total steps: 111 in 15 episodes"
     ]
    },
    {
     "name": "stderr",
     "output_type": "stream",
     "text": [
      "2021-12-01 14:10:52,342 - offworld_gym - INFO - Environment step is complete.\n",
      "INFO:Environment step is complete.\n",
      "2021-12-01 14:10:52,350 - offworld_gym - INFO - Step count: 16\n",
      "INFO:Step count: 16\n"
     ]
    },
    {
     "name": "stdout",
     "output_type": "stream",
     "text": [
      "\r",
      "Total steps: 112 in 15 episodes"
     ]
    },
    {
     "name": "stderr",
     "output_type": "stream",
     "text": [
      "2021-12-01 14:11:01,099 - offworld_gym - INFO - Environment step is complete.\n",
      "INFO:Environment step is complete.\n",
      "2021-12-01 14:11:01,108 - offworld_gym - INFO - Step count: 17\n",
      "INFO:Step count: 17\n"
     ]
    },
    {
     "name": "stdout",
     "output_type": "stream",
     "text": [
      "\r",
      "Total steps: 113 in 15 episodes"
     ]
    },
    {
     "name": "stderr",
     "output_type": "stream",
     "text": [
      "2021-12-01 14:11:09,704 - offworld_gym - INFO - Environment step is complete.\n",
      "INFO:Environment step is complete.\n",
      "2021-12-01 14:11:09,714 - offworld_gym - INFO - Step count: 18\n",
      "INFO:Step count: 18\n"
     ]
    },
    {
     "name": "stdout",
     "output_type": "stream",
     "text": [
      "\r",
      "Total steps: 114 in 15 episodes"
     ]
    },
    {
     "name": "stderr",
     "output_type": "stream",
     "text": [
      "2021-12-01 14:11:19,854 - offworld_gym - INFO - Environment step is complete.\n",
      "INFO:Environment step is complete.\n",
      "2021-12-01 14:11:19,855 - offworld_gym - INFO - Environment episode is complete: 18 steps, reward = 1\n",
      "INFO:Environment episode is complete: 18 steps, reward = 1\n",
      "2021-12-01 14:11:19,863 - offworld_gym - INFO - Resetting the episode and moving to a random initial position...\n",
      "INFO:Resetting the episode and moving to a random initial position...\n"
     ]
    },
    {
     "name": "stdout",
     "output_type": "stream",
     "text": [
      "\r",
      "Total steps: 115 in 15 episodes"
     ]
    },
    {
     "name": "stderr",
     "output_type": "stream",
     "text": [
      "2021-12-01 14:11:29,751 - offworld_gym - INFO - Environment reset complete\n",
      "INFO:Environment reset complete\n",
      "2021-12-01 14:11:29,760 - offworld_gym - INFO - Step count: 1\n",
      "INFO:Step count: 1\n"
     ]
    },
    {
     "name": "stdout",
     "output_type": "stream",
     "text": [
      "\r",
      "Total steps: 116 in 16 episodes"
     ]
    },
    {
     "name": "stderr",
     "output_type": "stream",
     "text": [
      "2021-12-01 14:11:37,571 - offworld_gym - INFO - Environment step is complete.\n",
      "INFO:Environment step is complete.\n",
      "2021-12-01 14:11:37,579 - offworld_gym - INFO - Step count: 2\n",
      "INFO:Step count: 2\n"
     ]
    },
    {
     "name": "stdout",
     "output_type": "stream",
     "text": [
      "\r",
      "Total steps: 116 in 16 episodes"
     ]
    },
    {
     "name": "stderr",
     "output_type": "stream",
     "text": [
      "2021-12-01 14:11:46,030 - offworld_gym - INFO - Environment step is complete.\n",
      "INFO:Environment step is complete.\n",
      "2021-12-01 14:11:46,038 - offworld_gym - INFO - Step count: 3\n",
      "INFO:Step count: 3\n"
     ]
    },
    {
     "name": "stdout",
     "output_type": "stream",
     "text": [
      "\r",
      "Total steps: 117 in 16 episodes"
     ]
    },
    {
     "name": "stderr",
     "output_type": "stream",
     "text": [
      "2021-12-01 14:11:55,302 - offworld_gym - INFO - Environment step is complete.\n",
      "INFO:Environment step is complete.\n",
      "2021-12-01 14:11:55,303 - offworld_gym - INFO - Environment episode is complete: 3 steps, reward = 0\n",
      "INFO:Environment episode is complete: 3 steps, reward = 0\n",
      "2021-12-01 14:11:55,312 - offworld_gym - INFO - Resetting the episode and moving to a random initial position...\n",
      "INFO:Resetting the episode and moving to a random initial position...\n"
     ]
    },
    {
     "name": "stdout",
     "output_type": "stream",
     "text": [
      "\r",
      "Total steps: 118 in 16 episodes"
     ]
    },
    {
     "name": "stderr",
     "output_type": "stream",
     "text": [
      "2021-12-01 14:12:20,747 - offworld_gym - INFO - Environment reset complete\n",
      "INFO:Environment reset complete\n",
      "2021-12-01 14:12:20,768 - offworld_gym - INFO - Step count: 1\n",
      "INFO:Step count: 1\n"
     ]
    },
    {
     "name": "stdout",
     "output_type": "stream",
     "text": [
      "\r",
      "Total steps: 119 in 17 episodes"
     ]
    },
    {
     "name": "stderr",
     "output_type": "stream",
     "text": [
      "2021-12-01 14:12:28,045 - offworld_gym - INFO - Environment step is complete.\n",
      "INFO:Environment step is complete.\n",
      "2021-12-01 14:12:28,054 - offworld_gym - INFO - Step count: 2\n",
      "INFO:Step count: 2\n"
     ]
    },
    {
     "name": "stdout",
     "output_type": "stream",
     "text": [
      "\r",
      "Total steps: 119 in 17 episodes"
     ]
    },
    {
     "name": "stderr",
     "output_type": "stream",
     "text": [
      "2021-12-01 14:12:35,940 - offworld_gym - INFO - Environment step is complete.\n",
      "INFO:Environment step is complete.\n",
      "2021-12-01 14:12:35,949 - offworld_gym - INFO - Step count: 3\n",
      "INFO:Step count: 3\n"
     ]
    },
    {
     "name": "stdout",
     "output_type": "stream",
     "text": [
      "\r",
      "Total steps: 120 in 17 episodes"
     ]
    },
    {
     "name": "stderr",
     "output_type": "stream",
     "text": [
      "2021-12-01 14:12:47,089 - offworld_gym - INFO - Environment step is complete.\n",
      "INFO:Environment step is complete.\n",
      "2021-12-01 14:12:47,090 - offworld_gym - INFO - Environment episode is complete: 3 steps, reward = 1\n",
      "INFO:Environment episode is complete: 3 steps, reward = 1\n",
      "2021-12-01 14:12:47,099 - offworld_gym - INFO - Resetting the episode and moving to a random initial position...\n",
      "INFO:Resetting the episode and moving to a random initial position...\n"
     ]
    },
    {
     "name": "stdout",
     "output_type": "stream",
     "text": [
      "\r",
      "Total steps: 121 in 17 episodes"
     ]
    },
    {
     "name": "stderr",
     "output_type": "stream",
     "text": [
      "2021-12-01 14:13:07,851 - offworld_gym - INFO - Environment reset complete\n",
      "INFO:Environment reset complete\n",
      "2021-12-01 14:13:07,870 - offworld_gym - INFO - Step count: 1\n",
      "INFO:Step count: 1\n"
     ]
    },
    {
     "name": "stdout",
     "output_type": "stream",
     "text": [
      "\r",
      "Total steps: 122 in 18 episodes"
     ]
    },
    {
     "name": "stderr",
     "output_type": "stream",
     "text": [
      "2021-12-01 14:13:15,109 - offworld_gym - INFO - Environment step is complete.\n",
      "INFO:Environment step is complete.\n",
      "2021-12-01 14:13:15,118 - offworld_gym - INFO - Step count: 2\n",
      "INFO:Step count: 2\n"
     ]
    },
    {
     "name": "stdout",
     "output_type": "stream",
     "text": [
      "\r",
      "Total steps: 122 in 18 episodes"
     ]
    },
    {
     "name": "stderr",
     "output_type": "stream",
     "text": [
      "2021-12-01 14:13:22,757 - offworld_gym - INFO - Environment step is complete.\n",
      "INFO:Environment step is complete.\n",
      "2021-12-01 14:13:22,765 - offworld_gym - INFO - Step count: 3\n",
      "INFO:Step count: 3\n"
     ]
    },
    {
     "name": "stdout",
     "output_type": "stream",
     "text": [
      "\r",
      "Total steps: 123 in 18 episodes"
     ]
    },
    {
     "name": "stderr",
     "output_type": "stream",
     "text": [
      "2021-12-01 14:13:30,613 - offworld_gym - INFO - Environment step is complete.\n",
      "INFO:Environment step is complete.\n",
      "2021-12-01 14:13:30,622 - offworld_gym - INFO - Step count: 4\n",
      "INFO:Step count: 4\n"
     ]
    },
    {
     "name": "stdout",
     "output_type": "stream",
     "text": [
      "\r",
      "Total steps: 124 in 18 episodes"
     ]
    },
    {
     "name": "stderr",
     "output_type": "stream",
     "text": [
      "2021-12-01 14:13:37,844 - offworld_gym - INFO - Environment step is complete.\n",
      "INFO:Environment step is complete.\n",
      "2021-12-01 14:13:37,852 - offworld_gym - INFO - Step count: 5\n",
      "INFO:Step count: 5\n"
     ]
    },
    {
     "name": "stdout",
     "output_type": "stream",
     "text": [
      "\r",
      "Total steps: 125 in 18 episodes"
     ]
    },
    {
     "name": "stderr",
     "output_type": "stream",
     "text": [
      "2021-12-01 14:13:45,906 - offworld_gym - INFO - Environment step is complete.\n",
      "INFO:Environment step is complete.\n",
      "2021-12-01 14:13:45,915 - offworld_gym - INFO - Step count: 6\n",
      "INFO:Step count: 6\n"
     ]
    },
    {
     "name": "stdout",
     "output_type": "stream",
     "text": [
      "\r",
      "Total steps: 126 in 18 episodes"
     ]
    },
    {
     "name": "stderr",
     "output_type": "stream",
     "text": [
      "2021-12-01 14:13:53,337 - offworld_gym - INFO - Environment step is complete.\n",
      "INFO:Environment step is complete.\n",
      "2021-12-01 14:13:53,347 - offworld_gym - INFO - Step count: 7\n",
      "INFO:Step count: 7\n"
     ]
    },
    {
     "name": "stdout",
     "output_type": "stream",
     "text": [
      "\r",
      "Total steps: 127 in 18 episodes"
     ]
    },
    {
     "name": "stderr",
     "output_type": "stream",
     "text": [
      "2021-12-01 14:14:00,917 - offworld_gym - INFO - Environment step is complete.\n",
      "INFO:Environment step is complete.\n",
      "2021-12-01 14:14:00,926 - offworld_gym - INFO - Step count: 8\n",
      "INFO:Step count: 8\n"
     ]
    },
    {
     "name": "stdout",
     "output_type": "stream",
     "text": [
      "\r",
      "Total steps: 128 in 18 episodes"
     ]
    },
    {
     "name": "stderr",
     "output_type": "stream",
     "text": [
      "2021-12-01 14:14:08,183 - offworld_gym - INFO - Environment step is complete.\n",
      "INFO:Environment step is complete.\n",
      "2021-12-01 14:14:08,191 - offworld_gym - INFO - Step count: 9\n",
      "INFO:Step count: 9\n"
     ]
    },
    {
     "name": "stdout",
     "output_type": "stream",
     "text": [
      "\r",
      "Total steps: 129 in 18 episodes"
     ]
    },
    {
     "name": "stderr",
     "output_type": "stream",
     "text": [
      "2021-12-01 14:14:16,173 - offworld_gym - INFO - Environment step is complete.\n",
      "INFO:Environment step is complete.\n",
      "2021-12-01 14:14:16,182 - offworld_gym - INFO - Step count: 10\n",
      "INFO:Step count: 10\n"
     ]
    },
    {
     "name": "stdout",
     "output_type": "stream",
     "text": [
      "\r",
      "Total steps: 130 in 18 episodes"
     ]
    },
    {
     "name": "stderr",
     "output_type": "stream",
     "text": [
      "2021-12-01 14:14:24,926 - offworld_gym - INFO - Environment step is complete.\n",
      "INFO:Environment step is complete.\n",
      "2021-12-01 14:14:24,927 - offworld_gym - INFO - Environment episode is complete: 10 steps, reward = 0\n",
      "INFO:Environment episode is complete: 10 steps, reward = 0\n",
      "2021-12-01 14:14:24,935 - offworld_gym - INFO - Resetting the episode and moving to a random initial position...\n",
      "INFO:Resetting the episode and moving to a random initial position...\n"
     ]
    },
    {
     "name": "stdout",
     "output_type": "stream",
     "text": [
      "\r",
      "Total steps: 131 in 18 episodes"
     ]
    },
    {
     "name": "stderr",
     "output_type": "stream",
     "text": [
      "2021-12-01 14:14:44,882 - offworld_gym - INFO - Environment reset complete\n",
      "INFO:Environment reset complete\n",
      "2021-12-01 14:14:44,900 - offworld_gym - INFO - Step count: 1\n",
      "INFO:Step count: 1\n"
     ]
    },
    {
     "name": "stdout",
     "output_type": "stream",
     "text": [
      "\r",
      "Total steps: 132 in 19 episodes"
     ]
    },
    {
     "name": "stderr",
     "output_type": "stream",
     "text": [
      "2021-12-01 14:14:52,411 - offworld_gym - INFO - Environment step is complete.\n",
      "INFO:Environment step is complete.\n",
      "2021-12-01 14:14:52,418 - offworld_gym - INFO - Step count: 2\n",
      "INFO:Step count: 2\n"
     ]
    },
    {
     "name": "stdout",
     "output_type": "stream",
     "text": [
      "\r",
      "Total steps: 132 in 19 episodes"
     ]
    },
    {
     "name": "stderr",
     "output_type": "stream",
     "text": [
      "2021-12-01 14:14:59,654 - offworld_gym - INFO - Environment step is complete.\n",
      "INFO:Environment step is complete.\n",
      "2021-12-01 14:14:59,662 - offworld_gym - INFO - Step count: 3\n",
      "INFO:Step count: 3\n"
     ]
    },
    {
     "name": "stdout",
     "output_type": "stream",
     "text": [
      "\r",
      "Total steps: 133 in 19 episodes"
     ]
    },
    {
     "name": "stderr",
     "output_type": "stream",
     "text": [
      "2021-12-01 14:15:06,459 - offworld_gym - INFO - Environment step is complete.\n",
      "INFO:Environment step is complete.\n",
      "2021-12-01 14:15:06,468 - offworld_gym - INFO - Step count: 4\n",
      "INFO:Step count: 4\n"
     ]
    },
    {
     "name": "stdout",
     "output_type": "stream",
     "text": [
      "\r",
      "Total steps: 134 in 19 episodes"
     ]
    },
    {
     "name": "stderr",
     "output_type": "stream",
     "text": [
      "2021-12-01 14:15:13,862 - offworld_gym - INFO - Environment step is complete.\n",
      "INFO:Environment step is complete.\n",
      "2021-12-01 14:15:13,871 - offworld_gym - INFO - Step count: 5\n",
      "INFO:Step count: 5\n"
     ]
    },
    {
     "name": "stdout",
     "output_type": "stream",
     "text": [
      "\r",
      "Total steps: 135 in 19 episodes"
     ]
    },
    {
     "name": "stderr",
     "output_type": "stream",
     "text": [
      "2021-12-01 14:15:20,257 - offworld_gym - INFO - Environment step is complete.\n",
      "INFO:Environment step is complete.\n",
      "2021-12-01 14:15:20,265 - offworld_gym - INFO - Step count: 6\n",
      "INFO:Step count: 6\n"
     ]
    },
    {
     "name": "stdout",
     "output_type": "stream",
     "text": [
      "\r",
      "Total steps: 136 in 19 episodes"
     ]
    },
    {
     "name": "stderr",
     "output_type": "stream",
     "text": [
      "2021-12-01 14:15:27,370 - offworld_gym - INFO - Environment step is complete.\n",
      "INFO:Environment step is complete.\n",
      "2021-12-01 14:15:27,378 - offworld_gym - INFO - Step count: 7\n",
      "INFO:Step count: 7\n"
     ]
    },
    {
     "name": "stdout",
     "output_type": "stream",
     "text": [
      "\r",
      "Total steps: 137 in 19 episodes"
     ]
    },
    {
     "name": "stderr",
     "output_type": "stream",
     "text": [
      "2021-12-01 14:15:34,553 - offworld_gym - INFO - Environment step is complete.\n",
      "INFO:Environment step is complete.\n",
      "2021-12-01 14:15:34,562 - offworld_gym - INFO - Step count: 8\n",
      "INFO:Step count: 8\n"
     ]
    },
    {
     "name": "stdout",
     "output_type": "stream",
     "text": [
      "\r",
      "Total steps: 138 in 19 episodes"
     ]
    },
    {
     "name": "stderr",
     "output_type": "stream",
     "text": [
      "2021-12-01 14:15:41,214 - offworld_gym - INFO - Environment step is complete.\n",
      "INFO:Environment step is complete.\n",
      "2021-12-01 14:15:41,224 - offworld_gym - INFO - Step count: 9\n",
      "INFO:Step count: 9\n"
     ]
    },
    {
     "name": "stdout",
     "output_type": "stream",
     "text": [
      "\r",
      "Total steps: 139 in 19 episodes"
     ]
    },
    {
     "name": "stderr",
     "output_type": "stream",
     "text": [
      "2021-12-01 14:15:48,440 - offworld_gym - INFO - Environment step is complete.\n",
      "INFO:Environment step is complete.\n",
      "2021-12-01 14:15:48,449 - offworld_gym - INFO - Step count: 10\n",
      "INFO:Step count: 10\n"
     ]
    },
    {
     "name": "stdout",
     "output_type": "stream",
     "text": [
      "\r",
      "Total steps: 140 in 19 episodes"
     ]
    },
    {
     "name": "stderr",
     "output_type": "stream",
     "text": [
      "2021-12-01 14:15:55,215 - offworld_gym - INFO - Environment step is complete.\n",
      "INFO:Environment step is complete.\n",
      "2021-12-01 14:15:55,224 - offworld_gym - INFO - Step count: 11\n",
      "INFO:Step count: 11\n"
     ]
    },
    {
     "name": "stdout",
     "output_type": "stream",
     "text": [
      "\r",
      "Total steps: 141 in 19 episodes"
     ]
    },
    {
     "name": "stderr",
     "output_type": "stream",
     "text": [
      "2021-12-01 14:16:03,242 - offworld_gym - INFO - Environment step is complete.\n",
      "INFO:Environment step is complete.\n",
      "2021-12-01 14:16:03,251 - offworld_gym - INFO - Step count: 12\n",
      "INFO:Step count: 12\n"
     ]
    },
    {
     "name": "stdout",
     "output_type": "stream",
     "text": [
      "\r",
      "Total steps: 142 in 19 episodes"
     ]
    },
    {
     "name": "stderr",
     "output_type": "stream",
     "text": [
      "2021-12-01 14:16:10,553 - offworld_gym - INFO - Environment step is complete.\n",
      "INFO:Environment step is complete.\n",
      "2021-12-01 14:16:10,561 - offworld_gym - INFO - Step count: 13\n",
      "INFO:Step count: 13\n"
     ]
    },
    {
     "name": "stdout",
     "output_type": "stream",
     "text": [
      "\r",
      "Total steps: 143 in 19 episodes"
     ]
    },
    {
     "name": "stderr",
     "output_type": "stream",
     "text": [
      "2021-12-01 14:16:17,571 - offworld_gym - INFO - Environment step is complete.\n",
      "INFO:Environment step is complete.\n",
      "2021-12-01 14:16:17,578 - offworld_gym - INFO - Step count: 14\n",
      "INFO:Step count: 14\n"
     ]
    },
    {
     "name": "stdout",
     "output_type": "stream",
     "text": [
      "\r",
      "Total steps: 144 in 19 episodes"
     ]
    },
    {
     "name": "stderr",
     "output_type": "stream",
     "text": [
      "2021-12-01 14:16:25,236 - offworld_gym - INFO - Environment step is complete.\n",
      "INFO:Environment step is complete.\n",
      "2021-12-01 14:16:25,245 - offworld_gym - INFO - Step count: 15\n",
      "INFO:Step count: 15\n"
     ]
    },
    {
     "name": "stdout",
     "output_type": "stream",
     "text": [
      "\r",
      "Total steps: 145 in 19 episodes"
     ]
    },
    {
     "name": "stderr",
     "output_type": "stream",
     "text": [
      "2021-12-01 14:16:32,638 - offworld_gym - INFO - Environment step is complete.\n",
      "INFO:Environment step is complete.\n",
      "2021-12-01 14:16:32,648 - offworld_gym - INFO - Step count: 16\n",
      "INFO:Step count: 16\n"
     ]
    },
    {
     "name": "stdout",
     "output_type": "stream",
     "text": [
      "\r",
      "Total steps: 146 in 19 episodes"
     ]
    },
    {
     "name": "stderr",
     "output_type": "stream",
     "text": [
      "2021-12-01 14:16:41,576 - offworld_gym - INFO - Environment step is complete.\n",
      "INFO:Environment step is complete.\n",
      "2021-12-01 14:16:41,577 - offworld_gym - INFO - Environment episode is complete: 16 steps, reward = 0\n",
      "INFO:Environment episode is complete: 16 steps, reward = 0\n",
      "2021-12-01 14:16:41,587 - offworld_gym - INFO - Resetting the episode and moving to a random initial position...\n",
      "INFO:Resetting the episode and moving to a random initial position...\n"
     ]
    },
    {
     "name": "stdout",
     "output_type": "stream",
     "text": [
      "\r",
      "Total steps: 147 in 19 episodes"
     ]
    },
    {
     "name": "stderr",
     "output_type": "stream",
     "text": [
      "2021-12-01 14:17:03,713 - offworld_gym - INFO - Environment reset complete\n",
      "INFO:Environment reset complete\n"
     ]
    },
    {
     "name": "stdout",
     "output_type": "stream",
     "text": [
      "\r",
      "Total steps: 148 in 20 episodes"
     ]
    },
    {
     "name": "stderr",
     "output_type": "stream",
     "text": [
      "INFO:Saved replay buffer at 3879 steps\n",
      "INFO:Saved checkpoint: models/Buf_2_clean/train/checkpoints/ckpt-6500\n",
      "2021-12-01 14:18:27,478 - offworld_gym - INFO - Resetting the episode and moving to a random initial position...\n",
      "INFO:Resetting the episode and moving to a random initial position...\n",
      "2021-12-01 14:18:54,199 - offworld_gym - INFO - Environment reset complete\n",
      "INFO:Environment reset complete\n",
      "2021-12-01 14:18:54,214 - offworld_gym - INFO - Step count: 1\n",
      "INFO:Step count: 1\n",
      "2021-12-01 14:19:03,136 - offworld_gym - INFO - Environment step is complete.\n",
      "INFO:Environment step is complete.\n",
      "2021-12-01 14:19:03,136 - offworld_gym - INFO - Environment episode is complete: 1 steps, reward = 0\n",
      "INFO:Environment episode is complete: 1 steps, reward = 0\n",
      "2021-12-01 14:19:03,153 - offworld_gym - INFO - Resetting the episode and moving to a random initial position...\n",
      "INFO:Resetting the episode and moving to a random initial position...\n"
     ]
    },
    {
     "name": "stdout",
     "output_type": "stream",
     "text": [
      "\r",
      "Total steps: 148 in 20 episodes"
     ]
    },
    {
     "name": "stderr",
     "output_type": "stream",
     "text": [
      "2021-12-01 14:19:16,098 - offworld_gym - INFO - Environment reset complete\n",
      "INFO:Environment reset complete\n",
      "2021-12-01 14:19:16,106 - offworld_gym - INFO - Step count: 1\n",
      "INFO:Step count: 1\n"
     ]
    },
    {
     "name": "stdout",
     "output_type": "stream",
     "text": [
      "\r",
      "Total steps: 149 in 21 episodes"
     ]
    },
    {
     "name": "stderr",
     "output_type": "stream",
     "text": [
      "2021-12-01 14:19:25,054 - offworld_gym - INFO - Environment step is complete.\n",
      "INFO:Environment step is complete.\n",
      "2021-12-01 14:19:25,055 - offworld_gym - INFO - Environment episode is complete: 1 steps, reward = 0\n",
      "INFO:Environment episode is complete: 1 steps, reward = 0\n",
      "2021-12-01 14:19:25,064 - offworld_gym - INFO - Resetting the episode and moving to a random initial position...\n",
      "INFO:Resetting the episode and moving to a random initial position...\n"
     ]
    },
    {
     "name": "stdout",
     "output_type": "stream",
     "text": [
      "\r",
      "Total steps: 149 in 21 episodes"
     ]
    },
    {
     "name": "stderr",
     "output_type": "stream",
     "text": [
      "2021-12-01 14:19:40,113 - offworld_gym - INFO - Environment reset complete\n",
      "INFO:Environment reset complete\n",
      "2021-12-01 14:19:40,121 - offworld_gym - INFO - Step count: 1\n",
      "INFO:Step count: 1\n"
     ]
    },
    {
     "name": "stdout",
     "output_type": "stream",
     "text": [
      "\r",
      "Total steps: 150 in 22 episodes"
     ]
    },
    {
     "name": "stderr",
     "output_type": "stream",
     "text": [
      "2021-12-01 14:19:47,344 - offworld_gym - INFO - Environment step is complete.\n",
      "INFO:Environment step is complete.\n",
      "2021-12-01 14:19:47,354 - offworld_gym - INFO - Step count: 2\n",
      "INFO:Step count: 2\n"
     ]
    },
    {
     "name": "stdout",
     "output_type": "stream",
     "text": [
      "\r",
      "Total steps: 150 in 22 episodes"
     ]
    },
    {
     "name": "stderr",
     "output_type": "stream",
     "text": [
      "2021-12-01 14:19:53,945 - offworld_gym - INFO - Environment step is complete.\n",
      "INFO:Environment step is complete.\n",
      "2021-12-01 14:19:53,954 - offworld_gym - INFO - Step count: 3\n",
      "INFO:Step count: 3\n"
     ]
    },
    {
     "name": "stdout",
     "output_type": "stream",
     "text": [
      "\r",
      "Total steps: 151 in 22 episodes"
     ]
    },
    {
     "name": "stderr",
     "output_type": "stream",
     "text": [
      "2021-12-01 14:20:00,434 - offworld_gym - INFO - Environment step is complete.\n",
      "INFO:Environment step is complete.\n",
      "2021-12-01 14:20:00,443 - offworld_gym - INFO - Step count: 4\n",
      "INFO:Step count: 4\n"
     ]
    },
    {
     "name": "stdout",
     "output_type": "stream",
     "text": [
      "\r",
      "Total steps: 152 in 22 episodes"
     ]
    },
    {
     "name": "stderr",
     "output_type": "stream",
     "text": [
      "2021-12-01 14:20:06,736 - offworld_gym - INFO - Environment step is complete.\n",
      "INFO:Environment step is complete.\n",
      "2021-12-01 14:20:06,745 - offworld_gym - INFO - Step count: 5\n",
      "INFO:Step count: 5\n"
     ]
    },
    {
     "name": "stdout",
     "output_type": "stream",
     "text": [
      "\r",
      "Total steps: 153 in 22 episodes"
     ]
    },
    {
     "name": "stderr",
     "output_type": "stream",
     "text": [
      "2021-12-01 14:20:13,721 - offworld_gym - INFO - Environment step is complete.\n",
      "INFO:Environment step is complete.\n",
      "2021-12-01 14:20:13,730 - offworld_gym - INFO - Step count: 6\n",
      "INFO:Step count: 6\n"
     ]
    },
    {
     "name": "stdout",
     "output_type": "stream",
     "text": [
      "\r",
      "Total steps: 154 in 22 episodes"
     ]
    },
    {
     "name": "stderr",
     "output_type": "stream",
     "text": [
      "2021-12-01 14:20:20,567 - offworld_gym - INFO - Environment step is complete.\n",
      "INFO:Environment step is complete.\n",
      "2021-12-01 14:20:20,576 - offworld_gym - INFO - Step count: 7\n",
      "INFO:Step count: 7\n"
     ]
    },
    {
     "name": "stdout",
     "output_type": "stream",
     "text": [
      "\r",
      "Total steps: 155 in 22 episodes"
     ]
    },
    {
     "name": "stderr",
     "output_type": "stream",
     "text": [
      "2021-12-01 14:20:27,127 - offworld_gym - INFO - Environment step is complete.\n",
      "INFO:Environment step is complete.\n",
      "2021-12-01 14:20:27,135 - offworld_gym - INFO - Step count: 8\n",
      "INFO:Step count: 8\n"
     ]
    },
    {
     "name": "stdout",
     "output_type": "stream",
     "text": [
      "\r",
      "Total steps: 156 in 22 episodes"
     ]
    },
    {
     "name": "stderr",
     "output_type": "stream",
     "text": [
      "2021-12-01 14:20:34,229 - offworld_gym - INFO - Environment step is complete.\n",
      "INFO:Environment step is complete.\n",
      "2021-12-01 14:20:34,238 - offworld_gym - INFO - Step count: 9\n",
      "INFO:Step count: 9\n"
     ]
    },
    {
     "name": "stdout",
     "output_type": "stream",
     "text": [
      "\r",
      "Total steps: 157 in 22 episodes"
     ]
    },
    {
     "name": "stderr",
     "output_type": "stream",
     "text": [
      "2021-12-01 14:20:41,666 - offworld_gym - INFO - Environment step is complete.\n",
      "INFO:Environment step is complete.\n",
      "2021-12-01 14:20:41,676 - offworld_gym - INFO - Step count: 10\n",
      "INFO:Step count: 10\n"
     ]
    },
    {
     "name": "stdout",
     "output_type": "stream",
     "text": [
      "\r",
      "Total steps: 158 in 22 episodes"
     ]
    },
    {
     "name": "stderr",
     "output_type": "stream",
     "text": [
      "2021-12-01 14:20:48,459 - offworld_gym - INFO - Environment step is complete.\n",
      "INFO:Environment step is complete.\n",
      "2021-12-01 14:20:48,467 - offworld_gym - INFO - Step count: 11\n",
      "INFO:Step count: 11\n"
     ]
    },
    {
     "name": "stdout",
     "output_type": "stream",
     "text": [
      "\r",
      "Total steps: 159 in 22 episodes"
     ]
    },
    {
     "name": "stderr",
     "output_type": "stream",
     "text": [
      "2021-12-01 14:20:55,539 - offworld_gym - INFO - Environment step is complete.\n",
      "INFO:Environment step is complete.\n",
      "2021-12-01 14:20:55,547 - offworld_gym - INFO - Step count: 12\n",
      "INFO:Step count: 12\n"
     ]
    },
    {
     "name": "stdout",
     "output_type": "stream",
     "text": [
      "\r",
      "Total steps: 160 in 22 episodes"
     ]
    },
    {
     "name": "stderr",
     "output_type": "stream",
     "text": [
      "2021-12-01 14:21:03,591 - offworld_gym - INFO - Environment step is complete.\n",
      "INFO:Environment step is complete.\n",
      "2021-12-01 14:21:03,592 - offworld_gym - INFO - Environment episode is complete: 12 steps, reward = 0\n",
      "INFO:Environment episode is complete: 12 steps, reward = 0\n",
      "2021-12-01 14:21:03,599 - offworld_gym - INFO - Resetting the episode and moving to a random initial position...\n",
      "INFO:Resetting the episode and moving to a random initial position...\n"
     ]
    },
    {
     "name": "stdout",
     "output_type": "stream",
     "text": [
      "\r",
      "Total steps: 161 in 22 episodes"
     ]
    },
    {
     "name": "stderr",
     "output_type": "stream",
     "text": [
      "2021-12-01 14:21:32,210 - offworld_gym - INFO - Environment reset complete\n",
      "INFO:Environment reset complete\n",
      "2021-12-01 14:21:32,225 - offworld_gym - INFO - Step count: 1\n",
      "INFO:Step count: 1\n"
     ]
    },
    {
     "name": "stdout",
     "output_type": "stream",
     "text": [
      "\r",
      "Total steps: 162 in 23 episodes"
     ]
    },
    {
     "name": "stderr",
     "output_type": "stream",
     "text": [
      "2021-12-01 14:21:41,816 - offworld_gym - INFO - Environment step is complete.\n",
      "INFO:Environment step is complete.\n",
      "2021-12-01 14:21:41,817 - offworld_gym - INFO - Environment episode is complete: 1 steps, reward = 0\n",
      "INFO:Environment episode is complete: 1 steps, reward = 0\n",
      "2021-12-01 14:21:41,826 - offworld_gym - INFO - Resetting the episode and moving to a random initial position...\n",
      "INFO:Resetting the episode and moving to a random initial position...\n"
     ]
    },
    {
     "name": "stdout",
     "output_type": "stream",
     "text": [
      "\r",
      "Total steps: 162 in 23 episodes"
     ]
    },
    {
     "name": "stderr",
     "output_type": "stream",
     "text": [
      "2021-12-01 14:22:09,360 - offworld_gym - INFO - Environment reset complete\n",
      "INFO:Environment reset complete\n",
      "2021-12-01 14:22:09,377 - offworld_gym - INFO - Step count: 1\n",
      "INFO:Step count: 1\n"
     ]
    },
    {
     "name": "stdout",
     "output_type": "stream",
     "text": [
      "\r",
      "Total steps: 163 in 24 episodes"
     ]
    },
    {
     "name": "stderr",
     "output_type": "stream",
     "text": [
      "2021-12-01 14:22:17,368 - offworld_gym - INFO - Environment step is complete.\n",
      "INFO:Environment step is complete.\n",
      "2021-12-01 14:22:17,376 - offworld_gym - INFO - Step count: 2\n",
      "INFO:Step count: 2\n"
     ]
    },
    {
     "name": "stdout",
     "output_type": "stream",
     "text": [
      "\r",
      "Total steps: 163 in 24 episodes"
     ]
    },
    {
     "name": "stderr",
     "output_type": "stream",
     "text": [
      "2021-12-01 14:22:25,027 - offworld_gym - INFO - Environment step is complete.\n",
      "INFO:Environment step is complete.\n",
      "2021-12-01 14:22:25,036 - offworld_gym - INFO - Step count: 3\n",
      "INFO:Step count: 3\n"
     ]
    },
    {
     "name": "stdout",
     "output_type": "stream",
     "text": [
      "\r",
      "Total steps: 164 in 24 episodes"
     ]
    },
    {
     "name": "stderr",
     "output_type": "stream",
     "text": [
      "2021-12-01 14:22:33,043 - offworld_gym - INFO - Environment step is complete.\n",
      "INFO:Environment step is complete.\n",
      "2021-12-01 14:22:33,052 - offworld_gym - INFO - Step count: 4\n",
      "INFO:Step count: 4\n"
     ]
    },
    {
     "name": "stdout",
     "output_type": "stream",
     "text": [
      "\r",
      "Total steps: 165 in 24 episodes"
     ]
    },
    {
     "name": "stderr",
     "output_type": "stream",
     "text": [
      "2021-12-01 14:22:40,196 - offworld_gym - INFO - Environment step is complete.\n",
      "INFO:Environment step is complete.\n",
      "2021-12-01 14:22:40,205 - offworld_gym - INFO - Step count: 5\n",
      "INFO:Step count: 5\n"
     ]
    },
    {
     "name": "stdout",
     "output_type": "stream",
     "text": [
      "\r",
      "Total steps: 166 in 24 episodes"
     ]
    },
    {
     "name": "stderr",
     "output_type": "stream",
     "text": [
      "2021-12-01 14:22:47,847 - offworld_gym - INFO - Environment step is complete.\n",
      "INFO:Environment step is complete.\n",
      "2021-12-01 14:22:47,856 - offworld_gym - INFO - Step count: 6\n",
      "INFO:Step count: 6\n"
     ]
    },
    {
     "name": "stdout",
     "output_type": "stream",
     "text": [
      "\r",
      "Total steps: 167 in 24 episodes"
     ]
    },
    {
     "name": "stderr",
     "output_type": "stream",
     "text": [
      "2021-12-01 14:22:56,156 - offworld_gym - INFO - Environment step is complete.\n",
      "INFO:Environment step is complete.\n",
      "2021-12-01 14:22:56,157 - offworld_gym - INFO - Environment episode is complete: 6 steps, reward = 0\n",
      "INFO:Environment episode is complete: 6 steps, reward = 0\n",
      "2021-12-01 14:22:56,167 - offworld_gym - INFO - Resetting the episode and moving to a random initial position...\n",
      "INFO:Resetting the episode and moving to a random initial position...\n"
     ]
    },
    {
     "name": "stdout",
     "output_type": "stream",
     "text": [
      "\r",
      "Total steps: 168 in 24 episodes"
     ]
    },
    {
     "name": "stderr",
     "output_type": "stream",
     "text": [
      "2021-12-01 14:23:20,072 - offworld_gym - INFO - Environment reset complete\n",
      "INFO:Environment reset complete\n",
      "2021-12-01 14:23:20,094 - offworld_gym - INFO - Step count: 1\n",
      "INFO:Step count: 1\n"
     ]
    },
    {
     "name": "stdout",
     "output_type": "stream",
     "text": [
      "\r",
      "Total steps: 169 in 25 episodes"
     ]
    },
    {
     "name": "stderr",
     "output_type": "stream",
     "text": [
      "2021-12-01 14:23:27,615 - offworld_gym - INFO - Environment step is complete.\n",
      "INFO:Environment step is complete.\n",
      "2021-12-01 14:23:27,623 - offworld_gym - INFO - Step count: 2\n",
      "INFO:Step count: 2\n"
     ]
    },
    {
     "name": "stdout",
     "output_type": "stream",
     "text": [
      "\r",
      "Total steps: 169 in 25 episodes"
     ]
    },
    {
     "name": "stderr",
     "output_type": "stream",
     "text": [
      "2021-12-01 14:23:34,933 - offworld_gym - INFO - Environment step is complete.\n",
      "INFO:Environment step is complete.\n",
      "2021-12-01 14:23:34,941 - offworld_gym - INFO - Step count: 3\n",
      "INFO:Step count: 3\n"
     ]
    },
    {
     "name": "stdout",
     "output_type": "stream",
     "text": [
      "\r",
      "Total steps: 170 in 25 episodes"
     ]
    },
    {
     "name": "stderr",
     "output_type": "stream",
     "text": [
      "2021-12-01 14:23:41,249 - offworld_gym - INFO - Environment step is complete.\n",
      "INFO:Environment step is complete.\n",
      "2021-12-01 14:23:41,257 - offworld_gym - INFO - Step count: 4\n",
      "INFO:Step count: 4\n"
     ]
    },
    {
     "name": "stdout",
     "output_type": "stream",
     "text": [
      "\r",
      "Total steps: 171 in 25 episodes"
     ]
    },
    {
     "name": "stderr",
     "output_type": "stream",
     "text": [
      "2021-12-01 14:23:48,606 - offworld_gym - INFO - Environment step is complete.\n",
      "INFO:Environment step is complete.\n",
      "2021-12-01 14:23:48,615 - offworld_gym - INFO - Step count: 5\n",
      "INFO:Step count: 5\n"
     ]
    },
    {
     "name": "stdout",
     "output_type": "stream",
     "text": [
      "\r",
      "Total steps: 172 in 25 episodes"
     ]
    },
    {
     "name": "stderr",
     "output_type": "stream",
     "text": [
      "2021-12-01 14:23:55,685 - offworld_gym - INFO - Environment step is complete.\n",
      "INFO:Environment step is complete.\n",
      "2021-12-01 14:23:55,693 - offworld_gym - INFO - Step count: 6\n",
      "INFO:Step count: 6\n"
     ]
    },
    {
     "name": "stdout",
     "output_type": "stream",
     "text": [
      "\r",
      "Total steps: 173 in 25 episodes"
     ]
    },
    {
     "name": "stderr",
     "output_type": "stream",
     "text": [
      "2021-12-01 14:24:02,289 - offworld_gym - INFO - Environment step is complete.\n",
      "INFO:Environment step is complete.\n",
      "2021-12-01 14:24:02,298 - offworld_gym - INFO - Step count: 7\n",
      "INFO:Step count: 7\n"
     ]
    },
    {
     "name": "stdout",
     "output_type": "stream",
     "text": [
      "\r",
      "Total steps: 174 in 25 episodes"
     ]
    },
    {
     "name": "stderr",
     "output_type": "stream",
     "text": [
      "2021-12-01 14:24:09,753 - offworld_gym - INFO - Environment step is complete.\n",
      "INFO:Environment step is complete.\n",
      "2021-12-01 14:24:09,762 - offworld_gym - INFO - Step count: 8\n",
      "INFO:Step count: 8\n"
     ]
    },
    {
     "name": "stdout",
     "output_type": "stream",
     "text": [
      "\r",
      "Total steps: 175 in 25 episodes"
     ]
    },
    {
     "name": "stderr",
     "output_type": "stream",
     "text": [
      "2021-12-01 14:24:17,644 - offworld_gym - INFO - Environment step is complete.\n",
      "INFO:Environment step is complete.\n",
      "2021-12-01 14:24:17,653 - offworld_gym - INFO - Step count: 9\n",
      "INFO:Step count: 9\n"
     ]
    },
    {
     "name": "stdout",
     "output_type": "stream",
     "text": [
      "\r",
      "Total steps: 176 in 25 episodes"
     ]
    },
    {
     "name": "stderr",
     "output_type": "stream",
     "text": [
      "2021-12-01 14:24:26,552 - offworld_gym - INFO - Environment step is complete.\n",
      "INFO:Environment step is complete.\n",
      "2021-12-01 14:24:26,561 - offworld_gym - INFO - Step count: 10\n",
      "INFO:Step count: 10\n"
     ]
    },
    {
     "name": "stdout",
     "output_type": "stream",
     "text": [
      "\r",
      "Total steps: 177 in 25 episodes"
     ]
    },
    {
     "name": "stderr",
     "output_type": "stream",
     "text": [
      "2021-12-01 14:24:34,169 - offworld_gym - INFO - Environment step is complete.\n",
      "INFO:Environment step is complete.\n",
      "2021-12-01 14:24:34,177 - offworld_gym - INFO - Step count: 11\n",
      "INFO:Step count: 11\n"
     ]
    },
    {
     "name": "stdout",
     "output_type": "stream",
     "text": [
      "\r",
      "Total steps: 178 in 25 episodes"
     ]
    },
    {
     "name": "stderr",
     "output_type": "stream",
     "text": [
      "2021-12-01 14:24:42,111 - offworld_gym - INFO - Environment step is complete.\n",
      "INFO:Environment step is complete.\n",
      "2021-12-01 14:24:42,120 - offworld_gym - INFO - Step count: 12\n",
      "INFO:Step count: 12\n"
     ]
    },
    {
     "name": "stdout",
     "output_type": "stream",
     "text": [
      "\r",
      "Total steps: 179 in 25 episodes"
     ]
    },
    {
     "name": "stderr",
     "output_type": "stream",
     "text": [
      "2021-12-01 14:24:54,367 - offworld_gym - INFO - Environment step is complete.\n",
      "INFO:Environment step is complete.\n",
      "2021-12-01 14:24:54,374 - offworld_gym - INFO - Step count: 13\n",
      "INFO:Step count: 13\n"
     ]
    },
    {
     "name": "stdout",
     "output_type": "stream",
     "text": [
      "\r",
      "Total steps: 180 in 25 episodes"
     ]
    },
    {
     "name": "stderr",
     "output_type": "stream",
     "text": [
      "2021-12-01 14:25:02,723 - offworld_gym - INFO - Environment step is complete.\n",
      "INFO:Environment step is complete.\n",
      "2021-12-01 14:25:02,732 - offworld_gym - INFO - Step count: 14\n",
      "INFO:Step count: 14\n"
     ]
    },
    {
     "name": "stdout",
     "output_type": "stream",
     "text": [
      "\r",
      "Total steps: 181 in 25 episodes"
     ]
    },
    {
     "name": "stderr",
     "output_type": "stream",
     "text": [
      "2021-12-01 14:25:10,703 - offworld_gym - INFO - Environment step is complete.\n",
      "INFO:Environment step is complete.\n",
      "2021-12-01 14:25:10,711 - offworld_gym - INFO - Step count: 15\n",
      "INFO:Step count: 15\n"
     ]
    },
    {
     "name": "stdout",
     "output_type": "stream",
     "text": [
      "\r",
      "Total steps: 182 in 25 episodes"
     ]
    },
    {
     "name": "stderr",
     "output_type": "stream",
     "text": [
      "2021-12-01 14:25:18,258 - offworld_gym - INFO - Environment step is complete.\n",
      "INFO:Environment step is complete.\n",
      "2021-12-01 14:25:18,266 - offworld_gym - INFO - Step count: 16\n",
      "INFO:Step count: 16\n"
     ]
    },
    {
     "name": "stdout",
     "output_type": "stream",
     "text": [
      "\r",
      "Total steps: 183 in 25 episodes"
     ]
    },
    {
     "name": "stderr",
     "output_type": "stream",
     "text": [
      "2021-12-01 14:25:26,016 - offworld_gym - INFO - Environment step is complete.\n",
      "INFO:Environment step is complete.\n",
      "2021-12-01 14:25:26,024 - offworld_gym - INFO - Step count: 17\n",
      "INFO:Step count: 17\n"
     ]
    },
    {
     "name": "stdout",
     "output_type": "stream",
     "text": [
      "\r",
      "Total steps: 184 in 25 episodes"
     ]
    },
    {
     "name": "stderr",
     "output_type": "stream",
     "text": [
      "2021-12-01 14:25:34,460 - offworld_gym - INFO - Environment step is complete.\n",
      "INFO:Environment step is complete.\n",
      "2021-12-01 14:25:34,469 - offworld_gym - INFO - Step count: 18\n",
      "INFO:Step count: 18\n"
     ]
    },
    {
     "name": "stdout",
     "output_type": "stream",
     "text": [
      "\r",
      "Total steps: 185 in 25 episodes"
     ]
    },
    {
     "name": "stderr",
     "output_type": "stream",
     "text": [
      "2021-12-01 14:25:42,199 - offworld_gym - INFO - Environment step is complete.\n",
      "INFO:Environment step is complete.\n",
      "2021-12-01 14:25:42,207 - offworld_gym - INFO - Step count: 19\n",
      "INFO:Step count: 19\n"
     ]
    },
    {
     "name": "stdout",
     "output_type": "stream",
     "text": [
      "\r",
      "Total steps: 186 in 25 episodes"
     ]
    },
    {
     "name": "stderr",
     "output_type": "stream",
     "text": [
      "2021-12-01 14:25:50,680 - offworld_gym - INFO - Environment step is complete.\n",
      "INFO:Environment step is complete.\n",
      "2021-12-01 14:25:50,689 - offworld_gym - INFO - Step count: 20\n",
      "INFO:Step count: 20\n"
     ]
    },
    {
     "name": "stdout",
     "output_type": "stream",
     "text": [
      "\r",
      "Total steps: 187 in 25 episodes"
     ]
    },
    {
     "name": "stderr",
     "output_type": "stream",
     "text": [
      "2021-12-01 14:25:58,930 - offworld_gym - INFO - Environment step is complete.\n",
      "INFO:Environment step is complete.\n",
      "2021-12-01 14:25:58,939 - offworld_gym - INFO - Step count: 21\n",
      "INFO:Step count: 21\n"
     ]
    },
    {
     "name": "stdout",
     "output_type": "stream",
     "text": [
      "\r",
      "Total steps: 188 in 25 episodes"
     ]
    },
    {
     "name": "stderr",
     "output_type": "stream",
     "text": [
      "2021-12-01 14:26:08,086 - offworld_gym - INFO - Environment step is complete.\n",
      "INFO:Environment step is complete.\n",
      "2021-12-01 14:26:08,096 - offworld_gym - INFO - Step count: 22\n",
      "INFO:Step count: 22\n"
     ]
    },
    {
     "name": "stdout",
     "output_type": "stream",
     "text": [
      "\r",
      "Total steps: 189 in 25 episodes"
     ]
    },
    {
     "name": "stderr",
     "output_type": "stream",
     "text": [
      "2021-12-01 14:26:16,965 - offworld_gym - INFO - Environment step is complete.\n",
      "INFO:Environment step is complete.\n",
      "2021-12-01 14:26:16,973 - offworld_gym - INFO - Step count: 23\n",
      "INFO:Step count: 23\n"
     ]
    },
    {
     "name": "stdout",
     "output_type": "stream",
     "text": [
      "\r",
      "Total steps: 190 in 25 episodes"
     ]
    },
    {
     "name": "stderr",
     "output_type": "stream",
     "text": [
      "2021-12-01 14:26:25,607 - offworld_gym - INFO - Environment step is complete.\n",
      "INFO:Environment step is complete.\n",
      "2021-12-01 14:26:25,614 - offworld_gym - INFO - Step count: 24\n",
      "INFO:Step count: 24\n"
     ]
    },
    {
     "name": "stdout",
     "output_type": "stream",
     "text": [
      "\r",
      "Total steps: 191 in 25 episodes"
     ]
    },
    {
     "name": "stderr",
     "output_type": "stream",
     "text": [
      "2021-12-01 14:26:32,817 - offworld_gym - INFO - Environment step is complete.\n",
      "INFO:Environment step is complete.\n",
      "2021-12-01 14:26:32,826 - offworld_gym - INFO - Step count: 25\n",
      "INFO:Step count: 25\n"
     ]
    },
    {
     "name": "stdout",
     "output_type": "stream",
     "text": [
      "\r",
      "Total steps: 192 in 25 episodes"
     ]
    },
    {
     "name": "stderr",
     "output_type": "stream",
     "text": [
      "2021-12-01 14:26:40,925 - offworld_gym - INFO - Environment step is complete.\n",
      "INFO:Environment step is complete.\n",
      "2021-12-01 14:26:40,933 - offworld_gym - INFO - Step count: 26\n",
      "INFO:Step count: 26\n"
     ]
    },
    {
     "name": "stdout",
     "output_type": "stream",
     "text": [
      "\r",
      "Total steps: 193 in 25 episodes"
     ]
    },
    {
     "name": "stderr",
     "output_type": "stream",
     "text": [
      "2021-12-01 14:26:49,204 - offworld_gym - INFO - Environment step is complete.\n",
      "INFO:Environment step is complete.\n",
      "2021-12-01 14:26:49,205 - offworld_gym - INFO - Environment episode is complete: 26 steps, reward = 0\n",
      "INFO:Environment episode is complete: 26 steps, reward = 0\n",
      "2021-12-01 14:26:49,215 - offworld_gym - INFO - Resetting the episode and moving to a random initial position...\n",
      "INFO:Resetting the episode and moving to a random initial position...\n"
     ]
    },
    {
     "name": "stdout",
     "output_type": "stream",
     "text": [
      "\r",
      "Total steps: 194 in 25 episodes"
     ]
    },
    {
     "name": "stderr",
     "output_type": "stream",
     "text": [
      "2021-12-01 14:27:09,819 - offworld_gym - INFO - Environment reset complete\n",
      "INFO:Environment reset complete\n",
      "2021-12-01 14:27:09,835 - offworld_gym - INFO - Step count: 1\n",
      "INFO:Step count: 1\n"
     ]
    },
    {
     "name": "stdout",
     "output_type": "stream",
     "text": [
      "\r",
      "Total steps: 195 in 26 episodes"
     ]
    },
    {
     "name": "stderr",
     "output_type": "stream",
     "text": [
      "2021-12-01 14:27:17,022 - offworld_gym - INFO - Environment step is complete.\n",
      "INFO:Environment step is complete.\n",
      "2021-12-01 14:27:17,032 - offworld_gym - INFO - Step count: 2\n",
      "INFO:Step count: 2\n"
     ]
    },
    {
     "name": "stdout",
     "output_type": "stream",
     "text": [
      "\r",
      "Total steps: 195 in 26 episodes"
     ]
    },
    {
     "name": "stderr",
     "output_type": "stream",
     "text": [
      "2021-12-01 14:27:25,386 - offworld_gym - INFO - Environment step is complete.\n",
      "INFO:Environment step is complete.\n",
      "2021-12-01 14:27:25,396 - offworld_gym - INFO - Step count: 3\n",
      "INFO:Step count: 3\n"
     ]
    },
    {
     "name": "stdout",
     "output_type": "stream",
     "text": [
      "\r",
      "Total steps: 196 in 26 episodes"
     ]
    },
    {
     "name": "stderr",
     "output_type": "stream",
     "text": [
      "2021-12-01 14:27:33,299 - offworld_gym - INFO - Environment step is complete.\n",
      "INFO:Environment step is complete.\n",
      "2021-12-01 14:27:33,310 - offworld_gym - INFO - Step count: 4\n",
      "INFO:Step count: 4\n"
     ]
    },
    {
     "name": "stdout",
     "output_type": "stream",
     "text": [
      "\r",
      "Total steps: 197 in 26 episodes"
     ]
    },
    {
     "name": "stderr",
     "output_type": "stream",
     "text": [
      "2021-12-01 14:27:42,674 - offworld_gym - INFO - Environment step is complete.\n",
      "INFO:Environment step is complete.\n",
      "2021-12-01 14:27:42,675 - offworld_gym - INFO - Environment episode is complete: 4 steps, reward = 1\n",
      "INFO:Environment episode is complete: 4 steps, reward = 1\n",
      "2021-12-01 14:27:42,683 - offworld_gym - INFO - Resetting the episode and moving to a random initial position...\n",
      "INFO:Resetting the episode and moving to a random initial position...\n"
     ]
    },
    {
     "name": "stdout",
     "output_type": "stream",
     "text": [
      "\r",
      "Total steps: 198 in 26 episodes"
     ]
    },
    {
     "name": "stderr",
     "output_type": "stream",
     "text": [
      "2021-12-01 14:27:59,958 - offworld_gym - INFO - Environment reset complete\n",
      "INFO:Environment reset complete\n",
      "2021-12-01 14:27:59,981 - offworld_gym - INFO - Step count: 1\n",
      "INFO:Step count: 1\n"
     ]
    },
    {
     "name": "stdout",
     "output_type": "stream",
     "text": [
      "\r",
      "Total steps: 199 in 27 episodes"
     ]
    },
    {
     "name": "stderr",
     "output_type": "stream",
     "text": [
      "2021-12-01 14:28:07,065 - offworld_gym - INFO - Environment step is complete.\n",
      "INFO:Environment step is complete.\n",
      "2021-12-01 14:28:07,075 - offworld_gym - INFO - Step count: 2\n",
      "INFO:Step count: 2\n"
     ]
    },
    {
     "name": "stdout",
     "output_type": "stream",
     "text": [
      "\r",
      "Total steps: 199 in 27 episodes"
     ]
    },
    {
     "name": "stderr",
     "output_type": "stream",
     "text": [
      "2021-12-01 14:28:14,547 - offworld_gym - INFO - Environment step is complete.\n",
      "INFO:Environment step is complete.\n",
      "2021-12-01 14:28:14,555 - offworld_gym - INFO - Step count: 3\n",
      "INFO:Step count: 3\n"
     ]
    },
    {
     "name": "stdout",
     "output_type": "stream",
     "text": [
      "\r",
      "Total steps: 200 in 27 episodes"
     ]
    },
    {
     "name": "stderr",
     "output_type": "stream",
     "text": [
      "2021-12-01 14:28:22,301 - offworld_gym - INFO - Environment step is complete.\n",
      "INFO:Environment step is complete.\n",
      "2021-12-01 14:28:22,310 - offworld_gym - INFO - Step count: 4\n",
      "INFO:Step count: 4\n"
     ]
    },
    {
     "name": "stdout",
     "output_type": "stream",
     "text": [
      "\r",
      "Total steps: 201 in 27 episodes"
     ]
    },
    {
     "name": "stderr",
     "output_type": "stream",
     "text": [
      "2021-12-01 14:28:31,403 - offworld_gym - INFO - Environment step is complete.\n",
      "INFO:Environment step is complete.\n",
      "2021-12-01 14:28:31,404 - offworld_gym - INFO - Environment episode is complete: 4 steps, reward = 1\n",
      "INFO:Environment episode is complete: 4 steps, reward = 1\n",
      "2021-12-01 14:28:31,412 - offworld_gym - INFO - Resetting the episode and moving to a random initial position...\n",
      "INFO:Resetting the episode and moving to a random initial position...\n"
     ]
    },
    {
     "name": "stdout",
     "output_type": "stream",
     "text": [
      "\r",
      "Total steps: 202 in 27 episodes"
     ]
    },
    {
     "name": "stderr",
     "output_type": "stream",
     "text": [
      "2021-12-01 14:28:47,765 - offworld_gym - INFO - Environment reset complete\n",
      "INFO:Environment reset complete\n",
      "2021-12-01 14:28:47,775 - offworld_gym - INFO - Step count: 1\n",
      "INFO:Step count: 1\n"
     ]
    },
    {
     "name": "stdout",
     "output_type": "stream",
     "text": [
      "\r",
      "Total steps: 203 in 28 episodes"
     ]
    },
    {
     "name": "stderr",
     "output_type": "stream",
     "text": [
      "2021-12-01 14:28:55,415 - offworld_gym - INFO - Environment step is complete.\n",
      "INFO:Environment step is complete.\n",
      "2021-12-01 14:28:55,425 - offworld_gym - INFO - Step count: 2\n",
      "INFO:Step count: 2\n"
     ]
    },
    {
     "name": "stdout",
     "output_type": "stream",
     "text": [
      "\r",
      "Total steps: 203 in 28 episodes"
     ]
    },
    {
     "name": "stderr",
     "output_type": "stream",
     "text": [
      "2021-12-01 14:29:03,030 - offworld_gym - INFO - Environment step is complete.\n",
      "INFO:Environment step is complete.\n",
      "2021-12-01 14:29:03,040 - offworld_gym - INFO - Step count: 3\n",
      "INFO:Step count: 3\n"
     ]
    },
    {
     "name": "stdout",
     "output_type": "stream",
     "text": [
      "\r",
      "Total steps: 204 in 28 episodes"
     ]
    },
    {
     "name": "stderr",
     "output_type": "stream",
     "text": [
      "2021-12-01 14:29:10,822 - offworld_gym - INFO - Environment step is complete.\n",
      "INFO:Environment step is complete.\n",
      "2021-12-01 14:29:10,830 - offworld_gym - INFO - Step count: 4\n",
      "INFO:Step count: 4\n"
     ]
    },
    {
     "name": "stdout",
     "output_type": "stream",
     "text": [
      "\r",
      "Total steps: 205 in 28 episodes"
     ]
    },
    {
     "name": "stderr",
     "output_type": "stream",
     "text": [
      "2021-12-01 14:29:18,035 - offworld_gym - INFO - Environment step is complete.\n",
      "INFO:Environment step is complete.\n",
      "2021-12-01 14:29:18,043 - offworld_gym - INFO - Step count: 5\n",
      "INFO:Step count: 5\n"
     ]
    },
    {
     "name": "stdout",
     "output_type": "stream",
     "text": [
      "\r",
      "Total steps: 206 in 28 episodes"
     ]
    },
    {
     "name": "stderr",
     "output_type": "stream",
     "text": [
      "2021-12-01 14:29:26,542 - offworld_gym - INFO - Environment step is complete.\n",
      "INFO:Environment step is complete.\n",
      "2021-12-01 14:29:26,551 - offworld_gym - INFO - Step count: 6\n",
      "INFO:Step count: 6\n"
     ]
    },
    {
     "name": "stdout",
     "output_type": "stream",
     "text": [
      "\r",
      "Total steps: 207 in 28 episodes"
     ]
    },
    {
     "name": "stderr",
     "output_type": "stream",
     "text": [
      "2021-12-01 14:29:35,454 - offworld_gym - INFO - Environment step is complete.\n",
      "INFO:Environment step is complete.\n",
      "2021-12-01 14:29:35,455 - offworld_gym - INFO - Environment episode is complete: 6 steps, reward = 1\n",
      "INFO:Environment episode is complete: 6 steps, reward = 1\n",
      "2021-12-01 14:29:35,463 - offworld_gym - INFO - Resetting the episode and moving to a random initial position...\n",
      "INFO:Resetting the episode and moving to a random initial position...\n"
     ]
    },
    {
     "name": "stdout",
     "output_type": "stream",
     "text": [
      "\r",
      "Total steps: 208 in 28 episodes"
     ]
    },
    {
     "name": "stderr",
     "output_type": "stream",
     "text": [
      "2021-12-01 14:29:44,110 - offworld_gym - INFO - Environment reset complete\n",
      "INFO:Environment reset complete\n",
      "2021-12-01 14:29:44,118 - offworld_gym - INFO - Step count: 1\n",
      "INFO:Step count: 1\n"
     ]
    },
    {
     "name": "stdout",
     "output_type": "stream",
     "text": [
      "\r",
      "Total steps: 209 in 29 episodes"
     ]
    },
    {
     "name": "stderr",
     "output_type": "stream",
     "text": [
      "2021-12-01 14:29:52,003 - offworld_gym - INFO - Environment step is complete.\n",
      "INFO:Environment step is complete.\n",
      "2021-12-01 14:29:52,012 - offworld_gym - INFO - Step count: 2\n",
      "INFO:Step count: 2\n"
     ]
    },
    {
     "name": "stdout",
     "output_type": "stream",
     "text": [
      "\r",
      "Total steps: 209 in 29 episodes"
     ]
    },
    {
     "name": "stderr",
     "output_type": "stream",
     "text": [
      "2021-12-01 14:29:59,633 - offworld_gym - INFO - Environment step is complete.\n",
      "INFO:Environment step is complete.\n",
      "2021-12-01 14:29:59,641 - offworld_gym - INFO - Step count: 3\n",
      "INFO:Step count: 3\n"
     ]
    },
    {
     "name": "stdout",
     "output_type": "stream",
     "text": [
      "\r",
      "Total steps: 210 in 29 episodes"
     ]
    },
    {
     "name": "stderr",
     "output_type": "stream",
     "text": [
      "2021-12-01 14:30:07,164 - offworld_gym - INFO - Environment step is complete.\n",
      "INFO:Environment step is complete.\n",
      "2021-12-01 14:30:07,172 - offworld_gym - INFO - Step count: 4\n",
      "INFO:Step count: 4\n"
     ]
    },
    {
     "name": "stdout",
     "output_type": "stream",
     "text": [
      "\r",
      "Total steps: 211 in 29 episodes"
     ]
    },
    {
     "name": "stderr",
     "output_type": "stream",
     "text": [
      "2021-12-01 14:30:14,912 - offworld_gym - INFO - Environment step is complete.\n",
      "INFO:Environment step is complete.\n",
      "2021-12-01 14:30:14,920 - offworld_gym - INFO - Step count: 5\n",
      "INFO:Step count: 5\n"
     ]
    },
    {
     "name": "stdout",
     "output_type": "stream",
     "text": [
      "\r",
      "Total steps: 212 in 29 episodes"
     ]
    },
    {
     "name": "stderr",
     "output_type": "stream",
     "text": [
      "2021-12-01 14:30:23,935 - offworld_gym - INFO - Environment step is complete.\n",
      "INFO:Environment step is complete.\n",
      "2021-12-01 14:30:23,936 - offworld_gym - INFO - Environment episode is complete: 5 steps, reward = 0\n",
      "INFO:Environment episode is complete: 5 steps, reward = 0\n",
      "2021-12-01 14:30:23,944 - offworld_gym - INFO - Resetting the episode and moving to a random initial position...\n",
      "INFO:Resetting the episode and moving to a random initial position...\n"
     ]
    },
    {
     "name": "stdout",
     "output_type": "stream",
     "text": [
      "\r",
      "Total steps: 213 in 29 episodes"
     ]
    },
    {
     "name": "stderr",
     "output_type": "stream",
     "text": [
      "2021-12-01 14:30:51,394 - offworld_gym - INFO - Environment reset complete\n",
      "INFO:Environment reset complete\n"
     ]
    },
    {
     "name": "stdout",
     "output_type": "stream",
     "text": [
      "\r",
      "Total steps: 214 in 30 episodes"
     ]
    },
    {
     "name": "stderr",
     "output_type": "stream",
     "text": [
      "INFO:Saved replay buffer at 3955 steps\n",
      "INFO:Saved checkpoint: models/Buf_2_clean/train/checkpoints/ckpt-7000\n",
      "2021-12-01 14:32:02,028 - offworld_gym - INFO - Resetting the episode and moving to a random initial position...\n",
      "INFO:Resetting the episode and moving to a random initial position...\n",
      "2021-12-01 14:32:29,682 - offworld_gym - INFO - Environment reset complete\n",
      "INFO:Environment reset complete\n",
      "2021-12-01 14:32:29,699 - offworld_gym - INFO - Step count: 1\n",
      "INFO:Step count: 1\n",
      "2021-12-01 14:32:37,584 - offworld_gym - INFO - Environment step is complete.\n",
      "INFO:Environment step is complete.\n",
      "2021-12-01 14:32:37,585 - offworld_gym - INFO - Environment episode is complete: 1 steps, reward = 1\n",
      "INFO:Environment episode is complete: 1 steps, reward = 1\n",
      "2021-12-01 14:32:37,609 - offworld_gym - INFO - Resetting the episode and moving to a random initial position...\n",
      "INFO:Resetting the episode and moving to a random initial position...\n"
     ]
    },
    {
     "name": "stdout",
     "output_type": "stream",
     "text": [
      "\r",
      "Total steps: 214 in 30 episodes"
     ]
    },
    {
     "name": "stderr",
     "output_type": "stream",
     "text": [
      "2021-12-01 14:32:54,093 - offworld_gym - INFO - Environment reset complete\n",
      "INFO:Environment reset complete\n",
      "2021-12-01 14:32:54,112 - offworld_gym - INFO - Step count: 1\n",
      "INFO:Step count: 1\n"
     ]
    },
    {
     "name": "stdout",
     "output_type": "stream",
     "text": [
      "\r",
      "Total steps: 215 in 31 episodes"
     ]
    },
    {
     "name": "stderr",
     "output_type": "stream",
     "text": [
      "2021-12-01 14:33:01,571 - offworld_gym - INFO - Environment step is complete.\n",
      "INFO:Environment step is complete.\n",
      "2021-12-01 14:33:01,605 - offworld_gym - INFO - Step count: 2\n",
      "INFO:Step count: 2\n"
     ]
    },
    {
     "name": "stdout",
     "output_type": "stream",
     "text": [
      "\r",
      "Total steps: 215 in 31 episodes"
     ]
    },
    {
     "name": "stderr",
     "output_type": "stream",
     "text": [
      "2021-12-01 14:33:09,049 - offworld_gym - INFO - Environment step is complete.\n",
      "INFO:Environment step is complete.\n",
      "2021-12-01 14:33:09,058 - offworld_gym - INFO - Step count: 3\n",
      "INFO:Step count: 3\n"
     ]
    },
    {
     "name": "stdout",
     "output_type": "stream",
     "text": [
      "\r",
      "Total steps: 216 in 31 episodes"
     ]
    },
    {
     "name": "stderr",
     "output_type": "stream",
     "text": [
      "2021-12-01 14:33:17,576 - offworld_gym - INFO - Environment step is complete.\n",
      "INFO:Environment step is complete.\n",
      "2021-12-01 14:33:17,586 - offworld_gym - INFO - Step count: 4\n",
      "INFO:Step count: 4\n"
     ]
    },
    {
     "name": "stdout",
     "output_type": "stream",
     "text": [
      "\r",
      "Total steps: 217 in 31 episodes"
     ]
    },
    {
     "name": "stderr",
     "output_type": "stream",
     "text": [
      "2021-12-01 14:33:25,263 - offworld_gym - INFO - Environment step is complete.\n",
      "INFO:Environment step is complete.\n",
      "2021-12-01 14:33:25,273 - offworld_gym - INFO - Step count: 5\n",
      "INFO:Step count: 5\n"
     ]
    },
    {
     "name": "stdout",
     "output_type": "stream",
     "text": [
      "\r",
      "Total steps: 218 in 31 episodes"
     ]
    },
    {
     "name": "stderr",
     "output_type": "stream",
     "text": [
      "2021-12-01 14:33:32,938 - offworld_gym - INFO - Environment step is complete.\n",
      "INFO:Environment step is complete.\n",
      "2021-12-01 14:33:32,949 - offworld_gym - INFO - Step count: 6\n",
      "INFO:Step count: 6\n"
     ]
    },
    {
     "name": "stdout",
     "output_type": "stream",
     "text": [
      "\r",
      "Total steps: 219 in 31 episodes"
     ]
    },
    {
     "name": "stderr",
     "output_type": "stream",
     "text": [
      "2021-12-01 14:33:40,668 - offworld_gym - INFO - Environment step is complete.\n",
      "INFO:Environment step is complete.\n",
      "2021-12-01 14:33:40,678 - offworld_gym - INFO - Step count: 7\n",
      "INFO:Step count: 7\n"
     ]
    },
    {
     "name": "stdout",
     "output_type": "stream",
     "text": [
      "\r",
      "Total steps: 220 in 31 episodes"
     ]
    },
    {
     "name": "stderr",
     "output_type": "stream",
     "text": [
      "2021-12-01 14:33:49,515 - offworld_gym - INFO - Environment step is complete.\n",
      "INFO:Environment step is complete.\n",
      "2021-12-01 14:33:49,516 - offworld_gym - INFO - Environment episode is complete: 7 steps, reward = 0\n",
      "INFO:Environment episode is complete: 7 steps, reward = 0\n",
      "2021-12-01 14:33:49,525 - offworld_gym - INFO - Resetting the episode and moving to a random initial position...\n",
      "INFO:Resetting the episode and moving to a random initial position...\n"
     ]
    },
    {
     "name": "stdout",
     "output_type": "stream",
     "text": [
      "\r",
      "Total steps: 221 in 31 episodes"
     ]
    },
    {
     "name": "stderr",
     "output_type": "stream",
     "text": [
      "2021-12-01 14:33:57,795 - offworld_gym - INFO - Environment reset complete\n",
      "INFO:Environment reset complete\n",
      "2021-12-01 14:33:57,806 - offworld_gym - INFO - Step count: 1\n",
      "INFO:Step count: 1\n"
     ]
    },
    {
     "name": "stdout",
     "output_type": "stream",
     "text": [
      "\r",
      "Total steps: 222 in 32 episodes"
     ]
    },
    {
     "name": "stderr",
     "output_type": "stream",
     "text": [
      "2021-12-01 14:34:04,242 - offworld_gym - INFO - Environment step is complete.\n",
      "INFO:Environment step is complete.\n",
      "2021-12-01 14:34:04,251 - offworld_gym - INFO - Step count: 2\n",
      "INFO:Step count: 2\n"
     ]
    },
    {
     "name": "stdout",
     "output_type": "stream",
     "text": [
      "\r",
      "Total steps: 222 in 32 episodes"
     ]
    },
    {
     "name": "stderr",
     "output_type": "stream",
     "text": [
      "2021-12-01 14:34:11,759 - offworld_gym - INFO - Environment step is complete.\n",
      "INFO:Environment step is complete.\n",
      "2021-12-01 14:34:11,769 - offworld_gym - INFO - Step count: 3\n",
      "INFO:Step count: 3\n"
     ]
    },
    {
     "name": "stdout",
     "output_type": "stream",
     "text": [
      "\r",
      "Total steps: 223 in 32 episodes"
     ]
    },
    {
     "name": "stderr",
     "output_type": "stream",
     "text": [
      "2021-12-01 14:34:19,002 - offworld_gym - INFO - Environment step is complete.\n",
      "INFO:Environment step is complete.\n",
      "2021-12-01 14:34:19,013 - offworld_gym - INFO - Step count: 4\n",
      "INFO:Step count: 4\n"
     ]
    },
    {
     "name": "stdout",
     "output_type": "stream",
     "text": [
      "\r",
      "Total steps: 224 in 32 episodes"
     ]
    },
    {
     "name": "stderr",
     "output_type": "stream",
     "text": [
      "2021-12-01 14:34:27,077 - offworld_gym - INFO - Environment step is complete.\n",
      "INFO:Environment step is complete.\n",
      "2021-12-01 14:34:27,095 - offworld_gym - INFO - Step count: 5\n",
      "INFO:Step count: 5\n"
     ]
    },
    {
     "name": "stdout",
     "output_type": "stream",
     "text": [
      "\r",
      "Total steps: 225 in 32 episodes"
     ]
    },
    {
     "name": "stderr",
     "output_type": "stream",
     "text": [
      "2021-12-01 14:34:34,902 - offworld_gym - INFO - Environment step is complete.\n",
      "INFO:Environment step is complete.\n",
      "2021-12-01 14:34:34,913 - offworld_gym - INFO - Step count: 6\n",
      "INFO:Step count: 6\n"
     ]
    },
    {
     "name": "stdout",
     "output_type": "stream",
     "text": [
      "\r",
      "Total steps: 226 in 32 episodes"
     ]
    },
    {
     "name": "stderr",
     "output_type": "stream",
     "text": [
      "2021-12-01 14:34:43,364 - offworld_gym - INFO - Environment step is complete.\n",
      "INFO:Environment step is complete.\n",
      "2021-12-01 14:34:43,365 - offworld_gym - INFO - Environment episode is complete: 6 steps, reward = 1\n",
      "INFO:Environment episode is complete: 6 steps, reward = 1\n",
      "2021-12-01 14:34:43,376 - offworld_gym - INFO - Resetting the episode and moving to a random initial position...\n",
      "INFO:Resetting the episode and moving to a random initial position...\n"
     ]
    },
    {
     "name": "stdout",
     "output_type": "stream",
     "text": [
      "\r",
      "Total steps: 227 in 32 episodes"
     ]
    },
    {
     "name": "stderr",
     "output_type": "stream",
     "text": [
      "2021-12-01 14:35:06,431 - offworld_gym - INFO - Environment reset complete\n",
      "INFO:Environment reset complete\n",
      "2021-12-01 14:35:06,449 - offworld_gym - INFO - Step count: 1\n",
      "INFO:Step count: 1\n"
     ]
    },
    {
     "name": "stdout",
     "output_type": "stream",
     "text": [
      "\r",
      "Total steps: 228 in 33 episodes"
     ]
    },
    {
     "name": "stderr",
     "output_type": "stream",
     "text": [
      "2021-12-01 14:35:13,411 - offworld_gym - INFO - Environment step is complete.\n",
      "INFO:Environment step is complete.\n",
      "2021-12-01 14:35:13,430 - offworld_gym - INFO - Step count: 2\n",
      "INFO:Step count: 2\n"
     ]
    },
    {
     "name": "stdout",
     "output_type": "stream",
     "text": [
      "\r",
      "Total steps: 228 in 33 episodes"
     ]
    },
    {
     "name": "stderr",
     "output_type": "stream",
     "text": [
      "2021-12-01 14:35:20,866 - offworld_gym - INFO - Environment step is complete.\n",
      "INFO:Environment step is complete.\n",
      "2021-12-01 14:35:20,876 - offworld_gym - INFO - Step count: 3\n",
      "INFO:Step count: 3\n"
     ]
    },
    {
     "name": "stdout",
     "output_type": "stream",
     "text": [
      "\r",
      "Total steps: 229 in 33 episodes"
     ]
    },
    {
     "name": "stderr",
     "output_type": "stream",
     "text": [
      "2021-12-01 14:35:27,588 - offworld_gym - INFO - Environment step is complete.\n",
      "INFO:Environment step is complete.\n",
      "2021-12-01 14:35:27,599 - offworld_gym - INFO - Step count: 4\n",
      "INFO:Step count: 4\n"
     ]
    },
    {
     "name": "stdout",
     "output_type": "stream",
     "text": [
      "\r",
      "Total steps: 230 in 33 episodes"
     ]
    },
    {
     "name": "stderr",
     "output_type": "stream",
     "text": [
      "2021-12-01 14:35:34,830 - offworld_gym - INFO - Environment step is complete.\n",
      "INFO:Environment step is complete.\n",
      "2021-12-01 14:35:34,841 - offworld_gym - INFO - Step count: 5\n",
      "INFO:Step count: 5\n"
     ]
    },
    {
     "name": "stdout",
     "output_type": "stream",
     "text": [
      "\r",
      "Total steps: 231 in 33 episodes"
     ]
    },
    {
     "name": "stderr",
     "output_type": "stream",
     "text": [
      "2021-12-01 14:35:41,716 - offworld_gym - INFO - Environment step is complete.\n",
      "INFO:Environment step is complete.\n",
      "2021-12-01 14:35:41,727 - offworld_gym - INFO - Step count: 6\n",
      "INFO:Step count: 6\n"
     ]
    },
    {
     "name": "stdout",
     "output_type": "stream",
     "text": [
      "\r",
      "Total steps: 232 in 33 episodes"
     ]
    },
    {
     "name": "stderr",
     "output_type": "stream",
     "text": [
      "2021-12-01 14:35:48,296 - offworld_gym - INFO - Environment step is complete.\n",
      "INFO:Environment step is complete.\n",
      "2021-12-01 14:35:48,308 - offworld_gym - INFO - Step count: 7\n",
      "INFO:Step count: 7\n"
     ]
    },
    {
     "name": "stdout",
     "output_type": "stream",
     "text": [
      "\r",
      "Total steps: 233 in 33 episodes"
     ]
    },
    {
     "name": "stderr",
     "output_type": "stream",
     "text": [
      "2021-12-01 14:35:55,242 - offworld_gym - INFO - Environment step is complete.\n",
      "INFO:Environment step is complete.\n",
      "2021-12-01 14:35:55,253 - offworld_gym - INFO - Step count: 8\n",
      "INFO:Step count: 8\n"
     ]
    },
    {
     "name": "stdout",
     "output_type": "stream",
     "text": [
      "\r",
      "Total steps: 234 in 33 episodes"
     ]
    },
    {
     "name": "stderr",
     "output_type": "stream",
     "text": [
      "2021-12-01 14:36:02,647 - offworld_gym - INFO - Environment step is complete.\n",
      "INFO:Environment step is complete.\n",
      "2021-12-01 14:36:02,657 - offworld_gym - INFO - Step count: 9\n",
      "INFO:Step count: 9\n"
     ]
    },
    {
     "name": "stdout",
     "output_type": "stream",
     "text": [
      "\r",
      "Total steps: 235 in 33 episodes"
     ]
    },
    {
     "name": "stderr",
     "output_type": "stream",
     "text": [
      "2021-12-01 14:36:10,645 - offworld_gym - INFO - Environment step is complete.\n",
      "INFO:Environment step is complete.\n",
      "2021-12-01 14:36:10,656 - offworld_gym - INFO - Step count: 10\n",
      "INFO:Step count: 10\n"
     ]
    },
    {
     "name": "stdout",
     "output_type": "stream",
     "text": [
      "\r",
      "Total steps: 236 in 33 episodes"
     ]
    },
    {
     "name": "stderr",
     "output_type": "stream",
     "text": [
      "2021-12-01 14:36:18,939 - offworld_gym - INFO - Environment step is complete.\n",
      "INFO:Environment step is complete.\n",
      "2021-12-01 14:36:18,940 - offworld_gym - INFO - Environment episode is complete: 10 steps, reward = 0\n",
      "INFO:Environment episode is complete: 10 steps, reward = 0\n",
      "2021-12-01 14:36:18,951 - offworld_gym - INFO - Resetting the episode and moving to a random initial position...\n",
      "INFO:Resetting the episode and moving to a random initial position...\n"
     ]
    },
    {
     "name": "stdout",
     "output_type": "stream",
     "text": [
      "\r",
      "Total steps: 237 in 33 episodes"
     ]
    },
    {
     "name": "stderr",
     "output_type": "stream",
     "text": [
      "2021-12-01 14:36:26,875 - offworld_gym - INFO - Environment reset complete\n",
      "INFO:Environment reset complete\n",
      "2021-12-01 14:36:26,889 - offworld_gym - INFO - Step count: 1\n",
      "INFO:Step count: 1\n"
     ]
    },
    {
     "name": "stdout",
     "output_type": "stream",
     "text": [
      "\r",
      "Total steps: 238 in 34 episodes"
     ]
    },
    {
     "name": "stderr",
     "output_type": "stream",
     "text": [
      "2021-12-01 14:36:34,967 - offworld_gym - INFO - Environment step is complete.\n",
      "INFO:Environment step is complete.\n",
      "2021-12-01 14:36:34,976 - offworld_gym - INFO - Step count: 2\n",
      "INFO:Step count: 2\n"
     ]
    },
    {
     "name": "stdout",
     "output_type": "stream",
     "text": [
      "\r",
      "Total steps: 238 in 34 episodes"
     ]
    },
    {
     "name": "stderr",
     "output_type": "stream",
     "text": [
      "2021-12-01 14:36:41,631 - offworld_gym - INFO - Environment step is complete.\n",
      "INFO:Environment step is complete.\n",
      "2021-12-01 14:36:41,644 - offworld_gym - INFO - Step count: 3\n",
      "INFO:Step count: 3\n"
     ]
    },
    {
     "name": "stdout",
     "output_type": "stream",
     "text": [
      "\r",
      "Total steps: 239 in 34 episodes"
     ]
    },
    {
     "name": "stderr",
     "output_type": "stream",
     "text": [
      "2021-12-01 14:36:49,623 - offworld_gym - INFO - Environment step is complete.\n",
      "INFO:Environment step is complete.\n",
      "2021-12-01 14:36:49,633 - offworld_gym - INFO - Step count: 4\n",
      "INFO:Step count: 4\n"
     ]
    },
    {
     "name": "stdout",
     "output_type": "stream",
     "text": [
      "\r",
      "Total steps: 240 in 34 episodes"
     ]
    },
    {
     "name": "stderr",
     "output_type": "stream",
     "text": [
      "2021-12-01 14:36:56,411 - offworld_gym - INFO - Environment step is complete.\n",
      "INFO:Environment step is complete.\n",
      "2021-12-01 14:36:56,423 - offworld_gym - INFO - Step count: 5\n",
      "INFO:Step count: 5\n"
     ]
    },
    {
     "name": "stdout",
     "output_type": "stream",
     "text": [
      "\r",
      "Total steps: 241 in 34 episodes"
     ]
    },
    {
     "name": "stderr",
     "output_type": "stream",
     "text": [
      "2021-12-01 14:37:03,520 - offworld_gym - INFO - Environment step is complete.\n",
      "INFO:Environment step is complete.\n",
      "2021-12-01 14:37:03,529 - offworld_gym - INFO - Step count: 6\n",
      "INFO:Step count: 6\n"
     ]
    },
    {
     "name": "stdout",
     "output_type": "stream",
     "text": [
      "\r",
      "Total steps: 242 in 34 episodes"
     ]
    },
    {
     "name": "stderr",
     "output_type": "stream",
     "text": [
      "2021-12-01 14:37:10,046 - offworld_gym - INFO - Environment step is complete.\n",
      "INFO:Environment step is complete.\n",
      "2021-12-01 14:37:10,058 - offworld_gym - INFO - Step count: 7\n",
      "INFO:Step count: 7\n"
     ]
    },
    {
     "name": "stdout",
     "output_type": "stream",
     "text": [
      "\r",
      "Total steps: 243 in 34 episodes"
     ]
    },
    {
     "name": "stderr",
     "output_type": "stream",
     "text": [
      "2021-12-01 14:37:17,470 - offworld_gym - INFO - Environment step is complete.\n",
      "INFO:Environment step is complete.\n",
      "2021-12-01 14:37:17,481 - offworld_gym - INFO - Step count: 8\n",
      "INFO:Step count: 8\n"
     ]
    },
    {
     "name": "stdout",
     "output_type": "stream",
     "text": [
      "\r",
      "Total steps: 244 in 34 episodes"
     ]
    },
    {
     "name": "stderr",
     "output_type": "stream",
     "text": [
      "2021-12-01 14:37:24,212 - offworld_gym - INFO - Environment step is complete.\n",
      "INFO:Environment step is complete.\n",
      "2021-12-01 14:37:24,222 - offworld_gym - INFO - Step count: 9\n",
      "INFO:Step count: 9\n"
     ]
    },
    {
     "name": "stdout",
     "output_type": "stream",
     "text": [
      "\r",
      "Total steps: 245 in 34 episodes"
     ]
    },
    {
     "name": "stderr",
     "output_type": "stream",
     "text": [
      "2021-12-01 14:37:32,733 - offworld_gym - INFO - Environment step is complete.\n",
      "INFO:Environment step is complete.\n",
      "2021-12-01 14:37:32,734 - offworld_gym - INFO - Environment episode is complete: 9 steps, reward = 0\n",
      "INFO:Environment episode is complete: 9 steps, reward = 0\n",
      "2021-12-01 14:37:32,743 - offworld_gym - INFO - Resetting the episode and moving to a random initial position...\n",
      "INFO:Resetting the episode and moving to a random initial position...\n"
     ]
    },
    {
     "name": "stdout",
     "output_type": "stream",
     "text": [
      "\r",
      "Total steps: 246 in 34 episodes"
     ]
    },
    {
     "name": "stderr",
     "output_type": "stream",
     "text": [
      "2021-12-01 14:37:42,339 - offworld_gym - INFO - Environment reset complete\n",
      "INFO:Environment reset complete\n",
      "2021-12-01 14:37:42,350 - offworld_gym - INFO - Step count: 1\n",
      "INFO:Step count: 1\n"
     ]
    },
    {
     "name": "stdout",
     "output_type": "stream",
     "text": [
      "\r",
      "Total steps: 247 in 35 episodes"
     ]
    },
    {
     "name": "stderr",
     "output_type": "stream",
     "text": [
      "2021-12-01 14:37:49,365 - offworld_gym - INFO - Environment step is complete.\n",
      "INFO:Environment step is complete.\n",
      "2021-12-01 14:37:49,376 - offworld_gym - INFO - Step count: 2\n",
      "INFO:Step count: 2\n"
     ]
    },
    {
     "name": "stdout",
     "output_type": "stream",
     "text": [
      "\r",
      "Total steps: 247 in 35 episodes"
     ]
    },
    {
     "name": "stderr",
     "output_type": "stream",
     "text": [
      "2021-12-01 14:37:56,095 - offworld_gym - INFO - Environment step is complete.\n",
      "INFO:Environment step is complete.\n",
      "2021-12-01 14:37:56,106 - offworld_gym - INFO - Step count: 3\n",
      "INFO:Step count: 3\n"
     ]
    },
    {
     "name": "stdout",
     "output_type": "stream",
     "text": [
      "\r",
      "Total steps: 248 in 35 episodes"
     ]
    },
    {
     "name": "stderr",
     "output_type": "stream",
     "text": [
      "2021-12-01 14:38:03,588 - offworld_gym - INFO - Environment step is complete.\n",
      "INFO:Environment step is complete.\n",
      "2021-12-01 14:38:03,599 - offworld_gym - INFO - Step count: 4\n",
      "INFO:Step count: 4\n"
     ]
    },
    {
     "name": "stdout",
     "output_type": "stream",
     "text": [
      "\r",
      "Total steps: 249 in 35 episodes"
     ]
    },
    {
     "name": "stderr",
     "output_type": "stream",
     "text": [
      "2021-12-01 14:38:10,136 - offworld_gym - INFO - Environment step is complete.\n",
      "INFO:Environment step is complete.\n",
      "2021-12-01 14:38:10,146 - offworld_gym - INFO - Step count: 5\n",
      "INFO:Step count: 5\n"
     ]
    },
    {
     "name": "stdout",
     "output_type": "stream",
     "text": [
      "\r",
      "Total steps: 250 in 35 episodes"
     ]
    },
    {
     "name": "stderr",
     "output_type": "stream",
     "text": [
      "2021-12-01 14:38:17,400 - offworld_gym - INFO - Environment step is complete.\n",
      "INFO:Environment step is complete.\n",
      "2021-12-01 14:38:17,410 - offworld_gym - INFO - Step count: 6\n",
      "INFO:Step count: 6\n"
     ]
    },
    {
     "name": "stdout",
     "output_type": "stream",
     "text": [
      "\r",
      "Total steps: 251 in 35 episodes"
     ]
    },
    {
     "name": "stderr",
     "output_type": "stream",
     "text": [
      "2021-12-01 14:38:24,315 - offworld_gym - INFO - Environment step is complete.\n",
      "INFO:Environment step is complete.\n",
      "2021-12-01 14:38:24,325 - offworld_gym - INFO - Step count: 7\n",
      "INFO:Step count: 7\n"
     ]
    },
    {
     "name": "stdout",
     "output_type": "stream",
     "text": [
      "\r",
      "Total steps: 252 in 35 episodes"
     ]
    },
    {
     "name": "stderr",
     "output_type": "stream",
     "text": [
      "2021-12-01 14:38:31,323 - offworld_gym - INFO - Environment step is complete.\n",
      "INFO:Environment step is complete.\n",
      "2021-12-01 14:38:31,333 - offworld_gym - INFO - Step count: 8\n",
      "INFO:Step count: 8\n"
     ]
    },
    {
     "name": "stdout",
     "output_type": "stream",
     "text": [
      "\r",
      "Total steps: 253 in 35 episodes"
     ]
    },
    {
     "name": "stderr",
     "output_type": "stream",
     "text": [
      "2021-12-01 14:38:38,300 - offworld_gym - INFO - Environment step is complete.\n",
      "INFO:Environment step is complete.\n",
      "2021-12-01 14:38:38,310 - offworld_gym - INFO - Step count: 9\n",
      "INFO:Step count: 9\n"
     ]
    },
    {
     "name": "stdout",
     "output_type": "stream",
     "text": [
      "\r",
      "Total steps: 254 in 35 episodes"
     ]
    },
    {
     "name": "stderr",
     "output_type": "stream",
     "text": [
      "2021-12-01 14:38:44,971 - offworld_gym - INFO - Environment step is complete.\n",
      "INFO:Environment step is complete.\n",
      "2021-12-01 14:38:44,981 - offworld_gym - INFO - Step count: 10\n",
      "INFO:Step count: 10\n"
     ]
    },
    {
     "name": "stdout",
     "output_type": "stream",
     "text": [
      "\r",
      "Total steps: 255 in 35 episodes"
     ]
    },
    {
     "name": "stderr",
     "output_type": "stream",
     "text": [
      "2021-12-01 14:38:51,849 - offworld_gym - INFO - Environment step is complete.\n",
      "INFO:Environment step is complete.\n",
      "2021-12-01 14:38:51,859 - offworld_gym - INFO - Step count: 11\n",
      "INFO:Step count: 11\n"
     ]
    },
    {
     "name": "stdout",
     "output_type": "stream",
     "text": [
      "\r",
      "Total steps: 256 in 35 episodes"
     ]
    },
    {
     "name": "stderr",
     "output_type": "stream",
     "text": [
      "2021-12-01 14:38:59,364 - offworld_gym - INFO - Environment step is complete.\n",
      "INFO:Environment step is complete.\n",
      "2021-12-01 14:38:59,374 - offworld_gym - INFO - Step count: 12\n",
      "INFO:Step count: 12\n"
     ]
    },
    {
     "name": "stdout",
     "output_type": "stream",
     "text": [
      "\r",
      "Total steps: 257 in 35 episodes"
     ]
    },
    {
     "name": "stderr",
     "output_type": "stream",
     "text": [
      "2021-12-01 14:39:06,033 - offworld_gym - INFO - Environment step is complete.\n",
      "INFO:Environment step is complete.\n",
      "2021-12-01 14:39:06,044 - offworld_gym - INFO - Step count: 13\n",
      "INFO:Step count: 13\n"
     ]
    },
    {
     "name": "stdout",
     "output_type": "stream",
     "text": [
      "\r",
      "Total steps: 258 in 35 episodes"
     ]
    },
    {
     "name": "stderr",
     "output_type": "stream",
     "text": [
      "2021-12-01 14:39:13,942 - offworld_gym - INFO - Environment step is complete.\n",
      "INFO:Environment step is complete.\n",
      "2021-12-01 14:39:13,955 - offworld_gym - INFO - Step count: 14\n",
      "INFO:Step count: 14\n"
     ]
    },
    {
     "name": "stdout",
     "output_type": "stream",
     "text": [
      "\r",
      "Total steps: 259 in 35 episodes"
     ]
    },
    {
     "name": "stderr",
     "output_type": "stream",
     "text": [
      "2021-12-01 14:39:21,637 - offworld_gym - INFO - Environment step is complete.\n",
      "INFO:Environment step is complete.\n",
      "2021-12-01 14:39:21,648 - offworld_gym - INFO - Step count: 15\n",
      "INFO:Step count: 15\n"
     ]
    },
    {
     "name": "stdout",
     "output_type": "stream",
     "text": [
      "\r",
      "Total steps: 260 in 35 episodes"
     ]
    },
    {
     "name": "stderr",
     "output_type": "stream",
     "text": [
      "2021-12-01 14:39:28,503 - offworld_gym - INFO - Environment step is complete.\n",
      "INFO:Environment step is complete.\n",
      "2021-12-01 14:39:28,514 - offworld_gym - INFO - Step count: 16\n",
      "INFO:Step count: 16\n"
     ]
    },
    {
     "name": "stdout",
     "output_type": "stream",
     "text": [
      "\r",
      "Total steps: 261 in 35 episodes"
     ]
    },
    {
     "name": "stderr",
     "output_type": "stream",
     "text": [
      "2021-12-01 14:39:35,643 - offworld_gym - INFO - Environment step is complete.\n",
      "INFO:Environment step is complete.\n",
      "2021-12-01 14:39:35,654 - offworld_gym - INFO - Step count: 17\n",
      "INFO:Step count: 17\n"
     ]
    },
    {
     "name": "stdout",
     "output_type": "stream",
     "text": [
      "\r",
      "Total steps: 262 in 35 episodes"
     ]
    },
    {
     "name": "stderr",
     "output_type": "stream",
     "text": [
      "2021-12-01 14:39:41,973 - offworld_gym - INFO - Environment step is complete.\n",
      "INFO:Environment step is complete.\n",
      "2021-12-01 14:39:41,983 - offworld_gym - INFO - Step count: 18\n",
      "INFO:Step count: 18\n"
     ]
    },
    {
     "name": "stdout",
     "output_type": "stream",
     "text": [
      "\r",
      "Total steps: 263 in 35 episodes"
     ]
    },
    {
     "name": "stderr",
     "output_type": "stream",
     "text": [
      "2021-12-01 14:39:49,553 - offworld_gym - INFO - Environment step is complete.\n",
      "INFO:Environment step is complete.\n",
      "2021-12-01 14:39:49,562 - offworld_gym - INFO - Step count: 19\n",
      "INFO:Step count: 19\n"
     ]
    },
    {
     "name": "stdout",
     "output_type": "stream",
     "text": [
      "\r",
      "Total steps: 264 in 35 episodes"
     ]
    },
    {
     "name": "stderr",
     "output_type": "stream",
     "text": [
      "2021-12-01 14:39:56,399 - offworld_gym - INFO - Environment step is complete.\n",
      "INFO:Environment step is complete.\n",
      "2021-12-01 14:39:56,410 - offworld_gym - INFO - Step count: 20\n",
      "INFO:Step count: 20\n"
     ]
    },
    {
     "name": "stdout",
     "output_type": "stream",
     "text": [
      "\r",
      "Total steps: 265 in 35 episodes"
     ]
    },
    {
     "name": "stderr",
     "output_type": "stream",
     "text": [
      "2021-12-01 14:40:03,715 - offworld_gym - INFO - Environment step is complete.\n",
      "INFO:Environment step is complete.\n",
      "2021-12-01 14:40:03,726 - offworld_gym - INFO - Step count: 21\n",
      "INFO:Step count: 21\n"
     ]
    },
    {
     "name": "stdout",
     "output_type": "stream",
     "text": [
      "\r",
      "Total steps: 266 in 35 episodes"
     ]
    },
    {
     "name": "stderr",
     "output_type": "stream",
     "text": [
      "2021-12-01 14:40:17,690 - offworld_gym - INFO - Environment step is complete.\n",
      "INFO:Environment step is complete.\n",
      "2021-12-01 14:40:17,700 - offworld_gym - INFO - Step count: 22\n",
      "INFO:Step count: 22\n"
     ]
    },
    {
     "name": "stdout",
     "output_type": "stream",
     "text": [
      "\r",
      "Total steps: 267 in 35 episodes"
     ]
    },
    {
     "name": "stderr",
     "output_type": "stream",
     "text": [
      "2021-12-01 14:40:27,105 - offworld_gym - INFO - Environment step is complete.\n",
      "INFO:Environment step is complete.\n",
      "2021-12-01 14:40:27,117 - offworld_gym - INFO - Step count: 23\n",
      "INFO:Step count: 23\n"
     ]
    },
    {
     "name": "stdout",
     "output_type": "stream",
     "text": [
      "\r",
      "Total steps: 268 in 35 episodes"
     ]
    },
    {
     "name": "stderr",
     "output_type": "stream",
     "text": [
      "2021-12-01 14:40:37,864 - offworld_gym - INFO - Environment step is complete.\n",
      "INFO:Environment step is complete.\n",
      "2021-12-01 14:40:37,875 - offworld_gym - INFO - Step count: 24\n",
      "INFO:Step count: 24\n"
     ]
    },
    {
     "name": "stdout",
     "output_type": "stream",
     "text": [
      "\r",
      "Total steps: 269 in 35 episodes"
     ]
    },
    {
     "name": "stderr",
     "output_type": "stream",
     "text": [
      "2021-12-01 14:40:45,234 - offworld_gym - INFO - Environment step is complete.\n",
      "INFO:Environment step is complete.\n",
      "2021-12-01 14:40:45,245 - offworld_gym - INFO - Step count: 25\n",
      "INFO:Step count: 25\n"
     ]
    },
    {
     "name": "stdout",
     "output_type": "stream",
     "text": [
      "\r",
      "Total steps: 270 in 35 episodes"
     ]
    },
    {
     "name": "stderr",
     "output_type": "stream",
     "text": [
      "2021-12-01 14:40:53,220 - offworld_gym - INFO - Environment step is complete.\n",
      "INFO:Environment step is complete.\n",
      "2021-12-01 14:40:53,239 - offworld_gym - INFO - Step count: 26\n",
      "INFO:Step count: 26\n"
     ]
    },
    {
     "name": "stdout",
     "output_type": "stream",
     "text": [
      "\r",
      "Total steps: 271 in 35 episodes"
     ]
    },
    {
     "name": "stderr",
     "output_type": "stream",
     "text": [
      "2021-12-01 14:41:01,393 - offworld_gym - INFO - Environment step is complete.\n",
      "INFO:Environment step is complete.\n",
      "2021-12-01 14:41:01,403 - offworld_gym - INFO - Step count: 27\n",
      "INFO:Step count: 27\n"
     ]
    },
    {
     "name": "stdout",
     "output_type": "stream",
     "text": [
      "\r",
      "Total steps: 272 in 35 episodes"
     ]
    },
    {
     "name": "stderr",
     "output_type": "stream",
     "text": [
      "2021-12-01 14:41:09,167 - offworld_gym - INFO - Environment step is complete.\n",
      "INFO:Environment step is complete.\n",
      "2021-12-01 14:41:09,179 - offworld_gym - INFO - Step count: 28\n",
      "INFO:Step count: 28\n"
     ]
    },
    {
     "name": "stdout",
     "output_type": "stream",
     "text": [
      "\r",
      "Total steps: 273 in 35 episodes"
     ]
    },
    {
     "name": "stderr",
     "output_type": "stream",
     "text": [
      "2021-12-01 14:41:16,643 - offworld_gym - INFO - Environment step is complete.\n",
      "INFO:Environment step is complete.\n",
      "2021-12-01 14:41:16,654 - offworld_gym - INFO - Step count: 29\n",
      "INFO:Step count: 29\n"
     ]
    },
    {
     "name": "stdout",
     "output_type": "stream",
     "text": [
      "\r",
      "Total steps: 274 in 35 episodes"
     ]
    },
    {
     "name": "stderr",
     "output_type": "stream",
     "text": [
      "2021-12-01 14:41:24,265 - offworld_gym - INFO - Environment step is complete.\n",
      "INFO:Environment step is complete.\n",
      "2021-12-01 14:41:24,276 - offworld_gym - INFO - Step count: 30\n",
      "INFO:Step count: 30\n"
     ]
    },
    {
     "name": "stdout",
     "output_type": "stream",
     "text": [
      "\r",
      "Total steps: 275 in 35 episodes"
     ]
    },
    {
     "name": "stderr",
     "output_type": "stream",
     "text": [
      "2021-12-01 14:41:31,981 - offworld_gym - INFO - Environment step is complete.\n",
      "INFO:Environment step is complete.\n",
      "2021-12-01 14:41:31,991 - offworld_gym - INFO - Step count: 31\n",
      "INFO:Step count: 31\n"
     ]
    },
    {
     "name": "stdout",
     "output_type": "stream",
     "text": [
      "\r",
      "Total steps: 276 in 35 episodes"
     ]
    },
    {
     "name": "stderr",
     "output_type": "stream",
     "text": [
      "2021-12-01 14:41:39,188 - offworld_gym - INFO - Environment step is complete.\n",
      "INFO:Environment step is complete.\n",
      "2021-12-01 14:41:39,199 - offworld_gym - INFO - Step count: 32\n",
      "INFO:Step count: 32\n"
     ]
    },
    {
     "name": "stdout",
     "output_type": "stream",
     "text": [
      "\r",
      "Total steps: 277 in 35 episodes"
     ]
    },
    {
     "name": "stderr",
     "output_type": "stream",
     "text": [
      "2021-12-01 14:41:45,981 - offworld_gym - INFO - Environment step is complete.\n",
      "INFO:Environment step is complete.\n",
      "2021-12-01 14:41:45,991 - offworld_gym - INFO - Step count: 33\n",
      "INFO:Step count: 33\n"
     ]
    },
    {
     "name": "stdout",
     "output_type": "stream",
     "text": [
      "\r",
      "Total steps: 278 in 35 episodes"
     ]
    },
    {
     "name": "stderr",
     "output_type": "stream",
     "text": [
      "2021-12-01 14:41:52,721 - offworld_gym - INFO - Environment step is complete.\n",
      "INFO:Environment step is complete.\n",
      "2021-12-01 14:41:52,731 - offworld_gym - INFO - Step count: 34\n",
      "INFO:Step count: 34\n"
     ]
    },
    {
     "name": "stdout",
     "output_type": "stream",
     "text": [
      "\r",
      "Total steps: 279 in 35 episodes"
     ]
    },
    {
     "name": "stderr",
     "output_type": "stream",
     "text": [
      "2021-12-01 14:41:59,626 - offworld_gym - INFO - Environment step is complete.\n",
      "INFO:Environment step is complete.\n",
      "2021-12-01 14:41:59,637 - offworld_gym - INFO - Step count: 35\n",
      "INFO:Step count: 35\n"
     ]
    },
    {
     "name": "stdout",
     "output_type": "stream",
     "text": [
      "\r",
      "Total steps: 280 in 35 episodes"
     ]
    },
    {
     "name": "stderr",
     "output_type": "stream",
     "text": [
      "2021-12-01 14:42:08,084 - offworld_gym - INFO - Environment step is complete.\n",
      "INFO:Environment step is complete.\n",
      "2021-12-01 14:42:08,084 - offworld_gym - INFO - Environment episode is complete: 35 steps, reward = 0\n",
      "INFO:Environment episode is complete: 35 steps, reward = 0\n",
      "2021-12-01 14:42:08,096 - offworld_gym - INFO - Resetting the episode and moving to a random initial position...\n",
      "INFO:Resetting the episode and moving to a random initial position...\n"
     ]
    },
    {
     "name": "stdout",
     "output_type": "stream",
     "text": [
      "\r",
      "Total steps: 281 in 35 episodes"
     ]
    },
    {
     "name": "stderr",
     "output_type": "stream",
     "text": [
      "2021-12-01 14:42:34,006 - offworld_gym - INFO - Environment reset complete\n",
      "INFO:Environment reset complete\n",
      "2021-12-01 14:42:34,031 - offworld_gym - INFO - Step count: 1\n",
      "INFO:Step count: 1\n"
     ]
    },
    {
     "name": "stdout",
     "output_type": "stream",
     "text": [
      "\r",
      "Total steps: 282 in 36 episodes"
     ]
    },
    {
     "name": "stderr",
     "output_type": "stream",
     "text": [
      "2021-12-01 14:42:41,134 - offworld_gym - INFO - Environment step is complete.\n",
      "INFO:Environment step is complete.\n",
      "2021-12-01 14:42:41,144 - offworld_gym - INFO - Step count: 2\n",
      "INFO:Step count: 2\n"
     ]
    },
    {
     "name": "stdout",
     "output_type": "stream",
     "text": [
      "\r",
      "Total steps: 282 in 36 episodes"
     ]
    },
    {
     "name": "stderr",
     "output_type": "stream",
     "text": [
      "2021-12-01 14:42:48,345 - offworld_gym - INFO - Environment step is complete.\n",
      "INFO:Environment step is complete.\n",
      "2021-12-01 14:42:48,356 - offworld_gym - INFO - Step count: 3\n",
      "INFO:Step count: 3\n"
     ]
    },
    {
     "name": "stdout",
     "output_type": "stream",
     "text": [
      "\r",
      "Total steps: 283 in 36 episodes"
     ]
    },
    {
     "name": "stderr",
     "output_type": "stream",
     "text": [
      "2021-12-01 14:42:55,090 - offworld_gym - INFO - Environment step is complete.\n",
      "INFO:Environment step is complete.\n",
      "2021-12-01 14:42:55,101 - offworld_gym - INFO - Step count: 4\n",
      "INFO:Step count: 4\n"
     ]
    },
    {
     "name": "stdout",
     "output_type": "stream",
     "text": [
      "\r",
      "Total steps: 284 in 36 episodes"
     ]
    },
    {
     "name": "stderr",
     "output_type": "stream",
     "text": [
      "2021-12-01 14:43:02,749 - offworld_gym - INFO - Environment step is complete.\n",
      "INFO:Environment step is complete.\n",
      "2021-12-01 14:43:02,762 - offworld_gym - INFO - Step count: 5\n",
      "INFO:Step count: 5\n"
     ]
    },
    {
     "name": "stdout",
     "output_type": "stream",
     "text": [
      "\r",
      "Total steps: 285 in 36 episodes"
     ]
    },
    {
     "name": "stderr",
     "output_type": "stream",
     "text": [
      "2021-12-01 14:43:09,168 - offworld_gym - INFO - Environment step is complete.\n",
      "INFO:Environment step is complete.\n",
      "2021-12-01 14:43:09,188 - offworld_gym - INFO - Step count: 6\n",
      "INFO:Step count: 6\n"
     ]
    },
    {
     "name": "stdout",
     "output_type": "stream",
     "text": [
      "\r",
      "Total steps: 286 in 36 episodes"
     ]
    },
    {
     "name": "stderr",
     "output_type": "stream",
     "text": [
      "2021-12-01 14:43:17,482 - offworld_gym - INFO - Environment step is complete.\n",
      "INFO:Environment step is complete.\n",
      "2021-12-01 14:43:17,483 - offworld_gym - INFO - Environment episode is complete: 6 steps, reward = 1\n",
      "INFO:Environment episode is complete: 6 steps, reward = 1\n",
      "2021-12-01 14:43:17,496 - offworld_gym - INFO - Resetting the episode and moving to a random initial position...\n",
      "INFO:Resetting the episode and moving to a random initial position...\n"
     ]
    },
    {
     "name": "stdout",
     "output_type": "stream",
     "text": [
      "\r",
      "Total steps: 287 in 36 episodes"
     ]
    },
    {
     "name": "stderr",
     "output_type": "stream",
     "text": [
      "2021-12-01 14:43:38,095 - offworld_gym - INFO - Environment reset complete\n",
      "INFO:Environment reset complete\n",
      "2021-12-01 14:43:38,121 - offworld_gym - INFO - Step count: 1\n",
      "INFO:Step count: 1\n"
     ]
    },
    {
     "name": "stdout",
     "output_type": "stream",
     "text": [
      "\r",
      "Total steps: 288 in 37 episodes"
     ]
    },
    {
     "name": "stderr",
     "output_type": "stream",
     "text": [
      "2021-12-01 14:43:44,632 - offworld_gym - INFO - Environment step is complete.\n",
      "INFO:Environment step is complete.\n",
      "2021-12-01 14:43:44,642 - offworld_gym - INFO - Step count: 2\n",
      "INFO:Step count: 2\n"
     ]
    },
    {
     "name": "stdout",
     "output_type": "stream",
     "text": [
      "\r",
      "Total steps: 288 in 37 episodes"
     ]
    },
    {
     "name": "stderr",
     "output_type": "stream",
     "text": [
      "2021-12-01 14:43:51,073 - offworld_gym - INFO - Environment step is complete.\n",
      "INFO:Environment step is complete.\n",
      "2021-12-01 14:43:51,086 - offworld_gym - INFO - Step count: 3\n",
      "INFO:Step count: 3\n"
     ]
    },
    {
     "name": "stdout",
     "output_type": "stream",
     "text": [
      "\r",
      "Total steps: 289 in 37 episodes"
     ]
    },
    {
     "name": "stderr",
     "output_type": "stream",
     "text": [
      "2021-12-01 14:43:59,352 - offworld_gym - INFO - Environment step is complete.\n",
      "INFO:Environment step is complete.\n",
      "2021-12-01 14:43:59,364 - offworld_gym - INFO - Step count: 4\n",
      "INFO:Step count: 4\n"
     ]
    },
    {
     "name": "stdout",
     "output_type": "stream",
     "text": [
      "\r",
      "Total steps: 290 in 37 episodes"
     ]
    },
    {
     "name": "stderr",
     "output_type": "stream",
     "text": [
      "2021-12-01 14:44:07,404 - offworld_gym - INFO - Environment step is complete.\n",
      "INFO:Environment step is complete.\n",
      "2021-12-01 14:44:07,413 - offworld_gym - INFO - Step count: 5\n",
      "INFO:Step count: 5\n"
     ]
    },
    {
     "name": "stdout",
     "output_type": "stream",
     "text": [
      "\r",
      "Total steps: 291 in 37 episodes"
     ]
    },
    {
     "name": "stderr",
     "output_type": "stream",
     "text": [
      "2021-12-01 14:44:14,021 - offworld_gym - INFO - Environment step is complete.\n",
      "INFO:Environment step is complete.\n",
      "2021-12-01 14:44:14,031 - offworld_gym - INFO - Step count: 6\n",
      "INFO:Step count: 6\n"
     ]
    },
    {
     "name": "stdout",
     "output_type": "stream",
     "text": [
      "\r",
      "Total steps: 292 in 37 episodes"
     ]
    },
    {
     "name": "stderr",
     "output_type": "stream",
     "text": [
      "2021-12-01 14:44:23,027 - offworld_gym - INFO - Environment step is complete.\n",
      "INFO:Environment step is complete.\n",
      "2021-12-01 14:44:23,028 - offworld_gym - INFO - Environment episode is complete: 6 steps, reward = 0\n",
      "INFO:Environment episode is complete: 6 steps, reward = 0\n",
      "2021-12-01 14:44:23,038 - offworld_gym - INFO - Resetting the episode and moving to a random initial position...\n",
      "INFO:Resetting the episode and moving to a random initial position...\n"
     ]
    },
    {
     "name": "stdout",
     "output_type": "stream",
     "text": [
      "\r",
      "Total steps: 293 in 37 episodes"
     ]
    },
    {
     "name": "stderr",
     "output_type": "stream",
     "text": [
      "2021-12-01 14:44:44,569 - offworld_gym - INFO - Environment reset complete\n",
      "INFO:Environment reset complete\n",
      "2021-12-01 14:44:44,590 - offworld_gym - INFO - Step count: 1\n",
      "INFO:Step count: 1\n"
     ]
    },
    {
     "name": "stdout",
     "output_type": "stream",
     "text": [
      "\r",
      "Total steps: 294 in 38 episodes"
     ]
    },
    {
     "name": "stderr",
     "output_type": "stream",
     "text": [
      "2021-12-01 14:44:50,880 - offworld_gym - INFO - Environment step is complete.\n",
      "INFO:Environment step is complete.\n",
      "2021-12-01 14:44:50,891 - offworld_gym - INFO - Step count: 2\n",
      "INFO:Step count: 2\n"
     ]
    },
    {
     "name": "stdout",
     "output_type": "stream",
     "text": [
      "\r",
      "Total steps: 294 in 38 episodes"
     ]
    },
    {
     "name": "stderr",
     "output_type": "stream",
     "text": [
      "2021-12-01 14:44:56,968 - offworld_gym - INFO - Environment step is complete.\n",
      "INFO:Environment step is complete.\n",
      "2021-12-01 14:44:56,978 - offworld_gym - INFO - Step count: 3\n",
      "INFO:Step count: 3\n"
     ]
    },
    {
     "name": "stdout",
     "output_type": "stream",
     "text": [
      "\r",
      "Total steps: 295 in 38 episodes"
     ]
    },
    {
     "name": "stderr",
     "output_type": "stream",
     "text": [
      "2021-12-01 14:45:02,025 - offworld_gym - INFO - Environment step is complete.\n",
      "INFO:Environment step is complete.\n",
      "2021-12-01 14:45:02,035 - offworld_gym - INFO - Step count: 4\n",
      "INFO:Step count: 4\n"
     ]
    },
    {
     "name": "stdout",
     "output_type": "stream",
     "text": [
      "\r",
      "Total steps: 296 in 38 episodes"
     ]
    },
    {
     "name": "stderr",
     "output_type": "stream",
     "text": [
      "2021-12-01 14:45:10,246 - offworld_gym - INFO - Environment step is complete.\n",
      "INFO:Environment step is complete.\n",
      "2021-12-01 14:45:10,247 - offworld_gym - INFO - Environment episode is complete: 4 steps, reward = 0\n",
      "INFO:Environment episode is complete: 4 steps, reward = 0\n",
      "2021-12-01 14:45:10,257 - offworld_gym - INFO - Resetting the episode and moving to a random initial position...\n",
      "INFO:Resetting the episode and moving to a random initial position...\n"
     ]
    },
    {
     "name": "stdout",
     "output_type": "stream",
     "text": [
      "\r",
      "Total steps: 297 in 38 episodes"
     ]
    },
    {
     "name": "stderr",
     "output_type": "stream",
     "text": [
      "2021-12-01 14:45:26,960 - offworld_gym - INFO - Environment reset complete\n",
      "INFO:Environment reset complete\n",
      "2021-12-01 14:45:26,972 - offworld_gym - INFO - Step count: 1\n",
      "INFO:Step count: 1\n"
     ]
    },
    {
     "name": "stdout",
     "output_type": "stream",
     "text": [
      "\r",
      "Total steps: 298 in 39 episodes"
     ]
    },
    {
     "name": "stderr",
     "output_type": "stream",
     "text": [
      "2021-12-01 14:45:33,410 - offworld_gym - INFO - Environment step is complete.\n",
      "INFO:Environment step is complete.\n",
      "2021-12-01 14:45:33,420 - offworld_gym - INFO - Step count: 2\n",
      "INFO:Step count: 2\n"
     ]
    },
    {
     "name": "stdout",
     "output_type": "stream",
     "text": [
      "\r",
      "Total steps: 298 in 39 episodes"
     ]
    },
    {
     "name": "stderr",
     "output_type": "stream",
     "text": [
      "2021-12-01 14:45:39,961 - offworld_gym - INFO - Environment step is complete.\n",
      "INFO:Environment step is complete.\n",
      "2021-12-01 14:45:39,970 - offworld_gym - INFO - Step count: 3\n",
      "INFO:Step count: 3\n"
     ]
    },
    {
     "name": "stdout",
     "output_type": "stream",
     "text": [
      "\r",
      "Total steps: 299 in 39 episodes"
     ]
    },
    {
     "name": "stderr",
     "output_type": "stream",
     "text": [
      "2021-12-01 14:45:46,120 - offworld_gym - INFO - Environment step is complete.\n",
      "INFO:Environment step is complete.\n",
      "2021-12-01 14:45:46,132 - offworld_gym - INFO - Step count: 4\n",
      "INFO:Step count: 4\n"
     ]
    },
    {
     "name": "stdout",
     "output_type": "stream",
     "text": [
      "\r",
      "Total steps: 300 in 39 episodes"
     ]
    },
    {
     "name": "stderr",
     "output_type": "stream",
     "text": [
      "2021-12-01 14:45:53,002 - offworld_gym - INFO - Environment step is complete.\n",
      "INFO:Environment step is complete.\n",
      "2021-12-01 14:45:53,013 - offworld_gym - INFO - Step count: 5\n",
      "INFO:Step count: 5\n"
     ]
    },
    {
     "name": "stdout",
     "output_type": "stream",
     "text": [
      "\r",
      "Total steps: 301 in 39 episodes"
     ]
    },
    {
     "name": "stderr",
     "output_type": "stream",
     "text": [
      "2021-12-01 14:45:59,947 - offworld_gym - INFO - Environment step is complete.\n",
      "INFO:Environment step is complete.\n",
      "2021-12-01 14:45:59,959 - offworld_gym - INFO - Step count: 6\n",
      "INFO:Step count: 6\n"
     ]
    },
    {
     "name": "stdout",
     "output_type": "stream",
     "text": [
      "\r",
      "Total steps: 302 in 39 episodes"
     ]
    },
    {
     "name": "stderr",
     "output_type": "stream",
     "text": [
      "2021-12-01 14:46:08,404 - offworld_gym - INFO - Environment step is complete.\n",
      "INFO:Environment step is complete.\n",
      "2021-12-01 14:46:08,405 - offworld_gym - INFO - Environment episode is complete: 6 steps, reward = 0\n",
      "INFO:Environment episode is complete: 6 steps, reward = 0\n",
      "2021-12-01 14:46:08,414 - offworld_gym - INFO - Resetting the episode and moving to a random initial position...\n",
      "INFO:Resetting the episode and moving to a random initial position...\n"
     ]
    },
    {
     "name": "stdout",
     "output_type": "stream",
     "text": [
      "\r",
      "Total steps: 303 in 39 episodes"
     ]
    },
    {
     "name": "stderr",
     "output_type": "stream",
     "text": [
      "2021-12-01 14:46:28,785 - offworld_gym - INFO - Environment reset complete\n",
      "INFO:Environment reset complete\n"
     ]
    },
    {
     "name": "stdout",
     "output_type": "stream",
     "text": [
      "\r",
      "Total steps: 304 in 40 episodes"
     ]
    },
    {
     "name": "stderr",
     "output_type": "stream",
     "text": [
      "INFO:Saved replay buffer at 4055 steps\n",
      "INFO:Saved checkpoint: models/Buf_2_clean/train/checkpoints/ckpt-7500\n",
      "2021-12-01 14:47:24,620 - offworld_gym - INFO - Resetting the episode and moving to a random initial position...\n",
      "INFO:Resetting the episode and moving to a random initial position...\n",
      "2021-12-01 14:47:37,960 - offworld_gym - INFO - Environment reset complete\n",
      "INFO:Environment reset complete\n",
      "2021-12-01 14:47:37,969 - offworld_gym - INFO - Step count: 1\n",
      "INFO:Step count: 1\n",
      "2021-12-01 14:47:48,455 - offworld_gym - INFO - Environment step is complete.\n",
      "INFO:Environment step is complete.\n",
      "2021-12-01 14:47:48,476 - offworld_gym - INFO - Step count: 2\n",
      "INFO:Step count: 2\n"
     ]
    },
    {
     "name": "stdout",
     "output_type": "stream",
     "text": [
      "\r",
      "Total steps: 304 in 40 episodes"
     ]
    },
    {
     "name": "stderr",
     "output_type": "stream",
     "text": [
      "2021-12-01 14:47:56,219 - offworld_gym - INFO - Environment step is complete.\n",
      "INFO:Environment step is complete.\n",
      "2021-12-01 14:47:56,231 - offworld_gym - INFO - Step count: 3\n",
      "INFO:Step count: 3\n"
     ]
    },
    {
     "name": "stdout",
     "output_type": "stream",
     "text": [
      "\r",
      "Total steps: 305 in 40 episodes"
     ]
    },
    {
     "name": "stderr",
     "output_type": "stream",
     "text": [
      "2021-12-01 14:48:03,520 - offworld_gym - INFO - Environment step is complete.\n",
      "INFO:Environment step is complete.\n",
      "2021-12-01 14:48:03,532 - offworld_gym - INFO - Step count: 4\n",
      "INFO:Step count: 4\n"
     ]
    },
    {
     "name": "stdout",
     "output_type": "stream",
     "text": [
      "\r",
      "Total steps: 306 in 40 episodes"
     ]
    },
    {
     "name": "stderr",
     "output_type": "stream",
     "text": [
      "2021-12-01 14:48:10,294 - offworld_gym - INFO - Environment step is complete.\n",
      "INFO:Environment step is complete.\n",
      "2021-12-01 14:48:10,306 - offworld_gym - INFO - Step count: 5\n",
      "INFO:Step count: 5\n"
     ]
    },
    {
     "name": "stdout",
     "output_type": "stream",
     "text": [
      "\r",
      "Total steps: 307 in 40 episodes"
     ]
    },
    {
     "name": "stderr",
     "output_type": "stream",
     "text": [
      "2021-12-01 14:48:17,186 - offworld_gym - INFO - Environment step is complete.\n",
      "INFO:Environment step is complete.\n",
      "2021-12-01 14:48:17,200 - offworld_gym - INFO - Step count: 6\n",
      "INFO:Step count: 6\n"
     ]
    },
    {
     "name": "stdout",
     "output_type": "stream",
     "text": [
      "\r",
      "Total steps: 308 in 40 episodes"
     ]
    },
    {
     "name": "stderr",
     "output_type": "stream",
     "text": [
      "2021-12-01 14:48:24,242 - offworld_gym - INFO - Environment step is complete.\n",
      "INFO:Environment step is complete.\n",
      "2021-12-01 14:48:24,253 - offworld_gym - INFO - Step count: 7\n",
      "INFO:Step count: 7\n"
     ]
    },
    {
     "name": "stdout",
     "output_type": "stream",
     "text": [
      "\r",
      "Total steps: 309 in 40 episodes"
     ]
    },
    {
     "name": "stderr",
     "output_type": "stream",
     "text": [
      "2021-12-01 14:48:31,498 - offworld_gym - INFO - Environment step is complete.\n",
      "INFO:Environment step is complete.\n",
      "2021-12-01 14:48:31,510 - offworld_gym - INFO - Step count: 8\n",
      "INFO:Step count: 8\n"
     ]
    },
    {
     "name": "stdout",
     "output_type": "stream",
     "text": [
      "\r",
      "Total steps: 310 in 40 episodes"
     ]
    },
    {
     "name": "stderr",
     "output_type": "stream",
     "text": [
      "2021-12-01 14:48:37,871 - offworld_gym - INFO - Environment step is complete.\n",
      "INFO:Environment step is complete.\n",
      "2021-12-01 14:48:37,882 - offworld_gym - INFO - Step count: 9\n",
      "INFO:Step count: 9\n"
     ]
    },
    {
     "name": "stdout",
     "output_type": "stream",
     "text": [
      "\r",
      "Total steps: 311 in 40 episodes"
     ]
    },
    {
     "name": "stderr",
     "output_type": "stream",
     "text": [
      "2021-12-01 14:48:44,766 - offworld_gym - INFO - Environment step is complete.\n",
      "INFO:Environment step is complete.\n",
      "2021-12-01 14:48:44,777 - offworld_gym - INFO - Step count: 10\n",
      "INFO:Step count: 10\n"
     ]
    },
    {
     "name": "stdout",
     "output_type": "stream",
     "text": [
      "\r",
      "Total steps: 312 in 40 episodes"
     ]
    },
    {
     "name": "stderr",
     "output_type": "stream",
     "text": [
      "2021-12-01 14:48:50,530 - offworld_gym - INFO - Environment step is complete.\n",
      "INFO:Environment step is complete.\n",
      "2021-12-01 14:48:50,541 - offworld_gym - INFO - Step count: 11\n",
      "INFO:Step count: 11\n"
     ]
    },
    {
     "name": "stdout",
     "output_type": "stream",
     "text": [
      "\r",
      "Total steps: 313 in 40 episodes"
     ]
    },
    {
     "name": "stderr",
     "output_type": "stream",
     "text": [
      "2021-12-01 14:48:56,693 - offworld_gym - INFO - Environment step is complete.\n",
      "INFO:Environment step is complete.\n",
      "2021-12-01 14:48:56,706 - offworld_gym - INFO - Step count: 12\n",
      "INFO:Step count: 12\n"
     ]
    },
    {
     "name": "stdout",
     "output_type": "stream",
     "text": [
      "\r",
      "Total steps: 314 in 40 episodes"
     ]
    },
    {
     "name": "stderr",
     "output_type": "stream",
     "text": [
      "2021-12-01 14:49:02,961 - offworld_gym - INFO - Environment step is complete.\n",
      "INFO:Environment step is complete.\n",
      "2021-12-01 14:49:02,972 - offworld_gym - INFO - Step count: 13\n",
      "INFO:Step count: 13\n"
     ]
    },
    {
     "name": "stdout",
     "output_type": "stream",
     "text": [
      "\r",
      "Total steps: 315 in 40 episodes"
     ]
    },
    {
     "name": "stderr",
     "output_type": "stream",
     "text": [
      "2021-12-01 14:49:08,627 - offworld_gym - INFO - Environment step is complete.\n",
      "INFO:Environment step is complete.\n",
      "2021-12-01 14:49:08,638 - offworld_gym - INFO - Step count: 14\n",
      "INFO:Step count: 14\n"
     ]
    },
    {
     "name": "stdout",
     "output_type": "stream",
     "text": [
      "\r",
      "Total steps: 316 in 40 episodes"
     ]
    },
    {
     "name": "stderr",
     "output_type": "stream",
     "text": [
      "2021-12-01 14:49:14,990 - offworld_gym - INFO - Environment step is complete.\n",
      "INFO:Environment step is complete.\n",
      "2021-12-01 14:49:15,001 - offworld_gym - INFO - Step count: 15\n",
      "INFO:Step count: 15\n"
     ]
    },
    {
     "name": "stdout",
     "output_type": "stream",
     "text": [
      "\r",
      "Total steps: 317 in 40 episodes"
     ]
    },
    {
     "name": "stderr",
     "output_type": "stream",
     "text": [
      "2021-12-01 14:49:20,466 - offworld_gym - INFO - Environment step is complete.\n",
      "INFO:Environment step is complete.\n",
      "2021-12-01 14:49:20,478 - offworld_gym - INFO - Step count: 16\n",
      "INFO:Step count: 16\n"
     ]
    },
    {
     "name": "stdout",
     "output_type": "stream",
     "text": [
      "\r",
      "Total steps: 318 in 40 episodes"
     ]
    },
    {
     "name": "stderr",
     "output_type": "stream",
     "text": [
      "2021-12-01 14:49:27,028 - offworld_gym - INFO - Environment step is complete.\n",
      "INFO:Environment step is complete.\n",
      "2021-12-01 14:49:27,039 - offworld_gym - INFO - Step count: 17\n",
      "INFO:Step count: 17\n"
     ]
    },
    {
     "name": "stdout",
     "output_type": "stream",
     "text": [
      "\r",
      "Total steps: 319 in 40 episodes"
     ]
    },
    {
     "name": "stderr",
     "output_type": "stream",
     "text": [
      "2021-12-01 14:49:33,839 - offworld_gym - INFO - Environment step is complete.\n",
      "INFO:Environment step is complete.\n",
      "2021-12-01 14:49:33,860 - offworld_gym - INFO - Step count: 18\n",
      "INFO:Step count: 18\n"
     ]
    },
    {
     "name": "stdout",
     "output_type": "stream",
     "text": [
      "\r",
      "Total steps: 320 in 40 episodes"
     ]
    },
    {
     "name": "stderr",
     "output_type": "stream",
     "text": [
      "2021-12-01 14:49:40,034 - offworld_gym - INFO - Environment step is complete.\n",
      "INFO:Environment step is complete.\n",
      "2021-12-01 14:49:40,045 - offworld_gym - INFO - Step count: 19\n",
      "INFO:Step count: 19\n"
     ]
    },
    {
     "name": "stdout",
     "output_type": "stream",
     "text": [
      "\r",
      "Total steps: 321 in 40 episodes"
     ]
    },
    {
     "name": "stderr",
     "output_type": "stream",
     "text": [
      "2021-12-01 14:49:46,839 - offworld_gym - INFO - Environment step is complete.\n",
      "INFO:Environment step is complete.\n",
      "2021-12-01 14:49:46,851 - offworld_gym - INFO - Step count: 20\n",
      "INFO:Step count: 20\n"
     ]
    },
    {
     "name": "stdout",
     "output_type": "stream",
     "text": [
      "\r",
      "Total steps: 322 in 40 episodes"
     ]
    },
    {
     "name": "stderr",
     "output_type": "stream",
     "text": [
      "2021-12-01 14:49:52,606 - offworld_gym - INFO - Environment step is complete.\n",
      "INFO:Environment step is complete.\n",
      "2021-12-01 14:49:52,617 - offworld_gym - INFO - Step count: 21\n",
      "INFO:Step count: 21\n"
     ]
    },
    {
     "name": "stdout",
     "output_type": "stream",
     "text": [
      "\r",
      "Total steps: 323 in 40 episodes"
     ]
    },
    {
     "name": "stderr",
     "output_type": "stream",
     "text": [
      "2021-12-01 14:49:59,695 - offworld_gym - INFO - Environment step is complete.\n",
      "INFO:Environment step is complete.\n",
      "2021-12-01 14:49:59,715 - offworld_gym - INFO - Step count: 22\n",
      "INFO:Step count: 22\n"
     ]
    },
    {
     "name": "stdout",
     "output_type": "stream",
     "text": [
      "\r",
      "Total steps: 324 in 40 episodes"
     ]
    },
    {
     "name": "stderr",
     "output_type": "stream",
     "text": [
      "2021-12-01 14:50:06,528 - offworld_gym - INFO - Environment step is complete.\n",
      "INFO:Environment step is complete.\n",
      "2021-12-01 14:50:06,539 - offworld_gym - INFO - Step count: 23\n",
      "INFO:Step count: 23\n"
     ]
    },
    {
     "name": "stdout",
     "output_type": "stream",
     "text": [
      "\r",
      "Total steps: 325 in 40 episodes"
     ]
    },
    {
     "name": "stderr",
     "output_type": "stream",
     "text": [
      "2021-12-01 14:50:13,444 - offworld_gym - INFO - Environment step is complete.\n",
      "INFO:Environment step is complete.\n",
      "2021-12-01 14:50:13,464 - offworld_gym - INFO - Step count: 24\n",
      "INFO:Step count: 24\n"
     ]
    },
    {
     "name": "stdout",
     "output_type": "stream",
     "text": [
      "\r",
      "Total steps: 326 in 40 episodes"
     ]
    },
    {
     "name": "stderr",
     "output_type": "stream",
     "text": [
      "2021-12-01 14:50:20,334 - offworld_gym - INFO - Environment step is complete.\n",
      "INFO:Environment step is complete.\n",
      "2021-12-01 14:50:20,346 - offworld_gym - INFO - Step count: 25\n",
      "INFO:Step count: 25\n"
     ]
    },
    {
     "name": "stdout",
     "output_type": "stream",
     "text": [
      "\r",
      "Total steps: 327 in 40 episodes"
     ]
    },
    {
     "name": "stderr",
     "output_type": "stream",
     "text": [
      "2021-12-01 14:50:27,347 - offworld_gym - INFO - Environment step is complete.\n",
      "INFO:Environment step is complete.\n",
      "2021-12-01 14:50:27,359 - offworld_gym - INFO - Step count: 26\n",
      "INFO:Step count: 26\n"
     ]
    },
    {
     "name": "stdout",
     "output_type": "stream",
     "text": [
      "\r",
      "Total steps: 328 in 40 episodes"
     ]
    },
    {
     "name": "stderr",
     "output_type": "stream",
     "text": [
      "2021-12-01 14:50:34,833 - offworld_gym - INFO - Environment step is complete.\n",
      "INFO:Environment step is complete.\n",
      "2021-12-01 14:50:34,843 - offworld_gym - INFO - Step count: 27\n",
      "INFO:Step count: 27\n"
     ]
    },
    {
     "name": "stdout",
     "output_type": "stream",
     "text": [
      "\r",
      "Total steps: 329 in 40 episodes"
     ]
    },
    {
     "name": "stderr",
     "output_type": "stream",
     "text": [
      "2021-12-01 14:50:42,009 - offworld_gym - INFO - Environment step is complete.\n",
      "INFO:Environment step is complete.\n",
      "2021-12-01 14:50:42,020 - offworld_gym - INFO - Step count: 28\n",
      "INFO:Step count: 28\n"
     ]
    },
    {
     "name": "stdout",
     "output_type": "stream",
     "text": [
      "\r",
      "Total steps: 330 in 40 episodes"
     ]
    },
    {
     "name": "stderr",
     "output_type": "stream",
     "text": [
      "2021-12-01 14:50:49,102 - offworld_gym - INFO - Environment step is complete.\n",
      "INFO:Environment step is complete.\n",
      "2021-12-01 14:50:49,113 - offworld_gym - INFO - Step count: 29\n",
      "INFO:Step count: 29\n"
     ]
    },
    {
     "name": "stdout",
     "output_type": "stream",
     "text": [
      "\r",
      "Total steps: 331 in 40 episodes"
     ]
    },
    {
     "name": "stderr",
     "output_type": "stream",
     "text": [
      "2021-12-01 14:50:55,740 - offworld_gym - INFO - Environment step is complete.\n",
      "INFO:Environment step is complete.\n",
      "2021-12-01 14:50:55,751 - offworld_gym - INFO - Step count: 30\n",
      "INFO:Step count: 30\n"
     ]
    },
    {
     "name": "stdout",
     "output_type": "stream",
     "text": [
      "\r",
      "Total steps: 332 in 40 episodes"
     ]
    },
    {
     "name": "stderr",
     "output_type": "stream",
     "text": [
      "2021-12-01 14:51:02,545 - offworld_gym - INFO - Environment step is complete.\n",
      "INFO:Environment step is complete.\n",
      "2021-12-01 14:51:02,555 - offworld_gym - INFO - Step count: 31\n",
      "INFO:Step count: 31\n"
     ]
    },
    {
     "name": "stdout",
     "output_type": "stream",
     "text": [
      "\r",
      "Total steps: 333 in 40 episodes"
     ]
    },
    {
     "name": "stderr",
     "output_type": "stream",
     "text": [
      "2021-12-01 14:51:08,904 - offworld_gym - INFO - Environment step is complete.\n",
      "INFO:Environment step is complete.\n",
      "2021-12-01 14:51:08,916 - offworld_gym - INFO - Step count: 32\n",
      "INFO:Step count: 32\n"
     ]
    },
    {
     "name": "stdout",
     "output_type": "stream",
     "text": [
      "\r",
      "Total steps: 334 in 40 episodes"
     ]
    },
    {
     "name": "stderr",
     "output_type": "stream",
     "text": [
      "2021-12-01 14:51:15,266 - offworld_gym - INFO - Environment step is complete.\n",
      "INFO:Environment step is complete.\n",
      "2021-12-01 14:51:15,277 - offworld_gym - INFO - Step count: 33\n",
      "INFO:Step count: 33\n"
     ]
    },
    {
     "name": "stdout",
     "output_type": "stream",
     "text": [
      "\r",
      "Total steps: 335 in 40 episodes"
     ]
    },
    {
     "name": "stderr",
     "output_type": "stream",
     "text": [
      "2021-12-01 14:51:23,437 - offworld_gym - INFO - Environment step is complete.\n",
      "INFO:Environment step is complete.\n",
      "2021-12-01 14:51:23,438 - offworld_gym - INFO - Environment episode is complete: 33 steps, reward = 1\n",
      "INFO:Environment episode is complete: 33 steps, reward = 1\n",
      "2021-12-01 14:51:23,452 - offworld_gym - INFO - Resetting the episode and moving to a random initial position...\n",
      "INFO:Resetting the episode and moving to a random initial position...\n"
     ]
    },
    {
     "name": "stdout",
     "output_type": "stream",
     "text": [
      "\r",
      "Total steps: 336 in 40 episodes"
     ]
    },
    {
     "name": "stderr",
     "output_type": "stream",
     "text": [
      "2021-12-01 14:51:48,885 - offworld_gym - INFO - Environment reset complete\n",
      "INFO:Environment reset complete\n",
      "2021-12-01 14:51:48,901 - offworld_gym - INFO - Step count: 1\n",
      "INFO:Step count: 1\n"
     ]
    },
    {
     "name": "stdout",
     "output_type": "stream",
     "text": [
      "\r",
      "Total steps: 337 in 41 episodes"
     ]
    },
    {
     "name": "stderr",
     "output_type": "stream",
     "text": [
      "2021-12-01 14:51:56,074 - offworld_gym - INFO - Environment step is complete.\n",
      "INFO:Environment step is complete.\n",
      "2021-12-01 14:51:56,082 - offworld_gym - INFO - Step count: 2\n",
      "INFO:Step count: 2\n"
     ]
    },
    {
     "name": "stdout",
     "output_type": "stream",
     "text": [
      "\r",
      "Total steps: 337 in 41 episodes"
     ]
    },
    {
     "name": "stderr",
     "output_type": "stream",
     "text": [
      "2021-12-01 14:52:02,721 - offworld_gym - INFO - Environment step is complete.\n",
      "INFO:Environment step is complete.\n",
      "2021-12-01 14:52:02,731 - offworld_gym - INFO - Step count: 3\n",
      "INFO:Step count: 3\n"
     ]
    },
    {
     "name": "stdout",
     "output_type": "stream",
     "text": [
      "\r",
      "Total steps: 338 in 41 episodes"
     ]
    },
    {
     "name": "stderr",
     "output_type": "stream",
     "text": [
      "2021-12-01 14:52:09,277 - offworld_gym - INFO - Environment step is complete.\n",
      "INFO:Environment step is complete.\n",
      "2021-12-01 14:52:09,285 - offworld_gym - INFO - Step count: 4\n",
      "INFO:Step count: 4\n"
     ]
    },
    {
     "name": "stdout",
     "output_type": "stream",
     "text": [
      "\r",
      "Total steps: 339 in 41 episodes"
     ]
    },
    {
     "name": "stderr",
     "output_type": "stream",
     "text": [
      "2021-12-01 14:52:15,849 - offworld_gym - INFO - Environment step is complete.\n",
      "INFO:Environment step is complete.\n",
      "2021-12-01 14:52:15,859 - offworld_gym - INFO - Step count: 5\n",
      "INFO:Step count: 5\n"
     ]
    },
    {
     "name": "stdout",
     "output_type": "stream",
     "text": [
      "\r",
      "Total steps: 340 in 41 episodes"
     ]
    },
    {
     "name": "stderr",
     "output_type": "stream",
     "text": [
      "2021-12-01 14:52:21,741 - offworld_gym - INFO - Environment step is complete.\n",
      "INFO:Environment step is complete.\n",
      "2021-12-01 14:52:21,750 - offworld_gym - INFO - Step count: 6\n",
      "INFO:Step count: 6\n"
     ]
    },
    {
     "name": "stdout",
     "output_type": "stream",
     "text": [
      "\r",
      "Total steps: 341 in 41 episodes"
     ]
    },
    {
     "name": "stderr",
     "output_type": "stream",
     "text": [
      "2021-12-01 14:52:28,442 - offworld_gym - INFO - Environment step is complete.\n",
      "INFO:Environment step is complete.\n",
      "2021-12-01 14:52:28,453 - offworld_gym - INFO - Step count: 7\n",
      "INFO:Step count: 7\n"
     ]
    },
    {
     "name": "stdout",
     "output_type": "stream",
     "text": [
      "\r",
      "Total steps: 342 in 41 episodes"
     ]
    },
    {
     "name": "stderr",
     "output_type": "stream",
     "text": [
      "2021-12-01 14:52:34,973 - offworld_gym - INFO - Environment step is complete.\n",
      "INFO:Environment step is complete.\n",
      "2021-12-01 14:52:34,983 - offworld_gym - INFO - Step count: 8\n",
      "INFO:Step count: 8\n"
     ]
    },
    {
     "name": "stdout",
     "output_type": "stream",
     "text": [
      "\r",
      "Total steps: 343 in 41 episodes"
     ]
    },
    {
     "name": "stderr",
     "output_type": "stream",
     "text": [
      "2021-12-01 14:52:40,915 - offworld_gym - INFO - Environment step is complete.\n",
      "INFO:Environment step is complete.\n",
      "2021-12-01 14:52:40,923 - offworld_gym - INFO - Step count: 9\n",
      "INFO:Step count: 9\n"
     ]
    },
    {
     "name": "stdout",
     "output_type": "stream",
     "text": [
      "\r",
      "Total steps: 344 in 41 episodes"
     ]
    },
    {
     "name": "stderr",
     "output_type": "stream",
     "text": [
      "2021-12-01 14:52:47,706 - offworld_gym - INFO - Environment step is complete.\n",
      "INFO:Environment step is complete.\n",
      "2021-12-01 14:52:47,715 - offworld_gym - INFO - Step count: 10\n",
      "INFO:Step count: 10\n"
     ]
    },
    {
     "name": "stdout",
     "output_type": "stream",
     "text": [
      "\r",
      "Total steps: 345 in 41 episodes"
     ]
    },
    {
     "name": "stderr",
     "output_type": "stream",
     "text": [
      "2021-12-01 14:52:53,914 - offworld_gym - INFO - Environment step is complete.\n",
      "INFO:Environment step is complete.\n",
      "2021-12-01 14:52:53,923 - offworld_gym - INFO - Step count: 11\n",
      "INFO:Step count: 11\n"
     ]
    },
    {
     "name": "stdout",
     "output_type": "stream",
     "text": [
      "\r",
      "Total steps: 346 in 41 episodes"
     ]
    },
    {
     "name": "stderr",
     "output_type": "stream",
     "text": [
      "2021-12-01 14:53:00,139 - offworld_gym - INFO - Environment step is complete.\n",
      "INFO:Environment step is complete.\n",
      "2021-12-01 14:53:00,148 - offworld_gym - INFO - Step count: 12\n",
      "INFO:Step count: 12\n"
     ]
    },
    {
     "name": "stdout",
     "output_type": "stream",
     "text": [
      "\r",
      "Total steps: 347 in 41 episodes"
     ]
    },
    {
     "name": "stderr",
     "output_type": "stream",
     "text": [
      "2021-12-01 14:53:06,992 - offworld_gym - INFO - Environment step is complete.\n",
      "INFO:Environment step is complete.\n",
      "2021-12-01 14:53:07,002 - offworld_gym - INFO - Step count: 13\n",
      "INFO:Step count: 13\n"
     ]
    },
    {
     "name": "stdout",
     "output_type": "stream",
     "text": [
      "\r",
      "Total steps: 348 in 41 episodes"
     ]
    },
    {
     "name": "stderr",
     "output_type": "stream",
     "text": [
      "2021-12-01 14:53:13,923 - offworld_gym - INFO - Environment step is complete.\n",
      "INFO:Environment step is complete.\n",
      "2021-12-01 14:53:13,934 - offworld_gym - INFO - Step count: 14\n",
      "INFO:Step count: 14\n"
     ]
    },
    {
     "name": "stdout",
     "output_type": "stream",
     "text": [
      "\r",
      "Total steps: 349 in 41 episodes"
     ]
    },
    {
     "name": "stderr",
     "output_type": "stream",
     "text": [
      "2021-12-01 14:53:20,669 - offworld_gym - INFO - Environment step is complete.\n",
      "INFO:Environment step is complete.\n",
      "2021-12-01 14:53:20,679 - offworld_gym - INFO - Step count: 15\n",
      "INFO:Step count: 15\n"
     ]
    },
    {
     "name": "stdout",
     "output_type": "stream",
     "text": [
      "\r",
      "Total steps: 350 in 41 episodes"
     ]
    },
    {
     "name": "stderr",
     "output_type": "stream",
     "text": [
      "2021-12-01 14:53:27,236 - offworld_gym - INFO - Environment step is complete.\n",
      "INFO:Environment step is complete.\n",
      "2021-12-01 14:53:27,245 - offworld_gym - INFO - Step count: 16\n",
      "INFO:Step count: 16\n"
     ]
    },
    {
     "name": "stdout",
     "output_type": "stream",
     "text": [
      "\r",
      "Total steps: 351 in 41 episodes"
     ]
    },
    {
     "name": "stderr",
     "output_type": "stream",
     "text": [
      "2021-12-01 14:53:34,177 - offworld_gym - INFO - Environment step is complete.\n",
      "INFO:Environment step is complete.\n",
      "2021-12-01 14:53:34,189 - offworld_gym - INFO - Step count: 17\n",
      "INFO:Step count: 17\n"
     ]
    },
    {
     "name": "stdout",
     "output_type": "stream",
     "text": [
      "\r",
      "Total steps: 352 in 41 episodes"
     ]
    },
    {
     "name": "stderr",
     "output_type": "stream",
     "text": [
      "2021-12-01 14:53:41,932 - offworld_gym - INFO - Environment step is complete.\n",
      "INFO:Environment step is complete.\n",
      "2021-12-01 14:53:41,952 - offworld_gym - INFO - Step count: 18\n",
      "INFO:Step count: 18\n"
     ]
    },
    {
     "name": "stdout",
     "output_type": "stream",
     "text": [
      "\r",
      "Total steps: 353 in 41 episodes"
     ]
    },
    {
     "name": "stderr",
     "output_type": "stream",
     "text": [
      "2021-12-01 14:53:50,740 - offworld_gym - INFO - Environment step is complete.\n",
      "INFO:Environment step is complete.\n",
      "2021-12-01 14:53:50,752 - offworld_gym - INFO - Step count: 19\n",
      "INFO:Step count: 19\n"
     ]
    },
    {
     "name": "stdout",
     "output_type": "stream",
     "text": [
      "\r",
      "Total steps: 354 in 41 episodes"
     ]
    },
    {
     "name": "stderr",
     "output_type": "stream",
     "text": [
      "2021-12-01 14:53:58,440 - offworld_gym - INFO - Environment step is complete.\n",
      "INFO:Environment step is complete.\n",
      "2021-12-01 14:53:58,461 - offworld_gym - INFO - Step count: 20\n",
      "INFO:Step count: 20\n"
     ]
    },
    {
     "name": "stdout",
     "output_type": "stream",
     "text": [
      "\r",
      "Total steps: 355 in 41 episodes"
     ]
    },
    {
     "name": "stderr",
     "output_type": "stream",
     "text": [
      "2021-12-01 14:54:06,002 - offworld_gym - INFO - Environment step is complete.\n",
      "INFO:Environment step is complete.\n",
      "2021-12-01 14:54:06,021 - offworld_gym - INFO - Step count: 21\n",
      "INFO:Step count: 21\n"
     ]
    },
    {
     "name": "stdout",
     "output_type": "stream",
     "text": [
      "\r",
      "Total steps: 356 in 41 episodes"
     ]
    },
    {
     "name": "stderr",
     "output_type": "stream",
     "text": [
      "2021-12-01 14:54:13,068 - offworld_gym - INFO - Environment step is complete.\n",
      "INFO:Environment step is complete.\n",
      "2021-12-01 14:54:13,088 - offworld_gym - INFO - Step count: 22\n",
      "INFO:Step count: 22\n"
     ]
    },
    {
     "name": "stdout",
     "output_type": "stream",
     "text": [
      "\r",
      "Total steps: 357 in 41 episodes"
     ]
    },
    {
     "name": "stderr",
     "output_type": "stream",
     "text": [
      "2021-12-01 14:54:21,515 - offworld_gym - INFO - Environment step is complete.\n",
      "INFO:Environment step is complete.\n",
      "2021-12-01 14:54:21,526 - offworld_gym - INFO - Step count: 23\n",
      "INFO:Step count: 23\n"
     ]
    },
    {
     "name": "stdout",
     "output_type": "stream",
     "text": [
      "\r",
      "Total steps: 358 in 41 episodes"
     ]
    },
    {
     "name": "stderr",
     "output_type": "stream",
     "text": [
      "2021-12-01 14:54:29,104 - offworld_gym - INFO - Environment step is complete.\n",
      "INFO:Environment step is complete.\n",
      "2021-12-01 14:54:29,116 - offworld_gym - INFO - Step count: 24\n",
      "INFO:Step count: 24\n"
     ]
    },
    {
     "name": "stdout",
     "output_type": "stream",
     "text": [
      "\r",
      "Total steps: 359 in 41 episodes"
     ]
    },
    {
     "name": "stderr",
     "output_type": "stream",
     "text": [
      "2021-12-01 14:54:37,373 - offworld_gym - INFO - Environment step is complete.\n",
      "INFO:Environment step is complete.\n",
      "2021-12-01 14:54:37,392 - offworld_gym - INFO - Step count: 25\n",
      "INFO:Step count: 25\n"
     ]
    },
    {
     "name": "stdout",
     "output_type": "stream",
     "text": [
      "\r",
      "Total steps: 360 in 41 episodes"
     ]
    },
    {
     "name": "stderr",
     "output_type": "stream",
     "text": [
      "2021-12-01 14:54:43,869 - offworld_gym - INFO - Environment step is complete.\n",
      "INFO:Environment step is complete.\n",
      "2021-12-01 14:54:43,879 - offworld_gym - INFO - Step count: 26\n",
      "INFO:Step count: 26\n"
     ]
    },
    {
     "name": "stdout",
     "output_type": "stream",
     "text": [
      "\r",
      "Total steps: 361 in 41 episodes"
     ]
    },
    {
     "name": "stderr",
     "output_type": "stream",
     "text": [
      "2021-12-01 14:54:51,298 - offworld_gym - INFO - Environment step is complete.\n",
      "INFO:Environment step is complete.\n",
      "2021-12-01 14:54:51,315 - offworld_gym - INFO - Step count: 27\n",
      "INFO:Step count: 27\n"
     ]
    },
    {
     "name": "stdout",
     "output_type": "stream",
     "text": [
      "\r",
      "Total steps: 362 in 41 episodes"
     ]
    },
    {
     "name": "stderr",
     "output_type": "stream",
     "text": [
      "2021-12-01 14:55:00,184 - offworld_gym - INFO - Environment step is complete.\n",
      "INFO:Environment step is complete.\n",
      "2021-12-01 14:55:00,184 - offworld_gym - INFO - Environment episode is complete: 27 steps, reward = 0\n",
      "INFO:Environment episode is complete: 27 steps, reward = 0\n",
      "2021-12-01 14:55:00,203 - offworld_gym - INFO - Resetting the episode and moving to a random initial position...\n",
      "INFO:Resetting the episode and moving to a random initial position...\n"
     ]
    },
    {
     "name": "stdout",
     "output_type": "stream",
     "text": [
      "\r",
      "Total steps: 363 in 41 episodes"
     ]
    },
    {
     "name": "stderr",
     "output_type": "stream",
     "text": [
      "2021-12-01 14:55:26,801 - offworld_gym - INFO - Environment reset complete\n",
      "INFO:Environment reset complete\n",
      "2021-12-01 14:55:26,830 - offworld_gym - INFO - Step count: 1\n",
      "INFO:Step count: 1\n"
     ]
    },
    {
     "name": "stdout",
     "output_type": "stream",
     "text": [
      "\r",
      "Total steps: 364 in 42 episodes"
     ]
    },
    {
     "name": "stderr",
     "output_type": "stream",
     "text": [
      "2021-12-01 14:55:34,077 - offworld_gym - INFO - Environment step is complete.\n",
      "INFO:Environment step is complete.\n",
      "2021-12-01 14:55:34,094 - offworld_gym - INFO - Step count: 2\n",
      "INFO:Step count: 2\n"
     ]
    },
    {
     "name": "stdout",
     "output_type": "stream",
     "text": [
      "\r",
      "Total steps: 364 in 42 episodes"
     ]
    },
    {
     "name": "stderr",
     "output_type": "stream",
     "text": [
      "2021-12-01 14:55:41,724 - offworld_gym - INFO - Environment step is complete.\n",
      "INFO:Environment step is complete.\n",
      "2021-12-01 14:55:41,734 - offworld_gym - INFO - Step count: 3\n",
      "INFO:Step count: 3\n"
     ]
    },
    {
     "name": "stdout",
     "output_type": "stream",
     "text": [
      "\r",
      "Total steps: 365 in 42 episodes"
     ]
    },
    {
     "name": "stderr",
     "output_type": "stream",
     "text": [
      "2021-12-01 14:55:48,608 - offworld_gym - INFO - Environment step is complete.\n",
      "INFO:Environment step is complete.\n",
      "2021-12-01 14:55:48,627 - offworld_gym - INFO - Step count: 4\n",
      "INFO:Step count: 4\n"
     ]
    },
    {
     "name": "stdout",
     "output_type": "stream",
     "text": [
      "\r",
      "Total steps: 366 in 42 episodes"
     ]
    },
    {
     "name": "stderr",
     "output_type": "stream",
     "text": [
      "2021-12-01 14:55:54,989 - offworld_gym - INFO - Environment step is complete.\n",
      "INFO:Environment step is complete.\n",
      "2021-12-01 14:55:55,007 - offworld_gym - INFO - Step count: 5\n",
      "INFO:Step count: 5\n"
     ]
    },
    {
     "name": "stdout",
     "output_type": "stream",
     "text": [
      "\r",
      "Total steps: 367 in 42 episodes"
     ]
    },
    {
     "name": "stderr",
     "output_type": "stream",
     "text": [
      "2021-12-01 14:56:01,012 - offworld_gym - INFO - Environment step is complete.\n",
      "INFO:Environment step is complete.\n",
      "2021-12-01 14:56:01,024 - offworld_gym - INFO - Step count: 6\n",
      "INFO:Step count: 6\n"
     ]
    },
    {
     "name": "stdout",
     "output_type": "stream",
     "text": [
      "\r",
      "Total steps: 368 in 42 episodes"
     ]
    },
    {
     "name": "stderr",
     "output_type": "stream",
     "text": [
      "2021-12-01 14:56:06,705 - offworld_gym - INFO - Environment step is complete.\n",
      "INFO:Environment step is complete.\n",
      "2021-12-01 14:56:06,722 - offworld_gym - INFO - Step count: 7\n",
      "INFO:Step count: 7\n"
     ]
    },
    {
     "name": "stdout",
     "output_type": "stream",
     "text": [
      "\r",
      "Total steps: 369 in 42 episodes"
     ]
    },
    {
     "name": "stderr",
     "output_type": "stream",
     "text": [
      "2021-12-01 14:56:15,579 - offworld_gym - INFO - Environment step is complete.\n",
      "INFO:Environment step is complete.\n",
      "2021-12-01 14:56:15,597 - offworld_gym - INFO - Step count: 8\n",
      "INFO:Step count: 8\n"
     ]
    },
    {
     "name": "stdout",
     "output_type": "stream",
     "text": [
      "\r",
      "Total steps: 370 in 42 episodes"
     ]
    },
    {
     "name": "stderr",
     "output_type": "stream",
     "text": [
      "2021-12-01 14:56:21,914 - offworld_gym - INFO - Environment step is complete.\n",
      "INFO:Environment step is complete.\n",
      "2021-12-01 14:56:21,933 - offworld_gym - INFO - Step count: 9\n",
      "INFO:Step count: 9\n"
     ]
    },
    {
     "name": "stdout",
     "output_type": "stream",
     "text": [
      "\r",
      "Total steps: 371 in 42 episodes"
     ]
    },
    {
     "name": "stderr",
     "output_type": "stream",
     "text": [
      "2021-12-01 14:56:27,966 - offworld_gym - INFO - Environment step is complete.\n",
      "INFO:Environment step is complete.\n",
      "2021-12-01 14:56:27,984 - offworld_gym - INFO - Step count: 10\n",
      "INFO:Step count: 10\n"
     ]
    },
    {
     "name": "stdout",
     "output_type": "stream",
     "text": [
      "\r",
      "Total steps: 372 in 42 episodes"
     ]
    },
    {
     "name": "stderr",
     "output_type": "stream",
     "text": [
      "2021-12-01 14:56:34,354 - offworld_gym - INFO - Environment step is complete.\n",
      "INFO:Environment step is complete.\n",
      "2021-12-01 14:56:34,365 - offworld_gym - INFO - Step count: 11\n",
      "INFO:Step count: 11\n"
     ]
    },
    {
     "name": "stdout",
     "output_type": "stream",
     "text": [
      "\r",
      "Total steps: 373 in 42 episodes"
     ]
    },
    {
     "name": "stderr",
     "output_type": "stream",
     "text": [
      "2021-12-01 14:56:41,156 - offworld_gym - INFO - Environment step is complete.\n",
      "INFO:Environment step is complete.\n",
      "2021-12-01 14:56:41,166 - offworld_gym - INFO - Step count: 12\n",
      "INFO:Step count: 12\n"
     ]
    },
    {
     "name": "stdout",
     "output_type": "stream",
     "text": [
      "\r",
      "Total steps: 374 in 42 episodes"
     ]
    },
    {
     "name": "stderr",
     "output_type": "stream",
     "text": [
      "2021-12-01 14:56:47,955 - offworld_gym - INFO - Environment step is complete.\n",
      "INFO:Environment step is complete.\n",
      "2021-12-01 14:56:47,965 - offworld_gym - INFO - Step count: 13\n",
      "INFO:Step count: 13\n"
     ]
    },
    {
     "name": "stdout",
     "output_type": "stream",
     "text": [
      "\r",
      "Total steps: 375 in 42 episodes"
     ]
    },
    {
     "name": "stderr",
     "output_type": "stream",
     "text": [
      "2021-12-01 14:56:54,913 - offworld_gym - INFO - Environment step is complete.\n",
      "INFO:Environment step is complete.\n",
      "2021-12-01 14:56:54,921 - offworld_gym - INFO - Step count: 14\n",
      "INFO:Step count: 14\n"
     ]
    },
    {
     "name": "stdout",
     "output_type": "stream",
     "text": [
      "\r",
      "Total steps: 376 in 42 episodes"
     ]
    },
    {
     "name": "stderr",
     "output_type": "stream",
     "text": [
      "2021-12-01 14:57:02,146 - offworld_gym - INFO - Environment step is complete.\n",
      "INFO:Environment step is complete.\n",
      "2021-12-01 14:57:02,147 - offworld_gym - INFO - Environment episode is complete: 14 steps, reward = 0\n",
      "INFO:Environment episode is complete: 14 steps, reward = 0\n",
      "2021-12-01 14:57:02,156 - offworld_gym - INFO - Resetting the episode and moving to a random initial position...\n",
      "INFO:Resetting the episode and moving to a random initial position...\n"
     ]
    },
    {
     "name": "stdout",
     "output_type": "stream",
     "text": [
      "\r",
      "Total steps: 377 in 42 episodes"
     ]
    },
    {
     "name": "stderr",
     "output_type": "stream",
     "text": [
      "2021-12-01 14:57:28,120 - offworld_gym - INFO - Environment reset complete\n",
      "INFO:Environment reset complete\n",
      "2021-12-01 14:57:28,139 - offworld_gym - INFO - Step count: 1\n",
      "INFO:Step count: 1\n"
     ]
    },
    {
     "name": "stdout",
     "output_type": "stream",
     "text": [
      "\r",
      "Total steps: 378 in 43 episodes"
     ]
    },
    {
     "name": "stderr",
     "output_type": "stream",
     "text": [
      "2021-12-01 14:57:35,831 - offworld_gym - INFO - Environment step is complete.\n",
      "INFO:Environment step is complete.\n",
      "2021-12-01 14:57:35,840 - offworld_gym - INFO - Step count: 2\n",
      "INFO:Step count: 2\n"
     ]
    },
    {
     "name": "stdout",
     "output_type": "stream",
     "text": [
      "\r",
      "Total steps: 378 in 43 episodes"
     ]
    },
    {
     "name": "stderr",
     "output_type": "stream",
     "text": [
      "2021-12-01 14:57:43,190 - offworld_gym - INFO - Environment step is complete.\n",
      "INFO:Environment step is complete.\n",
      "2021-12-01 14:57:43,198 - offworld_gym - INFO - Step count: 3\n",
      "INFO:Step count: 3\n"
     ]
    },
    {
     "name": "stdout",
     "output_type": "stream",
     "text": [
      "\r",
      "Total steps: 379 in 43 episodes"
     ]
    },
    {
     "name": "stderr",
     "output_type": "stream",
     "text": [
      "2021-12-01 14:57:50,679 - offworld_gym - INFO - Environment step is complete.\n",
      "INFO:Environment step is complete.\n",
      "2021-12-01 14:57:50,689 - offworld_gym - INFO - Step count: 4\n",
      "INFO:Step count: 4\n"
     ]
    },
    {
     "name": "stdout",
     "output_type": "stream",
     "text": [
      "\r",
      "Total steps: 380 in 43 episodes"
     ]
    },
    {
     "name": "stderr",
     "output_type": "stream",
     "text": [
      "2021-12-01 14:57:59,194 - offworld_gym - INFO - Environment step is complete.\n",
      "INFO:Environment step is complete.\n",
      "2021-12-01 14:57:59,195 - offworld_gym - INFO - Environment episode is complete: 4 steps, reward = 0\n",
      "INFO:Environment episode is complete: 4 steps, reward = 0\n",
      "2021-12-01 14:57:59,207 - offworld_gym - INFO - Resetting the episode and moving to a random initial position...\n",
      "INFO:Resetting the episode and moving to a random initial position...\n"
     ]
    },
    {
     "name": "stdout",
     "output_type": "stream",
     "text": [
      "\r",
      "Total steps: 381 in 43 episodes"
     ]
    },
    {
     "name": "stderr",
     "output_type": "stream",
     "text": [
      "2021-12-01 14:58:21,994 - offworld_gym - INFO - Environment reset complete\n",
      "INFO:Environment reset complete\n",
      "2021-12-01 14:58:22,010 - offworld_gym - INFO - Step count: 1\n",
      "INFO:Step count: 1\n"
     ]
    },
    {
     "name": "stdout",
     "output_type": "stream",
     "text": [
      "\r",
      "Total steps: 382 in 44 episodes"
     ]
    },
    {
     "name": "stderr",
     "output_type": "stream",
     "text": [
      "2021-12-01 14:58:27,789 - offworld_gym - INFO - Environment step is complete.\n",
      "INFO:Environment step is complete.\n",
      "2021-12-01 14:58:27,798 - offworld_gym - INFO - Step count: 2\n",
      "INFO:Step count: 2\n"
     ]
    },
    {
     "name": "stdout",
     "output_type": "stream",
     "text": [
      "\r",
      "Total steps: 382 in 44 episodes"
     ]
    },
    {
     "name": "stderr",
     "output_type": "stream",
     "text": [
      "2021-12-01 14:58:34,467 - offworld_gym - INFO - Environment step is complete.\n",
      "INFO:Environment step is complete.\n",
      "2021-12-01 14:58:34,476 - offworld_gym - INFO - Step count: 3\n",
      "INFO:Step count: 3\n"
     ]
    },
    {
     "name": "stdout",
     "output_type": "stream",
     "text": [
      "\r",
      "Total steps: 383 in 44 episodes"
     ]
    },
    {
     "name": "stderr",
     "output_type": "stream",
     "text": [
      "2021-12-01 14:58:41,879 - offworld_gym - INFO - Environment step is complete.\n",
      "INFO:Environment step is complete.\n",
      "2021-12-01 14:58:41,887 - offworld_gym - INFO - Step count: 4\n",
      "INFO:Step count: 4\n"
     ]
    },
    {
     "name": "stdout",
     "output_type": "stream",
     "text": [
      "\r",
      "Total steps: 384 in 44 episodes"
     ]
    },
    {
     "name": "stderr",
     "output_type": "stream",
     "text": [
      "2021-12-01 14:58:48,631 - offworld_gym - INFO - Environment step is complete.\n",
      "INFO:Environment step is complete.\n",
      "2021-12-01 14:58:48,638 - offworld_gym - INFO - Step count: 5\n",
      "INFO:Step count: 5\n"
     ]
    },
    {
     "name": "stdout",
     "output_type": "stream",
     "text": [
      "\r",
      "Total steps: 385 in 44 episodes"
     ]
    },
    {
     "name": "stderr",
     "output_type": "stream",
     "text": [
      "2021-12-01 14:58:55,647 - offworld_gym - INFO - Environment step is complete.\n",
      "INFO:Environment step is complete.\n",
      "2021-12-01 14:58:55,656 - offworld_gym - INFO - Step count: 6\n",
      "INFO:Step count: 6\n"
     ]
    },
    {
     "name": "stdout",
     "output_type": "stream",
     "text": [
      "\r",
      "Total steps: 386 in 44 episodes"
     ]
    },
    {
     "name": "stderr",
     "output_type": "stream",
     "text": [
      "2021-12-01 14:59:04,111 - offworld_gym - INFO - Environment step is complete.\n",
      "INFO:Environment step is complete.\n",
      "2021-12-01 14:59:04,112 - offworld_gym - INFO - Environment episode is complete: 6 steps, reward = 0\n",
      "INFO:Environment episode is complete: 6 steps, reward = 0\n",
      "2021-12-01 14:59:04,122 - offworld_gym - INFO - Resetting the episode and moving to a random initial position...\n",
      "INFO:Resetting the episode and moving to a random initial position...\n"
     ]
    },
    {
     "name": "stdout",
     "output_type": "stream",
     "text": [
      "\r",
      "Total steps: 387 in 44 episodes"
     ]
    },
    {
     "name": "stderr",
     "output_type": "stream",
     "text": [
      "2021-12-01 14:59:11,797 - offworld_gym - INFO - Environment reset complete\n",
      "INFO:Environment reset complete\n",
      "2021-12-01 14:59:11,805 - offworld_gym - INFO - Step count: 1\n",
      "INFO:Step count: 1\n"
     ]
    },
    {
     "name": "stdout",
     "output_type": "stream",
     "text": [
      "\r",
      "Total steps: 388 in 45 episodes"
     ]
    },
    {
     "name": "stderr",
     "output_type": "stream",
     "text": [
      "2021-12-01 14:59:19,084 - offworld_gym - INFO - Environment step is complete.\n",
      "INFO:Environment step is complete.\n",
      "2021-12-01 14:59:19,093 - offworld_gym - INFO - Step count: 2\n",
      "INFO:Step count: 2\n"
     ]
    },
    {
     "name": "stdout",
     "output_type": "stream",
     "text": [
      "\r",
      "Total steps: 388 in 45 episodes"
     ]
    },
    {
     "name": "stderr",
     "output_type": "stream",
     "text": [
      "2021-12-01 14:59:27,003 - offworld_gym - INFO - Environment step is complete.\n",
      "INFO:Environment step is complete.\n",
      "2021-12-01 14:59:27,012 - offworld_gym - INFO - Step count: 3\n",
      "INFO:Step count: 3\n"
     ]
    },
    {
     "name": "stdout",
     "output_type": "stream",
     "text": [
      "\r",
      "Total steps: 389 in 45 episodes"
     ]
    },
    {
     "name": "stderr",
     "output_type": "stream",
     "text": [
      "2021-12-01 14:59:33,420 - offworld_gym - INFO - Environment step is complete.\n",
      "INFO:Environment step is complete.\n",
      "2021-12-01 14:59:33,429 - offworld_gym - INFO - Step count: 4\n",
      "INFO:Step count: 4\n"
     ]
    },
    {
     "name": "stdout",
     "output_type": "stream",
     "text": [
      "\r",
      "Total steps: 390 in 45 episodes"
     ]
    },
    {
     "name": "stderr",
     "output_type": "stream",
     "text": [
      "2021-12-01 14:59:39,952 - offworld_gym - INFO - Environment step is complete.\n",
      "INFO:Environment step is complete.\n",
      "2021-12-01 14:59:39,962 - offworld_gym - INFO - Step count: 5\n",
      "INFO:Step count: 5\n"
     ]
    },
    {
     "name": "stdout",
     "output_type": "stream",
     "text": [
      "\r",
      "Total steps: 391 in 45 episodes"
     ]
    },
    {
     "name": "stderr",
     "output_type": "stream",
     "text": [
      "2021-12-01 14:59:47,727 - offworld_gym - INFO - Environment step is complete.\n",
      "INFO:Environment step is complete.\n",
      "2021-12-01 14:59:47,727 - offworld_gym - INFO - Environment episode is complete: 5 steps, reward = 1\n",
      "INFO:Environment episode is complete: 5 steps, reward = 1\n",
      "2021-12-01 14:59:47,735 - offworld_gym - INFO - Resetting the episode and moving to a random initial position...\n",
      "INFO:Resetting the episode and moving to a random initial position...\n"
     ]
    },
    {
     "name": "stdout",
     "output_type": "stream",
     "text": [
      "\r",
      "Total steps: 392 in 45 episodes"
     ]
    },
    {
     "name": "stderr",
     "output_type": "stream",
     "text": [
      "2021-12-01 14:59:56,673 - offworld_gym - INFO - Environment reset complete\n",
      "INFO:Environment reset complete\n",
      "2021-12-01 14:59:56,683 - offworld_gym - INFO - Step count: 1\n",
      "INFO:Step count: 1\n"
     ]
    },
    {
     "name": "stdout",
     "output_type": "stream",
     "text": [
      "\r",
      "Total steps: 393 in 46 episodes"
     ]
    },
    {
     "name": "stderr",
     "output_type": "stream",
     "text": [
      "2021-12-01 15:00:03,385 - offworld_gym - INFO - Environment step is complete.\n",
      "INFO:Environment step is complete.\n",
      "2021-12-01 15:00:03,394 - offworld_gym - INFO - Step count: 2\n",
      "INFO:Step count: 2\n"
     ]
    },
    {
     "name": "stdout",
     "output_type": "stream",
     "text": [
      "\r",
      "Total steps: 393 in 46 episodes"
     ]
    },
    {
     "name": "stderr",
     "output_type": "stream",
     "text": [
      "2021-12-01 15:00:10,154 - offworld_gym - INFO - Environment step is complete.\n",
      "INFO:Environment step is complete.\n",
      "2021-12-01 15:00:10,163 - offworld_gym - INFO - Step count: 3\n",
      "INFO:Step count: 3\n"
     ]
    },
    {
     "name": "stdout",
     "output_type": "stream",
     "text": [
      "\r",
      "Total steps: 394 in 46 episodes"
     ]
    },
    {
     "name": "stderr",
     "output_type": "stream",
     "text": [
      "2021-12-01 15:00:17,961 - offworld_gym - INFO - Environment step is complete.\n",
      "INFO:Environment step is complete.\n",
      "2021-12-01 15:00:17,969 - offworld_gym - INFO - Step count: 4\n",
      "INFO:Step count: 4\n"
     ]
    },
    {
     "name": "stdout",
     "output_type": "stream",
     "text": [
      "\r",
      "Total steps: 395 in 46 episodes"
     ]
    },
    {
     "name": "stderr",
     "output_type": "stream",
     "text": [
      "2021-12-01 15:00:25,214 - offworld_gym - INFO - Environment step is complete.\n",
      "INFO:Environment step is complete.\n",
      "2021-12-01 15:00:25,223 - offworld_gym - INFO - Step count: 5\n",
      "INFO:Step count: 5\n"
     ]
    },
    {
     "name": "stdout",
     "output_type": "stream",
     "text": [
      "\r",
      "Total steps: 396 in 46 episodes"
     ]
    },
    {
     "name": "stderr",
     "output_type": "stream",
     "text": [
      "2021-12-01 15:00:32,684 - offworld_gym - INFO - Environment step is complete.\n",
      "INFO:Environment step is complete.\n",
      "2021-12-01 15:00:32,692 - offworld_gym - INFO - Step count: 6\n",
      "INFO:Step count: 6\n"
     ]
    },
    {
     "name": "stdout",
     "output_type": "stream",
     "text": [
      "\r",
      "Total steps: 397 in 46 episodes"
     ]
    },
    {
     "name": "stderr",
     "output_type": "stream",
     "text": [
      "2021-12-01 15:00:39,189 - offworld_gym - INFO - Environment step is complete.\n",
      "INFO:Environment step is complete.\n",
      "2021-12-01 15:00:39,207 - offworld_gym - INFO - Step count: 7\n",
      "INFO:Step count: 7\n"
     ]
    },
    {
     "name": "stdout",
     "output_type": "stream",
     "text": [
      "\r",
      "Total steps: 398 in 46 episodes"
     ]
    },
    {
     "name": "stderr",
     "output_type": "stream",
     "text": [
      "2021-12-01 15:00:47,643 - offworld_gym - INFO - Environment step is complete.\n",
      "INFO:Environment step is complete.\n",
      "2021-12-01 15:00:47,644 - offworld_gym - INFO - Environment episode is complete: 7 steps, reward = 1\n",
      "INFO:Environment episode is complete: 7 steps, reward = 1\n",
      "2021-12-01 15:00:47,653 - offworld_gym - INFO - Resetting the episode and moving to a random initial position...\n",
      "INFO:Resetting the episode and moving to a random initial position...\n"
     ]
    },
    {
     "name": "stdout",
     "output_type": "stream",
     "text": [
      "\r",
      "Total steps: 399 in 46 episodes"
     ]
    },
    {
     "name": "stderr",
     "output_type": "stream",
     "text": [
      "2021-12-01 15:01:06,956 - offworld_gym - INFO - Environment reset complete\n",
      "INFO:Environment reset complete\n",
      "2021-12-01 15:01:06,973 - offworld_gym - INFO - Step count: 1\n",
      "INFO:Step count: 1\n"
     ]
    },
    {
     "name": "stdout",
     "output_type": "stream",
     "text": [
      "\r",
      "Total steps: 400 in 47 episodes"
     ]
    },
    {
     "name": "stderr",
     "output_type": "stream",
     "text": [
      "2021-12-01 15:01:13,111 - offworld_gym - INFO - Environment step is complete.\n",
      "INFO:Environment step is complete.\n",
      "2021-12-01 15:01:13,121 - offworld_gym - INFO - Step count: 2\n",
      "INFO:Step count: 2\n"
     ]
    },
    {
     "name": "stdout",
     "output_type": "stream",
     "text": [
      "\r",
      "Total steps: 400 in 47 episodes"
     ]
    },
    {
     "name": "stderr",
     "output_type": "stream",
     "text": [
      "2021-12-01 15:01:20,590 - offworld_gym - INFO - Environment step is complete.\n",
      "INFO:Environment step is complete.\n",
      "2021-12-01 15:01:20,600 - offworld_gym - INFO - Step count: 3\n",
      "INFO:Step count: 3\n"
     ]
    },
    {
     "name": "stdout",
     "output_type": "stream",
     "text": [
      "\r",
      "Total steps: 401 in 47 episodes"
     ]
    },
    {
     "name": "stderr",
     "output_type": "stream",
     "text": [
      "2021-12-01 15:01:28,182 - offworld_gym - INFO - Environment step is complete.\n",
      "INFO:Environment step is complete.\n",
      "2021-12-01 15:01:28,190 - offworld_gym - INFO - Step count: 4\n",
      "INFO:Step count: 4\n"
     ]
    },
    {
     "name": "stdout",
     "output_type": "stream",
     "text": [
      "\r",
      "Total steps: 402 in 47 episodes"
     ]
    },
    {
     "name": "stderr",
     "output_type": "stream",
     "text": [
      "2021-12-01 15:01:35,686 - offworld_gym - INFO - Environment step is complete.\n",
      "INFO:Environment step is complete.\n",
      "2021-12-01 15:01:35,695 - offworld_gym - INFO - Step count: 5\n",
      "INFO:Step count: 5\n"
     ]
    },
    {
     "name": "stdout",
     "output_type": "stream",
     "text": [
      "\r",
      "Total steps: 403 in 47 episodes"
     ]
    },
    {
     "name": "stderr",
     "output_type": "stream",
     "text": [
      "2021-12-01 15:01:42,836 - offworld_gym - INFO - Environment step is complete.\n",
      "INFO:Environment step is complete.\n",
      "2021-12-01 15:01:42,844 - offworld_gym - INFO - Step count: 6\n",
      "INFO:Step count: 6\n"
     ]
    },
    {
     "name": "stdout",
     "output_type": "stream",
     "text": [
      "\r",
      "Total steps: 404 in 47 episodes"
     ]
    },
    {
     "name": "stderr",
     "output_type": "stream",
     "text": [
      "2021-12-01 15:01:49,842 - offworld_gym - INFO - Environment step is complete.\n",
      "INFO:Environment step is complete.\n",
      "2021-12-01 15:01:49,851 - offworld_gym - INFO - Step count: 7\n",
      "INFO:Step count: 7\n"
     ]
    },
    {
     "name": "stdout",
     "output_type": "stream",
     "text": [
      "\r",
      "Total steps: 405 in 47 episodes"
     ]
    },
    {
     "name": "stderr",
     "output_type": "stream",
     "text": [
      "2021-12-01 15:01:57,261 - offworld_gym - INFO - Environment step is complete.\n",
      "INFO:Environment step is complete.\n",
      "2021-12-01 15:01:57,270 - offworld_gym - INFO - Step count: 8\n",
      "INFO:Step count: 8\n"
     ]
    },
    {
     "name": "stdout",
     "output_type": "stream",
     "text": [
      "\r",
      "Total steps: 406 in 47 episodes"
     ]
    },
    {
     "name": "stderr",
     "output_type": "stream",
     "text": [
      "2021-12-01 15:02:04,526 - offworld_gym - INFO - Environment step is complete.\n",
      "INFO:Environment step is complete.\n",
      "2021-12-01 15:02:04,534 - offworld_gym - INFO - Step count: 9\n",
      "INFO:Step count: 9\n"
     ]
    },
    {
     "name": "stdout",
     "output_type": "stream",
     "text": [
      "\r",
      "Total steps: 407 in 47 episodes"
     ]
    },
    {
     "name": "stderr",
     "output_type": "stream",
     "text": [
      "2021-12-01 15:02:12,162 - offworld_gym - INFO - Environment step is complete.\n",
      "INFO:Environment step is complete.\n",
      "2021-12-01 15:02:12,170 - offworld_gym - INFO - Step count: 10\n",
      "INFO:Step count: 10\n"
     ]
    },
    {
     "name": "stdout",
     "output_type": "stream",
     "text": [
      "\r",
      "Total steps: 408 in 47 episodes"
     ]
    },
    {
     "name": "stderr",
     "output_type": "stream",
     "text": [
      "2021-12-01 15:02:19,075 - offworld_gym - INFO - Environment step is complete.\n",
      "INFO:Environment step is complete.\n",
      "2021-12-01 15:02:19,084 - offworld_gym - INFO - Step count: 11\n",
      "INFO:Step count: 11\n"
     ]
    },
    {
     "name": "stdout",
     "output_type": "stream",
     "text": [
      "\r",
      "Total steps: 409 in 47 episodes"
     ]
    },
    {
     "name": "stderr",
     "output_type": "stream",
     "text": [
      "2021-12-01 15:02:27,184 - offworld_gym - INFO - Environment step is complete.\n",
      "INFO:Environment step is complete.\n",
      "2021-12-01 15:02:27,193 - offworld_gym - INFO - Step count: 12\n",
      "INFO:Step count: 12\n"
     ]
    },
    {
     "name": "stdout",
     "output_type": "stream",
     "text": [
      "\r",
      "Total steps: 410 in 47 episodes"
     ]
    },
    {
     "name": "stderr",
     "output_type": "stream",
     "text": [
      "2021-12-01 15:02:36,525 - offworld_gym - INFO - Environment step is complete.\n",
      "INFO:Environment step is complete.\n",
      "2021-12-01 15:02:36,526 - offworld_gym - INFO - Environment episode is complete: 12 steps, reward = 1\n",
      "INFO:Environment episode is complete: 12 steps, reward = 1\n",
      "2021-12-01 15:02:36,534 - offworld_gym - INFO - Resetting the episode and moving to a random initial position...\n",
      "INFO:Resetting the episode and moving to a random initial position...\n"
     ]
    },
    {
     "name": "stdout",
     "output_type": "stream",
     "text": [
      "\r",
      "Total steps: 411 in 47 episodes"
     ]
    },
    {
     "name": "stderr",
     "output_type": "stream",
     "text": [
      "2021-12-01 15:02:47,984 - offworld_gym - INFO - Environment reset complete\n",
      "INFO:Environment reset complete\n",
      "2021-12-01 15:02:47,993 - offworld_gym - INFO - Step count: 1\n",
      "INFO:Step count: 1\n"
     ]
    },
    {
     "name": "stdout",
     "output_type": "stream",
     "text": [
      "\r",
      "Total steps: 412 in 48 episodes"
     ]
    },
    {
     "name": "stderr",
     "output_type": "stream",
     "text": [
      "2021-12-01 15:02:54,643 - offworld_gym - INFO - Environment step is complete.\n",
      "INFO:Environment step is complete.\n",
      "2021-12-01 15:02:54,652 - offworld_gym - INFO - Step count: 2\n",
      "INFO:Step count: 2\n"
     ]
    },
    {
     "name": "stdout",
     "output_type": "stream",
     "text": [
      "\r",
      "Total steps: 412 in 48 episodes"
     ]
    },
    {
     "name": "stderr",
     "output_type": "stream",
     "text": [
      "2021-12-01 15:03:02,628 - offworld_gym - INFO - Environment step is complete.\n",
      "INFO:Environment step is complete.\n",
      "2021-12-01 15:03:02,629 - offworld_gym - INFO - Environment episode is complete: 2 steps, reward = 0\n",
      "INFO:Environment episode is complete: 2 steps, reward = 0\n",
      "2021-12-01 15:03:02,638 - offworld_gym - INFO - Resetting the episode and moving to a random initial position...\n",
      "INFO:Resetting the episode and moving to a random initial position...\n"
     ]
    },
    {
     "name": "stdout",
     "output_type": "stream",
     "text": [
      "\r",
      "Total steps: 413 in 48 episodes"
     ]
    },
    {
     "name": "stderr",
     "output_type": "stream",
     "text": [
      "2021-12-01 15:03:31,143 - offworld_gym - INFO - Environment reset complete\n",
      "INFO:Environment reset complete\n",
      "2021-12-01 15:03:31,165 - offworld_gym - INFO - Step count: 1\n",
      "INFO:Step count: 1\n"
     ]
    },
    {
     "name": "stdout",
     "output_type": "stream",
     "text": [
      "\r",
      "Total steps: 414 in 49 episodes"
     ]
    },
    {
     "name": "stderr",
     "output_type": "stream",
     "text": [
      "2021-12-01 15:03:38,665 - offworld_gym - INFO - Environment step is complete.\n",
      "INFO:Environment step is complete.\n",
      "2021-12-01 15:03:38,674 - offworld_gym - INFO - Step count: 2\n",
      "INFO:Step count: 2\n"
     ]
    },
    {
     "name": "stdout",
     "output_type": "stream",
     "text": [
      "\r",
      "Total steps: 414 in 49 episodes"
     ]
    },
    {
     "name": "stderr",
     "output_type": "stream",
     "text": [
      "2021-12-01 15:03:50,760 - offworld_gym - INFO - Environment step is complete.\n",
      "INFO:Environment step is complete.\n",
      "2021-12-01 15:03:50,769 - offworld_gym - INFO - Step count: 3\n",
      "INFO:Step count: 3\n"
     ]
    },
    {
     "name": "stdout",
     "output_type": "stream",
     "text": [
      "\r",
      "Total steps: 415 in 49 episodes"
     ]
    },
    {
     "name": "stderr",
     "output_type": "stream",
     "text": [
      "2021-12-01 15:03:57,230 - offworld_gym - INFO - Environment step is complete.\n",
      "INFO:Environment step is complete.\n",
      "2021-12-01 15:03:57,238 - offworld_gym - INFO - Step count: 4\n",
      "INFO:Step count: 4\n"
     ]
    },
    {
     "name": "stdout",
     "output_type": "stream",
     "text": [
      "\r",
      "Total steps: 416 in 49 episodes"
     ]
    },
    {
     "name": "stderr",
     "output_type": "stream",
     "text": [
      "2021-12-01 15:04:03,438 - offworld_gym - INFO - Environment step is complete.\n",
      "INFO:Environment step is complete.\n",
      "2021-12-01 15:04:03,448 - offworld_gym - INFO - Step count: 5\n",
      "INFO:Step count: 5\n"
     ]
    },
    {
     "name": "stdout",
     "output_type": "stream",
     "text": [
      "\r",
      "Total steps: 417 in 49 episodes"
     ]
    },
    {
     "name": "stderr",
     "output_type": "stream",
     "text": [
      "2021-12-01 15:04:09,539 - offworld_gym - INFO - Environment step is complete.\n",
      "INFO:Environment step is complete.\n",
      "2021-12-01 15:04:09,549 - offworld_gym - INFO - Step count: 6\n",
      "INFO:Step count: 6\n"
     ]
    },
    {
     "name": "stdout",
     "output_type": "stream",
     "text": [
      "\r",
      "Total steps: 418 in 49 episodes"
     ]
    },
    {
     "name": "stderr",
     "output_type": "stream",
     "text": [
      "2021-12-01 15:04:15,040 - offworld_gym - INFO - Environment step is complete.\n",
      "INFO:Environment step is complete.\n",
      "2021-12-01 15:04:15,048 - offworld_gym - INFO - Step count: 7\n",
      "INFO:Step count: 7\n"
     ]
    },
    {
     "name": "stdout",
     "output_type": "stream",
     "text": [
      "\r",
      "Total steps: 419 in 49 episodes"
     ]
    },
    {
     "name": "stderr",
     "output_type": "stream",
     "text": [
      "2021-12-01 15:04:21,424 - offworld_gym - INFO - Environment step is complete.\n",
      "INFO:Environment step is complete.\n",
      "2021-12-01 15:04:21,433 - offworld_gym - INFO - Step count: 8\n",
      "INFO:Step count: 8\n"
     ]
    },
    {
     "name": "stdout",
     "output_type": "stream",
     "text": [
      "\r",
      "Total steps: 420 in 49 episodes"
     ]
    },
    {
     "name": "stderr",
     "output_type": "stream",
     "text": [
      "2021-12-01 15:04:26,966 - offworld_gym - INFO - Environment step is complete.\n",
      "INFO:Environment step is complete.\n",
      "2021-12-01 15:04:26,973 - offworld_gym - INFO - Step count: 9\n",
      "INFO:Step count: 9\n"
     ]
    },
    {
     "name": "stdout",
     "output_type": "stream",
     "text": [
      "\r",
      "Total steps: 421 in 49 episodes"
     ]
    },
    {
     "name": "stderr",
     "output_type": "stream",
     "text": [
      "2021-12-01 15:04:33,509 - offworld_gym - INFO - Environment step is complete.\n",
      "INFO:Environment step is complete.\n",
      "2021-12-01 15:04:33,519 - offworld_gym - INFO - Step count: 10\n",
      "INFO:Step count: 10\n"
     ]
    },
    {
     "name": "stdout",
     "output_type": "stream",
     "text": [
      "\r",
      "Total steps: 422 in 49 episodes"
     ]
    },
    {
     "name": "stderr",
     "output_type": "stream",
     "text": [
      "2021-12-01 15:04:39,444 - offworld_gym - INFO - Environment step is complete.\n",
      "INFO:Environment step is complete.\n",
      "2021-12-01 15:04:39,454 - offworld_gym - INFO - Step count: 11\n",
      "INFO:Step count: 11\n"
     ]
    },
    {
     "name": "stdout",
     "output_type": "stream",
     "text": [
      "\r",
      "Total steps: 423 in 49 episodes"
     ]
    },
    {
     "name": "stderr",
     "output_type": "stream",
     "text": [
      "2021-12-01 15:04:45,715 - offworld_gym - INFO - Environment step is complete.\n",
      "INFO:Environment step is complete.\n",
      "2021-12-01 15:04:45,724 - offworld_gym - INFO - Step count: 12\n",
      "INFO:Step count: 12\n"
     ]
    },
    {
     "name": "stdout",
     "output_type": "stream",
     "text": [
      "\r",
      "Total steps: 424 in 49 episodes"
     ]
    },
    {
     "name": "stderr",
     "output_type": "stream",
     "text": [
      "2021-12-01 15:04:51,651 - offworld_gym - INFO - Environment step is complete.\n",
      "INFO:Environment step is complete.\n",
      "2021-12-01 15:04:51,659 - offworld_gym - INFO - Step count: 13\n",
      "INFO:Step count: 13\n"
     ]
    },
    {
     "name": "stdout",
     "output_type": "stream",
     "text": [
      "\r",
      "Total steps: 425 in 49 episodes"
     ]
    },
    {
     "name": "stderr",
     "output_type": "stream",
     "text": [
      "2021-12-01 15:04:57,577 - offworld_gym - INFO - Environment step is complete.\n",
      "INFO:Environment step is complete.\n",
      "2021-12-01 15:04:57,586 - offworld_gym - INFO - Step count: 14\n",
      "INFO:Step count: 14\n"
     ]
    },
    {
     "name": "stdout",
     "output_type": "stream",
     "text": [
      "\r",
      "Total steps: 426 in 49 episodes"
     ]
    },
    {
     "name": "stderr",
     "output_type": "stream",
     "text": [
      "2021-12-01 15:05:04,090 - offworld_gym - INFO - Environment step is complete.\n",
      "INFO:Environment step is complete.\n",
      "2021-12-01 15:05:04,099 - offworld_gym - INFO - Step count: 15\n",
      "INFO:Step count: 15\n"
     ]
    },
    {
     "name": "stdout",
     "output_type": "stream",
     "text": [
      "\r",
      "Total steps: 427 in 49 episodes"
     ]
    },
    {
     "name": "stderr",
     "output_type": "stream",
     "text": [
      "2021-12-01 15:05:10,571 - offworld_gym - INFO - Environment step is complete.\n",
      "INFO:Environment step is complete.\n",
      "2021-12-01 15:05:10,578 - offworld_gym - INFO - Step count: 16\n",
      "INFO:Step count: 16\n"
     ]
    },
    {
     "name": "stdout",
     "output_type": "stream",
     "text": [
      "\r",
      "Total steps: 428 in 49 episodes"
     ]
    },
    {
     "name": "stderr",
     "output_type": "stream",
     "text": [
      "2021-12-01 15:05:16,696 - offworld_gym - INFO - Environment step is complete.\n",
      "INFO:Environment step is complete.\n",
      "2021-12-01 15:05:16,705 - offworld_gym - INFO - Step count: 17\n",
      "INFO:Step count: 17\n"
     ]
    },
    {
     "name": "stdout",
     "output_type": "stream",
     "text": [
      "\r",
      "Total steps: 429 in 49 episodes"
     ]
    },
    {
     "name": "stderr",
     "output_type": "stream",
     "text": [
      "2021-12-01 15:05:23,767 - offworld_gym - INFO - Environment step is complete.\n",
      "INFO:Environment step is complete.\n",
      "2021-12-01 15:05:23,777 - offworld_gym - INFO - Step count: 18\n",
      "INFO:Step count: 18\n"
     ]
    },
    {
     "name": "stdout",
     "output_type": "stream",
     "text": [
      "\r",
      "Total steps: 430 in 49 episodes"
     ]
    },
    {
     "name": "stderr",
     "output_type": "stream",
     "text": [
      "2021-12-01 15:05:29,479 - offworld_gym - INFO - Environment step is complete.\n",
      "INFO:Environment step is complete.\n",
      "2021-12-01 15:05:29,489 - offworld_gym - INFO - Step count: 19\n",
      "INFO:Step count: 19\n"
     ]
    },
    {
     "name": "stdout",
     "output_type": "stream",
     "text": [
      "\r",
      "Total steps: 431 in 49 episodes"
     ]
    },
    {
     "name": "stderr",
     "output_type": "stream",
     "text": [
      "2021-12-01 15:05:35,427 - offworld_gym - INFO - Environment step is complete.\n",
      "INFO:Environment step is complete.\n",
      "2021-12-01 15:05:35,436 - offworld_gym - INFO - Step count: 20\n",
      "INFO:Step count: 20\n"
     ]
    },
    {
     "name": "stdout",
     "output_type": "stream",
     "text": [
      "\r",
      "Total steps: 432 in 49 episodes"
     ]
    },
    {
     "name": "stderr",
     "output_type": "stream",
     "text": [
      "2021-12-01 15:05:41,314 - offworld_gym - INFO - Environment step is complete.\n",
      "INFO:Environment step is complete.\n",
      "2021-12-01 15:05:41,323 - offworld_gym - INFO - Step count: 21\n",
      "INFO:Step count: 21\n"
     ]
    },
    {
     "name": "stdout",
     "output_type": "stream",
     "text": [
      "\r",
      "Total steps: 433 in 49 episodes"
     ]
    },
    {
     "name": "stderr",
     "output_type": "stream",
     "text": [
      "2021-12-01 15:05:48,355 - offworld_gym - INFO - Environment step is complete.\n",
      "INFO:Environment step is complete.\n",
      "2021-12-01 15:05:48,364 - offworld_gym - INFO - Step count: 22\n",
      "INFO:Step count: 22\n"
     ]
    },
    {
     "name": "stdout",
     "output_type": "stream",
     "text": [
      "\r",
      "Total steps: 434 in 49 episodes"
     ]
    },
    {
     "name": "stderr",
     "output_type": "stream",
     "text": [
      "2021-12-01 15:05:54,594 - offworld_gym - INFO - Environment step is complete.\n",
      "INFO:Environment step is complete.\n",
      "2021-12-01 15:05:54,604 - offworld_gym - INFO - Step count: 23\n",
      "INFO:Step count: 23\n"
     ]
    },
    {
     "name": "stdout",
     "output_type": "stream",
     "text": [
      "\r",
      "Total steps: 435 in 49 episodes"
     ]
    },
    {
     "name": "stderr",
     "output_type": "stream",
     "text": [
      "2021-12-01 15:06:00,510 - offworld_gym - INFO - Environment step is complete.\n",
      "INFO:Environment step is complete.\n",
      "2021-12-01 15:06:00,520 - offworld_gym - INFO - Step count: 24\n",
      "INFO:Step count: 24\n"
     ]
    },
    {
     "name": "stdout",
     "output_type": "stream",
     "text": [
      "\r",
      "Total steps: 436 in 49 episodes"
     ]
    },
    {
     "name": "stderr",
     "output_type": "stream",
     "text": [
      "2021-12-01 15:06:06,587 - offworld_gym - INFO - Environment step is complete.\n",
      "INFO:Environment step is complete.\n",
      "2021-12-01 15:06:06,596 - offworld_gym - INFO - Step count: 25\n",
      "INFO:Step count: 25\n"
     ]
    },
    {
     "name": "stdout",
     "output_type": "stream",
     "text": [
      "\r",
      "Total steps: 437 in 49 episodes"
     ]
    },
    {
     "name": "stderr",
     "output_type": "stream",
     "text": [
      "2021-12-01 15:06:12,671 - offworld_gym - INFO - Environment step is complete.\n",
      "INFO:Environment step is complete.\n",
      "2021-12-01 15:06:12,681 - offworld_gym - INFO - Step count: 26\n",
      "INFO:Step count: 26\n"
     ]
    },
    {
     "name": "stdout",
     "output_type": "stream",
     "text": [
      "\r",
      "Total steps: 438 in 49 episodes"
     ]
    },
    {
     "name": "stderr",
     "output_type": "stream",
     "text": [
      "2021-12-01 15:06:18,320 - offworld_gym - INFO - Environment step is complete.\n",
      "INFO:Environment step is complete.\n",
      "2021-12-01 15:06:18,339 - offworld_gym - INFO - Step count: 27\n",
      "INFO:Step count: 27\n"
     ]
    },
    {
     "name": "stdout",
     "output_type": "stream",
     "text": [
      "\r",
      "Total steps: 439 in 49 episodes"
     ]
    },
    {
     "name": "stderr",
     "output_type": "stream",
     "text": [
      "2021-12-01 15:06:26,273 - offworld_gym - INFO - Environment step is complete.\n",
      "INFO:Environment step is complete.\n",
      "2021-12-01 15:06:26,273 - offworld_gym - INFO - Environment episode is complete: 27 steps, reward = 1\n",
      "INFO:Environment episode is complete: 27 steps, reward = 1\n",
      "2021-12-01 15:06:26,283 - offworld_gym - INFO - Resetting the episode and moving to a random initial position...\n",
      "INFO:Resetting the episode and moving to a random initial position...\n"
     ]
    },
    {
     "name": "stdout",
     "output_type": "stream",
     "text": [
      "\r",
      "Total steps: 440 in 49 episodes"
     ]
    },
    {
     "name": "stderr",
     "output_type": "stream",
     "text": [
      "2021-12-01 15:06:51,538 - offworld_gym - INFO - Environment reset complete\n",
      "INFO:Environment reset complete\n"
     ]
    },
    {
     "name": "stdout",
     "output_type": "stream",
     "text": [
      "\r",
      "Total steps: 441 in 50 episodes"
     ]
    },
    {
     "name": "stderr",
     "output_type": "stream",
     "text": [
      "INFO:Saved replay buffer at 4202 steps\n",
      "INFO:Saved checkpoint: models/Buf_2_clean/train/checkpoints/ckpt-8000\n",
      "2021-12-01 15:08:08,739 - offworld_gym - INFO - Resetting the episode and moving to a random initial position...\n",
      "INFO:Resetting the episode and moving to a random initial position...\n",
      "2021-12-01 15:08:31,108 - offworld_gym - INFO - Environment reset complete\n",
      "INFO:Environment reset complete\n",
      "2021-12-01 15:08:31,124 - offworld_gym - INFO - Step count: 1\n",
      "INFO:Step count: 1\n",
      "2021-12-01 15:08:38,168 - offworld_gym - INFO - Environment step is complete.\n",
      "INFO:Environment step is complete.\n",
      "2021-12-01 15:08:38,190 - offworld_gym - INFO - Step count: 2\n",
      "INFO:Step count: 2\n"
     ]
    },
    {
     "name": "stdout",
     "output_type": "stream",
     "text": [
      "\r",
      "Total steps: 441 in 50 episodes"
     ]
    },
    {
     "name": "stderr",
     "output_type": "stream",
     "text": [
      "2021-12-01 15:08:45,230 - offworld_gym - INFO - Environment step is complete.\n",
      "INFO:Environment step is complete.\n",
      "2021-12-01 15:08:45,242 - offworld_gym - INFO - Step count: 3\n",
      "INFO:Step count: 3\n"
     ]
    },
    {
     "name": "stdout",
     "output_type": "stream",
     "text": [
      "\r",
      "Total steps: 442 in 50 episodes"
     ]
    },
    {
     "name": "stderr",
     "output_type": "stream",
     "text": [
      "2021-12-01 15:08:52,120 - offworld_gym - INFO - Environment step is complete.\n",
      "INFO:Environment step is complete.\n",
      "2021-12-01 15:08:52,132 - offworld_gym - INFO - Step count: 4\n",
      "INFO:Step count: 4\n"
     ]
    },
    {
     "name": "stdout",
     "output_type": "stream",
     "text": [
      "\r",
      "Total steps: 443 in 50 episodes"
     ]
    },
    {
     "name": "stderr",
     "output_type": "stream",
     "text": [
      "2021-12-01 15:08:58,904 - offworld_gym - INFO - Environment step is complete.\n",
      "INFO:Environment step is complete.\n",
      "2021-12-01 15:08:58,917 - offworld_gym - INFO - Step count: 5\n",
      "INFO:Step count: 5\n"
     ]
    },
    {
     "name": "stdout",
     "output_type": "stream",
     "text": [
      "\r",
      "Total steps: 444 in 50 episodes"
     ]
    },
    {
     "name": "stderr",
     "output_type": "stream",
     "text": [
      "2021-12-01 15:09:04,511 - offworld_gym - INFO - Environment step is complete.\n",
      "INFO:Environment step is complete.\n",
      "2021-12-01 15:09:04,526 - offworld_gym - INFO - Step count: 6\n",
      "INFO:Step count: 6\n"
     ]
    },
    {
     "name": "stdout",
     "output_type": "stream",
     "text": [
      "\r",
      "Total steps: 445 in 50 episodes"
     ]
    },
    {
     "name": "stderr",
     "output_type": "stream",
     "text": [
      "2021-12-01 15:09:10,817 - offworld_gym - INFO - Environment step is complete.\n",
      "INFO:Environment step is complete.\n",
      "2021-12-01 15:09:10,830 - offworld_gym - INFO - Step count: 7\n",
      "INFO:Step count: 7\n"
     ]
    },
    {
     "name": "stdout",
     "output_type": "stream",
     "text": [
      "\r",
      "Total steps: 446 in 50 episodes"
     ]
    },
    {
     "name": "stderr",
     "output_type": "stream",
     "text": [
      "2021-12-01 15:09:18,835 - offworld_gym - INFO - Environment step is complete.\n",
      "INFO:Environment step is complete.\n",
      "2021-12-01 15:09:18,849 - offworld_gym - INFO - Step count: 8\n",
      "INFO:Step count: 8\n"
     ]
    },
    {
     "name": "stdout",
     "output_type": "stream",
     "text": [
      "\r",
      "Total steps: 447 in 50 episodes"
     ]
    },
    {
     "name": "stderr",
     "output_type": "stream",
     "text": [
      "2021-12-01 15:09:27,279 - offworld_gym - INFO - Environment step is complete.\n",
      "INFO:Environment step is complete.\n",
      "2021-12-01 15:09:27,280 - offworld_gym - INFO - Environment episode is complete: 8 steps, reward = 1\n",
      "INFO:Environment episode is complete: 8 steps, reward = 1\n",
      "2021-12-01 15:09:27,295 - offworld_gym - INFO - Resetting the episode and moving to a random initial position...\n",
      "INFO:Resetting the episode and moving to a random initial position...\n"
     ]
    },
    {
     "name": "stdout",
     "output_type": "stream",
     "text": [
      "\r",
      "Total steps: 448 in 50 episodes"
     ]
    },
    {
     "name": "stderr",
     "output_type": "stream",
     "text": [
      "2021-12-01 15:09:44,608 - offworld_gym - INFO - Environment reset complete\n",
      "INFO:Environment reset complete\n",
      "2021-12-01 15:09:44,628 - offworld_gym - INFO - Step count: 1\n",
      "INFO:Step count: 1\n"
     ]
    },
    {
     "name": "stdout",
     "output_type": "stream",
     "text": [
      "\r",
      "Total steps: 449 in 51 episodes"
     ]
    },
    {
     "name": "stderr",
     "output_type": "stream",
     "text": [
      "2021-12-01 15:09:51,242 - offworld_gym - INFO - Environment step is complete.\n",
      "INFO:Environment step is complete.\n",
      "2021-12-01 15:09:51,253 - offworld_gym - INFO - Step count: 2\n",
      "INFO:Step count: 2\n"
     ]
    },
    {
     "name": "stdout",
     "output_type": "stream",
     "text": [
      "\r",
      "Total steps: 449 in 51 episodes"
     ]
    },
    {
     "name": "stderr",
     "output_type": "stream",
     "text": [
      "2021-12-01 15:09:59,062 - offworld_gym - INFO - Environment step is complete.\n",
      "INFO:Environment step is complete.\n",
      "2021-12-01 15:09:59,074 - offworld_gym - INFO - Step count: 3\n",
      "INFO:Step count: 3\n"
     ]
    },
    {
     "name": "stdout",
     "output_type": "stream",
     "text": [
      "\r",
      "Total steps: 450 in 51 episodes"
     ]
    },
    {
     "name": "stderr",
     "output_type": "stream",
     "text": [
      "2021-12-01 15:10:07,334 - offworld_gym - INFO - Environment step is complete.\n",
      "INFO:Environment step is complete.\n",
      "2021-12-01 15:10:07,335 - offworld_gym - INFO - Environment episode is complete: 3 steps, reward = 0\n",
      "INFO:Environment episode is complete: 3 steps, reward = 0\n",
      "2021-12-01 15:10:07,345 - offworld_gym - INFO - Resetting the episode and moving to a random initial position...\n",
      "INFO:Resetting the episode and moving to a random initial position...\n"
     ]
    },
    {
     "name": "stdout",
     "output_type": "stream",
     "text": [
      "\r",
      "Total steps: 451 in 51 episodes"
     ]
    },
    {
     "name": "stderr",
     "output_type": "stream",
     "text": [
      "2021-12-01 15:10:34,043 - offworld_gym - INFO - Environment reset complete\n",
      "INFO:Environment reset complete\n",
      "2021-12-01 15:10:34,064 - offworld_gym - INFO - Step count: 1\n",
      "INFO:Step count: 1\n"
     ]
    },
    {
     "name": "stdout",
     "output_type": "stream",
     "text": [
      "\r",
      "Total steps: 452 in 52 episodes"
     ]
    },
    {
     "name": "stderr",
     "output_type": "stream",
     "text": [
      "2021-12-01 15:10:41,532 - offworld_gym - INFO - Environment step is complete.\n",
      "INFO:Environment step is complete.\n",
      "2021-12-01 15:10:41,543 - offworld_gym - INFO - Step count: 2\n",
      "INFO:Step count: 2\n"
     ]
    },
    {
     "name": "stdout",
     "output_type": "stream",
     "text": [
      "\r",
      "Total steps: 452 in 52 episodes"
     ]
    },
    {
     "name": "stderr",
     "output_type": "stream",
     "text": [
      "2021-12-01 15:10:49,797 - offworld_gym - INFO - Environment step is complete.\n",
      "INFO:Environment step is complete.\n",
      "2021-12-01 15:10:49,798 - offworld_gym - INFO - Environment episode is complete: 2 steps, reward = 0\n",
      "INFO:Environment episode is complete: 2 steps, reward = 0\n",
      "2021-12-01 15:10:49,809 - offworld_gym - INFO - Resetting the episode and moving to a random initial position...\n",
      "INFO:Resetting the episode and moving to a random initial position...\n"
     ]
    },
    {
     "name": "stdout",
     "output_type": "stream",
     "text": [
      "\r",
      "Total steps: 453 in 52 episodes"
     ]
    },
    {
     "name": "stderr",
     "output_type": "stream",
     "text": [
      "2021-12-01 15:11:06,132 - offworld_gym - INFO - Environment reset complete\n",
      "INFO:Environment reset complete\n",
      "2021-12-01 15:11:06,144 - offworld_gym - INFO - Step count: 1\n",
      "INFO:Step count: 1\n"
     ]
    },
    {
     "name": "stdout",
     "output_type": "stream",
     "text": [
      "\r",
      "Total steps: 454 in 53 episodes"
     ]
    },
    {
     "name": "stderr",
     "output_type": "stream",
     "text": [
      "2021-12-01 15:11:13,830 - offworld_gym - INFO - Environment step is complete.\n",
      "INFO:Environment step is complete.\n",
      "2021-12-01 15:11:13,841 - offworld_gym - INFO - Step count: 2\n",
      "INFO:Step count: 2\n"
     ]
    },
    {
     "name": "stdout",
     "output_type": "stream",
     "text": [
      "\r",
      "Total steps: 454 in 53 episodes"
     ]
    },
    {
     "name": "stderr",
     "output_type": "stream",
     "text": [
      "2021-12-01 15:11:21,260 - offworld_gym - INFO - Environment step is complete.\n",
      "INFO:Environment step is complete.\n",
      "2021-12-01 15:11:21,271 - offworld_gym - INFO - Step count: 3\n",
      "INFO:Step count: 3\n"
     ]
    },
    {
     "name": "stdout",
     "output_type": "stream",
     "text": [
      "\r",
      "Total steps: 455 in 53 episodes"
     ]
    }
   ],
   "source": [
    "for i in range(patches_to_run):\n",
    "    try:\n",
    "        # Collecting delay is used for enabling deeper pretraining on previously saved replay buffer\n",
    "        if i >= start_collecting:\n",
    "            # Collect new steps\n",
    "            collect_actor.run()\n",
    "     \n",
    "        # Only learning when algorithm mode = TRAIN. Learning is disabled when .TEST-ing\n",
    "        if  algorithm_mode == AlgorithmMode.TRAIN:         \n",
    "            # Update policy on replay buffer data.\n",
    "            agent_learner.run(iterations=training_iterations) \n",
    "     \n",
    "        # Save replay buffer into data folder file\n",
    "        if i % buffer_save_interval == 0 and i > 0 and save_replay_buffer:\n",
    "            tf.train.Checkpoint(replay_buffer=replay_buffer).save(rb_tempdir)\n",
    "            llogging.info(f\"Saved replay buffer at {replay_buffer.gather_all().action[0].shape[0]} steps\")\n",
    "    \n",
    "    except:\n",
    "        # When session ends, exception or user interrupts kernel, save latest buffer state to a file\n",
    "        logging.info(\"Exception occured! Saving buffer to a file.\")\n",
    "        tf.train.Checkpoint(replay_buffer=replay_buffer).save(rb_tempdir)\n",
    "        logging.info(f\"Saved replay buffer at {replay_buffer.gather_all().action[0].shape[0]} steps\")\n",
    "        \n",
    "        # Exit for loop\n",
    "        break"
   ]
  }
 ],
 "metadata": {
  "kernelspec": {
   "display_name": "Python 3",
   "language": "python",
   "name": "python3"
  },
  "language_info": {
   "codemirror_mode": {
    "name": "ipython",
    "version": 3
   },
   "file_extension": ".py",
   "mimetype": "text/x-python",
   "name": "python",
   "nbconvert_exporter": "python",
   "pygments_lexer": "ipython3",
   "version": "3.6.13"
  }
 },
 "nbformat": 4,
 "nbformat_minor": 5
}
