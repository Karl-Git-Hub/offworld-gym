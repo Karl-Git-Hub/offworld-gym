{
 "cells": [
  {
   "cell_type": "markdown",
   "id": "6ed168c9",
   "metadata": {},
   "source": [
    " # **Soft Actor-Critic**\n",
    "Implemented in TensorFlow 2.6 with TF-Agents.\n",
    "**Soft Actor-Critic** algorithm learns not only rewards, but also tries to maximize the entropy of its actions. In other words, it tries to be as unpredicatable as possible while still getting as many rewards as possible. This encourages the agent to explore the environment, which speeds up training, and makes it less likely to repeatedly execute same action when DQN produces imperfect estimates. This should lead to amazing sample efficiency.\n",
    "\n",
    "[Soft Actor-Critic Algorithms and Applications](https://arxiv.org/abs/1812.05905)\n",
    "\n",
    "### How to get started\n",
    "\n",
    "**In simulation environment**\n",
    "\n",
    "- collect 50k steps with random policy to get a baseline to compare against\n",
    "- find network that looks the most promising and train 100k iterations on collected random buffer with learning rate 0.001\n",
    "- use discount factor (gamma) 0.98 for future rewards. This forces agent to do less steps to get the reward, which in turn increases replay buffer rewards density and therefore learning becomes more efficent.\n",
    "- after 100k-300k iterations decrease learning rate to 0.0001 to get more stable results\n",
    "- check model summaries with Tensorboard (tensorboard --logdir=models) to fine-tune new steps vs training iteration steps. If losses increase then more iterations is needed.\n",
    "\n",
    "**In real environment**\n",
    "- Do transfer learning on sim network\n",
    "- Start collecting steps with SIM trained Agent to get SIM 2 REAL accuracy\n",
    "- After 25 episodes start training Agent in real environment\n",
    "- Learning rate should be higher, because there are less steps in real env\n",
    "\n",
    "### Comparison \"Micro-net\" spec\n",
    "\n",
    "Agent with this parameters learn faster, but not that stable. Maby learning rate was too high...\n",
    "\n",
    "- conv_layer_params = (4,7,4), (1,4,1)\n",
    "- fc_layer_params = (16, 16, 8)\n",
    "- dropout_layer_params = (0.25, 0.25, 0.125)\n",
    "- action_fc_layer_params = (256, 256, 256, 256)\n",
    "- action_dropout_layer_params = (0.25, 0.25, 0.125, 0.25)\n",
    "- joint_fc_layer_params = (32, 16, 16, 4)\n",
    "- joint_dropout_layer_params = (0.25, 0.25, 0.125, 0.25)\n",
    "- activation_fn = tf.keras.activations.swish\n",
    "\n",
    "### Other remarks\n",
    "\n",
    "- activation functrion ReLU doesn't seem to work, because when inputs approach zero or are negative, the gradient of the function becomes zero. The network cannot perform backpropagation and cannot learn. More info: [Comparison of Reinforcement Learning Activation Functions to Improve the Performance of the Racing Game Learning Agent](https://s3.ap-northeast-2.amazonaws.com/journal-home/journal/jips/fullText/477/jips_v16n5_7.pdf)\n",
    "\n",
    "- when chaning network layers, change experiment name or delete model checkpoints in models/'changed_model/checkpoints. Otherwise tensor shape mismatch is rised.\n",
    "\n",
    "- when learning error 'loss in inf or nan' occured, changing network layers or learning rates might help"
   ]
  },
  {
   "cell_type": "markdown",
   "id": "c08ece10",
   "metadata": {},
   "source": [
    "# Imports"
   ]
  },
  {
   "cell_type": "code",
   "execution_count": 1,
   "id": "59843d01",
   "metadata": {},
   "outputs": [],
   "source": [
    "import gym\n",
    "from offworld_gym.envs.common.channels import Channels\n",
    "from offworld_gym.envs.common.enums import AlgorithmMode, LearningType\n",
    "\n",
    "import silence_tensorflow.auto\n",
    "import os\n",
    "import sys\n",
    "import logging\n",
    "import tempfile\n",
    "import numpy as np\n",
    "import datetime\n",
    "import certifi\n",
    "import urllib3\n",
    "import shutil\n",
    "\n",
    "import tensorflow as tf\n",
    "from tf_agents.agents.ddpg import critic_network\n",
    "from tf_agents.agents.sac import sac_agent \n",
    "from tf_agents.agents.sac import tanh_normal_projection_network\n",
    "from tf_agents.drivers import dynamic_episode_driver\n",
    "from tf_agents.drivers import dynamic_step_driver\n",
    "from tf_agents.environments import suite_gym\n",
    "from tf_agents.environments import tf_py_environment\n",
    "from tf_agents.environments import wrappers\n",
    "from tf_agents.metrics import tf_metrics\n",
    "from tf_agents.networks import actor_distribution_network\n",
    "from tf_agents.policies import py_tf_eager_policy\n",
    "from tf_agents.policies import random_tf_policy\n",
    "from tf_agents.policies import greedy_policy\n",
    "from tf_agents.replay_buffers import tf_uniform_replay_buffer\n",
    "from tf_agents.specs import tensor_spec\n",
    "from tf_agents.train import actor\n",
    "from tf_agents.train import learner\n",
    "from tf_agents.train.utils import spec_utils\n",
    "from tf_agents.train.utils import strategy_utils\n",
    "from tf_agents.train.utils import train_utils\n",
    "from tf_agents.utils import common"
   ]
  },
  {
   "cell_type": "markdown",
   "id": "247c51bc",
   "metadata": {},
   "source": [
    "# Hyperparameters\n",
    "\n",
    "### Offworld-Gym env parameters"
   ]
  },
  {
   "cell_type": "code",
   "execution_count": 2,
   "id": "2aae33e3",
   "metadata": {},
   "outputs": [],
   "source": [
    "real = True                      # True = Real environment | False = Simulated docker environment\n",
    "experiment_name = 'Macro_net'     # Experiment name\n",
    "resume_experiment = True          # Resume training. When going from SIM to REAL, then transferlearning\n",
    "\n",
    "learning_type = LearningType.END_TO_END  # Description of training method\n",
    "algorithm_mode = AlgorithmMode.TRAIN     # .TEST or .TRAIN  (TEST needed for Offworld leaderboard)\n",
    "channel_type = Channels.DEPTH_ONLY       # Which sensors to use: .RGB_ONLY or .DEPTH_ONLY or .RGBD\n",
    "\n",
    "# Access token for Real environment from https://gym.offworld.ai/account\n",
    "import my_Gym_token # I have this in separate file, but it can be added as string\n",
    "os.environ['OFFWORLD_GYM_ACCESS_TOKEN'] = my_Gym_token.is_secret # 'insert_as_a_string'\n",
    "\n",
    "# Project root folder. If path unknown, run in terminal: pwm\n",
    "os.environ['OFFWORLD_GYM_ROOT'] = '/home/karlaru/PycharmProjects/offworld-gym'\n",
    "\n",
    "# Python environment used for this project (eg miniconda env). If path unknown, run in terminal: which python\n",
    "os.environ['PYTHONPATH'] = '/home/karlaru/miniconda3/envs/offworld-karl/bin/python'\n",
    "\n",
    "# Load right environment\n",
    "if real:\n",
    "    env_name = 'OffWorldMonolithContinuousReal-v0'  \n",
    "else:\n",
    "    env_name = 'OffWorldDockerMonolithContinuousSim-v0'"
   ]
  },
  {
   "cell_type": "markdown",
   "id": "cc287dca",
   "metadata": {},
   "source": [
    "### Logging"
   ]
  },
  {
   "cell_type": "code",
   "execution_count": 3,
   "id": "42e3f6a5",
   "metadata": {},
   "outputs": [],
   "source": [
    "# Show only INFO messages\n",
    "logging.basicConfig(format='%(levelname)s:%(message)s', level=logging.INFO)\n",
    "\n",
    "# Disable connection security warnings\n",
    "urllib3.disable_warnings(urllib3.exceptions.InsecureRequestWarning)    "
   ]
  },
  {
   "cell_type": "markdown",
   "id": "361e6197",
   "metadata": {},
   "source": [
    "### Model checkpoints"
   ]
  },
  {
   "cell_type": "code",
   "execution_count": 4,
   "id": "276b72ed",
   "metadata": {},
   "outputs": [
    {
     "name": "stderr",
     "output_type": "stream",
     "text": [
      "INFO:Model tempdir: models/Macro_net/\n"
     ]
    }
   ],
   "source": [
    "# Tempdir for model checkpoints\n",
    "tempdir = 'models/' + experiment_name + '/'\n",
    "logging.info(f'Model tempdir: {tempdir}')"
   ]
  },
  {
   "cell_type": "markdown",
   "id": "eb9e05de",
   "metadata": {},
   "source": [
    "### Replay buffer"
   ]
  },
  {
   "cell_type": "code",
   "execution_count": 5,
   "id": "f3c6629f",
   "metadata": {},
   "outputs": [],
   "source": [
    "# Max number of steps to keep in replay buffer\n",
    "replay_max_length = 50000 # 14.3GB file, but uses at least triple the RAM when starting training or saving to file\n",
    "\n",
    "# Fill replay buffer with random steps\n",
    "random_replay_fill = False\n",
    "\n",
    "# Patch size to get from buffer for one network training interation\n",
    "sample_batch_size = 128\n",
    "\n",
    "# Load replay buffer seed from file for quicker training?\n",
    "buffer_from_file = True           # start training with \"warm\"/filled buffer\n",
    "save_buffer_to_file = True        # save last buffer state to a file so training can be continued where left of\n",
    "buffer_save_interval = 9999999999 # save buffer after x interval, when huge then save only after training end\n",
    "\n",
    "# Replay buffer directory\n",
    "if real:\n",
    "    rb_tempdir = 'data/real_buffer/'\n",
    "else:\n",
    "    rb_tempdir = 'data/sim_buffer/'"
   ]
  },
  {
   "cell_type": "markdown",
   "id": "0b587fbd",
   "metadata": {},
   "source": [
    "### Training"
   ]
  },
  {
   "cell_type": "code",
   "execution_count": 6,
   "id": "010f1ea0",
   "metadata": {},
   "outputs": [],
   "source": [
    "# Total number of patches to run 'range(1, patches_to_run+1)'\n",
    "patches_to_run = 1000\n",
    "\n",
    "# Start collecting new steps after patch number 'current_patch_nr > start_collecting' (before only training)\n",
    "start_collecting = 0\n",
    "\n",
    "# Episodes to collect before retraining network\n",
    "episodes_in_patch = 5      # basis for calculating Tensorboard stats 'tensorboard --logdir=logs'\n",
    "times_to_collect = 4       # collect 25 x 80 = 2k episodes (~10k steps) before retraining\n",
    "\n",
    "# Training iterations after collecting patch\n",
    "training_iterations = 250   # basis for calculating Tensorboard stats 'tensorboard --logdir=models'\n",
    "times_to_iterate = 20       # train 250 x 20 = 5k iterations"
   ]
  },
  {
   "cell_type": "markdown",
   "id": "5020843e",
   "metadata": {},
   "source": [
    "# Computation distribution strategy\n",
    "\n",
    "Enables running computations on one or more devices in a way that model definition code can remain unchanged when running on different hardware."
   ]
  },
  {
   "cell_type": "code",
   "execution_count": 7,
   "id": "b6bb7196",
   "metadata": {},
   "outputs": [
    {
     "name": "stderr",
     "output_type": "stream",
     "text": [
      "INFO:Using 1 GPU\n"
     ]
    }
   ],
   "source": [
    "# Number of GPU-s available in current machine\n",
    "num_GPUs = len(tf.config.list_physical_devices('GPU'))\n",
    "\n",
    "# If no GPU-s available, use CPU\n",
    "if num_GPUs == 0:\n",
    "    strategy = tf.distribute.OneDeviceStrategy(device=\"/cpu:0\")\n",
    "    logging.info('No GPUs available. Using only CPU.')\n",
    "\n",
    "# If one GPU available\n",
    "elif num_GPUs == 1:\n",
    "    strategy = tf.distribute.OneDeviceStrategy(device=\"/gpu:0\")\n",
    "    logging.info('Using 1 GPU')\n",
    "\n",
    "# If more than one GPU available, mirror data for compute in parallel\n",
    "else:\n",
    "    strategy = tf.distribute.MirroredStrategy()\n",
    "    logging.info('Using multible GPUs' + str(num_GPUs))"
   ]
  },
  {
   "cell_type": "markdown",
   "id": "c80a26fb",
   "metadata": {},
   "source": [
    "# Environment\n",
    "\n",
    "In Reinforcement Learning (RL), an environment represents the task or problem to be solved. TF-Agents has suites for loading environments such as the OpenAI Gym. OpenAI Gym is written in pure Python. This is converted to TensorFlow using the TFPyEnvironment wrapper. The original environment's API uses Numpy arrays. The TFPyEnvironment converts these to Tensors to make it compatible with Tensorflow agents and policies."
   ]
  },
  {
   "cell_type": "code",
   "execution_count": 8,
   "id": "c3f3cf1b",
   "metadata": {},
   "outputs": [
    {
     "name": "stderr",
     "output_type": "stream",
     "text": [
      "2021-12-06 01:21:09,122 - offworld_gym - INFO - Environment has been initiated.\n",
      "INFO:Environment has been initiated.\n",
      "2021-12-06 01:21:09,124 - offworld_gym - INFO - Environment has been started.\n",
      "INFO:Environment has been started.\n",
      "/home/karlaru/.local/lib/python3.6/site-packages/gym/spaces/box.py:74: UserWarning: \u001b[33mWARN: Box bound precision lowered by casting to float32\u001b[0m\n",
      "  \"Box bound precision lowered by casting to {}\".format(self.dtype)\n",
      "2021-12-06 01:21:09,125 - offworld_gym - INFO - Waiting to connect to the environment server.\n",
      "INFO:Waiting to connect to the environment server.\n",
      "2021-12-06 01:21:13,448 - offworld_gym - INFO - Experiment has been resumed.\n",
      "INFO:Experiment has been resumed.\n",
      "2021-12-06 01:21:13,452 - offworld_gym - INFO - The environment server is running.\n",
      "INFO:The environment server is running.\n"
     ]
    }
   ],
   "source": [
    "if real == False:\n",
    "    env = suite_gym.wrap_env(gym_env=gym.make(env_name, channel_type=channel_type))\n",
    "\n",
    "else:\n",
    "    env = suite_gym.wrap_env(gym_env=gym.make(env_name, \n",
    "                                              experiment_name=experiment_name,\n",
    "                                              resume_experiment=resume_experiment,\n",
    "                                              channel_type=channel_type, \n",
    "                                              learning_type=learning_type,\n",
    "                                              algorithm_mode=algorithm_mode\n",
    "                                              )) \n",
    "# Wrap Gym env into TF env\n",
    "tf_env = tf_py_environment.TFPyEnvironment(env)"
   ]
  },
  {
   "cell_type": "code",
   "execution_count": 9,
   "id": "10b20931",
   "metadata": {},
   "outputs": [],
   "source": [
    "# Get tensor specs\n",
    "observation_spec, action_spec, time_step_spec = spec_utils.get_tensor_specs(tf_env)"
   ]
  },
  {
   "cell_type": "markdown",
   "id": "8186d1a3",
   "metadata": {},
   "source": [
    "### Observation space\n",
    "\n",
    "One observation is one frame from depth camera senor. Sensor resolution is 240x320 pix. Values for each pix range from 0 to 255."
   ]
  },
  {
   "cell_type": "code",
   "execution_count": 10,
   "id": "fc606fe9",
   "metadata": {},
   "outputs": [
    {
     "data": {
      "text/plain": [
       "BoundedTensorSpec(shape=(1, 240, 320, 1), dtype=tf.float32, name='observation', minimum=array(0., dtype=float32), maximum=array(255., dtype=float32))"
      ]
     },
     "execution_count": 10,
     "metadata": {},
     "output_type": "execute_result"
    }
   ],
   "source": [
    "observation_spec"
   ]
  },
  {
   "cell_type": "markdown",
   "id": "db3dc926",
   "metadata": {},
   "source": [
    "### Action space\n",
    "\n",
    "Robot movement command is defined by 2 element vector and has continuous values"
   ]
  },
  {
   "cell_type": "code",
   "execution_count": 11,
   "id": "000f82f4",
   "metadata": {},
   "outputs": [
    {
     "data": {
      "text/plain": [
       "BoundedTensorSpec(shape=(2,), dtype=tf.float32, name='action', minimum=array([-0.7, -2.5], dtype=float32), maximum=array([0.7, 2.5], dtype=float32))"
      ]
     },
     "execution_count": 11,
     "metadata": {},
     "output_type": "execute_result"
    }
   ],
   "source": [
    "action_spec"
   ]
  },
  {
   "cell_type": "markdown",
   "id": "c5d89bf1",
   "metadata": {},
   "source": [
    "### Time step\n",
    "\n",
    "A TimeStep contains the data emitted by an environment at each step of interaction. A TimeStep holds a step_type, an observation (typically a NumPy array or a dict or list of arrays), and an associated reward and discount."
   ]
  },
  {
   "cell_type": "code",
   "execution_count": 12,
   "id": "8d2f423e",
   "metadata": {},
   "outputs": [
    {
     "name": "stdout",
     "output_type": "stream",
     "text": [
      "BoundedTensorSpec(shape=(), dtype=tf.float32, name='discount', minimum=array(0., dtype=float32), maximum=array(1., dtype=float32))\n",
      "BoundedTensorSpec(shape=(1, 240, 320, 1), dtype=tf.float32, name='observation', minimum=array(0., dtype=float32), maximum=array(255., dtype=float32))\n",
      "TensorSpec(shape=(), dtype=tf.float32, name='reward')\n",
      "TensorSpec(shape=(), dtype=tf.int32, name='step_type')\n"
     ]
    }
   ],
   "source": [
    "print(time_step_spec.discount)\n",
    "print(time_step_spec.observation)\n",
    "print(time_step_spec.reward)\n",
    "print(time_step_spec.step_type)"
   ]
  },
  {
   "cell_type": "markdown",
   "id": "bbcd0af4",
   "metadata": {},
   "source": [
    "# Agent"
   ]
  },
  {
   "cell_type": "markdown",
   "id": "d9b6332b",
   "metadata": {},
   "source": [
    "### Critic\n",
    "Gives value estimates for Q(s,a)"
   ]
  },
  {
   "cell_type": "code",
   "execution_count": 13,
   "id": "c3b6f279",
   "metadata": {},
   "outputs": [
    {
     "name": "stdout",
     "output_type": "stream",
     "text": [
      "Model: \"Observation layer\"\n",
      "_________________________________________________________________\n",
      "Layer (type)                 Output Shape              Param #   \n",
      "=================================================================\n",
      "conv2d (Conv2D)              (None, 78, 105, 16)       800       \n",
      "_________________________________________________________________\n",
      "conv2d_1 (Conv2D)            (None, 37, 51, 8)         3208      \n",
      "_________________________________________________________________\n",
      "conv2d_2 (Conv2D)            (None, 34, 48, 1)         129       \n",
      "_________________________________________________________________\n",
      "flatten (Flatten)            (None, 1632)              0         \n",
      "_________________________________________________________________\n",
      "dense (Dense)                (None, 128)               209024    \n",
      "_________________________________________________________________\n",
      "dense_1 (Dense)              (None, 64)                8256      \n",
      "_________________________________________________________________\n",
      "dense_2 (Dense)              (None, 64)                4160      \n",
      "_________________________________________________________________\n",
      "dense_3 (Dense)              (None, 64)                4160      \n",
      "_________________________________________________________________\n",
      "dense_4 (Dense)              (None, 64)                4160      \n",
      "_________________________________________________________________\n",
      "dense_5 (Dense)              (None, 64)                4160      \n",
      "_________________________________________________________________\n",
      "dense_6 (Dense)              (None, 64)                4160      \n",
      "_________________________________________________________________\n",
      "dense_7 (Dense)              (None, 32)                2080      \n",
      "=================================================================\n",
      "Total params: 244,297\n",
      "Trainable params: 244,297\n",
      "Non-trainable params: 0\n",
      "_________________________________________________________________\n"
     ]
    }
   ],
   "source": [
    "# Observation layer planner for critic and actor (to see output shapes) Dropout layers are not displayed.\n",
    "from tensorflow.keras.models import Sequential\n",
    "from tensorflow.keras.layers import Dense, Flatten, Conv2D, Input\n",
    "\n",
    "model = Sequential(name='Observation layer')\n",
    "model.add(Input((240, 320, 1)))\n",
    "model.add(Conv2D(16, 7, strides=3, activation='swish'))\n",
    "model.add(Conv2D(8, 5, strides=2, activation='swish')) \n",
    "model.add(Conv2D(1, 4, strides=1, activation='swish'))\n",
    "model.add(Flatten())\n",
    "model.add(Dense(128, activation='swish'))\n",
    "model.add(Dense(64, activation='swish'))\n",
    "model.add(Dense(64, activation='swish'))\n",
    "model.add(Dense(64, activation='swish'))\n",
    "model.add(Dense(64, activation='swish'))\n",
    "model.add(Dense(64, activation='swish'))\n",
    "model.add(Dense(64, activation='swish'))\n",
    "model.add(Dense(32, activation='swish'))\n",
    "model.summary()"
   ]
  },
  {
   "cell_type": "code",
   "execution_count": 14,
   "id": "0c890d54",
   "metadata": {},
   "outputs": [],
   "source": [
    "with strategy.scope():\n",
    "  critic_net = critic_network.CriticNetwork(\n",
    "        (observation_spec, action_spec),\n",
    "        \n",
    "        # INPUT = observation (depth sensor image 240x320 pix)\n",
    "        # Conv2D(filters, kernel size, stride)\n",
    "        observation_conv_layer_params=((16,7,4), (8,5,2), (1,3,1)),\n",
    "        # Dense(number_of_units)\n",
    "        observation_fc_layer_params=(128, 64, 64, 64, 64, 64, 64, 32),\n",
    "        # Dropout(rate) dropout layer is after each fully connected layer\n",
    "        observation_dropout_layer_params=(0.25, 0.25, 0.25, 0.25, 0.25, 0.25, 0.25, 0.25),\n",
    "\n",
    "        \n",
    "        # INPUT = actions\n",
    "        # Dense(number_of_units)\n",
    "        action_fc_layer_params=(64, 64, 64, 64, 64, 32),\n",
    "        # Dropout(rate) dropout layer is after each fully connected layer\n",
    "        action_dropout_layer_params=(0.25, 0.25, 0.25, 0.25, 0.25, 0.25),\n",
    "        \n",
    "      \n",
    "        # INPUT = [observation, action]\n",
    "        # Dense(number_of_units) \n",
    "        joint_fc_layer_params=(32, 32, 32, 32, 32),\n",
    "        # Dropout(rate) dropout layer is after each fully connected layer\n",
    "        joint_dropout_layer_params=(0.25, 0.25, 0.25, 0.25, 0.25),\n",
    "        # activation function for all layers (conv2D and Dense)\n",
    "        activation_fn=tf.keras.activations.swish, \n",
    "        output_activation_fn=None,\n",
    "        name='CriticNetwork')"
   ]
  },
  {
   "cell_type": "markdown",
   "id": "d0c660a2",
   "metadata": {},
   "source": [
    "### Actor\n",
    "Generates actions for given observation"
   ]
  },
  {
   "cell_type": "code",
   "execution_count": 15,
   "id": "198ebff7",
   "metadata": {},
   "outputs": [],
   "source": [
    "with strategy.scope():\n",
    "  actor_net = actor_distribution_network.ActorDistributionNetwork(\n",
    "        observation_spec,\n",
    "        action_spec,\n",
    "        preprocessing_layers = None,\n",
    "        preprocessing_combiner=None, \n",
    "        conv_layer_params=((16,7,4), (8,5,2), (1,3,1)),\n",
    "        fc_layer_params=(128, 64, 64, 64, 64, 64, 64, 64), \n",
    "        dropout_layer_params=(0.25, 0.25, 0.25, 0.25, 0.25, 0.25, 0.25, 0.25),\n",
    "        kernel_initializer=None,\n",
    "        activation_fn=tf.keras.activations.swish,\n",
    "        continuous_projection_net=tanh_normal_projection_network.TanhNormalProjectionNetwork,\n",
    "        name='ActorDistributionNetwork')"
   ]
  },
  {
   "cell_type": "markdown",
   "id": "5e01114f",
   "metadata": {},
   "source": [
    "### Agent\n"
   ]
  },
  {
   "cell_type": "code",
   "execution_count": 35,
   "id": "ffe9960e",
   "metadata": {},
   "outputs": [],
   "source": [
    "with strategy.scope():\n",
    "  train_step = train_utils.create_train_step()\n",
    "  tf_agent = sac_agent.SacAgent(\n",
    "        time_step_spec,\n",
    "        action_spec,\n",
    "        critic_network=critic_net,\n",
    "        critic_optimizer=tf.compat.v1.train.AdamOptimizer(learning_rate=0.00004), #0.00003\n",
    "        actor_network=actor_net,\n",
    "        actor_optimizer=tf.compat.v1.train.AdamOptimizer(learning_rate=0.00005),\n",
    "        alpha_optimizer=tf.compat.v1.train.AdamOptimizer(learning_rate=0.00002),\n",
    "        actor_loss_weight = 1.0,\n",
    "        critic_loss_weight = 0.5,\n",
    "        alpha_loss_weight = 0.8,\n",
    "        target_update_tau=0.02,\n",
    "        target_update_period=1,\n",
    "        td_errors_loss_fn=tf.math.squared_difference,\n",
    "        gamma=0.98,\n",
    "        reward_scale_factor=1.0,\n",
    "        initial_log_alpha = 0.1,\n",
    "        use_log_alpha_in_alpha_loss = False,\n",
    "        target_entropy = -0.1,\n",
    "        gradient_clipping = None,\n",
    "        debug_summaries = True,\n",
    "        summarize_grads_and_vars = False,\n",
    "        train_step_counter=train_step,\n",
    "        name='Agent')\n",
    "\n",
    "tf_agent.initialize()"
   ]
  },
  {
   "cell_type": "markdown",
   "id": "45856d11",
   "metadata": {},
   "source": [
    "### Critic net"
   ]
  },
  {
   "cell_type": "code",
   "execution_count": 17,
   "id": "7fbb658f",
   "metadata": {},
   "outputs": [
    {
     "name": "stdout",
     "output_type": "stream",
     "text": [
      "Model: \"CriticNetwork\"\n",
      "_________________________________________________________________\n",
      "Layer (type)                 Output Shape              Param #   \n",
      "=================================================================\n",
      "observation_encoding/conv2d  multiple                  800       \n",
      "_________________________________________________________________\n",
      "observation_encoding/conv2d  multiple                  3208      \n",
      "_________________________________________________________________\n",
      "observation_encoding/conv2d  multiple                  73        \n",
      "_________________________________________________________________\n",
      "flatten_1 (Flatten)          multiple                  0         \n",
      "_________________________________________________________________\n",
      "observation_encoding/dense ( multiple                  119936    \n",
      "_________________________________________________________________\n",
      "permanent_variable_rate_drop multiple                  0         \n",
      "_________________________________________________________________\n",
      "observation_encoding/dense ( multiple                  8256      \n",
      "_________________________________________________________________\n",
      "permanent_variable_rate_drop multiple                  0         \n",
      "_________________________________________________________________\n",
      "observation_encoding/dense ( multiple                  4160      \n",
      "_________________________________________________________________\n",
      "permanent_variable_rate_drop multiple                  0         \n",
      "_________________________________________________________________\n",
      "observation_encoding/dense ( multiple                  4160      \n",
      "_________________________________________________________________\n",
      "permanent_variable_rate_drop multiple                  0         \n",
      "_________________________________________________________________\n",
      "observation_encoding/dense ( multiple                  4160      \n",
      "_________________________________________________________________\n",
      "permanent_variable_rate_drop multiple                  0         \n",
      "_________________________________________________________________\n",
      "observation_encoding/dense ( multiple                  4160      \n",
      "_________________________________________________________________\n",
      "permanent_variable_rate_drop multiple                  0         \n",
      "_________________________________________________________________\n",
      "observation_encoding/dense ( multiple                  4160      \n",
      "_________________________________________________________________\n",
      "permanent_variable_rate_drop multiple                  0         \n",
      "_________________________________________________________________\n",
      "observation_encoding/dense ( multiple                  2080      \n",
      "_________________________________________________________________\n",
      "permanent_variable_rate_drop multiple                  0         \n",
      "_________________________________________________________________\n",
      "flatten_2 (Flatten)          multiple                  0         \n",
      "_________________________________________________________________\n",
      "action_encoding/dense (Dense multiple                  192       \n",
      "_________________________________________________________________\n",
      "permanent_variable_rate_drop multiple                  0         \n",
      "_________________________________________________________________\n",
      "action_encoding/dense (Dense multiple                  4160      \n",
      "_________________________________________________________________\n",
      "permanent_variable_rate_drop multiple                  0         \n",
      "_________________________________________________________________\n",
      "action_encoding/dense (Dense multiple                  4160      \n",
      "_________________________________________________________________\n",
      "permanent_variable_rate_drop multiple                  0         \n",
      "_________________________________________________________________\n",
      "action_encoding/dense (Dense multiple                  4160      \n",
      "_________________________________________________________________\n",
      "permanent_variable_rate_drop multiple                  0         \n",
      "_________________________________________________________________\n",
      "action_encoding/dense (Dense multiple                  4160      \n",
      "_________________________________________________________________\n",
      "permanent_variable_rate_drop multiple                  0         \n",
      "_________________________________________________________________\n",
      "action_encoding/dense (Dense multiple                  2080      \n",
      "_________________________________________________________________\n",
      "permanent_variable_rate_drop multiple                  0         \n",
      "_________________________________________________________________\n",
      "flatten_3 (Flatten)          multiple                  0         \n",
      "_________________________________________________________________\n",
      "joint_mlp/dense (Dense)      multiple                  2080      \n",
      "_________________________________________________________________\n",
      "permanent_variable_rate_drop multiple                  0         \n",
      "_________________________________________________________________\n",
      "joint_mlp/dense (Dense)      multiple                  1056      \n",
      "_________________________________________________________________\n",
      "permanent_variable_rate_drop multiple                  0         \n",
      "_________________________________________________________________\n",
      "joint_mlp/dense (Dense)      multiple                  1056      \n",
      "_________________________________________________________________\n",
      "permanent_variable_rate_drop multiple                  0         \n",
      "_________________________________________________________________\n",
      "joint_mlp/dense (Dense)      multiple                  1056      \n",
      "_________________________________________________________________\n",
      "permanent_variable_rate_drop multiple                  0         \n",
      "_________________________________________________________________\n",
      "joint_mlp/dense (Dense)      multiple                  1056      \n",
      "_________________________________________________________________\n",
      "permanent_variable_rate_drop multiple                  0         \n",
      "_________________________________________________________________\n",
      "value (Dense)                multiple                  33        \n",
      "=================================================================\n",
      "Total params: 180,402\n",
      "Trainable params: 180,402\n",
      "Non-trainable params: 0\n",
      "_________________________________________________________________\n"
     ]
    }
   ],
   "source": [
    "critic_net.summary()"
   ]
  },
  {
   "cell_type": "markdown",
   "id": "e288035c",
   "metadata": {},
   "source": [
    "### Actor net"
   ]
  },
  {
   "cell_type": "code",
   "execution_count": 18,
   "id": "11852a26",
   "metadata": {},
   "outputs": [
    {
     "name": "stdout",
     "output_type": "stream",
     "text": [
      "Model: \"ActorDistributionNetwork\"\n",
      "_________________________________________________________________\n",
      "Layer (type)                 Output Shape              Param #   \n",
      "=================================================================\n",
      "EncodingNetwork (EncodingNet multiple                  157233    \n",
      "_________________________________________________________________\n",
      "TanhNormalProjectionNetwork  multiple                  260       \n",
      "=================================================================\n",
      "Total params: 157,493\n",
      "Trainable params: 157,493\n",
      "Non-trainable params: 0\n",
      "_________________________________________________________________\n"
     ]
    }
   ],
   "source": [
    "actor_net.summary()"
   ]
  },
  {
   "cell_type": "markdown",
   "id": "438e7bd6",
   "metadata": {},
   "source": [
    "# Observer"
   ]
  },
  {
   "cell_type": "code",
   "execution_count": 19,
   "id": "433d2dfa",
   "metadata": {},
   "outputs": [],
   "source": [
    "# Tensorflow Agents metrics as Observer assistant\n",
    "train_metrics = [\n",
    "    tf_metrics.NumberOfEpisodes(),\n",
    "    tf_metrics.EnvironmentSteps(),\n",
    "    tf_metrics.AverageReturnMetric(buffer_size=episodes_in_patch),\n",
    "    tf_metrics.AverageEpisodeLengthMetric(buffer_size=episodes_in_patch)]\n",
    "\n",
    "# Custom observer for Tensorboard logging\n",
    "class Observer:\n",
    "    def __init__(self):\n",
    "        \n",
    "        # Save episode count between kernel restarts to keep Tensorboard graphs from resetting step count\n",
    "        self.episode_file = log_dir+'TB_episodes.txt'\n",
    "        \n",
    "        # Initialize writer with class to avoid empty log files\n",
    "        self.summary_writer = tf.summary.create_file_writer(log_dir)\n",
    "        \n",
    "        try:\n",
    "            # Read episode count (in previous training) from temp file\n",
    "            self.episodes = int(open(self.episode_file, 'r').read())\n",
    "        \n",
    "        except:\n",
    "            # If file not found\n",
    "            self.episodes = 0\n",
    "            \n",
    "            \n",
    "    def __call__(self, trajectory):\n",
    "        \n",
    "        # Values from Tensorflow train_metrics\n",
    "        current_episode = train_metrics[0].result().numpy()\n",
    "        current_steps = train_metrics[1].result().numpy()\n",
    "        avg_return = train_metrics[2].result().numpy()\n",
    "        avg_steps = train_metrics[3].result().numpy()\n",
    "        \n",
    "        with self.summary_writer.as_default(step = (self.episodes + current_episode)):             \n",
    "            \n",
    "            # Store summaries after each patch\n",
    "            if current_episode % episodes_in_patch == 0:\n",
    "                \n",
    "                # Last episode count written to Tensorboard is stored in file\n",
    "                open(self.episode_file, 'w+').write(str(self.episodes + current_episode))\n",
    "                \n",
    "                # Write to Tensorboard log folder\n",
    "                tf.summary.scalar(f'Avg Reward per episode', avg_return)\n",
    "                tf.summary.scalar(f'Avg Steps per episode', avg_steps)\n",
    "            \n",
    "            # Show live step and episode count after each step\n",
    "            print(f\"\\rTotal steps: {current_steps} in {current_episode} episodes\", end=\"\")"
   ]
  },
  {
   "cell_type": "markdown",
   "id": "47a2b8b4",
   "metadata": {},
   "source": [
    "# Replay buffer\n",
    "\n",
    "Store data about previous training experiences"
   ]
  },
  {
   "cell_type": "code",
   "execution_count": 20,
   "id": "65e1bd2b",
   "metadata": {},
   "outputs": [],
   "source": [
    "# Create replay buffer (step database)\n",
    "replay_buffer = tf_uniform_replay_buffer.TFUniformReplayBuffer(\n",
    "    data_spec = tf_agent.collect_data_spec,\n",
    "    batch_size = 1,                 # Replays are stored one at the time\n",
    "    max_length = replay_max_length, # Total buffer size\n",
    "    device='cpu:0',                 # Use CPU for data storage and compute (GPU needed for network training)\n",
    "    dataset_drop_remainder=True,    \n",
    "    dataset_window_shift=None, \n",
    "    stateful_dataset=False)"
   ]
  },
  {
   "cell_type": "code",
   "execution_count": 21,
   "id": "2a740b21",
   "metadata": {},
   "outputs": [
    {
     "name": "stderr",
     "output_type": "stream",
     "text": [
      "INFO:Loaded 13859 steps into buffer from data/real_buffer/\n"
     ]
    }
   ],
   "source": [
    "if buffer_from_file:\n",
    "    \n",
    "    # Try loading replay buffer seed from a file\n",
    "    try:\n",
    "        tf.train.Checkpoint(replay_buffer=replay_buffer).restore(rb_tempdir+ '-1')\n",
    "        logging.info(f\"Loaded {replay_buffer.gather_all().action[0].shape[0]} steps into buffer from {rb_tempdir}\")\n",
    "    \n",
    "    except:\n",
    "        logging.info(f\"No previous replay buffer steps found in {rb_tempdir}\")"
   ]
  },
  {
   "cell_type": "markdown",
   "id": "8c866293",
   "metadata": {},
   "source": [
    "#### Reading data from buffer"
   ]
  },
  {
   "cell_type": "code",
   "execution_count": 22,
   "id": "685b322f",
   "metadata": {},
   "outputs": [],
   "source": [
    "# Create dataset from replay buffer\n",
    "dataset = replay_buffer.as_dataset(\n",
    "    sample_batch_size=sample_batch_size,\n",
    "    num_parallel_calls = 1,\n",
    "    num_steps=2).prefetch(training_iterations)\n",
    "\n",
    "experience_dataset_fn = lambda: dataset"
   ]
  },
  {
   "cell_type": "markdown",
   "id": "06404998",
   "metadata": {},
   "source": [
    "# Tensorboard\n",
    "\n",
    "For model metrics run in terminal: **tensorboard --logdir=models**"
   ]
  },
  {
   "cell_type": "code",
   "execution_count": 23,
   "id": "99593153",
   "metadata": {
    "scrolled": false
   },
   "outputs": [
    {
     "data": {
      "text/html": [
       "\n",
       "      <iframe id=\"tensorboard-frame-3b7cd84926c844b9\" width=\"100%\" height=\"800\" frameborder=\"0\">\n",
       "      </iframe>\n",
       "      <script>\n",
       "        (function() {\n",
       "          const frame = document.getElementById(\"tensorboard-frame-3b7cd84926c844b9\");\n",
       "          const url = new URL(\"/\", window.location);\n",
       "          const port = 6006;\n",
       "          if (port) {\n",
       "            url.port = port;\n",
       "          }\n",
       "          frame.src = url;\n",
       "        })();\n",
       "      </script>\n",
       "    "
      ],
      "text/plain": [
       "<IPython.core.display.HTML object>"
      ]
     },
     "metadata": {},
     "output_type": "display_data"
    },
    {
     "name": "stderr",
     "output_type": "stream",
     "text": [
      "INFO:For model metrics run in terminal: tensorboard --logdir=models\n"
     ]
    }
   ],
   "source": [
    "%load_ext tensorboard\n",
    "%tensorboard --logdir logs\n",
    "logging.info(f\"For model metrics run in terminal: tensorboard --logdir=models\")"
   ]
  },
  {
   "cell_type": "markdown",
   "id": "732554ca",
   "metadata": {},
   "source": [
    "# Random training\n",
    "\n",
    "To get baseline results"
   ]
  },
  {
   "cell_type": "code",
   "execution_count": 24,
   "id": "57f52d91",
   "metadata": {},
   "outputs": [
    {
     "name": "stderr",
     "output_type": "stream",
     "text": [
      "INFO:Using replay from file. No random steps\n"
     ]
    }
   ],
   "source": [
    "if random_replay_fill:\n",
    "    # Folder for random policy logs\n",
    "    log_dir = 'logs/RANDOM'\n",
    "\n",
    "    # Real and Sim in different subfolders\n",
    "    if real:\n",
    "        log_dir += '/REAL/'\n",
    "    else:\n",
    "        log_dir += '/SIM/'\n",
    "    \n",
    "    \n",
    "    # Use random policy\n",
    "    initial_collect_policy = random_tf_policy.RandomTFPolicy(action_spec = tf_env.action_spec(),\n",
    "                                                          time_step_spec = tf_env.time_step_spec())\n",
    "    # Use episode driver\n",
    "    inital_driver = dynamic_step_driver.DynamicStepDriver(\n",
    "        tf_env, \n",
    "        initial_collect_policy, \n",
    "        observers = [replay_buffer.add_batch, Observer()] + train_metrics, \n",
    "        num_steps = 1000)\n",
    "    \n",
    "    for _ in range(round(replay_max_length/1000)):\n",
    "        \n",
    "        try:\n",
    "            # Do 1000 steps\n",
    "            inital_driver.run()\n",
    "        except:\n",
    "            logging.info(f\"Exception occured: {sys.exc_info()[0]}\")\n",
    "            logging.info(\"Saving replay buffer!\")\n",
    "            logging.info(f\"Saved replay buffer at {replay_buffer.gather_all().action[0].shape[0]} steps\")\n",
    "    \n",
    "    # Save replay buffer\n",
    "    tf.train.Checkpoint(replay_buffer=replay_buffer).save(rb_tempdir)\n",
    "    logging.info(f\"Saved replay buffer at {replay_buffer.gather_all().action[0].shape[0]} steps\")\n",
    "else:\n",
    "    logging.info(f\"Using replay from file. No random steps\")"
   ]
  },
  {
   "cell_type": "markdown",
   "id": "35d1b799",
   "metadata": {},
   "source": [
    "# Collect driver\n",
    "\n",
    "Driver for running a policy in an environment. Does steps until num_episodes episodes is done."
   ]
  },
  {
   "cell_type": "markdown",
   "id": "cd4b8e83",
   "metadata": {},
   "source": [
    "### Tensorboard logs"
   ]
  },
  {
   "cell_type": "code",
   "execution_count": 25,
   "id": "0ea69036",
   "metadata": {},
   "outputs": [],
   "source": [
    "# Folder for training logs\n",
    "log_dir = 'logs/' + experiment_name\n",
    "\n",
    "# Place logs in env type subfolder\n",
    "if real:\n",
    "    log_dir += '/REAL/'\n",
    "else:\n",
    "    log_dir += '/SIM/'"
   ]
  },
  {
   "cell_type": "code",
   "execution_count": 26,
   "id": "63ccfc15",
   "metadata": {},
   "outputs": [],
   "source": [
    "# Use episode driver (nr of steps per episode is limited by Gym env)\n",
    "collect_actor = dynamic_episode_driver.DynamicEpisodeDriver(\n",
    "    tf_env, \n",
    "    py_tf_eager_policy.PyTFEagerPolicy(tf_agent.collect_policy, use_tf_function=True),\n",
    "    observers = [replay_buffer.add_batch, Observer()] + train_metrics,\n",
    "    num_episodes = episodes_in_patch)"
   ]
  },
  {
   "cell_type": "markdown",
   "id": "39db5603",
   "metadata": {},
   "source": [
    "# Learner\n",
    "\n",
    "Learner loads checkpoint from tempdir if available from previous learning session. Learning will be resumed from saved point."
   ]
  },
  {
   "cell_type": "code",
   "execution_count": 36,
   "id": "af62f915",
   "metadata": {},
   "outputs": [
    {
     "name": "stderr",
     "output_type": "stream",
     "text": [
      "INFO:Checkpoint available: models/Macro_net/train/checkpoints/ckpt-1135750\n"
     ]
    }
   ],
   "source": [
    "agent_learner = learner.Learner(\n",
    "    tempdir,                               \n",
    "    train_step, \n",
    "    tf_agent,                               \n",
    "    experience_dataset_fn,                  \n",
    "    checkpoint_interval=training_iterations,\n",
    "    summary_interval=training_iterations, \n",
    "    max_checkpoints_to_keep=2,\n",
    "    strategy=strategy,\n",
    "    run_optimizer_variable_init=True)\n",
    "\n",
    "# DEBUG: ckpt-xxxx <-shows how many training iterations has been done previously for current experiment"
   ]
  },
  {
   "cell_type": "markdown",
   "id": "6fe00c8a",
   "metadata": {},
   "source": [
    "# Training"
   ]
  },
  {
   "cell_type": "markdown",
   "id": "9482ae0d",
   "metadata": {},
   "source": [
    "### Training loop"
   ]
  },
  {
   "cell_type": "code",
   "execution_count": 28,
   "id": "02296a27",
   "metadata": {
    "scrolled": true
   },
   "outputs": [
    {
     "name": "stderr",
     "output_type": "stream",
     "text": [
      "2021-12-06 01:21:40,993 - offworld_gym - INFO - Resetting the episode and moving to a random initial position...\n",
      "INFO:Resetting the episode and moving to a random initial position...\n",
      "2021-12-06 01:22:09,626 - offworld_gym - INFO - Environment reset complete\n",
      "INFO:Environment reset complete\n",
      "2021-12-06 01:22:09,835 - offworld_gym - INFO - Step count: 1\n",
      "INFO:Step count: 1\n",
      "2021-12-06 01:22:17,615 - offworld_gym - INFO - Environment step is complete.\n",
      "INFO:Environment step is complete.\n",
      "2021-12-06 01:22:17,616 - offworld_gym - INFO - Environment episode is complete: 1 steps, reward = 0\n",
      "INFO:Environment episode is complete: 1 steps, reward = 0\n"
     ]
    },
    {
     "name": "stdout",
     "output_type": "stream",
     "text": [
      "\r",
      "Total steps: 0 in 0 episodes"
     ]
    },
    {
     "name": "stderr",
     "output_type": "stream",
     "text": [
      "2021-12-06 01:22:18,128 - offworld_gym - INFO - Resetting the episode and moving to a random initial position...\n",
      "INFO:Resetting the episode and moving to a random initial position...\n",
      "2021-12-06 01:22:37,877 - offworld_gym - INFO - Environment reset complete\n",
      "INFO:Environment reset complete\n",
      "2021-12-06 01:22:37,903 - offworld_gym - INFO - Step count: 1\n",
      "INFO:Step count: 1\n"
     ]
    },
    {
     "name": "stdout",
     "output_type": "stream",
     "text": [
      "\r",
      "Total steps: 1 in 1 episodes"
     ]
    },
    {
     "name": "stderr",
     "output_type": "stream",
     "text": [
      "2021-12-06 01:22:43,280 - offworld_gym - INFO - Environment step is complete.\n",
      "INFO:Environment step is complete.\n",
      "2021-12-06 01:22:43,291 - offworld_gym - INFO - Step count: 2\n",
      "INFO:Step count: 2\n"
     ]
    },
    {
     "name": "stdout",
     "output_type": "stream",
     "text": [
      "\r",
      "Total steps: 1 in 1 episodes"
     ]
    },
    {
     "name": "stderr",
     "output_type": "stream",
     "text": [
      "2021-12-06 01:22:49,071 - offworld_gym - INFO - Environment step is complete.\n",
      "INFO:Environment step is complete.\n",
      "2021-12-06 01:22:49,080 - offworld_gym - INFO - Step count: 3\n",
      "INFO:Step count: 3\n"
     ]
    },
    {
     "name": "stdout",
     "output_type": "stream",
     "text": [
      "\r",
      "Total steps: 2 in 1 episodes"
     ]
    },
    {
     "name": "stderr",
     "output_type": "stream",
     "text": [
      "2021-12-06 01:22:56,079 - offworld_gym - INFO - Environment step is complete.\n",
      "INFO:Environment step is complete.\n",
      "2021-12-06 01:22:56,092 - offworld_gym - INFO - Step count: 4\n",
      "INFO:Step count: 4\n"
     ]
    },
    {
     "name": "stdout",
     "output_type": "stream",
     "text": [
      "\r",
      "Total steps: 3 in 1 episodes"
     ]
    },
    {
     "name": "stderr",
     "output_type": "stream",
     "text": [
      "2021-12-06 01:23:02,343 - offworld_gym - INFO - Environment step is complete.\n",
      "INFO:Environment step is complete.\n",
      "2021-12-06 01:23:02,354 - offworld_gym - INFO - Step count: 5\n",
      "INFO:Step count: 5\n"
     ]
    },
    {
     "name": "stdout",
     "output_type": "stream",
     "text": [
      "\r",
      "Total steps: 4 in 1 episodes"
     ]
    },
    {
     "name": "stderr",
     "output_type": "stream",
     "text": [
      "2021-12-06 01:23:08,999 - offworld_gym - INFO - Environment step is complete.\n",
      "INFO:Environment step is complete.\n",
      "2021-12-06 01:23:09,010 - offworld_gym - INFO - Step count: 6\n",
      "INFO:Step count: 6\n"
     ]
    },
    {
     "name": "stdout",
     "output_type": "stream",
     "text": [
      "\r",
      "Total steps: 5 in 1 episodes"
     ]
    },
    {
     "name": "stderr",
     "output_type": "stream",
     "text": [
      "2021-12-06 01:23:15,380 - offworld_gym - INFO - Environment step is complete.\n",
      "INFO:Environment step is complete.\n",
      "2021-12-06 01:23:15,393 - offworld_gym - INFO - Step count: 7\n",
      "INFO:Step count: 7\n"
     ]
    },
    {
     "name": "stdout",
     "output_type": "stream",
     "text": [
      "\r",
      "Total steps: 6 in 1 episodes"
     ]
    },
    {
     "name": "stderr",
     "output_type": "stream",
     "text": [
      "2021-12-06 01:23:21,838 - offworld_gym - INFO - Environment step is complete.\n",
      "INFO:Environment step is complete.\n",
      "2021-12-06 01:23:21,849 - offworld_gym - INFO - Step count: 8\n",
      "INFO:Step count: 8\n"
     ]
    },
    {
     "name": "stdout",
     "output_type": "stream",
     "text": [
      "\r",
      "Total steps: 7 in 1 episodes"
     ]
    },
    {
     "name": "stderr",
     "output_type": "stream",
     "text": [
      "2021-12-06 01:23:28,487 - offworld_gym - INFO - Environment step is complete.\n",
      "INFO:Environment step is complete.\n",
      "2021-12-06 01:23:28,496 - offworld_gym - INFO - Step count: 9\n",
      "INFO:Step count: 9\n"
     ]
    },
    {
     "name": "stdout",
     "output_type": "stream",
     "text": [
      "\r",
      "Total steps: 8 in 1 episodes"
     ]
    },
    {
     "name": "stderr",
     "output_type": "stream",
     "text": [
      "2021-12-06 01:23:34,778 - offworld_gym - INFO - Environment step is complete.\n",
      "INFO:Environment step is complete.\n",
      "2021-12-06 01:23:34,789 - offworld_gym - INFO - Step count: 10\n",
      "INFO:Step count: 10\n"
     ]
    },
    {
     "name": "stdout",
     "output_type": "stream",
     "text": [
      "\r",
      "Total steps: 9 in 1 episodes"
     ]
    },
    {
     "name": "stderr",
     "output_type": "stream",
     "text": [
      "2021-12-06 01:23:41,270 - offworld_gym - INFO - Environment step is complete.\n",
      "INFO:Environment step is complete.\n",
      "2021-12-06 01:23:41,280 - offworld_gym - INFO - Step count: 11\n",
      "INFO:Step count: 11\n"
     ]
    },
    {
     "name": "stdout",
     "output_type": "stream",
     "text": [
      "\r",
      "Total steps: 10 in 1 episodes"
     ]
    },
    {
     "name": "stderr",
     "output_type": "stream",
     "text": [
      "2021-12-06 01:23:47,274 - offworld_gym - INFO - Environment step is complete.\n",
      "INFO:Environment step is complete.\n",
      "2021-12-06 01:23:47,284 - offworld_gym - INFO - Step count: 12\n",
      "INFO:Step count: 12\n"
     ]
    },
    {
     "name": "stdout",
     "output_type": "stream",
     "text": [
      "\r",
      "Total steps: 11 in 1 episodes"
     ]
    },
    {
     "name": "stderr",
     "output_type": "stream",
     "text": [
      "2021-12-06 01:23:53,886 - offworld_gym - INFO - Environment step is complete.\n",
      "INFO:Environment step is complete.\n",
      "2021-12-06 01:23:53,895 - offworld_gym - INFO - Step count: 13\n",
      "INFO:Step count: 13\n"
     ]
    },
    {
     "name": "stdout",
     "output_type": "stream",
     "text": [
      "\r",
      "Total steps: 12 in 1 episodes"
     ]
    },
    {
     "name": "stderr",
     "output_type": "stream",
     "text": [
      "2021-12-06 01:24:00,297 - offworld_gym - INFO - Environment step is complete.\n",
      "INFO:Environment step is complete.\n",
      "2021-12-06 01:24:00,307 - offworld_gym - INFO - Step count: 14\n",
      "INFO:Step count: 14\n"
     ]
    },
    {
     "name": "stdout",
     "output_type": "stream",
     "text": [
      "\r",
      "Total steps: 13 in 1 episodes"
     ]
    },
    {
     "name": "stderr",
     "output_type": "stream",
     "text": [
      "2021-12-06 01:24:06,810 - offworld_gym - INFO - Environment step is complete.\n",
      "INFO:Environment step is complete.\n",
      "2021-12-06 01:24:06,821 - offworld_gym - INFO - Step count: 15\n",
      "INFO:Step count: 15\n"
     ]
    },
    {
     "name": "stdout",
     "output_type": "stream",
     "text": [
      "\r",
      "Total steps: 14 in 1 episodes"
     ]
    },
    {
     "name": "stderr",
     "output_type": "stream",
     "text": [
      "2021-12-06 01:24:12,790 - offworld_gym - INFO - Environment step is complete.\n",
      "INFO:Environment step is complete.\n",
      "2021-12-06 01:24:12,800 - offworld_gym - INFO - Step count: 16\n",
      "INFO:Step count: 16\n"
     ]
    },
    {
     "name": "stdout",
     "output_type": "stream",
     "text": [
      "\r",
      "Total steps: 15 in 1 episodes"
     ]
    },
    {
     "name": "stderr",
     "output_type": "stream",
     "text": [
      "2021-12-06 01:24:18,286 - offworld_gym - INFO - Environment step is complete.\n",
      "INFO:Environment step is complete.\n",
      "2021-12-06 01:24:18,295 - offworld_gym - INFO - Step count: 17\n",
      "INFO:Step count: 17\n"
     ]
    },
    {
     "name": "stdout",
     "output_type": "stream",
     "text": [
      "\r",
      "Total steps: 16 in 1 episodes"
     ]
    },
    {
     "name": "stderr",
     "output_type": "stream",
     "text": [
      "2021-12-06 01:24:25,709 - offworld_gym - INFO - Environment step is complete.\n",
      "INFO:Environment step is complete.\n",
      "2021-12-06 01:24:25,719 - offworld_gym - INFO - Step count: 18\n",
      "INFO:Step count: 18\n"
     ]
    },
    {
     "name": "stdout",
     "output_type": "stream",
     "text": [
      "\r",
      "Total steps: 17 in 1 episodes"
     ]
    },
    {
     "name": "stderr",
     "output_type": "stream",
     "text": [
      "2021-12-06 01:24:30,931 - offworld_gym - INFO - Environment step is complete.\n",
      "INFO:Environment step is complete.\n",
      "2021-12-06 01:24:30,940 - offworld_gym - INFO - Step count: 19\n",
      "INFO:Step count: 19\n"
     ]
    },
    {
     "name": "stdout",
     "output_type": "stream",
     "text": [
      "\r",
      "Total steps: 18 in 1 episodes"
     ]
    },
    {
     "name": "stderr",
     "output_type": "stream",
     "text": [
      "2021-12-06 01:24:36,439 - offworld_gym - INFO - Environment step is complete.\n",
      "INFO:Environment step is complete.\n",
      "2021-12-06 01:24:36,448 - offworld_gym - INFO - Step count: 20\n",
      "INFO:Step count: 20\n"
     ]
    },
    {
     "name": "stdout",
     "output_type": "stream",
     "text": [
      "\r",
      "Total steps: 19 in 1 episodes"
     ]
    },
    {
     "name": "stderr",
     "output_type": "stream",
     "text": [
      "2021-12-06 01:24:43,365 - offworld_gym - INFO - Environment step is complete.\n",
      "INFO:Environment step is complete.\n",
      "2021-12-06 01:24:43,374 - offworld_gym - INFO - Step count: 21\n",
      "INFO:Step count: 21\n"
     ]
    },
    {
     "name": "stdout",
     "output_type": "stream",
     "text": [
      "\r",
      "Total steps: 20 in 1 episodes"
     ]
    },
    {
     "name": "stderr",
     "output_type": "stream",
     "text": [
      "2021-12-06 01:24:51,845 - offworld_gym - INFO - Environment step is complete.\n",
      "INFO:Environment step is complete.\n",
      "2021-12-06 01:24:51,845 - offworld_gym - INFO - Environment episode is complete: 21 steps, reward = 1\n",
      "INFO:Environment episode is complete: 21 steps, reward = 1\n",
      "2021-12-06 01:24:51,854 - offworld_gym - INFO - Resetting the episode and moving to a random initial position...\n",
      "INFO:Resetting the episode and moving to a random initial position...\n"
     ]
    },
    {
     "name": "stdout",
     "output_type": "stream",
     "text": [
      "\r",
      "Total steps: 21 in 1 episodes"
     ]
    },
    {
     "name": "stderr",
     "output_type": "stream",
     "text": [
      "2021-12-06 01:25:04,012 - offworld_gym - INFO - Environment reset complete\n",
      "INFO:Environment reset complete\n",
      "2021-12-06 01:25:04,024 - offworld_gym - INFO - Step count: 1\n",
      "INFO:Step count: 1\n"
     ]
    },
    {
     "name": "stdout",
     "output_type": "stream",
     "text": [
      "\r",
      "Total steps: 22 in 2 episodes"
     ]
    },
    {
     "name": "stderr",
     "output_type": "stream",
     "text": [
      "2021-12-06 01:25:11,560 - offworld_gym - INFO - Environment step is complete.\n",
      "INFO:Environment step is complete.\n",
      "2021-12-06 01:25:11,570 - offworld_gym - INFO - Step count: 2\n",
      "INFO:Step count: 2\n"
     ]
    },
    {
     "name": "stdout",
     "output_type": "stream",
     "text": [
      "\r",
      "Total steps: 22 in 2 episodes"
     ]
    },
    {
     "name": "stderr",
     "output_type": "stream",
     "text": [
      "2021-12-06 01:25:20,276 - offworld_gym - INFO - Environment step is complete.\n",
      "INFO:Environment step is complete.\n",
      "2021-12-06 01:25:20,277 - offworld_gym - INFO - Environment episode is complete: 2 steps, reward = 0\n",
      "INFO:Environment episode is complete: 2 steps, reward = 0\n",
      "2021-12-06 01:25:20,287 - offworld_gym - INFO - Resetting the episode and moving to a random initial position...\n",
      "INFO:Resetting the episode and moving to a random initial position...\n"
     ]
    },
    {
     "name": "stdout",
     "output_type": "stream",
     "text": [
      "\r",
      "Total steps: 23 in 2 episodes"
     ]
    },
    {
     "name": "stderr",
     "output_type": "stream",
     "text": [
      "2021-12-06 01:25:38,954 - offworld_gym - INFO - Environment reset complete\n",
      "INFO:Environment reset complete\n",
      "2021-12-06 01:25:38,972 - offworld_gym - INFO - Step count: 1\n",
      "INFO:Step count: 1\n"
     ]
    },
    {
     "name": "stdout",
     "output_type": "stream",
     "text": [
      "\r",
      "Total steps: 24 in 3 episodes"
     ]
    },
    {
     "name": "stderr",
     "output_type": "stream",
     "text": [
      "2021-12-06 01:25:44,791 - offworld_gym - INFO - Environment step is complete.\n",
      "INFO:Environment step is complete.\n",
      "2021-12-06 01:25:44,808 - offworld_gym - INFO - Step count: 2\n",
      "INFO:Step count: 2\n"
     ]
    },
    {
     "name": "stdout",
     "output_type": "stream",
     "text": [
      "\r",
      "Total steps: 24 in 3 episodes"
     ]
    },
    {
     "name": "stderr",
     "output_type": "stream",
     "text": [
      "2021-12-06 01:25:51,355 - offworld_gym - INFO - Environment step is complete.\n",
      "INFO:Environment step is complete.\n",
      "2021-12-06 01:25:51,367 - offworld_gym - INFO - Step count: 3\n",
      "INFO:Step count: 3\n"
     ]
    },
    {
     "name": "stdout",
     "output_type": "stream",
     "text": [
      "\r",
      "Total steps: 25 in 3 episodes"
     ]
    },
    {
     "name": "stderr",
     "output_type": "stream",
     "text": [
      "2021-12-06 01:25:58,629 - offworld_gym - INFO - Environment step is complete.\n",
      "INFO:Environment step is complete.\n",
      "2021-12-06 01:25:58,638 - offworld_gym - INFO - Step count: 4\n",
      "INFO:Step count: 4\n"
     ]
    },
    {
     "name": "stdout",
     "output_type": "stream",
     "text": [
      "\r",
      "Total steps: 26 in 3 episodes"
     ]
    },
    {
     "name": "stderr",
     "output_type": "stream",
     "text": [
      "2021-12-06 01:26:05,062 - offworld_gym - INFO - Environment step is complete.\n",
      "INFO:Environment step is complete.\n",
      "2021-12-06 01:26:05,081 - offworld_gym - INFO - Step count: 5\n",
      "INFO:Step count: 5\n"
     ]
    },
    {
     "name": "stdout",
     "output_type": "stream",
     "text": [
      "\r",
      "Total steps: 27 in 3 episodes"
     ]
    },
    {
     "name": "stderr",
     "output_type": "stream",
     "text": [
      "2021-12-06 01:26:11,537 - offworld_gym - INFO - Environment step is complete.\n",
      "INFO:Environment step is complete.\n",
      "2021-12-06 01:26:11,549 - offworld_gym - INFO - Step count: 6\n",
      "INFO:Step count: 6\n"
     ]
    },
    {
     "name": "stdout",
     "output_type": "stream",
     "text": [
      "\r",
      "Total steps: 28 in 3 episodes"
     ]
    },
    {
     "name": "stderr",
     "output_type": "stream",
     "text": [
      "2021-12-06 01:26:18,750 - offworld_gym - INFO - Environment step is complete.\n",
      "INFO:Environment step is complete.\n",
      "2021-12-06 01:26:18,758 - offworld_gym - INFO - Step count: 7\n",
      "INFO:Step count: 7\n"
     ]
    },
    {
     "name": "stdout",
     "output_type": "stream",
     "text": [
      "\r",
      "Total steps: 29 in 3 episodes"
     ]
    },
    {
     "name": "stderr",
     "output_type": "stream",
     "text": [
      "2021-12-06 01:26:25,255 - offworld_gym - INFO - Environment step is complete.\n",
      "INFO:Environment step is complete.\n",
      "2021-12-06 01:26:25,265 - offworld_gym - INFO - Step count: 8\n",
      "INFO:Step count: 8\n"
     ]
    },
    {
     "name": "stdout",
     "output_type": "stream",
     "text": [
      "\r",
      "Total steps: 30 in 3 episodes"
     ]
    },
    {
     "name": "stderr",
     "output_type": "stream",
     "text": [
      "2021-12-06 01:26:32,648 - offworld_gym - INFO - Environment step is complete.\n",
      "INFO:Environment step is complete.\n",
      "2021-12-06 01:26:32,656 - offworld_gym - INFO - Step count: 9\n",
      "INFO:Step count: 9\n"
     ]
    },
    {
     "name": "stdout",
     "output_type": "stream",
     "text": [
      "\r",
      "Total steps: 31 in 3 episodes"
     ]
    },
    {
     "name": "stderr",
     "output_type": "stream",
     "text": [
      "2021-12-06 01:26:39,157 - offworld_gym - INFO - Environment step is complete.\n",
      "INFO:Environment step is complete.\n",
      "2021-12-06 01:26:39,166 - offworld_gym - INFO - Step count: 10\n",
      "INFO:Step count: 10\n"
     ]
    },
    {
     "name": "stdout",
     "output_type": "stream",
     "text": [
      "\r",
      "Total steps: 32 in 3 episodes"
     ]
    },
    {
     "name": "stderr",
     "output_type": "stream",
     "text": [
      "2021-12-06 01:26:47,035 - offworld_gym - INFO - Environment step is complete.\n",
      "INFO:Environment step is complete.\n",
      "2021-12-06 01:26:47,046 - offworld_gym - INFO - Step count: 11\n",
      "INFO:Step count: 11\n"
     ]
    },
    {
     "name": "stdout",
     "output_type": "stream",
     "text": [
      "\r",
      "Total steps: 33 in 3 episodes"
     ]
    },
    {
     "name": "stderr",
     "output_type": "stream",
     "text": [
      "2021-12-06 01:26:53,529 - offworld_gym - INFO - Environment step is complete.\n",
      "INFO:Environment step is complete.\n",
      "2021-12-06 01:26:53,549 - offworld_gym - INFO - Step count: 12\n",
      "INFO:Step count: 12\n"
     ]
    },
    {
     "name": "stdout",
     "output_type": "stream",
     "text": [
      "\r",
      "Total steps: 34 in 3 episodes"
     ]
    },
    {
     "name": "stderr",
     "output_type": "stream",
     "text": [
      "2021-12-06 01:27:00,486 - offworld_gym - INFO - Environment step is complete.\n",
      "INFO:Environment step is complete.\n",
      "2021-12-06 01:27:00,495 - offworld_gym - INFO - Step count: 13\n",
      "INFO:Step count: 13\n"
     ]
    },
    {
     "name": "stdout",
     "output_type": "stream",
     "text": [
      "\r",
      "Total steps: 35 in 3 episodes"
     ]
    },
    {
     "name": "stderr",
     "output_type": "stream",
     "text": [
      "2021-12-06 01:27:07,812 - offworld_gym - INFO - Environment step is complete.\n",
      "INFO:Environment step is complete.\n",
      "2021-12-06 01:27:07,821 - offworld_gym - INFO - Step count: 14\n",
      "INFO:Step count: 14\n"
     ]
    },
    {
     "name": "stdout",
     "output_type": "stream",
     "text": [
      "\r",
      "Total steps: 36 in 3 episodes"
     ]
    },
    {
     "name": "stderr",
     "output_type": "stream",
     "text": [
      "2021-12-06 01:27:13,381 - offworld_gym - INFO - Environment step is complete.\n",
      "INFO:Environment step is complete.\n",
      "2021-12-06 01:27:13,391 - offworld_gym - INFO - Step count: 15\n",
      "INFO:Step count: 15\n"
     ]
    },
    {
     "name": "stdout",
     "output_type": "stream",
     "text": [
      "\r",
      "Total steps: 37 in 3 episodes"
     ]
    },
    {
     "name": "stderr",
     "output_type": "stream",
     "text": [
      "2021-12-06 01:27:19,385 - offworld_gym - INFO - Environment step is complete.\n",
      "INFO:Environment step is complete.\n",
      "2021-12-06 01:27:19,395 - offworld_gym - INFO - Step count: 16\n",
      "INFO:Step count: 16\n"
     ]
    },
    {
     "name": "stdout",
     "output_type": "stream",
     "text": [
      "\r",
      "Total steps: 38 in 3 episodes"
     ]
    },
    {
     "name": "stderr",
     "output_type": "stream",
     "text": [
      "2021-12-06 01:27:25,076 - offworld_gym - INFO - Environment step is complete.\n",
      "INFO:Environment step is complete.\n",
      "2021-12-06 01:27:25,084 - offworld_gym - INFO - Step count: 17\n",
      "INFO:Step count: 17\n"
     ]
    },
    {
     "name": "stdout",
     "output_type": "stream",
     "text": [
      "\r",
      "Total steps: 39 in 3 episodes"
     ]
    },
    {
     "name": "stderr",
     "output_type": "stream",
     "text": [
      "2021-12-06 01:27:31,746 - offworld_gym - INFO - Environment step is complete.\n",
      "INFO:Environment step is complete.\n",
      "2021-12-06 01:27:31,756 - offworld_gym - INFO - Step count: 18\n",
      "INFO:Step count: 18\n"
     ]
    },
    {
     "name": "stdout",
     "output_type": "stream",
     "text": [
      "\r",
      "Total steps: 40 in 3 episodes"
     ]
    },
    {
     "name": "stderr",
     "output_type": "stream",
     "text": [
      "2021-12-06 01:27:39,081 - offworld_gym - INFO - Environment step is complete.\n",
      "INFO:Environment step is complete.\n",
      "2021-12-06 01:27:39,092 - offworld_gym - INFO - Step count: 19\n",
      "INFO:Step count: 19\n"
     ]
    },
    {
     "name": "stdout",
     "output_type": "stream",
     "text": [
      "\r",
      "Total steps: 41 in 3 episodes"
     ]
    },
    {
     "name": "stderr",
     "output_type": "stream",
     "text": [
      "2021-12-06 01:27:44,654 - offworld_gym - INFO - Environment step is complete.\n",
      "INFO:Environment step is complete.\n",
      "2021-12-06 01:27:44,664 - offworld_gym - INFO - Step count: 20\n",
      "INFO:Step count: 20\n"
     ]
    },
    {
     "name": "stdout",
     "output_type": "stream",
     "text": [
      "\r",
      "Total steps: 42 in 3 episodes"
     ]
    },
    {
     "name": "stderr",
     "output_type": "stream",
     "text": [
      "2021-12-06 01:27:52,174 - offworld_gym - INFO - Environment step is complete.\n",
      "INFO:Environment step is complete.\n",
      "2021-12-06 01:27:52,184 - offworld_gym - INFO - Step count: 21\n",
      "INFO:Step count: 21\n"
     ]
    },
    {
     "name": "stdout",
     "output_type": "stream",
     "text": [
      "\r",
      "Total steps: 43 in 3 episodes"
     ]
    },
    {
     "name": "stderr",
     "output_type": "stream",
     "text": [
      "2021-12-06 01:27:57,956 - offworld_gym - INFO - Environment step is complete.\n",
      "INFO:Environment step is complete.\n",
      "2021-12-06 01:27:57,966 - offworld_gym - INFO - Step count: 22\n",
      "INFO:Step count: 22\n"
     ]
    },
    {
     "name": "stdout",
     "output_type": "stream",
     "text": [
      "\r",
      "Total steps: 44 in 3 episodes"
     ]
    },
    {
     "name": "stderr",
     "output_type": "stream",
     "text": [
      "2021-12-06 01:28:04,007 - offworld_gym - INFO - Environment step is complete.\n",
      "INFO:Environment step is complete.\n",
      "2021-12-06 01:28:04,016 - offworld_gym - INFO - Step count: 23\n",
      "INFO:Step count: 23\n"
     ]
    },
    {
     "name": "stdout",
     "output_type": "stream",
     "text": [
      "\r",
      "Total steps: 45 in 3 episodes"
     ]
    },
    {
     "name": "stderr",
     "output_type": "stream",
     "text": [
      "2021-12-06 01:28:09,571 - offworld_gym - INFO - Environment step is complete.\n",
      "INFO:Environment step is complete.\n",
      "2021-12-06 01:28:09,582 - offworld_gym - INFO - Step count: 24\n",
      "INFO:Step count: 24\n"
     ]
    },
    {
     "name": "stdout",
     "output_type": "stream",
     "text": [
      "\r",
      "Total steps: 46 in 3 episodes"
     ]
    },
    {
     "name": "stderr",
     "output_type": "stream",
     "text": [
      "2021-12-06 01:28:15,761 - offworld_gym - INFO - Environment step is complete.\n",
      "INFO:Environment step is complete.\n",
      "2021-12-06 01:28:15,771 - offworld_gym - INFO - Step count: 25\n",
      "INFO:Step count: 25\n"
     ]
    },
    {
     "name": "stdout",
     "output_type": "stream",
     "text": [
      "\r",
      "Total steps: 47 in 3 episodes"
     ]
    },
    {
     "name": "stderr",
     "output_type": "stream",
     "text": [
      "2021-12-06 01:28:20,893 - offworld_gym - INFO - Environment step is complete.\n",
      "INFO:Environment step is complete.\n",
      "2021-12-06 01:28:20,903 - offworld_gym - INFO - Step count: 26\n",
      "INFO:Step count: 26\n"
     ]
    },
    {
     "name": "stdout",
     "output_type": "stream",
     "text": [
      "\r",
      "Total steps: 48 in 3 episodes"
     ]
    },
    {
     "name": "stderr",
     "output_type": "stream",
     "text": [
      "2021-12-06 01:28:27,276 - offworld_gym - INFO - Environment step is complete.\n",
      "INFO:Environment step is complete.\n",
      "2021-12-06 01:28:27,277 - offworld_gym - INFO - Environment episode is complete: 26 steps, reward = 1\n",
      "INFO:Environment episode is complete: 26 steps, reward = 1\n",
      "2021-12-06 01:28:27,288 - offworld_gym - INFO - Resetting the episode and moving to a random initial position...\n",
      "INFO:Resetting the episode and moving to a random initial position...\n"
     ]
    },
    {
     "name": "stdout",
     "output_type": "stream",
     "text": [
      "\r",
      "Total steps: 49 in 3 episodes"
     ]
    },
    {
     "name": "stderr",
     "output_type": "stream",
     "text": [
      "2021-12-06 01:28:47,655 - offworld_gym - INFO - Environment reset complete\n",
      "INFO:Environment reset complete\n",
      "2021-12-06 01:28:47,675 - offworld_gym - INFO - Step count: 1\n",
      "INFO:Step count: 1\n"
     ]
    },
    {
     "name": "stdout",
     "output_type": "stream",
     "text": [
      "\r",
      "Total steps: 50 in 4 episodes"
     ]
    },
    {
     "name": "stderr",
     "output_type": "stream",
     "text": [
      "2021-12-06 01:28:53,464 - offworld_gym - INFO - Environment step is complete.\n",
      "INFO:Environment step is complete.\n",
      "2021-12-06 01:28:53,474 - offworld_gym - INFO - Step count: 2\n",
      "INFO:Step count: 2\n"
     ]
    },
    {
     "name": "stdout",
     "output_type": "stream",
     "text": [
      "\r",
      "Total steps: 50 in 4 episodes"
     ]
    },
    {
     "name": "stderr",
     "output_type": "stream",
     "text": [
      "2021-12-06 01:28:59,493 - offworld_gym - INFO - Environment step is complete.\n",
      "INFO:Environment step is complete.\n",
      "2021-12-06 01:28:59,503 - offworld_gym - INFO - Step count: 3\n",
      "INFO:Step count: 3\n"
     ]
    },
    {
     "name": "stdout",
     "output_type": "stream",
     "text": [
      "\r",
      "Total steps: 51 in 4 episodes"
     ]
    },
    {
     "name": "stderr",
     "output_type": "stream",
     "text": [
      "2021-12-06 01:29:06,605 - offworld_gym - INFO - Environment step is complete.\n",
      "INFO:Environment step is complete.\n",
      "2021-12-06 01:29:06,614 - offworld_gym - INFO - Step count: 4\n",
      "INFO:Step count: 4\n"
     ]
    },
    {
     "name": "stdout",
     "output_type": "stream",
     "text": [
      "\r",
      "Total steps: 52 in 4 episodes"
     ]
    },
    {
     "name": "stderr",
     "output_type": "stream",
     "text": [
      "2021-12-06 01:29:12,569 - offworld_gym - INFO - Environment step is complete.\n",
      "INFO:Environment step is complete.\n",
      "2021-12-06 01:29:12,578 - offworld_gym - INFO - Step count: 5\n",
      "INFO:Step count: 5\n"
     ]
    },
    {
     "name": "stdout",
     "output_type": "stream",
     "text": [
      "\r",
      "Total steps: 53 in 4 episodes"
     ]
    },
    {
     "name": "stderr",
     "output_type": "stream",
     "text": [
      "2021-12-06 01:30:04,941 - offworld_gym - INFO - Environment step is complete.\n",
      "INFO:Environment step is complete.\n",
      "2021-12-06 01:30:04,958 - offworld_gym - INFO - Step count: 6\n",
      "INFO:Step count: 6\n"
     ]
    },
    {
     "name": "stdout",
     "output_type": "stream",
     "text": [
      "\r",
      "Total steps: 54 in 4 episodes"
     ]
    },
    {
     "name": "stderr",
     "output_type": "stream",
     "text": [
      "2021-12-06 01:30:10,464 - offworld_gym - INFO - Environment step is complete.\n",
      "INFO:Environment step is complete.\n",
      "2021-12-06 01:30:10,475 - offworld_gym - INFO - Step count: 7\n",
      "INFO:Step count: 7\n"
     ]
    },
    {
     "name": "stdout",
     "output_type": "stream",
     "text": [
      "\r",
      "Total steps: 55 in 4 episodes"
     ]
    },
    {
     "name": "stderr",
     "output_type": "stream",
     "text": [
      "2021-12-06 01:30:15,729 - offworld_gym - INFO - Environment step is complete.\n",
      "INFO:Environment step is complete.\n",
      "2021-12-06 01:30:15,739 - offworld_gym - INFO - Step count: 8\n",
      "INFO:Step count: 8\n"
     ]
    },
    {
     "name": "stdout",
     "output_type": "stream",
     "text": [
      "\r",
      "Total steps: 56 in 4 episodes"
     ]
    },
    {
     "name": "stderr",
     "output_type": "stream",
     "text": [
      "2021-12-06 01:30:20,770 - offworld_gym - INFO - Environment step is complete.\n",
      "INFO:Environment step is complete.\n",
      "2021-12-06 01:30:20,779 - offworld_gym - INFO - Step count: 9\n",
      "INFO:Step count: 9\n"
     ]
    },
    {
     "name": "stdout",
     "output_type": "stream",
     "text": [
      "\r",
      "Total steps: 57 in 4 episodes"
     ]
    },
    {
     "name": "stderr",
     "output_type": "stream",
     "text": [
      "2021-12-06 01:30:26,196 - offworld_gym - INFO - Environment step is complete.\n",
      "INFO:Environment step is complete.\n",
      "2021-12-06 01:30:26,206 - offworld_gym - INFO - Step count: 10\n",
      "INFO:Step count: 10\n"
     ]
    },
    {
     "name": "stdout",
     "output_type": "stream",
     "text": [
      "\r",
      "Total steps: 58 in 4 episodes"
     ]
    },
    {
     "name": "stderr",
     "output_type": "stream",
     "text": [
      "2021-12-06 01:30:31,976 - offworld_gym - INFO - Environment step is complete.\n",
      "INFO:Environment step is complete.\n",
      "2021-12-06 01:30:31,986 - offworld_gym - INFO - Step count: 11\n",
      "INFO:Step count: 11\n"
     ]
    },
    {
     "name": "stdout",
     "output_type": "stream",
     "text": [
      "\r",
      "Total steps: 59 in 4 episodes"
     ]
    },
    {
     "name": "stderr",
     "output_type": "stream",
     "text": [
      "2021-12-06 01:30:37,743 - offworld_gym - INFO - Environment step is complete.\n",
      "INFO:Environment step is complete.\n",
      "2021-12-06 01:30:37,753 - offworld_gym - INFO - Step count: 12\n",
      "INFO:Step count: 12\n"
     ]
    },
    {
     "name": "stdout",
     "output_type": "stream",
     "text": [
      "\r",
      "Total steps: 60 in 4 episodes"
     ]
    },
    {
     "name": "stderr",
     "output_type": "stream",
     "text": [
      "2021-12-06 01:30:42,767 - offworld_gym - INFO - Environment step is complete.\n",
      "INFO:Environment step is complete.\n",
      "2021-12-06 01:30:42,780 - offworld_gym - INFO - Step count: 13\n",
      "INFO:Step count: 13\n"
     ]
    },
    {
     "name": "stdout",
     "output_type": "stream",
     "text": [
      "\r",
      "Total steps: 61 in 4 episodes"
     ]
    },
    {
     "name": "stderr",
     "output_type": "stream",
     "text": [
      "2021-12-06 01:30:48,209 - offworld_gym - INFO - Environment step is complete.\n",
      "INFO:Environment step is complete.\n",
      "2021-12-06 01:30:48,221 - offworld_gym - INFO - Step count: 14\n",
      "INFO:Step count: 14\n"
     ]
    },
    {
     "name": "stdout",
     "output_type": "stream",
     "text": [
      "\r",
      "Total steps: 62 in 4 episodes"
     ]
    },
    {
     "name": "stderr",
     "output_type": "stream",
     "text": [
      "2021-12-06 01:30:54,251 - offworld_gym - INFO - Environment step is complete.\n",
      "INFO:Environment step is complete.\n",
      "2021-12-06 01:30:54,261 - offworld_gym - INFO - Step count: 15\n",
      "INFO:Step count: 15\n"
     ]
    },
    {
     "name": "stdout",
     "output_type": "stream",
     "text": [
      "\r",
      "Total steps: 63 in 4 episodes"
     ]
    },
    {
     "name": "stderr",
     "output_type": "stream",
     "text": [
      "2021-12-06 01:31:00,218 - offworld_gym - INFO - Environment step is complete.\n",
      "INFO:Environment step is complete.\n",
      "2021-12-06 01:31:00,228 - offworld_gym - INFO - Step count: 16\n",
      "INFO:Step count: 16\n"
     ]
    },
    {
     "name": "stdout",
     "output_type": "stream",
     "text": [
      "\r",
      "Total steps: 64 in 4 episodes"
     ]
    },
    {
     "name": "stderr",
     "output_type": "stream",
     "text": [
      "2021-12-06 01:31:06,583 - offworld_gym - INFO - Environment step is complete.\n",
      "INFO:Environment step is complete.\n",
      "2021-12-06 01:31:06,592 - offworld_gym - INFO - Step count: 17\n",
      "INFO:Step count: 17\n"
     ]
    },
    {
     "name": "stdout",
     "output_type": "stream",
     "text": [
      "\r",
      "Total steps: 65 in 4 episodes"
     ]
    },
    {
     "name": "stderr",
     "output_type": "stream",
     "text": [
      "2021-12-06 01:31:12,092 - offworld_gym - INFO - Environment step is complete.\n",
      "INFO:Environment step is complete.\n",
      "2021-12-06 01:31:12,103 - offworld_gym - INFO - Step count: 18\n",
      "INFO:Step count: 18\n"
     ]
    },
    {
     "name": "stdout",
     "output_type": "stream",
     "text": [
      "\r",
      "Total steps: 66 in 4 episodes"
     ]
    },
    {
     "name": "stderr",
     "output_type": "stream",
     "text": [
      "2021-12-06 01:31:18,063 - offworld_gym - INFO - Environment step is complete.\n",
      "INFO:Environment step is complete.\n",
      "2021-12-06 01:31:18,071 - offworld_gym - INFO - Step count: 19\n",
      "INFO:Step count: 19\n"
     ]
    },
    {
     "name": "stdout",
     "output_type": "stream",
     "text": [
      "\r",
      "Total steps: 67 in 4 episodes"
     ]
    },
    {
     "name": "stderr",
     "output_type": "stream",
     "text": [
      "2021-12-06 01:31:23,050 - offworld_gym - INFO - Environment step is complete.\n",
      "INFO:Environment step is complete.\n",
      "2021-12-06 01:31:23,061 - offworld_gym - INFO - Step count: 20\n",
      "INFO:Step count: 20\n"
     ]
    },
    {
     "name": "stdout",
     "output_type": "stream",
     "text": [
      "\r",
      "Total steps: 68 in 4 episodes"
     ]
    },
    {
     "name": "stderr",
     "output_type": "stream",
     "text": [
      "2021-12-06 01:31:30,009 - offworld_gym - INFO - Environment step is complete.\n",
      "INFO:Environment step is complete.\n",
      "2021-12-06 01:31:30,010 - offworld_gym - INFO - Environment episode is complete: 20 steps, reward = 1\n",
      "INFO:Environment episode is complete: 20 steps, reward = 1\n",
      "2021-12-06 01:31:30,019 - offworld_gym - INFO - Resetting the episode and moving to a random initial position...\n",
      "INFO:Resetting the episode and moving to a random initial position...\n"
     ]
    },
    {
     "name": "stdout",
     "output_type": "stream",
     "text": [
      "\r",
      "Total steps: 69 in 4 episodes"
     ]
    },
    {
     "name": "stderr",
     "output_type": "stream",
     "text": [
      "2021-12-06 01:31:46,778 - offworld_gym - INFO - Environment reset complete\n",
      "INFO:Environment reset complete\n",
      "2021-12-06 01:31:46,800 - offworld_gym - INFO - Resetting the episode and moving to a random initial position...\n",
      "INFO:Resetting the episode and moving to a random initial position...\n"
     ]
    },
    {
     "name": "stdout",
     "output_type": "stream",
     "text": [
      "\r",
      "Total steps: 70 in 5 episodes"
     ]
    },
    {
     "name": "stderr",
     "output_type": "stream",
     "text": [
      "2021-12-06 01:32:13,182 - offworld_gym - INFO - Environment reset complete\n",
      "INFO:Environment reset complete\n",
      "2021-12-06 01:32:13,195 - offworld_gym - INFO - Step count: 1\n",
      "INFO:Step count: 1\n",
      "2021-12-06 01:32:19,270 - offworld_gym - INFO - Environment step is complete.\n",
      "INFO:Environment step is complete.\n",
      "2021-12-06 01:32:19,282 - offworld_gym - INFO - Step count: 2\n",
      "INFO:Step count: 2\n"
     ]
    },
    {
     "name": "stdout",
     "output_type": "stream",
     "text": [
      "\r",
      "Total steps: 70 in 5 episodes"
     ]
    },
    {
     "name": "stderr",
     "output_type": "stream",
     "text": [
      "2021-12-06 01:32:26,732 - offworld_gym - INFO - Environment step is complete.\n",
      "INFO:Environment step is complete.\n",
      "2021-12-06 01:32:26,733 - offworld_gym - INFO - Environment episode is complete: 2 steps, reward = 0\n",
      "INFO:Environment episode is complete: 2 steps, reward = 0\n",
      "2021-12-06 01:32:26,746 - offworld_gym - INFO - Resetting the episode and moving to a random initial position...\n",
      "INFO:Resetting the episode and moving to a random initial position...\n"
     ]
    },
    {
     "name": "stdout",
     "output_type": "stream",
     "text": [
      "\r",
      "Total steps: 71 in 5 episodes"
     ]
    },
    {
     "name": "stderr",
     "output_type": "stream",
     "text": [
      "2021-12-06 01:32:38,729 - offworld_gym - INFO - Environment reset complete\n",
      "INFO:Environment reset complete\n",
      "2021-12-06 01:32:38,751 - offworld_gym - INFO - Step count: 1\n",
      "INFO:Step count: 1\n"
     ]
    },
    {
     "name": "stdout",
     "output_type": "stream",
     "text": [
      "\r",
      "Total steps: 72 in 6 episodes"
     ]
    },
    {
     "name": "stderr",
     "output_type": "stream",
     "text": [
      "2021-12-06 01:32:44,603 - offworld_gym - INFO - Environment step is complete.\n",
      "INFO:Environment step is complete.\n",
      "2021-12-06 01:32:44,614 - offworld_gym - INFO - Step count: 2\n",
      "INFO:Step count: 2\n"
     ]
    },
    {
     "name": "stdout",
     "output_type": "stream",
     "text": [
      "\r",
      "Total steps: 72 in 6 episodes"
     ]
    },
    {
     "name": "stderr",
     "output_type": "stream",
     "text": [
      "2021-12-06 01:32:51,411 - offworld_gym - INFO - Environment step is complete.\n",
      "INFO:Environment step is complete.\n",
      "2021-12-06 01:32:51,412 - offworld_gym - INFO - Environment episode is complete: 2 steps, reward = 0\n",
      "INFO:Environment episode is complete: 2 steps, reward = 0\n",
      "2021-12-06 01:32:51,422 - offworld_gym - INFO - Resetting the episode and moving to a random initial position...\n",
      "INFO:Resetting the episode and moving to a random initial position...\n"
     ]
    },
    {
     "name": "stdout",
     "output_type": "stream",
     "text": [
      "\r",
      "Total steps: 73 in 6 episodes"
     ]
    },
    {
     "name": "stderr",
     "output_type": "stream",
     "text": [
      "2021-12-06 01:33:03,090 - offworld_gym - INFO - Environment reset complete\n",
      "INFO:Environment reset complete\n",
      "2021-12-06 01:33:03,101 - offworld_gym - INFO - Step count: 1\n",
      "INFO:Step count: 1\n"
     ]
    },
    {
     "name": "stdout",
     "output_type": "stream",
     "text": [
      "\r",
      "Total steps: 74 in 7 episodes"
     ]
    },
    {
     "name": "stderr",
     "output_type": "stream",
     "text": [
      "2021-12-06 01:33:08,627 - offworld_gym - INFO - Environment step is complete.\n",
      "INFO:Environment step is complete.\n",
      "2021-12-06 01:33:08,636 - offworld_gym - INFO - Step count: 2\n",
      "INFO:Step count: 2\n"
     ]
    },
    {
     "name": "stdout",
     "output_type": "stream",
     "text": [
      "\r",
      "Total steps: 74 in 7 episodes"
     ]
    },
    {
     "name": "stderr",
     "output_type": "stream",
     "text": [
      "2021-12-06 01:33:13,466 - offworld_gym - INFO - Environment step is complete.\n",
      "INFO:Environment step is complete.\n",
      "2021-12-06 01:33:13,486 - offworld_gym - INFO - Step count: 3\n",
      "INFO:Step count: 3\n"
     ]
    },
    {
     "name": "stdout",
     "output_type": "stream",
     "text": [
      "\r",
      "Total steps: 75 in 7 episodes"
     ]
    },
    {
     "name": "stderr",
     "output_type": "stream",
     "text": [
      "2021-12-06 01:33:18,728 - offworld_gym - INFO - Environment step is complete.\n",
      "INFO:Environment step is complete.\n",
      "2021-12-06 01:33:18,737 - offworld_gym - INFO - Step count: 4\n",
      "INFO:Step count: 4\n"
     ]
    },
    {
     "name": "stdout",
     "output_type": "stream",
     "text": [
      "\r",
      "Total steps: 76 in 7 episodes"
     ]
    },
    {
     "name": "stderr",
     "output_type": "stream",
     "text": [
      "2021-12-06 01:33:23,223 - offworld_gym - INFO - Environment step is complete.\n",
      "INFO:Environment step is complete.\n",
      "2021-12-06 01:33:23,233 - offworld_gym - INFO - Step count: 5\n",
      "INFO:Step count: 5\n"
     ]
    },
    {
     "name": "stdout",
     "output_type": "stream",
     "text": [
      "\r",
      "Total steps: 77 in 7 episodes"
     ]
    },
    {
     "name": "stderr",
     "output_type": "stream",
     "text": [
      "2021-12-06 01:33:28,890 - offworld_gym - INFO - Environment step is complete.\n",
      "INFO:Environment step is complete.\n",
      "2021-12-06 01:33:28,906 - offworld_gym - INFO - Step count: 6\n",
      "INFO:Step count: 6\n"
     ]
    },
    {
     "name": "stdout",
     "output_type": "stream",
     "text": [
      "\r",
      "Total steps: 78 in 7 episodes"
     ]
    },
    {
     "name": "stderr",
     "output_type": "stream",
     "text": [
      "2021-12-06 01:33:33,481 - offworld_gym - INFO - Environment step is complete.\n",
      "INFO:Environment step is complete.\n",
      "2021-12-06 01:33:33,489 - offworld_gym - INFO - Step count: 7\n",
      "INFO:Step count: 7\n"
     ]
    },
    {
     "name": "stdout",
     "output_type": "stream",
     "text": [
      "\r",
      "Total steps: 79 in 7 episodes"
     ]
    },
    {
     "name": "stderr",
     "output_type": "stream",
     "text": [
      "2021-12-06 01:33:38,566 - offworld_gym - INFO - Environment step is complete.\n",
      "INFO:Environment step is complete.\n",
      "2021-12-06 01:33:38,575 - offworld_gym - INFO - Step count: 8\n",
      "INFO:Step count: 8\n"
     ]
    },
    {
     "name": "stdout",
     "output_type": "stream",
     "text": [
      "\r",
      "Total steps: 80 in 7 episodes"
     ]
    },
    {
     "name": "stderr",
     "output_type": "stream",
     "text": [
      "2021-12-06 01:33:43,816 - offworld_gym - INFO - Environment step is complete.\n",
      "INFO:Environment step is complete.\n",
      "2021-12-06 01:33:43,825 - offworld_gym - INFO - Step count: 9\n",
      "INFO:Step count: 9\n"
     ]
    },
    {
     "name": "stdout",
     "output_type": "stream",
     "text": [
      "\r",
      "Total steps: 81 in 7 episodes"
     ]
    },
    {
     "name": "stderr",
     "output_type": "stream",
     "text": [
      "2021-12-06 01:33:48,471 - offworld_gym - INFO - Environment step is complete.\n",
      "INFO:Environment step is complete.\n",
      "2021-12-06 01:33:48,481 - offworld_gym - INFO - Step count: 10\n",
      "INFO:Step count: 10\n"
     ]
    },
    {
     "name": "stdout",
     "output_type": "stream",
     "text": [
      "\r",
      "Total steps: 82 in 7 episodes"
     ]
    },
    {
     "name": "stderr",
     "output_type": "stream",
     "text": [
      "2021-12-06 01:33:53,446 - offworld_gym - INFO - Environment step is complete.\n",
      "INFO:Environment step is complete.\n",
      "2021-12-06 01:33:53,455 - offworld_gym - INFO - Step count: 11\n",
      "INFO:Step count: 11\n"
     ]
    },
    {
     "name": "stdout",
     "output_type": "stream",
     "text": [
      "\r",
      "Total steps: 83 in 7 episodes"
     ]
    },
    {
     "name": "stderr",
     "output_type": "stream",
     "text": [
      "2021-12-06 01:33:58,363 - offworld_gym - INFO - Environment step is complete.\n",
      "INFO:Environment step is complete.\n",
      "2021-12-06 01:33:58,372 - offworld_gym - INFO - Step count: 12\n",
      "INFO:Step count: 12\n"
     ]
    },
    {
     "name": "stdout",
     "output_type": "stream",
     "text": [
      "\r",
      "Total steps: 84 in 7 episodes"
     ]
    },
    {
     "name": "stderr",
     "output_type": "stream",
     "text": [
      "2021-12-06 01:34:03,283 - offworld_gym - INFO - Environment step is complete.\n",
      "INFO:Environment step is complete.\n",
      "2021-12-06 01:34:03,293 - offworld_gym - INFO - Step count: 13\n",
      "INFO:Step count: 13\n"
     ]
    },
    {
     "name": "stdout",
     "output_type": "stream",
     "text": [
      "\r",
      "Total steps: 85 in 7 episodes"
     ]
    },
    {
     "name": "stderr",
     "output_type": "stream",
     "text": [
      "2021-12-06 01:34:08,724 - offworld_gym - INFO - Environment step is complete.\n",
      "INFO:Environment step is complete.\n",
      "2021-12-06 01:34:08,734 - offworld_gym - INFO - Step count: 14\n",
      "INFO:Step count: 14\n"
     ]
    },
    {
     "name": "stdout",
     "output_type": "stream",
     "text": [
      "\r",
      "Total steps: 86 in 7 episodes"
     ]
    },
    {
     "name": "stderr",
     "output_type": "stream",
     "text": [
      "2021-12-06 01:34:13,414 - offworld_gym - INFO - Environment step is complete.\n",
      "INFO:Environment step is complete.\n",
      "2021-12-06 01:34:13,424 - offworld_gym - INFO - Step count: 15\n",
      "INFO:Step count: 15\n"
     ]
    },
    {
     "name": "stdout",
     "output_type": "stream",
     "text": [
      "\r",
      "Total steps: 87 in 7 episodes"
     ]
    },
    {
     "name": "stderr",
     "output_type": "stream",
     "text": [
      "2021-12-06 01:34:18,598 - offworld_gym - INFO - Environment step is complete.\n",
      "INFO:Environment step is complete.\n",
      "2021-12-06 01:34:18,606 - offworld_gym - INFO - Step count: 16\n",
      "INFO:Step count: 16\n"
     ]
    },
    {
     "name": "stdout",
     "output_type": "stream",
     "text": [
      "\r",
      "Total steps: 88 in 7 episodes"
     ]
    },
    {
     "name": "stderr",
     "output_type": "stream",
     "text": [
      "2021-12-06 01:34:23,219 - offworld_gym - INFO - Environment step is complete.\n",
      "INFO:Environment step is complete.\n",
      "2021-12-06 01:34:23,229 - offworld_gym - INFO - Step count: 17\n",
      "INFO:Step count: 17\n"
     ]
    },
    {
     "name": "stdout",
     "output_type": "stream",
     "text": [
      "\r",
      "Total steps: 89 in 7 episodes"
     ]
    },
    {
     "name": "stderr",
     "output_type": "stream",
     "text": [
      "2021-12-06 01:34:28,109 - offworld_gym - INFO - Environment step is complete.\n",
      "INFO:Environment step is complete.\n",
      "2021-12-06 01:34:28,119 - offworld_gym - INFO - Step count: 18\n",
      "INFO:Step count: 18\n"
     ]
    },
    {
     "name": "stdout",
     "output_type": "stream",
     "text": [
      "\r",
      "Total steps: 90 in 7 episodes"
     ]
    },
    {
     "name": "stderr",
     "output_type": "stream",
     "text": [
      "2021-12-06 01:34:33,159 - offworld_gym - INFO - Environment step is complete.\n",
      "INFO:Environment step is complete.\n",
      "2021-12-06 01:34:33,167 - offworld_gym - INFO - Step count: 19\n",
      "INFO:Step count: 19\n"
     ]
    },
    {
     "name": "stdout",
     "output_type": "stream",
     "text": [
      "\r",
      "Total steps: 91 in 7 episodes"
     ]
    },
    {
     "name": "stderr",
     "output_type": "stream",
     "text": [
      "2021-12-06 01:34:38,126 - offworld_gym - INFO - Environment step is complete.\n",
      "INFO:Environment step is complete.\n",
      "2021-12-06 01:34:38,136 - offworld_gym - INFO - Step count: 20\n",
      "INFO:Step count: 20\n"
     ]
    },
    {
     "name": "stdout",
     "output_type": "stream",
     "text": [
      "\r",
      "Total steps: 92 in 7 episodes"
     ]
    },
    {
     "name": "stderr",
     "output_type": "stream",
     "text": [
      "2021-12-06 01:34:43,155 - offworld_gym - INFO - Environment step is complete.\n",
      "INFO:Environment step is complete.\n",
      "2021-12-06 01:34:43,163 - offworld_gym - INFO - Step count: 21\n",
      "INFO:Step count: 21\n"
     ]
    },
    {
     "name": "stdout",
     "output_type": "stream",
     "text": [
      "\r",
      "Total steps: 93 in 7 episodes"
     ]
    },
    {
     "name": "stderr",
     "output_type": "stream",
     "text": [
      "2021-12-06 01:34:48,682 - offworld_gym - INFO - Environment step is complete.\n",
      "INFO:Environment step is complete.\n",
      "2021-12-06 01:34:48,691 - offworld_gym - INFO - Step count: 22\n",
      "INFO:Step count: 22\n"
     ]
    },
    {
     "name": "stdout",
     "output_type": "stream",
     "text": [
      "\r",
      "Total steps: 94 in 7 episodes"
     ]
    },
    {
     "name": "stderr",
     "output_type": "stream",
     "text": [
      "2021-12-06 01:34:53,744 - offworld_gym - INFO - Environment step is complete.\n",
      "INFO:Environment step is complete.\n",
      "2021-12-06 01:34:53,753 - offworld_gym - INFO - Step count: 23\n",
      "INFO:Step count: 23\n"
     ]
    },
    {
     "name": "stdout",
     "output_type": "stream",
     "text": [
      "\r",
      "Total steps: 95 in 7 episodes"
     ]
    },
    {
     "name": "stderr",
     "output_type": "stream",
     "text": [
      "2021-12-06 01:34:58,624 - offworld_gym - INFO - Environment step is complete.\n",
      "INFO:Environment step is complete.\n",
      "2021-12-06 01:34:58,635 - offworld_gym - INFO - Step count: 24\n",
      "INFO:Step count: 24\n"
     ]
    },
    {
     "name": "stdout",
     "output_type": "stream",
     "text": [
      "\r",
      "Total steps: 96 in 7 episodes"
     ]
    },
    {
     "name": "stderr",
     "output_type": "stream",
     "text": [
      "2021-12-06 01:35:03,804 - offworld_gym - INFO - Environment step is complete.\n",
      "INFO:Environment step is complete.\n",
      "2021-12-06 01:35:03,814 - offworld_gym - INFO - Step count: 25\n",
      "INFO:Step count: 25\n"
     ]
    },
    {
     "name": "stdout",
     "output_type": "stream",
     "text": [
      "\r",
      "Total steps: 97 in 7 episodes"
     ]
    },
    {
     "name": "stderr",
     "output_type": "stream",
     "text": [
      "2021-12-06 01:35:10,656 - offworld_gym - INFO - Environment step is complete.\n",
      "INFO:Environment step is complete.\n",
      "2021-12-06 01:35:10,673 - offworld_gym - INFO - Step count: 26\n",
      "INFO:Step count: 26\n"
     ]
    },
    {
     "name": "stdout",
     "output_type": "stream",
     "text": [
      "\r",
      "Total steps: 98 in 7 episodes"
     ]
    },
    {
     "name": "stderr",
     "output_type": "stream",
     "text": [
      "2021-12-06 01:35:16,069 - offworld_gym - INFO - Environment step is complete.\n",
      "INFO:Environment step is complete.\n",
      "2021-12-06 01:35:16,078 - offworld_gym - INFO - Step count: 27\n",
      "INFO:Step count: 27\n"
     ]
    },
    {
     "name": "stdout",
     "output_type": "stream",
     "text": [
      "\r",
      "Total steps: 99 in 7 episodes"
     ]
    },
    {
     "name": "stderr",
     "output_type": "stream",
     "text": [
      "2021-12-06 01:35:22,007 - offworld_gym - INFO - Environment step is complete.\n",
      "INFO:Environment step is complete.\n",
      "2021-12-06 01:35:22,016 - offworld_gym - INFO - Step count: 28\n",
      "INFO:Step count: 28\n"
     ]
    },
    {
     "name": "stdout",
     "output_type": "stream",
     "text": [
      "\r",
      "Total steps: 100 in 7 episodes"
     ]
    },
    {
     "name": "stderr",
     "output_type": "stream",
     "text": [
      "2021-12-06 01:35:28,020 - offworld_gym - INFO - Environment step is complete.\n",
      "INFO:Environment step is complete.\n",
      "2021-12-06 01:35:28,037 - offworld_gym - INFO - Step count: 29\n",
      "INFO:Step count: 29\n"
     ]
    },
    {
     "name": "stdout",
     "output_type": "stream",
     "text": [
      "\r",
      "Total steps: 101 in 7 episodes"
     ]
    },
    {
     "name": "stderr",
     "output_type": "stream",
     "text": [
      "2021-12-06 01:35:34,080 - offworld_gym - INFO - Environment step is complete.\n",
      "INFO:Environment step is complete.\n",
      "2021-12-06 01:35:34,090 - offworld_gym - INFO - Step count: 30\n",
      "INFO:Step count: 30\n"
     ]
    },
    {
     "name": "stdout",
     "output_type": "stream",
     "text": [
      "\r",
      "Total steps: 102 in 7 episodes"
     ]
    },
    {
     "name": "stderr",
     "output_type": "stream",
     "text": [
      "2021-12-06 01:35:39,852 - offworld_gym - INFO - Environment step is complete.\n",
      "INFO:Environment step is complete.\n",
      "2021-12-06 01:35:39,862 - offworld_gym - INFO - Step count: 31\n",
      "INFO:Step count: 31\n"
     ]
    },
    {
     "name": "stdout",
     "output_type": "stream",
     "text": [
      "\r",
      "Total steps: 103 in 7 episodes"
     ]
    },
    {
     "name": "stderr",
     "output_type": "stream",
     "text": [
      "2021-12-06 01:35:45,604 - offworld_gym - INFO - Environment step is complete.\n",
      "INFO:Environment step is complete.\n",
      "2021-12-06 01:35:45,614 - offworld_gym - INFO - Step count: 32\n",
      "INFO:Step count: 32\n"
     ]
    },
    {
     "name": "stdout",
     "output_type": "stream",
     "text": [
      "\r",
      "Total steps: 104 in 7 episodes"
     ]
    },
    {
     "name": "stderr",
     "output_type": "stream",
     "text": [
      "2021-12-06 01:35:50,910 - offworld_gym - INFO - Environment step is complete.\n",
      "INFO:Environment step is complete.\n",
      "2021-12-06 01:35:50,918 - offworld_gym - INFO - Step count: 33\n",
      "INFO:Step count: 33\n"
     ]
    },
    {
     "name": "stdout",
     "output_type": "stream",
     "text": [
      "\r",
      "Total steps: 105 in 7 episodes"
     ]
    },
    {
     "name": "stderr",
     "output_type": "stream",
     "text": [
      "2021-12-06 01:35:57,088 - offworld_gym - INFO - Environment step is complete.\n",
      "INFO:Environment step is complete.\n",
      "2021-12-06 01:35:57,098 - offworld_gym - INFO - Step count: 34\n",
      "INFO:Step count: 34\n"
     ]
    },
    {
     "name": "stdout",
     "output_type": "stream",
     "text": [
      "\r",
      "Total steps: 106 in 7 episodes"
     ]
    },
    {
     "name": "stderr",
     "output_type": "stream",
     "text": [
      "2021-12-06 01:36:02,996 - offworld_gym - INFO - Environment step is complete.\n",
      "INFO:Environment step is complete.\n",
      "2021-12-06 01:36:03,007 - offworld_gym - INFO - Step count: 35\n",
      "INFO:Step count: 35\n"
     ]
    },
    {
     "name": "stdout",
     "output_type": "stream",
     "text": [
      "\r",
      "Total steps: 107 in 7 episodes"
     ]
    },
    {
     "name": "stderr",
     "output_type": "stream",
     "text": [
      "2021-12-06 01:36:08,545 - offworld_gym - INFO - Environment step is complete.\n",
      "INFO:Environment step is complete.\n",
      "2021-12-06 01:36:08,560 - offworld_gym - INFO - Step count: 36\n",
      "INFO:Step count: 36\n"
     ]
    },
    {
     "name": "stdout",
     "output_type": "stream",
     "text": [
      "\r",
      "Total steps: 108 in 7 episodes"
     ]
    },
    {
     "name": "stderr",
     "output_type": "stream",
     "text": [
      "2021-12-06 01:36:13,732 - offworld_gym - INFO - Environment step is complete.\n",
      "INFO:Environment step is complete.\n",
      "2021-12-06 01:36:13,742 - offworld_gym - INFO - Step count: 37\n",
      "INFO:Step count: 37\n"
     ]
    },
    {
     "name": "stdout",
     "output_type": "stream",
     "text": [
      "\r",
      "Total steps: 109 in 7 episodes"
     ]
    },
    {
     "name": "stderr",
     "output_type": "stream",
     "text": [
      "2021-12-06 01:36:19,117 - offworld_gym - INFO - Environment step is complete.\n",
      "INFO:Environment step is complete.\n",
      "2021-12-06 01:36:19,125 - offworld_gym - INFO - Step count: 38\n",
      "INFO:Step count: 38\n"
     ]
    },
    {
     "name": "stdout",
     "output_type": "stream",
     "text": [
      "\r",
      "Total steps: 110 in 7 episodes"
     ]
    },
    {
     "name": "stderr",
     "output_type": "stream",
     "text": [
      "2021-12-06 01:36:24,410 - offworld_gym - INFO - Environment step is complete.\n",
      "INFO:Environment step is complete.\n",
      "2021-12-06 01:36:24,419 - offworld_gym - INFO - Step count: 39\n",
      "INFO:Step count: 39\n"
     ]
    },
    {
     "name": "stdout",
     "output_type": "stream",
     "text": [
      "\r",
      "Total steps: 111 in 7 episodes"
     ]
    },
    {
     "name": "stderr",
     "output_type": "stream",
     "text": [
      "2021-12-06 01:36:29,447 - offworld_gym - INFO - Environment step is complete.\n",
      "INFO:Environment step is complete.\n",
      "2021-12-06 01:36:29,456 - offworld_gym - INFO - Step count: 40\n",
      "INFO:Step count: 40\n"
     ]
    },
    {
     "name": "stdout",
     "output_type": "stream",
     "text": [
      "\r",
      "Total steps: 112 in 7 episodes"
     ]
    },
    {
     "name": "stderr",
     "output_type": "stream",
     "text": [
      "2021-12-06 01:36:34,371 - offworld_gym - INFO - Environment step is complete.\n",
      "INFO:Environment step is complete.\n",
      "2021-12-06 01:36:34,381 - offworld_gym - INFO - Step count: 41\n",
      "INFO:Step count: 41\n"
     ]
    },
    {
     "name": "stdout",
     "output_type": "stream",
     "text": [
      "\r",
      "Total steps: 113 in 7 episodes"
     ]
    },
    {
     "name": "stderr",
     "output_type": "stream",
     "text": [
      "2021-12-06 01:36:39,865 - offworld_gym - INFO - Environment step is complete.\n",
      "INFO:Environment step is complete.\n",
      "2021-12-06 01:36:39,875 - offworld_gym - INFO - Step count: 42\n",
      "INFO:Step count: 42\n"
     ]
    },
    {
     "name": "stdout",
     "output_type": "stream",
     "text": [
      "\r",
      "Total steps: 114 in 7 episodes"
     ]
    },
    {
     "name": "stderr",
     "output_type": "stream",
     "text": [
      "2021-12-06 01:36:45,462 - offworld_gym - INFO - Environment step is complete.\n",
      "INFO:Environment step is complete.\n",
      "2021-12-06 01:36:45,471 - offworld_gym - INFO - Step count: 43\n",
      "INFO:Step count: 43\n"
     ]
    },
    {
     "name": "stdout",
     "output_type": "stream",
     "text": [
      "\r",
      "Total steps: 115 in 7 episodes"
     ]
    },
    {
     "name": "stderr",
     "output_type": "stream",
     "text": [
      "2021-12-06 01:36:51,896 - offworld_gym - INFO - Environment step is complete.\n",
      "INFO:Environment step is complete.\n",
      "2021-12-06 01:36:51,906 - offworld_gym - INFO - Step count: 44\n",
      "INFO:Step count: 44\n"
     ]
    },
    {
     "name": "stdout",
     "output_type": "stream",
     "text": [
      "\r",
      "Total steps: 116 in 7 episodes"
     ]
    },
    {
     "name": "stderr",
     "output_type": "stream",
     "text": [
      "2021-12-06 01:36:57,864 - offworld_gym - INFO - Environment step is complete.\n",
      "INFO:Environment step is complete.\n",
      "2021-12-06 01:36:57,873 - offworld_gym - INFO - Step count: 45\n",
      "INFO:Step count: 45\n"
     ]
    },
    {
     "name": "stdout",
     "output_type": "stream",
     "text": [
      "\r",
      "Total steps: 117 in 7 episodes"
     ]
    },
    {
     "name": "stderr",
     "output_type": "stream",
     "text": [
      "2021-12-06 01:37:03,199 - offworld_gym - INFO - Environment step is complete.\n",
      "INFO:Environment step is complete.\n",
      "2021-12-06 01:37:03,209 - offworld_gym - INFO - Step count: 46\n",
      "INFO:Step count: 46\n"
     ]
    },
    {
     "name": "stdout",
     "output_type": "stream",
     "text": [
      "\r",
      "Total steps: 118 in 7 episodes"
     ]
    },
    {
     "name": "stderr",
     "output_type": "stream",
     "text": [
      "2021-12-06 01:37:09,838 - offworld_gym - INFO - Environment step is complete.\n",
      "INFO:Environment step is complete.\n",
      "2021-12-06 01:37:09,847 - offworld_gym - INFO - Step count: 47\n",
      "INFO:Step count: 47\n"
     ]
    },
    {
     "name": "stdout",
     "output_type": "stream",
     "text": [
      "\r",
      "Total steps: 119 in 7 episodes"
     ]
    },
    {
     "name": "stderr",
     "output_type": "stream",
     "text": [
      "2021-12-06 01:37:16,141 - offworld_gym - INFO - Environment step is complete.\n",
      "INFO:Environment step is complete.\n",
      "2021-12-06 01:37:16,159 - offworld_gym - INFO - Step count: 48\n",
      "INFO:Step count: 48\n"
     ]
    },
    {
     "name": "stdout",
     "output_type": "stream",
     "text": [
      "\r",
      "Total steps: 120 in 7 episodes"
     ]
    },
    {
     "name": "stderr",
     "output_type": "stream",
     "text": [
      "2021-12-06 01:37:22,620 - offworld_gym - INFO - Environment step is complete.\n",
      "INFO:Environment step is complete.\n",
      "2021-12-06 01:37:22,629 - offworld_gym - INFO - Step count: 49\n",
      "INFO:Step count: 49\n"
     ]
    },
    {
     "name": "stdout",
     "output_type": "stream",
     "text": [
      "\r",
      "Total steps: 121 in 7 episodes"
     ]
    },
    {
     "name": "stderr",
     "output_type": "stream",
     "text": [
      "2021-12-06 01:37:28,027 - offworld_gym - INFO - Environment step is complete.\n",
      "INFO:Environment step is complete.\n",
      "2021-12-06 01:37:28,039 - offworld_gym - INFO - Step count: 50\n",
      "INFO:Step count: 50\n"
     ]
    },
    {
     "name": "stdout",
     "output_type": "stream",
     "text": [
      "\r",
      "Total steps: 122 in 7 episodes"
     ]
    },
    {
     "name": "stderr",
     "output_type": "stream",
     "text": [
      "2021-12-06 01:37:34,282 - offworld_gym - INFO - Environment step is complete.\n",
      "INFO:Environment step is complete.\n",
      "2021-12-06 01:37:34,292 - offworld_gym - INFO - Step count: 51\n",
      "INFO:Step count: 51\n"
     ]
    },
    {
     "name": "stdout",
     "output_type": "stream",
     "text": [
      "\r",
      "Total steps: 123 in 7 episodes"
     ]
    },
    {
     "name": "stderr",
     "output_type": "stream",
     "text": [
      "2021-12-06 01:37:40,273 - offworld_gym - INFO - Environment step is complete.\n",
      "INFO:Environment step is complete.\n",
      "2021-12-06 01:37:40,282 - offworld_gym - INFO - Step count: 52\n",
      "INFO:Step count: 52\n"
     ]
    },
    {
     "name": "stdout",
     "output_type": "stream",
     "text": [
      "\r",
      "Total steps: 124 in 7 episodes"
     ]
    },
    {
     "name": "stderr",
     "output_type": "stream",
     "text": [
      "2021-12-06 01:37:45,753 - offworld_gym - INFO - Environment step is complete.\n",
      "INFO:Environment step is complete.\n",
      "2021-12-06 01:37:45,762 - offworld_gym - INFO - Step count: 53\n",
      "INFO:Step count: 53\n"
     ]
    },
    {
     "name": "stdout",
     "output_type": "stream",
     "text": [
      "\r",
      "Total steps: 125 in 7 episodes"
     ]
    },
    {
     "name": "stderr",
     "output_type": "stream",
     "text": [
      "2021-12-06 01:37:51,076 - offworld_gym - INFO - Environment step is complete.\n",
      "INFO:Environment step is complete.\n",
      "2021-12-06 01:37:51,085 - offworld_gym - INFO - Step count: 54\n",
      "INFO:Step count: 54\n"
     ]
    },
    {
     "name": "stdout",
     "output_type": "stream",
     "text": [
      "\r",
      "Total steps: 126 in 7 episodes"
     ]
    },
    {
     "name": "stderr",
     "output_type": "stream",
     "text": [
      "2021-12-06 01:37:56,701 - offworld_gym - INFO - Environment step is complete.\n",
      "INFO:Environment step is complete.\n",
      "2021-12-06 01:37:56,710 - offworld_gym - INFO - Step count: 55\n",
      "INFO:Step count: 55\n"
     ]
    },
    {
     "name": "stdout",
     "output_type": "stream",
     "text": [
      "\r",
      "Total steps: 127 in 7 episodes"
     ]
    },
    {
     "name": "stderr",
     "output_type": "stream",
     "text": [
      "2021-12-06 01:38:01,652 - offworld_gym - INFO - Environment step is complete.\n",
      "INFO:Environment step is complete.\n",
      "2021-12-06 01:38:01,663 - offworld_gym - INFO - Step count: 56\n",
      "INFO:Step count: 56\n"
     ]
    },
    {
     "name": "stdout",
     "output_type": "stream",
     "text": [
      "\r",
      "Total steps: 128 in 7 episodes"
     ]
    },
    {
     "name": "stderr",
     "output_type": "stream",
     "text": [
      "2021-12-06 01:38:07,979 - offworld_gym - INFO - Environment step is complete.\n",
      "INFO:Environment step is complete.\n",
      "2021-12-06 01:38:07,991 - offworld_gym - INFO - Step count: 57\n",
      "INFO:Step count: 57\n"
     ]
    },
    {
     "name": "stdout",
     "output_type": "stream",
     "text": [
      "\r",
      "Total steps: 129 in 7 episodes"
     ]
    },
    {
     "name": "stderr",
     "output_type": "stream",
     "text": [
      "2021-12-06 01:38:13,261 - offworld_gym - INFO - Environment step is complete.\n",
      "INFO:Environment step is complete.\n",
      "2021-12-06 01:38:13,274 - offworld_gym - INFO - Step count: 58\n",
      "INFO:Step count: 58\n"
     ]
    },
    {
     "name": "stdout",
     "output_type": "stream",
     "text": [
      "\r",
      "Total steps: 130 in 7 episodes"
     ]
    },
    {
     "name": "stderr",
     "output_type": "stream",
     "text": [
      "2021-12-06 01:38:18,691 - offworld_gym - INFO - Environment step is complete.\n",
      "INFO:Environment step is complete.\n",
      "2021-12-06 01:38:18,700 - offworld_gym - INFO - Step count: 59\n",
      "INFO:Step count: 59\n"
     ]
    },
    {
     "name": "stdout",
     "output_type": "stream",
     "text": [
      "\r",
      "Total steps: 131 in 7 episodes"
     ]
    },
    {
     "name": "stderr",
     "output_type": "stream",
     "text": [
      "2021-12-06 01:38:24,355 - offworld_gym - INFO - Environment step is complete.\n",
      "INFO:Environment step is complete.\n",
      "2021-12-06 01:38:24,365 - offworld_gym - INFO - Step count: 60\n",
      "INFO:Step count: 60\n"
     ]
    },
    {
     "name": "stdout",
     "output_type": "stream",
     "text": [
      "\r",
      "Total steps: 132 in 7 episodes"
     ]
    },
    {
     "name": "stderr",
     "output_type": "stream",
     "text": [
      "2021-12-06 01:38:29,711 - offworld_gym - INFO - Environment step is complete.\n",
      "INFO:Environment step is complete.\n",
      "2021-12-06 01:38:29,722 - offworld_gym - INFO - Step count: 61\n",
      "INFO:Step count: 61\n"
     ]
    },
    {
     "name": "stdout",
     "output_type": "stream",
     "text": [
      "\r",
      "Total steps: 133 in 7 episodes"
     ]
    },
    {
     "name": "stderr",
     "output_type": "stream",
     "text": [
      "2021-12-06 01:38:35,335 - offworld_gym - INFO - Environment step is complete.\n",
      "INFO:Environment step is complete.\n",
      "2021-12-06 01:38:35,345 - offworld_gym - INFO - Step count: 62\n",
      "INFO:Step count: 62\n"
     ]
    },
    {
     "name": "stdout",
     "output_type": "stream",
     "text": [
      "\r",
      "Total steps: 134 in 7 episodes"
     ]
    },
    {
     "name": "stderr",
     "output_type": "stream",
     "text": [
      "2021-12-06 01:38:43,848 - offworld_gym - INFO - Environment step is complete.\n",
      "INFO:Environment step is complete.\n",
      "2021-12-06 01:38:43,858 - offworld_gym - INFO - Step count: 63\n",
      "INFO:Step count: 63\n"
     ]
    },
    {
     "name": "stdout",
     "output_type": "stream",
     "text": [
      "\r",
      "Total steps: 135 in 7 episodes"
     ]
    },
    {
     "name": "stderr",
     "output_type": "stream",
     "text": [
      "2021-12-06 01:38:49,166 - offworld_gym - INFO - Environment step is complete.\n",
      "INFO:Environment step is complete.\n",
      "2021-12-06 01:38:49,177 - offworld_gym - INFO - Step count: 64\n",
      "INFO:Step count: 64\n"
     ]
    },
    {
     "name": "stdout",
     "output_type": "stream",
     "text": [
      "\r",
      "Total steps: 136 in 7 episodes"
     ]
    },
    {
     "name": "stderr",
     "output_type": "stream",
     "text": [
      "2021-12-06 01:38:56,410 - offworld_gym - INFO - Environment step is complete.\n",
      "INFO:Environment step is complete.\n",
      "2021-12-06 01:38:56,420 - offworld_gym - INFO - Step count: 65\n",
      "INFO:Step count: 65\n"
     ]
    },
    {
     "name": "stdout",
     "output_type": "stream",
     "text": [
      "\r",
      "Total steps: 137 in 7 episodes"
     ]
    },
    {
     "name": "stderr",
     "output_type": "stream",
     "text": [
      "2021-12-06 01:39:02,747 - offworld_gym - INFO - Environment step is complete.\n",
      "INFO:Environment step is complete.\n",
      "2021-12-06 01:39:02,758 - offworld_gym - INFO - Step count: 66\n",
      "INFO:Step count: 66\n"
     ]
    },
    {
     "name": "stdout",
     "output_type": "stream",
     "text": [
      "\r",
      "Total steps: 138 in 7 episodes"
     ]
    },
    {
     "name": "stderr",
     "output_type": "stream",
     "text": [
      "2021-12-06 01:39:08,960 - offworld_gym - INFO - Environment step is complete.\n",
      "INFO:Environment step is complete.\n",
      "2021-12-06 01:39:08,971 - offworld_gym - INFO - Step count: 67\n",
      "INFO:Step count: 67\n"
     ]
    },
    {
     "name": "stdout",
     "output_type": "stream",
     "text": [
      "\r",
      "Total steps: 139 in 7 episodes"
     ]
    },
    {
     "name": "stderr",
     "output_type": "stream",
     "text": [
      "2021-12-06 01:39:14,201 - offworld_gym - INFO - Environment step is complete.\n",
      "INFO:Environment step is complete.\n",
      "2021-12-06 01:39:14,211 - offworld_gym - INFO - Step count: 68\n",
      "INFO:Step count: 68\n"
     ]
    },
    {
     "name": "stdout",
     "output_type": "stream",
     "text": [
      "\r",
      "Total steps: 140 in 7 episodes"
     ]
    },
    {
     "name": "stderr",
     "output_type": "stream",
     "text": [
      "2021-12-06 01:39:20,602 - offworld_gym - INFO - Environment step is complete.\n",
      "INFO:Environment step is complete.\n",
      "2021-12-06 01:39:20,611 - offworld_gym - INFO - Step count: 69\n",
      "INFO:Step count: 69\n"
     ]
    },
    {
     "name": "stdout",
     "output_type": "stream",
     "text": [
      "\r",
      "Total steps: 141 in 7 episodes"
     ]
    },
    {
     "name": "stderr",
     "output_type": "stream",
     "text": [
      "2021-12-06 01:39:27,021 - offworld_gym - INFO - Environment step is complete.\n",
      "INFO:Environment step is complete.\n",
      "2021-12-06 01:39:27,032 - offworld_gym - INFO - Step count: 70\n",
      "INFO:Step count: 70\n"
     ]
    },
    {
     "name": "stdout",
     "output_type": "stream",
     "text": [
      "\r",
      "Total steps: 142 in 7 episodes"
     ]
    },
    {
     "name": "stderr",
     "output_type": "stream",
     "text": [
      "2021-12-06 01:39:33,837 - offworld_gym - INFO - Environment step is complete.\n",
      "INFO:Environment step is complete.\n",
      "2021-12-06 01:39:33,847 - offworld_gym - INFO - Step count: 71\n",
      "INFO:Step count: 71\n"
     ]
    },
    {
     "name": "stdout",
     "output_type": "stream",
     "text": [
      "\r",
      "Total steps: 143 in 7 episodes"
     ]
    },
    {
     "name": "stderr",
     "output_type": "stream",
     "text": [
      "2021-12-06 01:39:40,559 - offworld_gym - INFO - Environment step is complete.\n",
      "INFO:Environment step is complete.\n",
      "2021-12-06 01:39:40,568 - offworld_gym - INFO - Step count: 72\n",
      "INFO:Step count: 72\n"
     ]
    },
    {
     "name": "stdout",
     "output_type": "stream",
     "text": [
      "\r",
      "Total steps: 144 in 7 episodes"
     ]
    },
    {
     "name": "stderr",
     "output_type": "stream",
     "text": [
      "2021-12-06 01:39:46,268 - offworld_gym - INFO - Environment step is complete.\n",
      "INFO:Environment step is complete.\n",
      "2021-12-06 01:39:46,277 - offworld_gym - INFO - Step count: 73\n",
      "INFO:Step count: 73\n"
     ]
    },
    {
     "name": "stdout",
     "output_type": "stream",
     "text": [
      "\r",
      "Total steps: 145 in 7 episodes"
     ]
    },
    {
     "name": "stderr",
     "output_type": "stream",
     "text": [
      "2021-12-06 01:39:52,694 - offworld_gym - INFO - Environment step is complete.\n",
      "INFO:Environment step is complete.\n",
      "2021-12-06 01:39:52,703 - offworld_gym - INFO - Step count: 74\n",
      "INFO:Step count: 74\n"
     ]
    },
    {
     "name": "stdout",
     "output_type": "stream",
     "text": [
      "\r",
      "Total steps: 146 in 7 episodes"
     ]
    },
    {
     "name": "stderr",
     "output_type": "stream",
     "text": [
      "2021-12-06 01:39:58,189 - offworld_gym - INFO - Environment step is complete.\n",
      "INFO:Environment step is complete.\n",
      "2021-12-06 01:39:58,200 - offworld_gym - INFO - Step count: 75\n",
      "INFO:Step count: 75\n"
     ]
    },
    {
     "name": "stdout",
     "output_type": "stream",
     "text": [
      "\r",
      "Total steps: 147 in 7 episodes"
     ]
    },
    {
     "name": "stderr",
     "output_type": "stream",
     "text": [
      "2021-12-06 01:40:05,192 - offworld_gym - INFO - Environment step is complete.\n",
      "INFO:Environment step is complete.\n",
      "2021-12-06 01:40:05,202 - offworld_gym - INFO - Step count: 76\n",
      "INFO:Step count: 76\n"
     ]
    },
    {
     "name": "stdout",
     "output_type": "stream",
     "text": [
      "\r",
      "Total steps: 148 in 7 episodes"
     ]
    },
    {
     "name": "stderr",
     "output_type": "stream",
     "text": [
      "2021-12-06 01:40:11,775 - offworld_gym - INFO - Environment step is complete.\n",
      "INFO:Environment step is complete.\n",
      "2021-12-06 01:40:11,785 - offworld_gym - INFO - Step count: 77\n",
      "INFO:Step count: 77\n"
     ]
    },
    {
     "name": "stdout",
     "output_type": "stream",
     "text": [
      "\r",
      "Total steps: 149 in 7 episodes"
     ]
    },
    {
     "name": "stderr",
     "output_type": "stream",
     "text": [
      "2021-12-06 01:40:17,669 - offworld_gym - INFO - Environment step is complete.\n",
      "INFO:Environment step is complete.\n",
      "2021-12-06 01:40:17,678 - offworld_gym - INFO - Step count: 78\n",
      "INFO:Step count: 78\n"
     ]
    },
    {
     "name": "stdout",
     "output_type": "stream",
     "text": [
      "\r",
      "Total steps: 150 in 7 episodes"
     ]
    },
    {
     "name": "stderr",
     "output_type": "stream",
     "text": [
      "2021-12-06 01:40:23,589 - offworld_gym - INFO - Environment step is complete.\n",
      "INFO:Environment step is complete.\n",
      "2021-12-06 01:40:23,599 - offworld_gym - INFO - Step count: 79\n",
      "INFO:Step count: 79\n"
     ]
    },
    {
     "name": "stdout",
     "output_type": "stream",
     "text": [
      "\r",
      "Total steps: 151 in 7 episodes"
     ]
    },
    {
     "name": "stderr",
     "output_type": "stream",
     "text": [
      "2021-12-06 01:40:29,685 - offworld_gym - INFO - Environment step is complete.\n",
      "INFO:Environment step is complete.\n",
      "2021-12-06 01:40:29,697 - offworld_gym - INFO - Step count: 80\n",
      "INFO:Step count: 80\n"
     ]
    },
    {
     "name": "stdout",
     "output_type": "stream",
     "text": [
      "\r",
      "Total steps: 152 in 7 episodes"
     ]
    },
    {
     "name": "stderr",
     "output_type": "stream",
     "text": [
      "2021-12-06 01:40:35,499 - offworld_gym - INFO - Environment step is complete.\n",
      "INFO:Environment step is complete.\n",
      "2021-12-06 01:40:35,507 - offworld_gym - INFO - Step count: 81\n",
      "INFO:Step count: 81\n"
     ]
    },
    {
     "name": "stdout",
     "output_type": "stream",
     "text": [
      "\r",
      "Total steps: 153 in 7 episodes"
     ]
    },
    {
     "name": "stderr",
     "output_type": "stream",
     "text": [
      "2021-12-06 01:40:41,506 - offworld_gym - INFO - Environment step is complete.\n",
      "INFO:Environment step is complete.\n",
      "2021-12-06 01:40:41,517 - offworld_gym - INFO - Step count: 82\n",
      "INFO:Step count: 82\n"
     ]
    },
    {
     "name": "stdout",
     "output_type": "stream",
     "text": [
      "\r",
      "Total steps: 154 in 7 episodes"
     ]
    },
    {
     "name": "stderr",
     "output_type": "stream",
     "text": [
      "2021-12-06 01:40:48,063 - offworld_gym - INFO - Environment step is complete.\n",
      "INFO:Environment step is complete.\n",
      "2021-12-06 01:40:48,072 - offworld_gym - INFO - Step count: 83\n",
      "INFO:Step count: 83\n"
     ]
    },
    {
     "name": "stdout",
     "output_type": "stream",
     "text": [
      "\r",
      "Total steps: 155 in 7 episodes"
     ]
    },
    {
     "name": "stderr",
     "output_type": "stream",
     "text": [
      "2021-12-06 01:40:55,280 - offworld_gym - INFO - Environment step is complete.\n",
      "INFO:Environment step is complete.\n",
      "2021-12-06 01:40:55,289 - offworld_gym - INFO - Step count: 84\n",
      "INFO:Step count: 84\n"
     ]
    },
    {
     "name": "stdout",
     "output_type": "stream",
     "text": [
      "\r",
      "Total steps: 156 in 7 episodes"
     ]
    },
    {
     "name": "stderr",
     "output_type": "stream",
     "text": [
      "2021-12-06 01:41:01,307 - offworld_gym - INFO - Environment step is complete.\n",
      "INFO:Environment step is complete.\n",
      "2021-12-06 01:41:01,327 - offworld_gym - INFO - Step count: 85\n",
      "INFO:Step count: 85\n"
     ]
    },
    {
     "name": "stdout",
     "output_type": "stream",
     "text": [
      "\r",
      "Total steps: 157 in 7 episodes"
     ]
    },
    {
     "name": "stderr",
     "output_type": "stream",
     "text": [
      "2021-12-06 01:41:07,453 - offworld_gym - INFO - Environment step is complete.\n",
      "INFO:Environment step is complete.\n",
      "2021-12-06 01:41:07,461 - offworld_gym - INFO - Step count: 86\n",
      "INFO:Step count: 86\n"
     ]
    },
    {
     "name": "stdout",
     "output_type": "stream",
     "text": [
      "\r",
      "Total steps: 158 in 7 episodes"
     ]
    },
    {
     "name": "stderr",
     "output_type": "stream",
     "text": [
      "2021-12-06 01:41:14,184 - offworld_gym - INFO - Environment step is complete.\n",
      "INFO:Environment step is complete.\n",
      "2021-12-06 01:41:14,194 - offworld_gym - INFO - Step count: 87\n",
      "INFO:Step count: 87\n"
     ]
    },
    {
     "name": "stdout",
     "output_type": "stream",
     "text": [
      "\r",
      "Total steps: 159 in 7 episodes"
     ]
    },
    {
     "name": "stderr",
     "output_type": "stream",
     "text": [
      "2021-12-06 01:41:20,499 - offworld_gym - INFO - Environment step is complete.\n",
      "INFO:Environment step is complete.\n",
      "2021-12-06 01:41:20,511 - offworld_gym - INFO - Step count: 88\n",
      "INFO:Step count: 88\n"
     ]
    },
    {
     "name": "stdout",
     "output_type": "stream",
     "text": [
      "\r",
      "Total steps: 160 in 7 episodes"
     ]
    },
    {
     "name": "stderr",
     "output_type": "stream",
     "text": [
      "2021-12-06 01:41:26,639 - offworld_gym - INFO - Environment step is complete.\n",
      "INFO:Environment step is complete.\n",
      "2021-12-06 01:41:26,649 - offworld_gym - INFO - Step count: 89\n",
      "INFO:Step count: 89\n"
     ]
    },
    {
     "name": "stdout",
     "output_type": "stream",
     "text": [
      "\r",
      "Total steps: 161 in 7 episodes"
     ]
    },
    {
     "name": "stderr",
     "output_type": "stream",
     "text": [
      "2021-12-06 01:41:32,656 - offworld_gym - INFO - Environment step is complete.\n",
      "INFO:Environment step is complete.\n",
      "2021-12-06 01:41:32,666 - offworld_gym - INFO - Step count: 90\n",
      "INFO:Step count: 90\n"
     ]
    },
    {
     "name": "stdout",
     "output_type": "stream",
     "text": [
      "\r",
      "Total steps: 162 in 7 episodes"
     ]
    },
    {
     "name": "stderr",
     "output_type": "stream",
     "text": [
      "2021-12-06 01:41:40,332 - offworld_gym - INFO - Environment step is complete.\n",
      "INFO:Environment step is complete.\n",
      "2021-12-06 01:41:40,342 - offworld_gym - INFO - Step count: 91\n",
      "INFO:Step count: 91\n"
     ]
    },
    {
     "name": "stdout",
     "output_type": "stream",
     "text": [
      "\r",
      "Total steps: 163 in 7 episodes"
     ]
    },
    {
     "name": "stderr",
     "output_type": "stream",
     "text": [
      "2021-12-06 01:41:46,082 - offworld_gym - INFO - Environment step is complete.\n",
      "INFO:Environment step is complete.\n",
      "2021-12-06 01:41:46,091 - offworld_gym - INFO - Step count: 92\n",
      "INFO:Step count: 92\n"
     ]
    },
    {
     "name": "stdout",
     "output_type": "stream",
     "text": [
      "\r",
      "Total steps: 164 in 7 episodes"
     ]
    },
    {
     "name": "stderr",
     "output_type": "stream",
     "text": [
      "2021-12-06 01:41:53,013 - offworld_gym - INFO - Environment step is complete.\n",
      "INFO:Environment step is complete.\n",
      "2021-12-06 01:41:53,024 - offworld_gym - INFO - Step count: 93\n",
      "INFO:Step count: 93\n"
     ]
    },
    {
     "name": "stdout",
     "output_type": "stream",
     "text": [
      "\r",
      "Total steps: 165 in 7 episodes"
     ]
    },
    {
     "name": "stderr",
     "output_type": "stream",
     "text": [
      "2021-12-06 01:42:00,476 - offworld_gym - INFO - Environment step is complete.\n",
      "INFO:Environment step is complete.\n",
      "2021-12-06 01:42:00,484 - offworld_gym - INFO - Step count: 94\n",
      "INFO:Step count: 94\n"
     ]
    },
    {
     "name": "stdout",
     "output_type": "stream",
     "text": [
      "\r",
      "Total steps: 166 in 7 episodes"
     ]
    },
    {
     "name": "stderr",
     "output_type": "stream",
     "text": [
      "2021-12-06 01:42:06,000 - offworld_gym - INFO - Environment step is complete.\n",
      "INFO:Environment step is complete.\n",
      "2021-12-06 01:42:06,010 - offworld_gym - INFO - Step count: 95\n",
      "INFO:Step count: 95\n"
     ]
    },
    {
     "name": "stdout",
     "output_type": "stream",
     "text": [
      "\r",
      "Total steps: 167 in 7 episodes"
     ]
    },
    {
     "name": "stderr",
     "output_type": "stream",
     "text": [
      "2021-12-06 01:42:12,844 - offworld_gym - INFO - Environment step is complete.\n",
      "INFO:Environment step is complete.\n",
      "2021-12-06 01:42:12,853 - offworld_gym - INFO - Step count: 96\n",
      "INFO:Step count: 96\n"
     ]
    },
    {
     "name": "stdout",
     "output_type": "stream",
     "text": [
      "\r",
      "Total steps: 168 in 7 episodes"
     ]
    },
    {
     "name": "stderr",
     "output_type": "stream",
     "text": [
      "2021-12-06 01:42:19,094 - offworld_gym - INFO - Environment step is complete.\n",
      "INFO:Environment step is complete.\n",
      "2021-12-06 01:42:19,104 - offworld_gym - INFO - Step count: 97\n",
      "INFO:Step count: 97\n"
     ]
    },
    {
     "name": "stdout",
     "output_type": "stream",
     "text": [
      "\r",
      "Total steps: 169 in 7 episodes"
     ]
    },
    {
     "name": "stderr",
     "output_type": "stream",
     "text": [
      "2021-12-06 01:42:25,865 - offworld_gym - INFO - Environment step is complete.\n",
      "INFO:Environment step is complete.\n",
      "2021-12-06 01:42:25,876 - offworld_gym - INFO - Step count: 98\n",
      "INFO:Step count: 98\n"
     ]
    },
    {
     "name": "stdout",
     "output_type": "stream",
     "text": [
      "\r",
      "Total steps: 170 in 7 episodes"
     ]
    },
    {
     "name": "stderr",
     "output_type": "stream",
     "text": [
      "2021-12-06 01:42:31,450 - offworld_gym - INFO - Environment step is complete.\n",
      "INFO:Environment step is complete.\n",
      "2021-12-06 01:42:31,460 - offworld_gym - INFO - Step count: 99\n",
      "INFO:Step count: 99\n"
     ]
    },
    {
     "name": "stdout",
     "output_type": "stream",
     "text": [
      "\r",
      "Total steps: 171 in 7 episodes"
     ]
    },
    {
     "name": "stderr",
     "output_type": "stream",
     "text": [
      "2021-12-06 01:42:38,274 - offworld_gym - INFO - Environment step is complete.\n",
      "INFO:Environment step is complete.\n",
      "2021-12-06 01:42:38,283 - offworld_gym - INFO - Step count: 100\n",
      "INFO:Step count: 100\n"
     ]
    },
    {
     "name": "stdout",
     "output_type": "stream",
     "text": [
      "\r",
      "Total steps: 172 in 7 episodes"
     ]
    },
    {
     "name": "stderr",
     "output_type": "stream",
     "text": [
      "2021-12-06 01:42:44,774 - offworld_gym - INFO - Environment step is complete.\n",
      "INFO:Environment step is complete.\n",
      "2021-12-06 01:42:44,774 - offworld_gym - INFO - Environment episode is complete: 100 steps, reward = 0\n",
      "INFO:Environment episode is complete: 100 steps, reward = 0\n",
      "2021-12-06 01:42:44,785 - offworld_gym - INFO - Resetting the episode and moving to a random initial position...\n",
      "INFO:Resetting the episode and moving to a random initial position...\n"
     ]
    },
    {
     "name": "stdout",
     "output_type": "stream",
     "text": [
      "\r",
      "Total steps: 173 in 7 episodes"
     ]
    },
    {
     "name": "stderr",
     "output_type": "stream",
     "text": [
      "2021-12-06 01:43:01,335 - offworld_gym - INFO - Environment reset complete\n",
      "INFO:Environment reset complete\n",
      "2021-12-06 01:43:01,347 - offworld_gym - INFO - Step count: 1\n",
      "INFO:Step count: 1\n"
     ]
    },
    {
     "name": "stdout",
     "output_type": "stream",
     "text": [
      "\r",
      "Total steps: 174 in 8 episodes"
     ]
    },
    {
     "name": "stderr",
     "output_type": "stream",
     "text": [
      "2021-12-06 01:43:07,965 - offworld_gym - INFO - Environment step is complete.\n",
      "INFO:Environment step is complete.\n",
      "2021-12-06 01:43:07,977 - offworld_gym - INFO - Step count: 2\n",
      "INFO:Step count: 2\n"
     ]
    },
    {
     "name": "stdout",
     "output_type": "stream",
     "text": [
      "\r",
      "Total steps: 174 in 8 episodes"
     ]
    },
    {
     "name": "stderr",
     "output_type": "stream",
     "text": [
      "2021-12-06 01:43:14,667 - offworld_gym - INFO - Environment step is complete.\n",
      "INFO:Environment step is complete.\n",
      "2021-12-06 01:43:14,676 - offworld_gym - INFO - Step count: 3\n",
      "INFO:Step count: 3\n"
     ]
    },
    {
     "name": "stdout",
     "output_type": "stream",
     "text": [
      "\r",
      "Total steps: 175 in 8 episodes"
     ]
    },
    {
     "name": "stderr",
     "output_type": "stream",
     "text": [
      "2021-12-06 01:43:23,513 - offworld_gym - INFO - Environment step is complete.\n",
      "INFO:Environment step is complete.\n",
      "2021-12-06 01:43:23,514 - offworld_gym - INFO - Environment episode is complete: 3 steps, reward = 1\n",
      "INFO:Environment episode is complete: 3 steps, reward = 1\n",
      "2021-12-06 01:43:23,523 - offworld_gym - INFO - Resetting the episode and moving to a random initial position...\n",
      "INFO:Resetting the episode and moving to a random initial position...\n"
     ]
    },
    {
     "name": "stdout",
     "output_type": "stream",
     "text": [
      "\r",
      "Total steps: 176 in 8 episodes"
     ]
    },
    {
     "name": "stderr",
     "output_type": "stream",
     "text": [
      "2021-12-06 01:43:45,912 - offworld_gym - INFO - Environment reset complete\n",
      "INFO:Environment reset complete\n",
      "2021-12-06 01:43:45,932 - offworld_gym - INFO - Step count: 1\n",
      "INFO:Step count: 1\n"
     ]
    },
    {
     "name": "stdout",
     "output_type": "stream",
     "text": [
      "\r",
      "Total steps: 177 in 9 episodes"
     ]
    },
    {
     "name": "stderr",
     "output_type": "stream",
     "text": [
      "2021-12-06 01:43:53,486 - offworld_gym - INFO - Environment step is complete.\n",
      "INFO:Environment step is complete.\n",
      "2021-12-06 01:43:53,497 - offworld_gym - INFO - Step count: 2\n",
      "INFO:Step count: 2\n"
     ]
    },
    {
     "name": "stdout",
     "output_type": "stream",
     "text": [
      "\r",
      "Total steps: 177 in 9 episodes"
     ]
    },
    {
     "name": "stderr",
     "output_type": "stream",
     "text": [
      "2021-12-06 01:44:01,649 - offworld_gym - INFO - Environment step is complete.\n",
      "INFO:Environment step is complete.\n",
      "2021-12-06 01:44:01,658 - offworld_gym - INFO - Step count: 3\n",
      "INFO:Step count: 3\n"
     ]
    },
    {
     "name": "stdout",
     "output_type": "stream",
     "text": [
      "\r",
      "Total steps: 178 in 9 episodes"
     ]
    },
    {
     "name": "stderr",
     "output_type": "stream",
     "text": [
      "2021-12-06 01:44:08,810 - offworld_gym - INFO - Environment step is complete.\n",
      "INFO:Environment step is complete.\n",
      "2021-12-06 01:44:08,818 - offworld_gym - INFO - Step count: 4\n",
      "INFO:Step count: 4\n"
     ]
    },
    {
     "name": "stdout",
     "output_type": "stream",
     "text": [
      "\r",
      "Total steps: 179 in 9 episodes"
     ]
    },
    {
     "name": "stderr",
     "output_type": "stream",
     "text": [
      "2021-12-06 01:44:16,330 - offworld_gym - INFO - Environment step is complete.\n",
      "INFO:Environment step is complete.\n",
      "2021-12-06 01:44:16,338 - offworld_gym - INFO - Step count: 5\n",
      "INFO:Step count: 5\n"
     ]
    },
    {
     "name": "stdout",
     "output_type": "stream",
     "text": [
      "\r",
      "Total steps: 180 in 9 episodes"
     ]
    },
    {
     "name": "stderr",
     "output_type": "stream",
     "text": [
      "2021-12-06 01:44:24,772 - offworld_gym - INFO - Environment step is complete.\n",
      "INFO:Environment step is complete.\n",
      "2021-12-06 01:44:24,790 - offworld_gym - INFO - Step count: 6\n",
      "INFO:Step count: 6\n"
     ]
    },
    {
     "name": "stdout",
     "output_type": "stream",
     "text": [
      "\r",
      "Total steps: 181 in 9 episodes"
     ]
    },
    {
     "name": "stderr",
     "output_type": "stream",
     "text": [
      "2021-12-06 01:44:32,026 - offworld_gym - INFO - Environment step is complete.\n",
      "INFO:Environment step is complete.\n",
      "2021-12-06 01:44:32,037 - offworld_gym - INFO - Step count: 7\n",
      "INFO:Step count: 7\n"
     ]
    },
    {
     "name": "stdout",
     "output_type": "stream",
     "text": [
      "\r",
      "Total steps: 182 in 9 episodes"
     ]
    },
    {
     "name": "stderr",
     "output_type": "stream",
     "text": [
      "2021-12-06 01:44:39,023 - offworld_gym - INFO - Environment step is complete.\n",
      "INFO:Environment step is complete.\n",
      "2021-12-06 01:44:39,032 - offworld_gym - INFO - Step count: 8\n",
      "INFO:Step count: 8\n"
     ]
    },
    {
     "name": "stdout",
     "output_type": "stream",
     "text": [
      "\r",
      "Total steps: 183 in 9 episodes"
     ]
    },
    {
     "name": "stderr",
     "output_type": "stream",
     "text": [
      "2021-12-06 01:44:46,119 - offworld_gym - INFO - Environment step is complete.\n",
      "INFO:Environment step is complete.\n",
      "2021-12-06 01:44:46,127 - offworld_gym - INFO - Step count: 9\n",
      "INFO:Step count: 9\n"
     ]
    },
    {
     "name": "stdout",
     "output_type": "stream",
     "text": [
      "\r",
      "Total steps: 184 in 9 episodes"
     ]
    },
    {
     "name": "stderr",
     "output_type": "stream",
     "text": [
      "2021-12-06 01:44:54,746 - offworld_gym - INFO - Environment step is complete.\n",
      "INFO:Environment step is complete.\n",
      "2021-12-06 01:44:54,747 - offworld_gym - INFO - Environment episode is complete: 9 steps, reward = 0\n",
      "INFO:Environment episode is complete: 9 steps, reward = 0\n",
      "2021-12-06 01:44:54,756 - offworld_gym - INFO - Resetting the episode and moving to a random initial position...\n",
      "INFO:Resetting the episode and moving to a random initial position...\n"
     ]
    },
    {
     "name": "stdout",
     "output_type": "stream",
     "text": [
      "\r",
      "Total steps: 185 in 9 episodes"
     ]
    },
    {
     "name": "stderr",
     "output_type": "stream",
     "text": [
      "2021-12-06 01:45:25,009 - offworld_gym - INFO - Environment reset complete\n",
      "INFO:Environment reset complete\n",
      "2021-12-06 01:45:25,026 - offworld_gym - INFO - Resetting the episode and moving to a random initial position...\n",
      "INFO:Resetting the episode and moving to a random initial position...\n"
     ]
    },
    {
     "name": "stdout",
     "output_type": "stream",
     "text": [
      "\r",
      "Total steps: 186 in 10 episodes"
     ]
    },
    {
     "name": "stderr",
     "output_type": "stream",
     "text": [
      "2021-12-06 01:45:53,317 - offworld_gym - INFO - Environment reset complete\n",
      "INFO:Environment reset complete\n",
      "2021-12-06 01:45:53,334 - offworld_gym - INFO - Step count: 1\n",
      "INFO:Step count: 1\n",
      "2021-12-06 01:46:01,139 - offworld_gym - INFO - Environment step is complete.\n",
      "INFO:Environment step is complete.\n",
      "2021-12-06 01:46:01,140 - offworld_gym - INFO - Environment episode is complete: 1 steps, reward = 0\n",
      "INFO:Environment episode is complete: 1 steps, reward = 0\n",
      "2021-12-06 01:46:01,151 - offworld_gym - INFO - Resetting the episode and moving to a random initial position...\n",
      "INFO:Resetting the episode and moving to a random initial position...\n"
     ]
    },
    {
     "name": "stdout",
     "output_type": "stream",
     "text": [
      "\r",
      "Total steps: 186 in 10 episodes"
     ]
    },
    {
     "name": "stderr",
     "output_type": "stream",
     "text": [
      "2021-12-06 01:46:27,402 - offworld_gym - INFO - Environment reset complete\n",
      "INFO:Environment reset complete\n",
      "2021-12-06 01:46:27,419 - offworld_gym - INFO - Step count: 1\n",
      "INFO:Step count: 1\n"
     ]
    },
    {
     "name": "stdout",
     "output_type": "stream",
     "text": [
      "\r",
      "Total steps: 187 in 11 episodes"
     ]
    },
    {
     "name": "stderr",
     "output_type": "stream",
     "text": [
      "2021-12-06 01:46:34,316 - offworld_gym - INFO - Environment step is complete.\n",
      "INFO:Environment step is complete.\n",
      "2021-12-06 01:46:34,327 - offworld_gym - INFO - Step count: 2\n",
      "INFO:Step count: 2\n"
     ]
    },
    {
     "name": "stdout",
     "output_type": "stream",
     "text": [
      "\r",
      "Total steps: 187 in 11 episodes"
     ]
    },
    {
     "name": "stderr",
     "output_type": "stream",
     "text": [
      "2021-12-06 01:46:42,943 - offworld_gym - INFO - Environment step is complete.\n",
      "INFO:Environment step is complete.\n",
      "2021-12-06 01:46:42,944 - offworld_gym - INFO - Environment episode is complete: 2 steps, reward = 1\n",
      "INFO:Environment episode is complete: 2 steps, reward = 1\n",
      "2021-12-06 01:46:42,954 - offworld_gym - INFO - Resetting the episode and moving to a random initial position...\n",
      "INFO:Resetting the episode and moving to a random initial position...\n"
     ]
    },
    {
     "name": "stdout",
     "output_type": "stream",
     "text": [
      "\r",
      "Total steps: 188 in 11 episodes"
     ]
    },
    {
     "name": "stderr",
     "output_type": "stream",
     "text": [
      "2021-12-06 01:46:59,161 - offworld_gym - INFO - Environment reset complete\n",
      "INFO:Environment reset complete\n",
      "2021-12-06 01:46:59,172 - offworld_gym - INFO - Step count: 1\n",
      "INFO:Step count: 1\n"
     ]
    },
    {
     "name": "stdout",
     "output_type": "stream",
     "text": [
      "\r",
      "Total steps: 189 in 12 episodes"
     ]
    },
    {
     "name": "stderr",
     "output_type": "stream",
     "text": [
      "2021-12-06 01:47:06,789 - offworld_gym - INFO - Environment step is complete.\n",
      "INFO:Environment step is complete.\n",
      "2021-12-06 01:47:06,799 - offworld_gym - INFO - Step count: 2\n",
      "INFO:Step count: 2\n"
     ]
    },
    {
     "name": "stdout",
     "output_type": "stream",
     "text": [
      "\r",
      "Total steps: 189 in 12 episodes"
     ]
    },
    {
     "name": "stderr",
     "output_type": "stream",
     "text": [
      "2021-12-06 01:47:13,646 - offworld_gym - INFO - Environment step is complete.\n",
      "INFO:Environment step is complete.\n",
      "2021-12-06 01:47:13,655 - offworld_gym - INFO - Step count: 3\n",
      "INFO:Step count: 3\n"
     ]
    },
    {
     "name": "stdout",
     "output_type": "stream",
     "text": [
      "\r",
      "Total steps: 190 in 12 episodes"
     ]
    },
    {
     "name": "stderr",
     "output_type": "stream",
     "text": [
      "2021-12-06 01:47:20,254 - offworld_gym - INFO - Environment step is complete.\n",
      "INFO:Environment step is complete.\n",
      "2021-12-06 01:47:20,264 - offworld_gym - INFO - Step count: 4\n",
      "INFO:Step count: 4\n"
     ]
    },
    {
     "name": "stdout",
     "output_type": "stream",
     "text": [
      "\r",
      "Total steps: 191 in 12 episodes"
     ]
    },
    {
     "name": "stderr",
     "output_type": "stream",
     "text": [
      "2021-12-06 01:47:27,073 - offworld_gym - INFO - Environment step is complete.\n",
      "INFO:Environment step is complete.\n",
      "2021-12-06 01:47:27,083 - offworld_gym - INFO - Step count: 5\n",
      "INFO:Step count: 5\n"
     ]
    },
    {
     "name": "stdout",
     "output_type": "stream",
     "text": [
      "\r",
      "Total steps: 192 in 12 episodes"
     ]
    },
    {
     "name": "stderr",
     "output_type": "stream",
     "text": [
      "2021-12-06 01:47:36,649 - offworld_gym - INFO - Environment step is complete.\n",
      "INFO:Environment step is complete.\n",
      "2021-12-06 01:47:36,649 - offworld_gym - INFO - Environment episode is complete: 5 steps, reward = 0\n",
      "INFO:Environment episode is complete: 5 steps, reward = 0\n",
      "2021-12-06 01:47:36,661 - offworld_gym - INFO - Resetting the episode and moving to a random initial position...\n",
      "INFO:Resetting the episode and moving to a random initial position...\n"
     ]
    },
    {
     "name": "stdout",
     "output_type": "stream",
     "text": [
      "\r",
      "Total steps: 193 in 12 episodes"
     ]
    },
    {
     "name": "stderr",
     "output_type": "stream",
     "text": [
      "2021-12-06 01:47:46,804 - offworld_gym - INFO - Environment reset complete\n",
      "INFO:Environment reset complete\n",
      "2021-12-06 01:47:46,814 - offworld_gym - INFO - Step count: 1\n",
      "INFO:Step count: 1\n"
     ]
    },
    {
     "name": "stdout",
     "output_type": "stream",
     "text": [
      "\r",
      "Total steps: 194 in 13 episodes"
     ]
    },
    {
     "name": "stderr",
     "output_type": "stream",
     "text": [
      "2021-12-06 01:47:54,096 - offworld_gym - INFO - Environment step is complete.\n",
      "INFO:Environment step is complete.\n",
      "2021-12-06 01:47:54,104 - offworld_gym - INFO - Step count: 2\n",
      "INFO:Step count: 2\n"
     ]
    },
    {
     "name": "stdout",
     "output_type": "stream",
     "text": [
      "\r",
      "Total steps: 194 in 13 episodes"
     ]
    },
    {
     "name": "stderr",
     "output_type": "stream",
     "text": [
      "2021-12-06 01:48:01,862 - offworld_gym - INFO - Environment step is complete.\n",
      "INFO:Environment step is complete.\n",
      "2021-12-06 01:48:01,871 - offworld_gym - INFO - Step count: 3\n",
      "INFO:Step count: 3\n"
     ]
    },
    {
     "name": "stdout",
     "output_type": "stream",
     "text": [
      "\r",
      "Total steps: 195 in 13 episodes"
     ]
    },
    {
     "name": "stderr",
     "output_type": "stream",
     "text": [
      "2021-12-06 01:48:08,929 - offworld_gym - INFO - Environment step is complete.\n",
      "INFO:Environment step is complete.\n",
      "2021-12-06 01:48:08,937 - offworld_gym - INFO - Step count: 4\n",
      "INFO:Step count: 4\n"
     ]
    },
    {
     "name": "stdout",
     "output_type": "stream",
     "text": [
      "\r",
      "Total steps: 196 in 13 episodes"
     ]
    },
    {
     "name": "stderr",
     "output_type": "stream",
     "text": [
      "2021-12-06 01:48:16,058 - offworld_gym - INFO - Environment step is complete.\n",
      "INFO:Environment step is complete.\n",
      "2021-12-06 01:48:16,068 - offworld_gym - INFO - Step count: 5\n",
      "INFO:Step count: 5\n"
     ]
    },
    {
     "name": "stdout",
     "output_type": "stream",
     "text": [
      "\r",
      "Total steps: 197 in 13 episodes"
     ]
    },
    {
     "name": "stderr",
     "output_type": "stream",
     "text": [
      "2021-12-06 01:48:23,381 - offworld_gym - INFO - Environment step is complete.\n",
      "INFO:Environment step is complete.\n",
      "2021-12-06 01:48:23,391 - offworld_gym - INFO - Step count: 6\n",
      "INFO:Step count: 6\n"
     ]
    },
    {
     "name": "stdout",
     "output_type": "stream",
     "text": [
      "\r",
      "Total steps: 198 in 13 episodes"
     ]
    },
    {
     "name": "stderr",
     "output_type": "stream",
     "text": [
      "2021-12-06 01:48:31,350 - offworld_gym - INFO - Environment step is complete.\n",
      "INFO:Environment step is complete.\n",
      "2021-12-06 01:48:31,360 - offworld_gym - INFO - Step count: 7\n",
      "INFO:Step count: 7\n"
     ]
    },
    {
     "name": "stdout",
     "output_type": "stream",
     "text": [
      "\r",
      "Total steps: 199 in 13 episodes"
     ]
    },
    {
     "name": "stderr",
     "output_type": "stream",
     "text": [
      "2021-12-06 01:48:39,831 - offworld_gym - INFO - Environment step is complete.\n",
      "INFO:Environment step is complete.\n",
      "2021-12-06 01:48:39,843 - offworld_gym - INFO - Step count: 8\n",
      "INFO:Step count: 8\n"
     ]
    },
    {
     "name": "stdout",
     "output_type": "stream",
     "text": [
      "\r",
      "Total steps: 200 in 13 episodes"
     ]
    },
    {
     "name": "stderr",
     "output_type": "stream",
     "text": [
      "2021-12-06 01:48:47,563 - offworld_gym - INFO - Environment step is complete.\n",
      "INFO:Environment step is complete.\n",
      "2021-12-06 01:48:47,572 - offworld_gym - INFO - Step count: 9\n",
      "INFO:Step count: 9\n"
     ]
    },
    {
     "name": "stdout",
     "output_type": "stream",
     "text": [
      "\r",
      "Total steps: 201 in 13 episodes"
     ]
    },
    {
     "name": "stderr",
     "output_type": "stream",
     "text": [
      "2021-12-06 01:48:54,331 - offworld_gym - INFO - Environment step is complete.\n",
      "INFO:Environment step is complete.\n",
      "2021-12-06 01:48:54,340 - offworld_gym - INFO - Step count: 10\n",
      "INFO:Step count: 10\n"
     ]
    },
    {
     "name": "stdout",
     "output_type": "stream",
     "text": [
      "\r",
      "Total steps: 202 in 13 episodes"
     ]
    },
    {
     "name": "stderr",
     "output_type": "stream",
     "text": [
      "2021-12-06 01:49:01,336 - offworld_gym - INFO - Environment step is complete.\n",
      "INFO:Environment step is complete.\n",
      "2021-12-06 01:49:01,347 - offworld_gym - INFO - Step count: 11\n",
      "INFO:Step count: 11\n"
     ]
    },
    {
     "name": "stdout",
     "output_type": "stream",
     "text": [
      "\r",
      "Total steps: 203 in 13 episodes"
     ]
    },
    {
     "name": "stderr",
     "output_type": "stream",
     "text": [
      "2021-12-06 01:49:08,464 - offworld_gym - INFO - Environment step is complete.\n",
      "INFO:Environment step is complete.\n",
      "2021-12-06 01:49:08,473 - offworld_gym - INFO - Step count: 12\n",
      "INFO:Step count: 12\n"
     ]
    },
    {
     "name": "stdout",
     "output_type": "stream",
     "text": [
      "\r",
      "Total steps: 204 in 13 episodes"
     ]
    },
    {
     "name": "stderr",
     "output_type": "stream",
     "text": [
      "2021-12-06 01:49:16,521 - offworld_gym - INFO - Environment step is complete.\n",
      "INFO:Environment step is complete.\n",
      "2021-12-06 01:49:16,530 - offworld_gym - INFO - Step count: 13\n",
      "INFO:Step count: 13\n"
     ]
    },
    {
     "name": "stdout",
     "output_type": "stream",
     "text": [
      "\r",
      "Total steps: 205 in 13 episodes"
     ]
    },
    {
     "name": "stderr",
     "output_type": "stream",
     "text": [
      "2021-12-06 01:49:23,819 - offworld_gym - INFO - Environment step is complete.\n",
      "INFO:Environment step is complete.\n",
      "2021-12-06 01:49:23,829 - offworld_gym - INFO - Step count: 14\n",
      "INFO:Step count: 14\n"
     ]
    },
    {
     "name": "stdout",
     "output_type": "stream",
     "text": [
      "\r",
      "Total steps: 206 in 13 episodes"
     ]
    },
    {
     "name": "stderr",
     "output_type": "stream",
     "text": [
      "2021-12-06 01:49:31,142 - offworld_gym - INFO - Environment step is complete.\n",
      "INFO:Environment step is complete.\n",
      "2021-12-06 01:49:31,150 - offworld_gym - INFO - Step count: 15\n",
      "INFO:Step count: 15\n"
     ]
    },
    {
     "name": "stdout",
     "output_type": "stream",
     "text": [
      "\r",
      "Total steps: 207 in 13 episodes"
     ]
    },
    {
     "name": "stderr",
     "output_type": "stream",
     "text": [
      "2021-12-06 01:49:38,388 - offworld_gym - INFO - Environment step is complete.\n",
      "INFO:Environment step is complete.\n",
      "2021-12-06 01:49:38,397 - offworld_gym - INFO - Step count: 16\n",
      "INFO:Step count: 16\n"
     ]
    },
    {
     "name": "stdout",
     "output_type": "stream",
     "text": [
      "\r",
      "Total steps: 208 in 13 episodes"
     ]
    },
    {
     "name": "stderr",
     "output_type": "stream",
     "text": [
      "2021-12-06 01:49:45,993 - offworld_gym - INFO - Environment step is complete.\n",
      "INFO:Environment step is complete.\n",
      "2021-12-06 01:49:46,003 - offworld_gym - INFO - Step count: 17\n",
      "INFO:Step count: 17\n"
     ]
    },
    {
     "name": "stdout",
     "output_type": "stream",
     "text": [
      "\r",
      "Total steps: 209 in 13 episodes"
     ]
    },
    {
     "name": "stderr",
     "output_type": "stream",
     "text": [
      "2021-12-06 01:49:52,741 - offworld_gym - INFO - Environment step is complete.\n",
      "INFO:Environment step is complete.\n",
      "2021-12-06 01:49:52,749 - offworld_gym - INFO - Step count: 18\n",
      "INFO:Step count: 18\n"
     ]
    },
    {
     "name": "stdout",
     "output_type": "stream",
     "text": [
      "\r",
      "Total steps: 210 in 13 episodes"
     ]
    },
    {
     "name": "stderr",
     "output_type": "stream",
     "text": [
      "2021-12-06 01:49:59,991 - offworld_gym - INFO - Environment step is complete.\n",
      "INFO:Environment step is complete.\n",
      "2021-12-06 01:50:00,000 - offworld_gym - INFO - Step count: 19\n",
      "INFO:Step count: 19\n"
     ]
    },
    {
     "name": "stdout",
     "output_type": "stream",
     "text": [
      "\r",
      "Total steps: 211 in 13 episodes"
     ]
    },
    {
     "name": "stderr",
     "output_type": "stream",
     "text": [
      "2021-12-06 01:50:08,888 - offworld_gym - INFO - Environment step is complete.\n",
      "INFO:Environment step is complete.\n",
      "2021-12-06 01:50:08,888 - offworld_gym - INFO - Environment episode is complete: 19 steps, reward = 1\n",
      "INFO:Environment episode is complete: 19 steps, reward = 1\n",
      "2021-12-06 01:50:08,897 - offworld_gym - INFO - Resetting the episode and moving to a random initial position...\n",
      "INFO:Resetting the episode and moving to a random initial position...\n"
     ]
    },
    {
     "name": "stdout",
     "output_type": "stream",
     "text": [
      "\r",
      "Total steps: 212 in 13 episodes"
     ]
    },
    {
     "name": "stderr",
     "output_type": "stream",
     "text": [
      "2021-12-06 01:50:22,888 - offworld_gym - INFO - Environment reset complete\n",
      "INFO:Environment reset complete\n",
      "2021-12-06 01:50:22,897 - offworld_gym - INFO - Step count: 1\n",
      "INFO:Step count: 1\n"
     ]
    },
    {
     "name": "stdout",
     "output_type": "stream",
     "text": [
      "\r",
      "Total steps: 213 in 14 episodes"
     ]
    },
    {
     "name": "stderr",
     "output_type": "stream",
     "text": [
      "2021-12-06 01:50:30,170 - offworld_gym - INFO - Environment step is complete.\n",
      "INFO:Environment step is complete.\n",
      "2021-12-06 01:50:30,181 - offworld_gym - INFO - Step count: 2\n",
      "INFO:Step count: 2\n"
     ]
    },
    {
     "name": "stdout",
     "output_type": "stream",
     "text": [
      "\r",
      "Total steps: 213 in 14 episodes"
     ]
    },
    {
     "name": "stderr",
     "output_type": "stream",
     "text": [
      "2021-12-06 01:50:37,134 - offworld_gym - INFO - Environment step is complete.\n",
      "INFO:Environment step is complete.\n",
      "2021-12-06 01:50:37,145 - offworld_gym - INFO - Step count: 3\n",
      "INFO:Step count: 3\n"
     ]
    },
    {
     "name": "stdout",
     "output_type": "stream",
     "text": [
      "\r",
      "Total steps: 214 in 14 episodes"
     ]
    },
    {
     "name": "stderr",
     "output_type": "stream",
     "text": [
      "2021-12-06 01:50:43,944 - offworld_gym - INFO - Environment step is complete.\n",
      "INFO:Environment step is complete.\n",
      "2021-12-06 01:50:43,954 - offworld_gym - INFO - Step count: 4\n",
      "INFO:Step count: 4\n"
     ]
    },
    {
     "name": "stdout",
     "output_type": "stream",
     "text": [
      "\r",
      "Total steps: 215 in 14 episodes"
     ]
    },
    {
     "name": "stderr",
     "output_type": "stream",
     "text": [
      "2021-12-06 01:50:50,316 - offworld_gym - INFO - Environment step is complete.\n",
      "INFO:Environment step is complete.\n",
      "2021-12-06 01:50:50,328 - offworld_gym - INFO - Step count: 5\n",
      "INFO:Step count: 5\n"
     ]
    },
    {
     "name": "stdout",
     "output_type": "stream",
     "text": [
      "\r",
      "Total steps: 216 in 14 episodes"
     ]
    },
    {
     "name": "stderr",
     "output_type": "stream",
     "text": [
      "2021-12-06 01:50:57,451 - offworld_gym - INFO - Environment step is complete.\n",
      "INFO:Environment step is complete.\n",
      "2021-12-06 01:50:57,462 - offworld_gym - INFO - Step count: 6\n",
      "INFO:Step count: 6\n"
     ]
    },
    {
     "name": "stdout",
     "output_type": "stream",
     "text": [
      "\r",
      "Total steps: 217 in 14 episodes"
     ]
    },
    {
     "name": "stderr",
     "output_type": "stream",
     "text": [
      "2021-12-06 01:51:04,049 - offworld_gym - INFO - Environment step is complete.\n",
      "INFO:Environment step is complete.\n",
      "2021-12-06 01:51:04,058 - offworld_gym - INFO - Step count: 7\n",
      "INFO:Step count: 7\n"
     ]
    },
    {
     "name": "stdout",
     "output_type": "stream",
     "text": [
      "\r",
      "Total steps: 218 in 14 episodes"
     ]
    },
    {
     "name": "stderr",
     "output_type": "stream",
     "text": [
      "2021-12-06 01:51:11,586 - offworld_gym - INFO - Environment step is complete.\n",
      "INFO:Environment step is complete.\n",
      "2021-12-06 01:51:11,596 - offworld_gym - INFO - Step count: 8\n",
      "INFO:Step count: 8\n"
     ]
    },
    {
     "name": "stdout",
     "output_type": "stream",
     "text": [
      "\r",
      "Total steps: 219 in 14 episodes"
     ]
    },
    {
     "name": "stderr",
     "output_type": "stream",
     "text": [
      "2021-12-06 01:51:19,885 - offworld_gym - INFO - Environment step is complete.\n",
      "INFO:Environment step is complete.\n",
      "2021-12-06 01:51:19,885 - offworld_gym - INFO - Environment episode is complete: 8 steps, reward = 1\n",
      "INFO:Environment episode is complete: 8 steps, reward = 1\n",
      "2021-12-06 01:51:19,896 - offworld_gym - INFO - Resetting the episode and moving to a random initial position...\n",
      "INFO:Resetting the episode and moving to a random initial position...\n"
     ]
    },
    {
     "name": "stdout",
     "output_type": "stream",
     "text": [
      "\r",
      "Total steps: 220 in 14 episodes"
     ]
    },
    {
     "name": "stderr",
     "output_type": "stream",
     "text": [
      "2021-12-06 01:51:35,175 - offworld_gym - INFO - Environment reset complete\n",
      "INFO:Environment reset complete\n",
      "2021-12-06 01:51:35,184 - offworld_gym - INFO - Resetting the episode and moving to a random initial position...\n",
      "INFO:Resetting the episode and moving to a random initial position...\n"
     ]
    },
    {
     "name": "stdout",
     "output_type": "stream",
     "text": [
      "\r",
      "Total steps: 221 in 15 episodes"
     ]
    },
    {
     "name": "stderr",
     "output_type": "stream",
     "text": [
      "2021-12-06 01:51:56,472 - offworld_gym - INFO - Environment reset complete\n",
      "INFO:Environment reset complete\n",
      "2021-12-06 01:51:56,489 - offworld_gym - INFO - Step count: 1\n",
      "INFO:Step count: 1\n",
      "2021-12-06 01:52:03,699 - offworld_gym - INFO - Environment step is complete.\n",
      "INFO:Environment step is complete.\n",
      "2021-12-06 01:52:03,710 - offworld_gym - INFO - Step count: 2\n",
      "INFO:Step count: 2\n"
     ]
    },
    {
     "name": "stdout",
     "output_type": "stream",
     "text": [
      "\r",
      "Total steps: 221 in 15 episodes"
     ]
    },
    {
     "name": "stderr",
     "output_type": "stream",
     "text": [
      "2021-12-06 01:52:10,570 - offworld_gym - INFO - Environment step is complete.\n",
      "INFO:Environment step is complete.\n",
      "2021-12-06 01:52:10,582 - offworld_gym - INFO - Step count: 3\n",
      "INFO:Step count: 3\n"
     ]
    },
    {
     "name": "stdout",
     "output_type": "stream",
     "text": [
      "\r",
      "Total steps: 222 in 15 episodes"
     ]
    },
    {
     "name": "stderr",
     "output_type": "stream",
     "text": [
      "2021-12-06 01:52:17,527 - offworld_gym - INFO - Environment step is complete.\n",
      "INFO:Environment step is complete.\n",
      "2021-12-06 01:52:17,538 - offworld_gym - INFO - Step count: 4\n",
      "INFO:Step count: 4\n"
     ]
    },
    {
     "name": "stdout",
     "output_type": "stream",
     "text": [
      "\r",
      "Total steps: 223 in 15 episodes"
     ]
    },
    {
     "name": "stderr",
     "output_type": "stream",
     "text": [
      "2021-12-06 01:52:24,951 - offworld_gym - INFO - Environment step is complete.\n",
      "INFO:Environment step is complete.\n",
      "2021-12-06 01:52:24,962 - offworld_gym - INFO - Step count: 5\n",
      "INFO:Step count: 5\n"
     ]
    },
    {
     "name": "stdout",
     "output_type": "stream",
     "text": [
      "\r",
      "Total steps: 224 in 15 episodes"
     ]
    },
    {
     "name": "stderr",
     "output_type": "stream",
     "text": [
      "2021-12-06 01:52:32,623 - offworld_gym - INFO - Environment step is complete.\n",
      "INFO:Environment step is complete.\n",
      "2021-12-06 01:52:32,634 - offworld_gym - INFO - Step count: 6\n",
      "INFO:Step count: 6\n"
     ]
    },
    {
     "name": "stdout",
     "output_type": "stream",
     "text": [
      "\r",
      "Total steps: 225 in 15 episodes"
     ]
    },
    {
     "name": "stderr",
     "output_type": "stream",
     "text": [
      "2021-12-06 01:52:39,113 - offworld_gym - INFO - Environment step is complete.\n",
      "INFO:Environment step is complete.\n",
      "2021-12-06 01:52:39,122 - offworld_gym - INFO - Step count: 7\n",
      "INFO:Step count: 7\n"
     ]
    },
    {
     "name": "stdout",
     "output_type": "stream",
     "text": [
      "\r",
      "Total steps: 226 in 15 episodes"
     ]
    },
    {
     "name": "stderr",
     "output_type": "stream",
     "text": [
      "2021-12-06 01:52:51,233 - offworld_gym - INFO - Environment step is complete.\n",
      "INFO:Environment step is complete.\n",
      "2021-12-06 01:52:51,242 - offworld_gym - INFO - Step count: 8\n",
      "INFO:Step count: 8\n"
     ]
    },
    {
     "name": "stdout",
     "output_type": "stream",
     "text": [
      "\r",
      "Total steps: 227 in 15 episodes"
     ]
    },
    {
     "name": "stderr",
     "output_type": "stream",
     "text": [
      "2021-12-06 01:52:59,815 - offworld_gym - INFO - Environment step is complete.\n",
      "INFO:Environment step is complete.\n",
      "2021-12-06 01:52:59,825 - offworld_gym - INFO - Step count: 9\n",
      "INFO:Step count: 9\n"
     ]
    },
    {
     "name": "stdout",
     "output_type": "stream",
     "text": [
      "\r",
      "Total steps: 228 in 15 episodes"
     ]
    },
    {
     "name": "stderr",
     "output_type": "stream",
     "text": [
      "2021-12-06 01:53:07,151 - offworld_gym - INFO - Environment step is complete.\n",
      "INFO:Environment step is complete.\n",
      "2021-12-06 01:53:07,161 - offworld_gym - INFO - Step count: 10\n",
      "INFO:Step count: 10\n"
     ]
    },
    {
     "name": "stdout",
     "output_type": "stream",
     "text": [
      "\r",
      "Total steps: 229 in 15 episodes"
     ]
    },
    {
     "name": "stderr",
     "output_type": "stream",
     "text": [
      "2021-12-06 01:53:14,164 - offworld_gym - INFO - Environment step is complete.\n",
      "INFO:Environment step is complete.\n",
      "2021-12-06 01:53:14,175 - offworld_gym - INFO - Step count: 11\n",
      "INFO:Step count: 11\n"
     ]
    },
    {
     "name": "stdout",
     "output_type": "stream",
     "text": [
      "\r",
      "Total steps: 230 in 15 episodes"
     ]
    },
    {
     "name": "stderr",
     "output_type": "stream",
     "text": [
      "2021-12-06 01:53:22,100 - offworld_gym - INFO - Environment step is complete.\n",
      "INFO:Environment step is complete.\n",
      "2021-12-06 01:53:22,111 - offworld_gym - INFO - Step count: 12\n",
      "INFO:Step count: 12\n"
     ]
    },
    {
     "name": "stdout",
     "output_type": "stream",
     "text": [
      "\r",
      "Total steps: 231 in 15 episodes"
     ]
    },
    {
     "name": "stderr",
     "output_type": "stream",
     "text": [
      "2021-12-06 01:53:29,750 - offworld_gym - INFO - Environment step is complete.\n",
      "INFO:Environment step is complete.\n",
      "2021-12-06 01:53:29,763 - offworld_gym - INFO - Step count: 13\n",
      "INFO:Step count: 13\n"
     ]
    },
    {
     "name": "stdout",
     "output_type": "stream",
     "text": [
      "\r",
      "Total steps: 232 in 15 episodes"
     ]
    },
    {
     "name": "stderr",
     "output_type": "stream",
     "text": [
      "2021-12-06 01:53:37,013 - offworld_gym - INFO - Environment step is complete.\n",
      "INFO:Environment step is complete.\n",
      "2021-12-06 01:53:37,024 - offworld_gym - INFO - Step count: 14\n",
      "INFO:Step count: 14\n"
     ]
    },
    {
     "name": "stdout",
     "output_type": "stream",
     "text": [
      "\r",
      "Total steps: 233 in 15 episodes"
     ]
    },
    {
     "name": "stderr",
     "output_type": "stream",
     "text": [
      "2021-12-06 01:53:44,522 - offworld_gym - INFO - Environment step is complete.\n",
      "INFO:Environment step is complete.\n",
      "2021-12-06 01:53:44,535 - offworld_gym - INFO - Step count: 15\n",
      "INFO:Step count: 15\n"
     ]
    },
    {
     "name": "stdout",
     "output_type": "stream",
     "text": [
      "\r",
      "Total steps: 234 in 15 episodes"
     ]
    },
    {
     "name": "stderr",
     "output_type": "stream",
     "text": [
      "2021-12-06 01:53:52,095 - offworld_gym - INFO - Environment step is complete.\n",
      "INFO:Environment step is complete.\n",
      "2021-12-06 01:53:52,105 - offworld_gym - INFO - Step count: 16\n",
      "INFO:Step count: 16\n"
     ]
    },
    {
     "name": "stdout",
     "output_type": "stream",
     "text": [
      "\r",
      "Total steps: 235 in 15 episodes"
     ]
    },
    {
     "name": "stderr",
     "output_type": "stream",
     "text": [
      "2021-12-06 01:53:59,804 - offworld_gym - INFO - Environment step is complete.\n",
      "INFO:Environment step is complete.\n",
      "2021-12-06 01:53:59,816 - offworld_gym - INFO - Step count: 17\n",
      "INFO:Step count: 17\n"
     ]
    },
    {
     "name": "stdout",
     "output_type": "stream",
     "text": [
      "\r",
      "Total steps: 236 in 15 episodes"
     ]
    },
    {
     "name": "stderr",
     "output_type": "stream",
     "text": [
      "2021-12-06 01:54:07,240 - offworld_gym - INFO - Environment step is complete.\n",
      "INFO:Environment step is complete.\n",
      "2021-12-06 01:54:07,253 - offworld_gym - INFO - Step count: 18\n",
      "INFO:Step count: 18\n"
     ]
    },
    {
     "name": "stdout",
     "output_type": "stream",
     "text": [
      "\r",
      "Total steps: 237 in 15 episodes"
     ]
    },
    {
     "name": "stderr",
     "output_type": "stream",
     "text": [
      "2021-12-06 01:54:14,533 - offworld_gym - INFO - Environment step is complete.\n",
      "INFO:Environment step is complete.\n",
      "2021-12-06 01:54:14,545 - offworld_gym - INFO - Step count: 19\n",
      "INFO:Step count: 19\n"
     ]
    },
    {
     "name": "stdout",
     "output_type": "stream",
     "text": [
      "\r",
      "Total steps: 238 in 15 episodes"
     ]
    },
    {
     "name": "stderr",
     "output_type": "stream",
     "text": [
      "2021-12-06 01:54:21,826 - offworld_gym - INFO - Environment step is complete.\n",
      "INFO:Environment step is complete.\n",
      "2021-12-06 01:54:21,845 - offworld_gym - INFO - Step count: 20\n",
      "INFO:Step count: 20\n"
     ]
    },
    {
     "name": "stdout",
     "output_type": "stream",
     "text": [
      "\r",
      "Total steps: 239 in 15 episodes"
     ]
    },
    {
     "name": "stderr",
     "output_type": "stream",
     "text": [
      "2021-12-06 01:54:30,045 - offworld_gym - INFO - Environment step is complete.\n",
      "INFO:Environment step is complete.\n",
      "2021-12-06 01:54:30,054 - offworld_gym - INFO - Step count: 21\n",
      "INFO:Step count: 21\n"
     ]
    },
    {
     "name": "stdout",
     "output_type": "stream",
     "text": [
      "\r",
      "Total steps: 240 in 15 episodes"
     ]
    },
    {
     "name": "stderr",
     "output_type": "stream",
     "text": [
      "2021-12-06 01:54:37,730 - offworld_gym - INFO - Environment step is complete.\n",
      "INFO:Environment step is complete.\n",
      "2021-12-06 01:54:37,739 - offworld_gym - INFO - Step count: 22\n",
      "INFO:Step count: 22\n"
     ]
    },
    {
     "name": "stdout",
     "output_type": "stream",
     "text": [
      "\r",
      "Total steps: 241 in 15 episodes"
     ]
    },
    {
     "name": "stderr",
     "output_type": "stream",
     "text": [
      "2021-12-06 01:54:45,149 - offworld_gym - INFO - Environment step is complete.\n",
      "INFO:Environment step is complete.\n",
      "2021-12-06 01:54:45,158 - offworld_gym - INFO - Step count: 23\n",
      "INFO:Step count: 23\n"
     ]
    },
    {
     "name": "stdout",
     "output_type": "stream",
     "text": [
      "\r",
      "Total steps: 242 in 15 episodes"
     ]
    },
    {
     "name": "stderr",
     "output_type": "stream",
     "text": [
      "2021-12-06 01:54:53,120 - offworld_gym - INFO - Environment step is complete.\n",
      "INFO:Environment step is complete.\n",
      "2021-12-06 01:54:53,131 - offworld_gym - INFO - Step count: 24\n",
      "INFO:Step count: 24\n"
     ]
    },
    {
     "name": "stdout",
     "output_type": "stream",
     "text": [
      "\r",
      "Total steps: 243 in 15 episodes"
     ]
    },
    {
     "name": "stderr",
     "output_type": "stream",
     "text": [
      "2021-12-06 01:55:01,272 - offworld_gym - INFO - Environment step is complete.\n",
      "INFO:Environment step is complete.\n",
      "2021-12-06 01:55:01,283 - offworld_gym - INFO - Step count: 25\n",
      "INFO:Step count: 25\n"
     ]
    },
    {
     "name": "stdout",
     "output_type": "stream",
     "text": [
      "\r",
      "Total steps: 244 in 15 episodes"
     ]
    },
    {
     "name": "stderr",
     "output_type": "stream",
     "text": [
      "2021-12-06 01:55:09,777 - offworld_gym - INFO - Environment step is complete.\n",
      "INFO:Environment step is complete.\n",
      "2021-12-06 01:55:09,787 - offworld_gym - INFO - Step count: 26\n",
      "INFO:Step count: 26\n"
     ]
    },
    {
     "name": "stdout",
     "output_type": "stream",
     "text": [
      "\r",
      "Total steps: 245 in 15 episodes"
     ]
    },
    {
     "name": "stderr",
     "output_type": "stream",
     "text": [
      "2021-12-06 01:55:19,951 - offworld_gym - INFO - Environment step is complete.\n",
      "INFO:Environment step is complete.\n",
      "2021-12-06 01:55:19,963 - offworld_gym - INFO - Step count: 27\n",
      "INFO:Step count: 27\n"
     ]
    },
    {
     "name": "stdout",
     "output_type": "stream",
     "text": [
      "\r",
      "Total steps: 246 in 15 episodes"
     ]
    },
    {
     "name": "stderr",
     "output_type": "stream",
     "text": [
      "2021-12-06 01:55:27,867 - offworld_gym - INFO - Environment step is complete.\n",
      "INFO:Environment step is complete.\n",
      "2021-12-06 01:55:27,879 - offworld_gym - INFO - Step count: 28\n",
      "INFO:Step count: 28\n"
     ]
    },
    {
     "name": "stdout",
     "output_type": "stream",
     "text": [
      "\r",
      "Total steps: 247 in 15 episodes"
     ]
    },
    {
     "name": "stderr",
     "output_type": "stream",
     "text": [
      "2021-12-06 01:55:36,528 - offworld_gym - INFO - Environment step is complete.\n",
      "INFO:Environment step is complete.\n",
      "2021-12-06 01:55:36,538 - offworld_gym - INFO - Step count: 29\n",
      "INFO:Step count: 29\n"
     ]
    },
    {
     "name": "stdout",
     "output_type": "stream",
     "text": [
      "\r",
      "Total steps: 248 in 15 episodes"
     ]
    },
    {
     "name": "stderr",
     "output_type": "stream",
     "text": [
      "2021-12-06 01:55:44,451 - offworld_gym - INFO - Environment step is complete.\n",
      "INFO:Environment step is complete.\n",
      "2021-12-06 01:55:44,461 - offworld_gym - INFO - Step count: 30\n",
      "INFO:Step count: 30\n"
     ]
    },
    {
     "name": "stdout",
     "output_type": "stream",
     "text": [
      "\r",
      "Total steps: 249 in 15 episodes"
     ]
    },
    {
     "name": "stderr",
     "output_type": "stream",
     "text": [
      "2021-12-06 01:55:51,503 - offworld_gym - INFO - Environment step is complete.\n",
      "INFO:Environment step is complete.\n",
      "2021-12-06 01:55:51,514 - offworld_gym - INFO - Step count: 31\n",
      "INFO:Step count: 31\n"
     ]
    },
    {
     "name": "stdout",
     "output_type": "stream",
     "text": [
      "\r",
      "Total steps: 250 in 15 episodes"
     ]
    },
    {
     "name": "stderr",
     "output_type": "stream",
     "text": [
      "2021-12-06 01:55:59,197 - offworld_gym - INFO - Environment step is complete.\n",
      "INFO:Environment step is complete.\n",
      "2021-12-06 01:55:59,206 - offworld_gym - INFO - Step count: 32\n",
      "INFO:Step count: 32\n"
     ]
    },
    {
     "name": "stdout",
     "output_type": "stream",
     "text": [
      "\r",
      "Total steps: 251 in 15 episodes"
     ]
    },
    {
     "name": "stderr",
     "output_type": "stream",
     "text": [
      "2021-12-06 01:56:05,846 - offworld_gym - INFO - Environment step is complete.\n",
      "INFO:Environment step is complete.\n",
      "2021-12-06 01:56:05,857 - offworld_gym - INFO - Step count: 33\n",
      "INFO:Step count: 33\n"
     ]
    },
    {
     "name": "stdout",
     "output_type": "stream",
     "text": [
      "\r",
      "Total steps: 252 in 15 episodes"
     ]
    },
    {
     "name": "stderr",
     "output_type": "stream",
     "text": [
      "2021-12-06 01:56:12,425 - offworld_gym - INFO - Environment step is complete.\n",
      "INFO:Environment step is complete.\n",
      "2021-12-06 01:56:12,435 - offworld_gym - INFO - Step count: 34\n",
      "INFO:Step count: 34\n"
     ]
    },
    {
     "name": "stdout",
     "output_type": "stream",
     "text": [
      "\r",
      "Total steps: 253 in 15 episodes"
     ]
    },
    {
     "name": "stderr",
     "output_type": "stream",
     "text": [
      "2021-12-06 01:56:19,178 - offworld_gym - INFO - Environment step is complete.\n",
      "INFO:Environment step is complete.\n",
      "2021-12-06 01:56:19,188 - offworld_gym - INFO - Step count: 35\n",
      "INFO:Step count: 35\n"
     ]
    },
    {
     "name": "stdout",
     "output_type": "stream",
     "text": [
      "\r",
      "Total steps: 254 in 15 episodes"
     ]
    },
    {
     "name": "stderr",
     "output_type": "stream",
     "text": [
      "2021-12-06 01:56:25,725 - offworld_gym - INFO - Environment step is complete.\n",
      "INFO:Environment step is complete.\n",
      "2021-12-06 01:56:25,735 - offworld_gym - INFO - Step count: 36\n",
      "INFO:Step count: 36\n"
     ]
    },
    {
     "name": "stdout",
     "output_type": "stream",
     "text": [
      "\r",
      "Total steps: 255 in 15 episodes"
     ]
    },
    {
     "name": "stderr",
     "output_type": "stream",
     "text": [
      "2021-12-06 01:56:33,539 - offworld_gym - INFO - Environment step is complete.\n",
      "INFO:Environment step is complete.\n",
      "2021-12-06 01:56:33,550 - offworld_gym - INFO - Step count: 37\n",
      "INFO:Step count: 37\n"
     ]
    },
    {
     "name": "stdout",
     "output_type": "stream",
     "text": [
      "\r",
      "Total steps: 256 in 15 episodes"
     ]
    },
    {
     "name": "stderr",
     "output_type": "stream",
     "text": [
      "2021-12-06 01:56:39,983 - offworld_gym - INFO - Environment step is complete.\n",
      "INFO:Environment step is complete.\n",
      "2021-12-06 01:56:39,994 - offworld_gym - INFO - Step count: 38\n",
      "INFO:Step count: 38\n"
     ]
    },
    {
     "name": "stdout",
     "output_type": "stream",
     "text": [
      "\r",
      "Total steps: 257 in 15 episodes"
     ]
    },
    {
     "name": "stderr",
     "output_type": "stream",
     "text": [
      "2021-12-06 01:56:45,845 - offworld_gym - INFO - Environment step is complete.\n",
      "INFO:Environment step is complete.\n",
      "2021-12-06 01:56:45,855 - offworld_gym - INFO - Step count: 39\n",
      "INFO:Step count: 39\n"
     ]
    },
    {
     "name": "stdout",
     "output_type": "stream",
     "text": [
      "\r",
      "Total steps: 258 in 15 episodes"
     ]
    },
    {
     "name": "stderr",
     "output_type": "stream",
     "text": [
      "2021-12-06 01:56:51,941 - offworld_gym - INFO - Environment step is complete.\n",
      "INFO:Environment step is complete.\n",
      "2021-12-06 01:56:51,951 - offworld_gym - INFO - Step count: 40\n",
      "INFO:Step count: 40\n"
     ]
    },
    {
     "name": "stdout",
     "output_type": "stream",
     "text": [
      "\r",
      "Total steps: 259 in 15 episodes"
     ]
    },
    {
     "name": "stderr",
     "output_type": "stream",
     "text": [
      "2021-12-06 01:57:00,105 - offworld_gym - INFO - Environment step is complete.\n",
      "INFO:Environment step is complete.\n",
      "2021-12-06 01:57:00,116 - offworld_gym - INFO - Step count: 41\n",
      "INFO:Step count: 41\n"
     ]
    },
    {
     "name": "stdout",
     "output_type": "stream",
     "text": [
      "\r",
      "Total steps: 260 in 15 episodes"
     ]
    },
    {
     "name": "stderr",
     "output_type": "stream",
     "text": [
      "2021-12-06 01:57:06,739 - offworld_gym - INFO - Environment step is complete.\n",
      "INFO:Environment step is complete.\n",
      "2021-12-06 01:57:06,749 - offworld_gym - INFO - Step count: 42\n",
      "INFO:Step count: 42\n"
     ]
    },
    {
     "name": "stdout",
     "output_type": "stream",
     "text": [
      "\r",
      "Total steps: 261 in 15 episodes"
     ]
    },
    {
     "name": "stderr",
     "output_type": "stream",
     "text": [
      "2021-12-06 01:57:13,858 - offworld_gym - INFO - Environment step is complete.\n",
      "INFO:Environment step is complete.\n",
      "2021-12-06 01:57:13,870 - offworld_gym - INFO - Step count: 43\n",
      "INFO:Step count: 43\n"
     ]
    },
    {
     "name": "stdout",
     "output_type": "stream",
     "text": [
      "\r",
      "Total steps: 262 in 15 episodes"
     ]
    },
    {
     "name": "stderr",
     "output_type": "stream",
     "text": [
      "2021-12-06 01:57:20,491 - offworld_gym - INFO - Environment step is complete.\n",
      "INFO:Environment step is complete.\n",
      "2021-12-06 01:57:20,500 - offworld_gym - INFO - Step count: 44\n",
      "INFO:Step count: 44\n"
     ]
    },
    {
     "name": "stdout",
     "output_type": "stream",
     "text": [
      "\r",
      "Total steps: 263 in 15 episodes"
     ]
    },
    {
     "name": "stderr",
     "output_type": "stream",
     "text": [
      "INFO:Exception occured: <class 'KeyboardInterrupt'>\n",
      "INFO:Exception occured! Saving last buffer state to a file.\n",
      "INFO:Saved replay buffer at 14138 steps\n",
      "INFO:Training stopped\n"
     ]
    }
   ],
   "source": [
    "for i in range(1, patches_to_run+1):\n",
    "\n",
    "    try:\n",
    "        # Collecting delay is used for enabling pretraining on previously saved replay buffer\n",
    "        if i > start_collecting:\n",
    "            for _ in range(times_to_collect):\n",
    "                collect_actor.run()\n",
    "                   \n",
    "            # Save replay buffer into data folder file\n",
    "            if i % buffer_save_interval == 0 and save_buffer_to_file:\n",
    "                tf.train.Checkpoint(replay_buffer=replay_buffer).save(rb_tempdir)\n",
    "                logging.info(f\"Saved replay buffer at {replay_buffer.gather_all().action[0].shape[0]} steps\")\n",
    "     \n",
    "        \n",
    "        # Only training when algorithm mode = TRAIN. Learning is disabled when .TEST -ing\n",
    "        if  algorithm_mode == AlgorithmMode.TRAIN:         \n",
    "            for _ in range(times_to_iterate):\n",
    "                agent_learner.run(iterations=training_iterations)\n",
    "\n",
    "    except:\n",
    "        logging.info(f\"Exception occured: {sys.exc_info()[0]}\")\n",
    "        \n",
    "        # Close env to save replay buffer faster for sim env\n",
    "        if real == False:\n",
    "            tf_env.close()\n",
    "        \n",
    "        # When session ends, on exception or kernerl interrupt: save latest buffer state to a file\n",
    "        if save_buffer_to_file:\n",
    "            logging.info(\"Exception occured! Saving last buffer state to a file.\")\n",
    "            tf.train.Checkpoint(replay_buffer=replay_buffer).save(rb_tempdir)\n",
    "            logging.info(f\"Saved replay buffer at {replay_buffer.gather_all().action[0].shape[0]} steps\")\n",
    "        \n",
    "        # Exit loop\n",
    "        break\n",
    "        \n",
    "logging.info(\"Training stopped\")"
   ]
  },
  {
   "cell_type": "code",
   "execution_count": 38,
   "id": "660f25cb",
   "metadata": {},
   "outputs": [
    {
     "name": "stderr",
     "output_type": "stream",
     "text": [
      "INFO:Saved checkpoint: models/Macro_net/train/checkpoints/ckpt-1140250\n",
      "INFO:Saved checkpoint: models/Macro_net/train/checkpoints/ckpt-1140500\n",
      "INFO:Saved checkpoint: models/Macro_net/train/checkpoints/ckpt-1140750\n",
      "INFO:Saved checkpoint: models/Macro_net/train/checkpoints/ckpt-1141000\n",
      "INFO:Saved checkpoint: models/Macro_net/train/checkpoints/ckpt-1141250\n",
      "INFO:Saved checkpoint: models/Macro_net/train/checkpoints/ckpt-1141500\n",
      "INFO:Saved checkpoint: models/Macro_net/train/checkpoints/ckpt-1141750\n",
      "INFO:Saved checkpoint: models/Macro_net/train/checkpoints/ckpt-1142000\n",
      "INFO:Saved checkpoint: models/Macro_net/train/checkpoints/ckpt-1142250\n",
      "INFO:Saved checkpoint: models/Macro_net/train/checkpoints/ckpt-1142500\n",
      "INFO:Saved checkpoint: models/Macro_net/train/checkpoints/ckpt-1142750\n",
      "INFO:Saved checkpoint: models/Macro_net/train/checkpoints/ckpt-1143000\n",
      "INFO:Saved checkpoint: models/Macro_net/train/checkpoints/ckpt-1143250\n",
      "INFO:Saved checkpoint: models/Macro_net/train/checkpoints/ckpt-1143500\n",
      "INFO:Saved checkpoint: models/Macro_net/train/checkpoints/ckpt-1143750\n",
      "INFO:Saved checkpoint: models/Macro_net/train/checkpoints/ckpt-1144000\n",
      "INFO:Saved checkpoint: models/Macro_net/train/checkpoints/ckpt-1144250\n",
      "INFO:Saved checkpoint: models/Macro_net/train/checkpoints/ckpt-1144500\n",
      "INFO:Saved checkpoint: models/Macro_net/train/checkpoints/ckpt-1144750\n",
      "INFO:Saved checkpoint: models/Macro_net/train/checkpoints/ckpt-1145000\n",
      "INFO:Saved checkpoint: models/Macro_net/train/checkpoints/ckpt-1145250\n",
      "INFO:Saved checkpoint: models/Macro_net/train/checkpoints/ckpt-1145500\n",
      "INFO:Saved checkpoint: models/Macro_net/train/checkpoints/ckpt-1145750\n",
      "INFO:Saved checkpoint: models/Macro_net/train/checkpoints/ckpt-1146000\n",
      "INFO:Saved checkpoint: models/Macro_net/train/checkpoints/ckpt-1146250\n",
      "INFO:Saved checkpoint: models/Macro_net/train/checkpoints/ckpt-1146500\n",
      "INFO:Saved checkpoint: models/Macro_net/train/checkpoints/ckpt-1146750\n",
      "INFO:Saved checkpoint: models/Macro_net/train/checkpoints/ckpt-1147000\n",
      "INFO:Saved checkpoint: models/Macro_net/train/checkpoints/ckpt-1147250\n",
      "INFO:Saved checkpoint: models/Macro_net/train/checkpoints/ckpt-1147500\n",
      "INFO:Saved checkpoint: models/Macro_net/train/checkpoints/ckpt-1147750\n",
      "INFO:Saved checkpoint: models/Macro_net/train/checkpoints/ckpt-1148000\n",
      "INFO:Saved checkpoint: models/Macro_net/train/checkpoints/ckpt-1148250\n",
      "INFO:Saved checkpoint: models/Macro_net/train/checkpoints/ckpt-1148500\n",
      "INFO:Saved checkpoint: models/Macro_net/train/checkpoints/ckpt-1148750\n",
      "INFO:Saved checkpoint: models/Macro_net/train/checkpoints/ckpt-1149000\n",
      "INFO:Saved checkpoint: models/Macro_net/train/checkpoints/ckpt-1149250\n",
      "INFO:Saved checkpoint: models/Macro_net/train/checkpoints/ckpt-1149500\n",
      "INFO:Saved checkpoint: models/Macro_net/train/checkpoints/ckpt-1149750\n",
      "INFO:Saved checkpoint: models/Macro_net/train/checkpoints/ckpt-1150000\n"
     ]
    }
   ],
   "source": [
    "for _ in range(40):\n",
    "    agent_learner.run(iterations=training_iterations)\n",
    "    "
   ]
  },
  {
   "cell_type": "code",
   "execution_count": null,
   "id": "68c42cdf",
   "metadata": {},
   "outputs": [],
   "source": [
    "for _ in range(1000):\n",
    "    agent_learner.run(iterations=training_iterations)"
   ]
  }
 ],
 "metadata": {
  "kernelspec": {
   "display_name": "Python 3",
   "language": "python",
   "name": "python3"
  },
  "language_info": {
   "codemirror_mode": {
    "name": "ipython",
    "version": 3
   },
   "file_extension": ".py",
   "mimetype": "text/x-python",
   "name": "python",
   "nbconvert_exporter": "python",
   "pygments_lexer": "ipython3",
   "version": "3.6.13"
  }
 },
 "nbformat": 4,
 "nbformat_minor": 5
}
